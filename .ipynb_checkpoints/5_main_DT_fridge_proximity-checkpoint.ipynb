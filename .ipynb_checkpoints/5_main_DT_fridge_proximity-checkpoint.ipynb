{
 "cells": [
  {
   "cell_type": "markdown",
   "metadata": {
    "slideshow": {
     "slide_type": "slide"
    }
   },
   "source": [
    "<center>![alt text](images/Disruptive%20Technologies2.png)</center>"
   ]
  },
  {
   "cell_type": "markdown",
   "metadata": {
    "slideshow": {
     "slide_type": "-"
    }
   },
   "source": [
    "# Fridge switch sensor"
   ]
  },
  {
   "cell_type": "markdown",
   "metadata": {
    "slideshow": {
     "slide_type": "slide"
    }
   },
   "source": [
    "## List sensors"
   ]
  },
  {
   "cell_type": "code",
   "execution_count": 3,
   "metadata": {
    "collapsed": true,
    "slideshow": {
     "slide_type": "-"
    }
   },
   "outputs": [],
   "source": [
    "%matplotlib inline\n",
    "import requests\n",
    "import pandas as pd\n",
    "import io\n",
    "import json\n",
    "\n",
    "\n",
    "api_key = %env DT_API_KEY\n",
    "\n",
    "\n",
    "url = \"https://api.disruptive-technologies.com/v1/things\"\n",
    "headers = {'Authorization': 'ApiKey {api_key}'.format(api_key=api_key)}\n",
    "jsonData = requests.get(url, headers=headers).json()\n",
    "normalized = pd.io.json.json_normalize(jsonData['things'])\n",
    "df = pd.DataFrame.from_dict(normalized)\n",
    "df.set_index('id', inplace=True)"
   ]
  },
  {
   "cell_type": "code",
   "execution_count": null,
   "metadata": {
    "collapsed": true,
    "slideshow": {
     "slide_type": "fragment"
    }
   },
   "outputs": [],
   "source": [
    "df.head()"
   ]
  },
  {
   "cell_type": "code",
   "execution_count": null,
   "metadata": {
    "collapsed": true,
    "slideshow": {
     "slide_type": "skip"
    }
   },
   "outputs": [],
   "source": [
    "#df.to_excel('dt_sensors.xlsx')"
   ]
  },
  {
   "cell_type": "markdown",
   "metadata": {
    "slideshow": {
     "slide_type": "slide"
    }
   },
   "source": [
    "## Fridge switch sensor - Values "
   ]
  },
  {
   "cell_type": "code",
   "execution_count": 90,
   "metadata": {
    "collapsed": true,
    "slideshow": {
     "slide_type": "-"
    }
   },
   "outputs": [],
   "source": [
    "thing_id = \"206853764\"\n",
    "url = \"https://api.disruptive-technologies.com/v1/things/{thing_id}/aggregate\".format(thing_id=thing_id)\n",
    "headers = {\n",
    "    'Authorization': 'ApiKey {api_key}'.format(api_key=api_key),\n",
    "    'Cache-Control': 'no-cache',\n",
    "    'Content-Type': 'application/json',\n",
    "}\n",
    "body = {}\n",
    "body['interval'] = '1s'\n",
    "body['time_period'] = {\n",
    "'start': '2017-11-01T00:01:00Z',\n",
    "'end': '2099-12-31T20:00:00Z'\n",
    "}\n",
    "\n",
    "jsonData = requests.post(url, headers=headers, data=json.dumps(body)).json()\n"
   ]
  },
  {
   "cell_type": "code",
   "execution_count": null,
   "metadata": {
    "collapsed": true
   },
   "outputs": [],
   "source": []
  },
  {
   "cell_type": "code",
   "execution_count": null,
   "metadata": {
    "collapsed": true,
    "slideshow": {
     "slide_type": "subslide"
    }
   },
   "outputs": [],
   "source": [
    "jsonData"
   ]
  },
  {
   "cell_type": "code",
   "execution_count": 91,
   "metadata": {
    "slideshow": {
     "slide_type": "fragment"
    }
   },
   "outputs": [
    {
     "data": {
      "text/plain": [
       "battery_percentage    True\n",
       "battery_voltage       True\n",
       "device_id             True\n",
       "event_type            True\n",
       "last_pressed          True\n",
       "object_present        True\n",
       "rssi                  True\n",
       "rssi_strength         True\n",
       "temperature           True\n",
       "thing_id              True\n",
       "thing_type_id         True\n",
       "time                  True\n",
       "touch                 True\n",
       "dtype: bool"
      ]
     },
     "execution_count": 91,
     "metadata": {},
     "output_type": "execute_result"
    }
   ],
   "source": [
    "# Either\n",
    "normalized = pd.io.json.json_normalize(jsonData['values'])\n",
    "\n",
    "# Or\n",
    "df = pd.DataFrame.from_dict(jsonData['values'])\n",
    "df.head(10)\n",
    "\n",
    "# They're the same\n",
    "(normalized == df).all()"
   ]
  },
  {
   "cell_type": "code",
   "execution_count": 52,
   "metadata": {
    "collapsed": true,
    "slideshow": {
     "slide_type": "skip"
    }
   },
   "outputs": [],
   "source": [
    "#df.to_excel('dt_sensor_window.xlsx')"
   ]
  },
  {
   "cell_type": "markdown",
   "metadata": {
    "slideshow": {
     "slide_type": "slide"
    }
   },
   "source": [
    "#### Too many `timer` type events"
   ]
  },
  {
   "cell_type": "code",
   "execution_count": 13,
   "metadata": {
    "slideshow": {
     "slide_type": "fragment"
    }
   },
   "outputs": [
    {
     "data": {
      "text/plain": [
       "array(['timer', 'object_trigger'], dtype=object)"
      ]
     },
     "execution_count": 13,
     "metadata": {},
     "output_type": "execute_result"
    }
   ],
   "source": [
    "df['event_type'].unique()"
   ]
  },
  {
   "cell_type": "code",
   "execution_count": 12,
   "metadata": {
    "slideshow": {
     "slide_type": "-"
    }
   },
   "outputs": [
    {
     "data": {
      "text/plain": [
       "timer             915\n",
       "object_trigger     85\n",
       "Name: event_type, dtype: int64"
      ]
     },
     "execution_count": 12,
     "metadata": {},
     "output_type": "execute_result"
    }
   ],
   "source": [
    "df.event_type.value_counts()"
   ]
  },
  {
   "cell_type": "code",
   "execution_count": 93,
   "metadata": {
    "collapsed": true,
    "slideshow": {
     "slide_type": "subslide"
    }
   },
   "outputs": [],
   "source": [
    "df.set_index('time', inplace=True)\n",
    "df.index = pd.to_datetime(df.index)"
   ]
  },
  {
   "cell_type": "code",
   "execution_count": 94,
   "metadata": {
    "collapsed": true,
    "slideshow": {
     "slide_type": "fragment"
    }
   },
   "outputs": [],
   "source": [
    "trigs = df[df['event_type']=='object_trigger']"
   ]
  },
  {
   "cell_type": "code",
   "execution_count": 97,
   "metadata": {},
   "outputs": [
    {
     "data": {
      "text/plain": [
       "battery_percentage    object\n",
       "battery_voltage       object\n",
       "device_id             object\n",
       "event_type            object\n",
       "last_pressed          object\n",
       "object_present          bool\n",
       "rssi                  object\n",
       "rssi_strength         object\n",
       "temperature           object\n",
       "thing_id              object\n",
       "thing_type_id         object\n",
       "touch                   bool\n",
       "dtype: object"
      ]
     },
     "execution_count": 97,
     "metadata": {},
     "output_type": "execute_result"
    }
   ],
   "source": [
    "trigs.dtypes"
   ]
  },
  {
   "cell_type": "code",
   "execution_count": 40,
   "metadata": {},
   "outputs": [
    {
     "data": {
      "image/png": "[encoded data removed]",
      "text/plain": [
       "<matplotlib.figure.Figure at 0xbacba90>"
      ]
     },
     "metadata": {},
     "output_type": "display_data"
    }
   ],
   "source": [
    "trigs['object_present'].astype('int').plot();"
   ]
  },
  {
   "cell_type": "code",
   "execution_count": 43,
   "metadata": {
    "slideshow": {
     "slide_type": "fragment"
    }
   },
   "outputs": [
    {
     "data": {
      "text/html": [
       "<div>\n",
       "<style scoped>\n",
       "    .dataframe tbody tr th:only-of-type {\n",
       "        vertical-align: middle;\n",
       "    }\n",
       "\n",
       "    .dataframe tbody tr th {\n",
       "        vertical-align: top;\n",
       "    }\n",
       "\n",
       "    .dataframe thead th {\n",
       "        text-align: right;\n",
       "    }\n",
       "</style>\n",
       "<table border=\"1\" class=\"dataframe\">\n",
       "  <thead>\n",
       "    <tr style=\"text-align: right;\">\n",
       "      <th></th>\n",
       "      <th>battery_percentage</th>\n",
       "      <th>battery_voltage</th>\n",
       "      <th>device_id</th>\n",
       "      <th>event_type</th>\n",
       "      <th>last_pressed</th>\n",
       "      <th>rssi</th>\n",
       "      <th>rssi_strength</th>\n",
       "      <th>temperature</th>\n",
       "      <th>thing_id</th>\n",
       "      <th>thing_type_id</th>\n",
       "      <th>touch</th>\n",
       "    </tr>\n",
       "    <tr>\n",
       "      <th>object_present</th>\n",
       "      <th></th>\n",
       "      <th></th>\n",
       "      <th></th>\n",
       "      <th></th>\n",
       "      <th></th>\n",
       "      <th></th>\n",
       "      <th></th>\n",
       "      <th></th>\n",
       "      <th></th>\n",
       "      <th></th>\n",
       "      <th></th>\n",
       "    </tr>\n",
       "  </thead>\n",
       "  <tbody>\n",
       "    <tr>\n",
       "      <th>False</th>\n",
       "      <td>41</td>\n",
       "      <td>41</td>\n",
       "      <td>41</td>\n",
       "      <td>41</td>\n",
       "      <td>41</td>\n",
       "      <td>41</td>\n",
       "      <td>41</td>\n",
       "      <td>41</td>\n",
       "      <td>41</td>\n",
       "      <td>41</td>\n",
       "      <td>41</td>\n",
       "    </tr>\n",
       "    <tr>\n",
       "      <th>True</th>\n",
       "      <td>44</td>\n",
       "      <td>44</td>\n",
       "      <td>44</td>\n",
       "      <td>44</td>\n",
       "      <td>44</td>\n",
       "      <td>44</td>\n",
       "      <td>44</td>\n",
       "      <td>44</td>\n",
       "      <td>44</td>\n",
       "      <td>44</td>\n",
       "      <td>44</td>\n",
       "    </tr>\n",
       "  </tbody>\n",
       "</table>\n",
       "</div>"
      ],
      "text/plain": [
       "                battery_percentage  battery_voltage  device_id  event_type  \\\n",
       "object_present                                                               \n",
       "False                           41               41         41          41   \n",
       "True                            44               44         44          44   \n",
       "\n",
       "                last_pressed  rssi  rssi_strength  temperature  thing_id  \\\n",
       "object_present                                                             \n",
       "False                     41    41             41           41        41   \n",
       "True                      44    44             44           44        44   \n",
       "\n",
       "                thing_type_id  touch  \n",
       "object_present                        \n",
       "False                      41     41  \n",
       "True                       44     44  "
      ]
     },
     "execution_count": 43,
     "metadata": {},
     "output_type": "execute_result"
    }
   ],
   "source": [
    "trigs.groupby(['object_present']).count()"
   ]
  },
  {
   "cell_type": "markdown",
   "metadata": {
    "slideshow": {
     "slide_type": "slide"
    }
   },
   "source": [
    "### Calculate duration (time open and time closed)"
   ]
  },
  {
   "cell_type": "code",
   "execution_count": 44,
   "metadata": {},
   "outputs": [
    {
     "data": {
      "text/plain": [
       "time\n",
       "2017-11-01 09:30:13.587183270    False\n",
       "2017-11-01 09:30:19.207188223     True\n",
       "2017-11-01 13:52:23.417125856    False\n",
       "2017-11-01 13:52:28.037115089     True\n",
       "2017-11-01 13:52:32.137125622    False\n",
       "2017-11-01 13:52:41.807294763     True\n",
       "2017-11-01 13:56:16.877206351    False\n",
       "2017-11-01 13:56:21.727175848     True\n",
       "2017-11-02 11:47:59.497337261    False\n",
       "2017-11-02 11:48:03.566975147     True\n",
       "Name: object_present, dtype: bool"
      ]
     },
     "execution_count": 44,
     "metadata": {},
     "output_type": "execute_result"
    }
   ],
   "source": [
    "#trigs = df[df['event_type'] == 'object_trigger']\n",
    "#trigs.object_present.head(10)"
   ]
  },
  {
   "cell_type": "code",
   "execution_count": 98,
   "metadata": {
    "slideshow": {
     "slide_type": "fragment"
    }
   },
   "outputs": [
    {
     "data": {
      "image/png": "[encoded data removed]",
      "text/plain": [
       "<matplotlib.figure.Figure at 0xb9e6cc0>"
      ]
     },
     "metadata": {},
     "output_type": "display_data"
    }
   ],
   "source": [
    "trigs = trigs.assign(time = trigs.index)\n",
    "trigs = trigs.assign(duration = trigs.time.diff())\n",
    "closed_seconds = trigs[trigs['object_present']==True].duration.iloc[1:].dt.total_seconds()\n",
    "closed_seconds[closed_seconds < 500].plot(title='Time open [s]');"
   ]
  },
  {
   "cell_type": "markdown",
   "metadata": {
    "slideshow": {
     "slide_type": "subslide"
    }
   },
   "source": [
    "#### Minutes open"
   ]
  },
  {
   "cell_type": "code",
   "execution_count": 99,
   "metadata": {
    "slideshow": {
     "slide_type": "-"
    }
   },
   "outputs": [
    {
     "data": {
      "image/png": "[encoded data removed]",
      "text/plain": [
       "<matplotlib.figure.Figure at 0xbc19e10>"
      ]
     },
     "metadata": {},
     "output_type": "display_data"
    }
   ],
   "source": [
    "open_seconds = trigs[trigs['object_present']==False].duration.iloc[1:].dt.total_seconds()\n",
    "(open_seconds/60).plot();"
   ]
  },
  {
   "cell_type": "code",
   "execution_count": 100,
   "metadata": {
    "slideshow": {
     "slide_type": "subslide"
    }
   },
   "outputs": [
    {
     "data": {
      "text/plain": [
       "time\n",
       "2017-11-01 09:30:13.587183270    False\n",
       "2017-11-01 09:30:19.207188223     True\n",
       "2017-11-01 13:52:23.417125856    False\n",
       "2017-11-01 13:52:28.037115089     True\n",
       "2017-11-01 13:52:32.137125622    False\n",
       "2017-11-01 13:52:41.807294763     True\n",
       "2017-11-01 13:56:16.877206351    False\n",
       "2017-11-01 13:56:21.727175848     True\n",
       "2017-11-02 11:47:59.497337261    False\n",
       "2017-11-02 11:48:03.566975147     True\n",
       "Name: object_present, dtype: bool"
      ]
     },
     "execution_count": 100,
     "metadata": {},
     "output_type": "execute_result"
    }
   ],
   "source": [
    "#trigs = df[df['event_type'] == 'object_trigger']\n",
    "trigs.object_present.head(10)"
   ]
  },
  {
   "cell_type": "code",
   "execution_count": 77,
   "metadata": {
    "slideshow": {
     "slide_type": "subslide"
    }
   },
   "outputs": [
    {
     "data": {
      "text/plain": [
       "DatetimeIndex(['2017-11-01 00:07:59.607249178',\n",
       "               '2017-11-01 00:24:53.867283330',\n",
       "               '2017-11-01 00:41:47.767251378',\n",
       "               '2017-11-01 00:58:41.757306006',\n",
       "               '2017-11-01 01:15:35.487443079',\n",
       "               '2017-11-01 01:32:29.187260921',\n",
       "               '2017-11-01 01:49:22.537261316',\n",
       "               '2017-11-01 02:06:15.787123447',\n",
       "               '2017-11-01 02:23:09.277548535',\n",
       "               '2017-11-01 02:40:02.747123402'],\n",
       "              dtype='datetime64[ns]', name='time', freq=None)"
      ]
     },
     "execution_count": 77,
     "metadata": {},
     "output_type": "execute_result"
    }
   ],
   "source": [
    "#df.index = pd.to_datetime(df.index)"
   ]
  },
  {
   "cell_type": "code",
   "execution_count": 102,
   "metadata": {
    "collapsed": true
   },
   "outputs": [],
   "source": [
    "#pd.to_datetime(trigs.index)"
   ]
  },
  {
   "cell_type": "code",
   "execution_count": 103,
   "metadata": {},
   "outputs": [
    {
     "data": {
      "text/plain": [
       "battery_percentage             object\n",
       "battery_voltage                object\n",
       "device_id                      object\n",
       "event_type                     object\n",
       "last_pressed                   object\n",
       "object_present                   bool\n",
       "rssi                           object\n",
       "rssi_strength                  object\n",
       "temperature                    object\n",
       "thing_id                       object\n",
       "thing_type_id                  object\n",
       "touch                            bool\n",
       "time                   datetime64[ns]\n",
       "duration              timedelta64[ns]\n",
       "dtype: object"
      ]
     },
     "execution_count": 103,
     "metadata": {},
     "output_type": "execute_result"
    }
   ],
   "source": [
    "trigs.dtypes"
   ]
  },
  {
   "cell_type": "code",
   "execution_count": 155,
   "metadata": {
    "slideshow": {
     "slide_type": "subslide"
    }
   },
   "outputs": [
    {
     "data": {
      "text/plain": [
       "battery_percentage             object\n",
       "battery_voltage                object\n",
       "device_id                      object\n",
       "event_type                     object\n",
       "last_pressed                   object\n",
       "object_present                float64\n",
       "rssi                          float64\n",
       "rssi_strength                 float64\n",
       "temperature                    object\n",
       "thing_id                       object\n",
       "thing_type_id                  object\n",
       "touch                         float64\n",
       "time                   datetime64[ns]\n",
       "duration              timedelta64[ns]\n",
       "present                       float64\n",
       "hour_in_day                   float64\n",
       "dtype: object"
      ]
     },
     "execution_count": 155,
     "metadata": {},
     "output_type": "execute_result"
    }
   ],
   "source": [
    "#trigs['battery_voltage'] = pd.to_numeric(trigs['battery_voltage'])\n",
    "#trigs['rssi'] = pd.to_numeric(trigs['rssi'])\n",
    "#trigs['rssi_strength'] = pd.to_numeric(trigs['rssi_strength'])\n",
    "#trigs['temperature'] = pd.to_numeric(trigs['temperature'])\n",
    "\n",
    "'''\n",
    "trigs.astype({\n",
    "    'battery_voltage': 'float',\n",
    "    'rssi': 'float',\n",
    "    'rssi_strength': 'float',\n",
    "    'temperature': 'float',\n",
    "})\n",
    "'''\n",
    "trigs = trigs.astype('float', errors='ignore')\n",
    "trigs.dtypes"
   ]
  },
  {
   "cell_type": "code",
   "execution_count": 107,
   "metadata": {
    "scrolled": true,
    "slideshow": {
     "slide_type": "subslide"
    }
   },
   "outputs": [
    {
     "data": {
      "image/png": "[encoded data removed]",
      "text/plain": [
       "<matplotlib.figure.Figure at 0xb233cc0>"
      ]
     },
     "metadata": {},
     "output_type": "display_data"
    }
   ],
   "source": [
    "trigs_day = trigs.resample('D').count()\n",
    "trigs_day.object_present.plot(title='Triggers per day');"
   ]
  },
  {
   "cell_type": "code",
   "execution_count": 111,
   "metadata": {
    "slideshow": {
     "slide_type": "subslide"
    }
   },
   "outputs": [
    {
     "data": {
      "text/html": [
       "<div>\n",
       "<style scoped>\n",
       "    .dataframe tbody tr th:only-of-type {\n",
       "        vertical-align: middle;\n",
       "    }\n",
       "\n",
       "    .dataframe tbody tr th {\n",
       "        vertical-align: top;\n",
       "    }\n",
       "\n",
       "    .dataframe thead th {\n",
       "        text-align: right;\n",
       "    }\n",
       "</style>\n",
       "<table border=\"1\" class=\"dataframe\">\n",
       "  <thead>\n",
       "    <tr style=\"text-align: right;\">\n",
       "      <th></th>\n",
       "      <th>battery_percentage</th>\n",
       "      <th>battery_voltage</th>\n",
       "      <th>device_id</th>\n",
       "      <th>event_type</th>\n",
       "      <th>last_pressed</th>\n",
       "      <th>object_present</th>\n",
       "      <th>rssi</th>\n",
       "      <th>rssi_strength</th>\n",
       "      <th>temperature</th>\n",
       "      <th>thing_id</th>\n",
       "      <th>thing_type_id</th>\n",
       "      <th>touch</th>\n",
       "      <th>time</th>\n",
       "      <th>duration</th>\n",
       "    </tr>\n",
       "    <tr>\n",
       "      <th>weekday</th>\n",
       "      <th></th>\n",
       "      <th></th>\n",
       "      <th></th>\n",
       "      <th></th>\n",
       "      <th></th>\n",
       "      <th></th>\n",
       "      <th></th>\n",
       "      <th></th>\n",
       "      <th></th>\n",
       "      <th></th>\n",
       "      <th></th>\n",
       "      <th></th>\n",
       "      <th></th>\n",
       "      <th></th>\n",
       "    </tr>\n",
       "  </thead>\n",
       "  <tbody>\n",
       "    <tr>\n",
       "      <th>0</th>\n",
       "      <td>14</td>\n",
       "      <td>14</td>\n",
       "      <td>14</td>\n",
       "      <td>14</td>\n",
       "      <td>14</td>\n",
       "      <td>14</td>\n",
       "      <td>14</td>\n",
       "      <td>14</td>\n",
       "      <td>14</td>\n",
       "      <td>14</td>\n",
       "      <td>14</td>\n",
       "      <td>14</td>\n",
       "      <td>14</td>\n",
       "      <td>14</td>\n",
       "    </tr>\n",
       "    <tr>\n",
       "      <th>1</th>\n",
       "      <td>32</td>\n",
       "      <td>32</td>\n",
       "      <td>32</td>\n",
       "      <td>32</td>\n",
       "      <td>32</td>\n",
       "      <td>32</td>\n",
       "      <td>32</td>\n",
       "      <td>32</td>\n",
       "      <td>32</td>\n",
       "      <td>32</td>\n",
       "      <td>32</td>\n",
       "      <td>32</td>\n",
       "      <td>32</td>\n",
       "      <td>32</td>\n",
       "    </tr>\n",
       "    <tr>\n",
       "      <th>2</th>\n",
       "      <td>20</td>\n",
       "      <td>20</td>\n",
       "      <td>20</td>\n",
       "      <td>20</td>\n",
       "      <td>20</td>\n",
       "      <td>20</td>\n",
       "      <td>20</td>\n",
       "      <td>20</td>\n",
       "      <td>20</td>\n",
       "      <td>20</td>\n",
       "      <td>20</td>\n",
       "      <td>20</td>\n",
       "      <td>20</td>\n",
       "      <td>19</td>\n",
       "    </tr>\n",
       "    <tr>\n",
       "      <th>3</th>\n",
       "      <td>3</td>\n",
       "      <td>3</td>\n",
       "      <td>3</td>\n",
       "      <td>3</td>\n",
       "      <td>3</td>\n",
       "      <td>3</td>\n",
       "      <td>3</td>\n",
       "      <td>3</td>\n",
       "      <td>3</td>\n",
       "      <td>3</td>\n",
       "      <td>3</td>\n",
       "      <td>3</td>\n",
       "      <td>3</td>\n",
       "      <td>3</td>\n",
       "    </tr>\n",
       "    <tr>\n",
       "      <th>4</th>\n",
       "      <td>9</td>\n",
       "      <td>9</td>\n",
       "      <td>9</td>\n",
       "      <td>9</td>\n",
       "      <td>9</td>\n",
       "      <td>9</td>\n",
       "      <td>9</td>\n",
       "      <td>9</td>\n",
       "      <td>9</td>\n",
       "      <td>9</td>\n",
       "      <td>9</td>\n",
       "      <td>9</td>\n",
       "      <td>9</td>\n",
       "      <td>9</td>\n",
       "    </tr>\n",
       "    <tr>\n",
       "      <th>5</th>\n",
       "      <td>0</td>\n",
       "      <td>0</td>\n",
       "      <td>0</td>\n",
       "      <td>0</td>\n",
       "      <td>0</td>\n",
       "      <td>0</td>\n",
       "      <td>0</td>\n",
       "      <td>0</td>\n",
       "      <td>0</td>\n",
       "      <td>0</td>\n",
       "      <td>0</td>\n",
       "      <td>0</td>\n",
       "      <td>0</td>\n",
       "      <td>0</td>\n",
       "    </tr>\n",
       "    <tr>\n",
       "      <th>6</th>\n",
       "      <td>7</td>\n",
       "      <td>7</td>\n",
       "      <td>7</td>\n",
       "      <td>7</td>\n",
       "      <td>7</td>\n",
       "      <td>7</td>\n",
       "      <td>7</td>\n",
       "      <td>7</td>\n",
       "      <td>7</td>\n",
       "      <td>7</td>\n",
       "      <td>7</td>\n",
       "      <td>7</td>\n",
       "      <td>7</td>\n",
       "      <td>7</td>\n",
       "    </tr>\n",
       "  </tbody>\n",
       "</table>\n",
       "</div>"
      ],
      "text/plain": [
       "         battery_percentage  battery_voltage  device_id  event_type  \\\n",
       "weekday                                                               \n",
       "0                        14               14         14          14   \n",
       "1                        32               32         32          32   \n",
       "2                        20               20         20          20   \n",
       "3                         3                3          3           3   \n",
       "4                         9                9          9           9   \n",
       "5                         0                0          0           0   \n",
       "6                         7                7          7           7   \n",
       "\n",
       "         last_pressed  object_present  rssi  rssi_strength  temperature  \\\n",
       "weekday                                                                   \n",
       "0                  14              14    14             14           14   \n",
       "1                  32              32    32             32           32   \n",
       "2                  20              20    20             20           20   \n",
       "3                   3               3     3              3            3   \n",
       "4                   9               9     9              9            9   \n",
       "5                   0               0     0              0            0   \n",
       "6                   7               7     7              7            7   \n",
       "\n",
       "         thing_id  thing_type_id  touch  time  duration  \n",
       "weekday                                                  \n",
       "0              14             14     14    14        14  \n",
       "1              32             32     32    32        32  \n",
       "2              20             20     20    20        19  \n",
       "3               3              3      3     3         3  \n",
       "4               9              9      9     9         9  \n",
       "5               0              0      0     0         0  \n",
       "6               7              7      7     7         7  "
      ]
     },
     "execution_count": 111,
     "metadata": {},
     "output_type": "execute_result"
    }
   ],
   "source": [
    "trigs_day['weekday'] = trigs_day.index.weekday\n",
    "trigs_day.groupby('weekday').sum()"
   ]
  },
  {
   "cell_type": "code",
   "execution_count": 112,
   "metadata": {
    "slideshow": {
     "slide_type": "subslide"
    }
   },
   "outputs": [
    {
     "data": {
      "text/html": [
       "<div>\n",
       "<style scoped>\n",
       "    .dataframe tbody tr th:only-of-type {\n",
       "        vertical-align: middle;\n",
       "    }\n",
       "\n",
       "    .dataframe tbody tr th {\n",
       "        vertical-align: top;\n",
       "    }\n",
       "\n",
       "    .dataframe thead th {\n",
       "        text-align: right;\n",
       "    }\n",
       "</style>\n",
       "<table border=\"1\" class=\"dataframe\">\n",
       "  <thead>\n",
       "    <tr style=\"text-align: right;\">\n",
       "      <th></th>\n",
       "      <th>object_present</th>\n",
       "      <th>touch</th>\n",
       "    </tr>\n",
       "    <tr>\n",
       "      <th>time</th>\n",
       "      <th></th>\n",
       "      <th></th>\n",
       "    </tr>\n",
       "  </thead>\n",
       "  <tbody>\n",
       "    <tr>\n",
       "      <th>2017-11-01</th>\n",
       "      <td>0.500000</td>\n",
       "      <td>0.0</td>\n",
       "    </tr>\n",
       "    <tr>\n",
       "      <th>2017-11-02</th>\n",
       "      <td>0.333333</td>\n",
       "      <td>0.0</td>\n",
       "    </tr>\n",
       "    <tr>\n",
       "      <th>2017-11-03</th>\n",
       "      <td>NaN</td>\n",
       "      <td>NaN</td>\n",
       "    </tr>\n",
       "    <tr>\n",
       "      <th>2017-11-04</th>\n",
       "      <td>NaN</td>\n",
       "      <td>NaN</td>\n",
       "    </tr>\n",
       "    <tr>\n",
       "      <th>2017-11-05</th>\n",
       "      <td>0.666667</td>\n",
       "      <td>0.0</td>\n",
       "    </tr>\n",
       "    <tr>\n",
       "      <th>2017-11-06</th>\n",
       "      <td>0.500000</td>\n",
       "      <td>0.0</td>\n",
       "    </tr>\n",
       "    <tr>\n",
       "      <th>2017-11-07</th>\n",
       "      <td>0.555556</td>\n",
       "      <td>0.0</td>\n",
       "    </tr>\n",
       "    <tr>\n",
       "      <th>2017-11-08</th>\n",
       "      <td>NaN</td>\n",
       "      <td>NaN</td>\n",
       "    </tr>\n",
       "    <tr>\n",
       "      <th>2017-11-09</th>\n",
       "      <td>NaN</td>\n",
       "      <td>NaN</td>\n",
       "    </tr>\n",
       "    <tr>\n",
       "      <th>2017-11-10</th>\n",
       "      <td>0.555556</td>\n",
       "      <td>0.0</td>\n",
       "    </tr>\n",
       "    <tr>\n",
       "      <th>2017-11-11</th>\n",
       "      <td>NaN</td>\n",
       "      <td>NaN</td>\n",
       "    </tr>\n",
       "    <tr>\n",
       "      <th>2017-11-12</th>\n",
       "      <td>0.500000</td>\n",
       "      <td>0.0</td>\n",
       "    </tr>\n",
       "    <tr>\n",
       "      <th>2017-11-13</th>\n",
       "      <td>0.500000</td>\n",
       "      <td>0.0</td>\n",
       "    </tr>\n",
       "    <tr>\n",
       "      <th>2017-11-14</th>\n",
       "      <td>0.521739</td>\n",
       "      <td>0.0</td>\n",
       "    </tr>\n",
       "    <tr>\n",
       "      <th>2017-11-15</th>\n",
       "      <td>0.500000</td>\n",
       "      <td>0.0</td>\n",
       "    </tr>\n",
       "  </tbody>\n",
       "</table>\n",
       "</div>"
      ],
      "text/plain": [
       "            object_present  touch\n",
       "time                             \n",
       "2017-11-01        0.500000    0.0\n",
       "2017-11-02        0.333333    0.0\n",
       "2017-11-03             NaN    NaN\n",
       "2017-11-04             NaN    NaN\n",
       "2017-11-05        0.666667    0.0\n",
       "2017-11-06        0.500000    0.0\n",
       "2017-11-07        0.555556    0.0\n",
       "2017-11-08             NaN    NaN\n",
       "2017-11-09             NaN    NaN\n",
       "2017-11-10        0.555556    0.0\n",
       "2017-11-11             NaN    NaN\n",
       "2017-11-12        0.500000    0.0\n",
       "2017-11-13        0.500000    0.0\n",
       "2017-11-14        0.521739    0.0\n",
       "2017-11-15        0.500000    0.0"
      ]
     },
     "execution_count": 112,
     "metadata": {},
     "output_type": "execute_result"
    }
   ],
   "source": [
    "trigs.resample('D').mean()"
   ]
  },
  {
   "cell_type": "code",
   "execution_count": 113,
   "metadata": {
    "slideshow": {
     "slide_type": "skip"
    }
   },
   "outputs": [
    {
     "data": {
      "text/plain": [
       "array(['206853764'], dtype=object)"
      ]
     },
     "execution_count": 113,
     "metadata": {},
     "output_type": "execute_result"
    }
   ],
   "source": [
    "df['device_id'].unique()"
   ]
  },
  {
   "cell_type": "code",
   "execution_count": 129,
   "metadata": {
    "slideshow": {
     "slide_type": "subslide"
    }
   },
   "outputs": [
    {
     "data": {
      "text/html": [
       "<div>\n",
       "<style scoped>\n",
       "    .dataframe tbody tr th:only-of-type {\n",
       "        vertical-align: middle;\n",
       "    }\n",
       "\n",
       "    .dataframe tbody tr th {\n",
       "        vertical-align: top;\n",
       "    }\n",
       "\n",
       "    .dataframe thead th {\n",
       "        text-align: right;\n",
       "    }\n",
       "</style>\n",
       "<table border=\"1\" class=\"dataframe\">\n",
       "  <thead>\n",
       "    <tr style=\"text-align: right;\">\n",
       "      <th></th>\n",
       "      <th>battery_percentage</th>\n",
       "      <th>battery_voltage</th>\n",
       "      <th>device_id</th>\n",
       "      <th>event_type</th>\n",
       "      <th>last_pressed</th>\n",
       "      <th>rssi</th>\n",
       "      <th>rssi_strength</th>\n",
       "      <th>temperature</th>\n",
       "      <th>thing_id</th>\n",
       "      <th>thing_type_id</th>\n",
       "      <th>touch</th>\n",
       "      <th>time</th>\n",
       "      <th>duration</th>\n",
       "    </tr>\n",
       "    <tr>\n",
       "      <th>object_present</th>\n",
       "      <th></th>\n",
       "      <th></th>\n",
       "      <th></th>\n",
       "      <th></th>\n",
       "      <th></th>\n",
       "      <th></th>\n",
       "      <th></th>\n",
       "      <th></th>\n",
       "      <th></th>\n",
       "      <th></th>\n",
       "      <th></th>\n",
       "      <th></th>\n",
       "      <th></th>\n",
       "    </tr>\n",
       "  </thead>\n",
       "  <tbody>\n",
       "    <tr>\n",
       "      <th>0.0</th>\n",
       "      <td>41</td>\n",
       "      <td>41</td>\n",
       "      <td>41</td>\n",
       "      <td>41</td>\n",
       "      <td>41</td>\n",
       "      <td>41</td>\n",
       "      <td>41</td>\n",
       "      <td>41</td>\n",
       "      <td>41</td>\n",
       "      <td>41</td>\n",
       "      <td>41</td>\n",
       "      <td>41</td>\n",
       "      <td>40</td>\n",
       "    </tr>\n",
       "    <tr>\n",
       "      <th>1.0</th>\n",
       "      <td>44</td>\n",
       "      <td>44</td>\n",
       "      <td>44</td>\n",
       "      <td>44</td>\n",
       "      <td>44</td>\n",
       "      <td>44</td>\n",
       "      <td>44</td>\n",
       "      <td>44</td>\n",
       "      <td>44</td>\n",
       "      <td>44</td>\n",
       "      <td>44</td>\n",
       "      <td>44</td>\n",
       "      <td>44</td>\n",
       "    </tr>\n",
       "  </tbody>\n",
       "</table>\n",
       "</div>"
      ],
      "text/plain": [
       "                battery_percentage  battery_voltage  device_id  event_type  \\\n",
       "object_present                                                               \n",
       "0.0                             41               41         41          41   \n",
       "1.0                             44               44         44          44   \n",
       "\n",
       "                last_pressed  rssi  rssi_strength  temperature  thing_id  \\\n",
       "object_present                                                             \n",
       "0.0                       41    41             41           41        41   \n",
       "1.0                       44    44             44           44        44   \n",
       "\n",
       "                thing_type_id  touch  time  duration  \n",
       "object_present                                        \n",
       "0.0                        41     41    41        40  \n",
       "1.0                        44     44    44        44  "
      ]
     },
     "execution_count": 129,
     "metadata": {},
     "output_type": "execute_result"
    }
   ],
   "source": [
    "trigs.groupby(['object_present']).count()"
   ]
  },
  {
   "cell_type": "code",
   "execution_count": 133,
   "metadata": {},
   "outputs": [
    {
     "data": {
      "text/plain": [
       "<matplotlib.axes._subplots.AxesSubplot at 0xbf75cf8>"
      ]
     },
     "execution_count": 133,
     "metadata": {},
     "output_type": "execute_result"
    },
    {
     "data": {
      "image/png": "[encoded data removed]",
      "text/plain": [
       "<matplotlib.figure.Figure at 0xc07a6a0>"
      ]
     },
     "metadata": {},
     "output_type": "display_data"
    }
   ],
   "source": [
    "trigs[\"object_present\"].plot()"
   ]
  },
  {
   "cell_type": "code",
   "execution_count": 138,
   "metadata": {},
   "outputs": [
    {
     "data": {
      "text/html": [
       "<div>\n",
       "<style scoped>\n",
       "    .dataframe tbody tr th:only-of-type {\n",
       "        vertical-align: middle;\n",
       "    }\n",
       "\n",
       "    .dataframe tbody tr th {\n",
       "        vertical-align: top;\n",
       "    }\n",
       "\n",
       "    .dataframe thead th {\n",
       "        text-align: right;\n",
       "    }\n",
       "</style>\n",
       "<table border=\"1\" class=\"dataframe\">\n",
       "  <thead>\n",
       "    <tr style=\"text-align: right;\">\n",
       "      <th></th>\n",
       "      <th>battery_percentage</th>\n",
       "      <th>battery_voltage</th>\n",
       "      <th>device_id</th>\n",
       "      <th>event_type</th>\n",
       "      <th>last_pressed</th>\n",
       "      <th>object_present</th>\n",
       "      <th>rssi</th>\n",
       "      <th>rssi_strength</th>\n",
       "      <th>temperature</th>\n",
       "      <th>thing_id</th>\n",
       "      <th>thing_type_id</th>\n",
       "      <th>touch</th>\n",
       "      <th>time</th>\n",
       "      <th>duration</th>\n",
       "    </tr>\n",
       "    <tr>\n",
       "      <th>time</th>\n",
       "      <th></th>\n",
       "      <th></th>\n",
       "      <th></th>\n",
       "      <th></th>\n",
       "      <th></th>\n",
       "      <th></th>\n",
       "      <th></th>\n",
       "      <th></th>\n",
       "      <th></th>\n",
       "      <th></th>\n",
       "      <th></th>\n",
       "      <th></th>\n",
       "      <th></th>\n",
       "      <th></th>\n",
       "    </tr>\n",
       "  </thead>\n",
       "  <tbody>\n",
       "    <tr>\n",
       "      <th>2017-11-01 09:30:13.587183270</th>\n",
       "      <td>100</td>\n",
       "      <td>2.82</td>\n",
       "      <td>206853764</td>\n",
       "      <td>object_trigger</td>\n",
       "      <td>1970-01-01 00:00:00 +0000 UTC</td>\n",
       "      <td>0.0</td>\n",
       "      <td>-79</td>\n",
       "      <td>3</td>\n",
       "      <td>24</td>\n",
       "      <td>206853764</td>\n",
       "      <td>proximity</td>\n",
       "      <td>0.0</td>\n",
       "      <td>2017-11-01 09:30:13.587183270</td>\n",
       "      <td>NaT</td>\n",
       "    </tr>\n",
       "    <tr>\n",
       "      <th>2017-11-01 09:30:19.207188223</th>\n",
       "      <td>100</td>\n",
       "      <td>2.87</td>\n",
       "      <td>206853764</td>\n",
       "      <td>object_trigger</td>\n",
       "      <td>1970-01-01 00:00:00 +0000 UTC</td>\n",
       "      <td>1.0</td>\n",
       "      <td>-85</td>\n",
       "      <td>3</td>\n",
       "      <td>24</td>\n",
       "      <td>206853764</td>\n",
       "      <td>proximity</td>\n",
       "      <td>0.0</td>\n",
       "      <td>2017-11-01 09:30:19.207188223</td>\n",
       "      <td>00:00:05.620004</td>\n",
       "    </tr>\n",
       "    <tr>\n",
       "      <th>2017-11-01 13:52:23.417125856</th>\n",
       "      <td>100</td>\n",
       "      <td>2.82</td>\n",
       "      <td>206853764</td>\n",
       "      <td>object_trigger</td>\n",
       "      <td>1970-01-01 00:00:00 +0000 UTC</td>\n",
       "      <td>0.0</td>\n",
       "      <td>-82</td>\n",
       "      <td>3</td>\n",
       "      <td>24</td>\n",
       "      <td>206853764</td>\n",
       "      <td>proximity</td>\n",
       "      <td>0.0</td>\n",
       "      <td>2017-11-01 13:52:23.417125856</td>\n",
       "      <td>04:22:04.209937</td>\n",
       "    </tr>\n",
       "    <tr>\n",
       "      <th>2017-11-01 13:52:28.037115089</th>\n",
       "      <td>100</td>\n",
       "      <td>2.82</td>\n",
       "      <td>206853764</td>\n",
       "      <td>object_trigger</td>\n",
       "      <td>1970-01-01 00:00:00 +0000 UTC</td>\n",
       "      <td>1.0</td>\n",
       "      <td>-82</td>\n",
       "      <td>3</td>\n",
       "      <td>24</td>\n",
       "      <td>206853764</td>\n",
       "      <td>proximity</td>\n",
       "      <td>0.0</td>\n",
       "      <td>2017-11-01 13:52:28.037115089</td>\n",
       "      <td>00:00:04.619989</td>\n",
       "    </tr>\n",
       "    <tr>\n",
       "      <th>2017-11-01 13:52:32.137125622</th>\n",
       "      <td>100</td>\n",
       "      <td>2.82</td>\n",
       "      <td>206853764</td>\n",
       "      <td>object_trigger</td>\n",
       "      <td>1970-01-01 00:00:00 +0000 UTC</td>\n",
       "      <td>0.0</td>\n",
       "      <td>-81</td>\n",
       "      <td>3</td>\n",
       "      <td>24</td>\n",
       "      <td>206853764</td>\n",
       "      <td>proximity</td>\n",
       "      <td>0.0</td>\n",
       "      <td>2017-11-01 13:52:32.137125622</td>\n",
       "      <td>00:00:04.100010</td>\n",
       "    </tr>\n",
       "  </tbody>\n",
       "</table>\n",
       "</div>"
      ],
      "text/plain": [
       "                              battery_percentage battery_voltage  device_id  \\\n",
       "time                                                                          \n",
       "2017-11-01 09:30:13.587183270                100            2.82  206853764   \n",
       "2017-11-01 09:30:19.207188223                100            2.87  206853764   \n",
       "2017-11-01 13:52:23.417125856                100            2.82  206853764   \n",
       "2017-11-01 13:52:28.037115089                100            2.82  206853764   \n",
       "2017-11-01 13:52:32.137125622                100            2.82  206853764   \n",
       "\n",
       "                                   event_type                   last_pressed  \\\n",
       "time                                                                           \n",
       "2017-11-01 09:30:13.587183270  object_trigger  1970-01-01 00:00:00 +0000 UTC   \n",
       "2017-11-01 09:30:19.207188223  object_trigger  1970-01-01 00:00:00 +0000 UTC   \n",
       "2017-11-01 13:52:23.417125856  object_trigger  1970-01-01 00:00:00 +0000 UTC   \n",
       "2017-11-01 13:52:28.037115089  object_trigger  1970-01-01 00:00:00 +0000 UTC   \n",
       "2017-11-01 13:52:32.137125622  object_trigger  1970-01-01 00:00:00 +0000 UTC   \n",
       "\n",
       "                               object_present rssi rssi_strength temperature  \\\n",
       "time                                                                           \n",
       "2017-11-01 09:30:13.587183270             0.0  -79             3          24   \n",
       "2017-11-01 09:30:19.207188223             1.0  -85             3          24   \n",
       "2017-11-01 13:52:23.417125856             0.0  -82             3          24   \n",
       "2017-11-01 13:52:28.037115089             1.0  -82             3          24   \n",
       "2017-11-01 13:52:32.137125622             0.0  -81             3          24   \n",
       "\n",
       "                                thing_id thing_type_id  touch  \\\n",
       "time                                                            \n",
       "2017-11-01 09:30:13.587183270  206853764     proximity    0.0   \n",
       "2017-11-01 09:30:19.207188223  206853764     proximity    0.0   \n",
       "2017-11-01 13:52:23.417125856  206853764     proximity    0.0   \n",
       "2017-11-01 13:52:28.037115089  206853764     proximity    0.0   \n",
       "2017-11-01 13:52:32.137125622  206853764     proximity    0.0   \n",
       "\n",
       "                                                       time        duration  \n",
       "time                                                                         \n",
       "2017-11-01 09:30:13.587183270 2017-11-01 09:30:13.587183270             NaT  \n",
       "2017-11-01 09:30:19.207188223 2017-11-01 09:30:19.207188223 00:00:05.620004  \n",
       "2017-11-01 13:52:23.417125856 2017-11-01 13:52:23.417125856 04:22:04.209937  \n",
       "2017-11-01 13:52:28.037115089 2017-11-01 13:52:28.037115089 00:00:04.619989  \n",
       "2017-11-01 13:52:32.137125622 2017-11-01 13:52:32.137125622 00:00:04.100010  "
      ]
     },
     "execution_count": 138,
     "metadata": {},
     "output_type": "execute_result"
    }
   ],
   "source": [
    "trigs.head()\n",
    "#trigs.object_present.value_counts()"
   ]
  },
  {
   "cell_type": "code",
   "execution_count": 145,
   "metadata": {},
   "outputs": [
    {
     "data": {
      "text/plain": [
       "time\n",
       "2017-11-01 09:30:13.587183270    0.0\n",
       "2017-11-01 09:30:19.207188223    1.0\n",
       "2017-11-01 13:52:23.417125856    0.0\n",
       "2017-11-01 13:52:28.037115089    1.0\n",
       "2017-11-01 13:52:32.137125622    0.0\n",
       "Name: present, dtype: float64"
      ]
     },
     "execution_count": 145,
     "metadata": {},
     "output_type": "execute_result"
    }
   ],
   "source": [
    "# ?????????\n",
    "#df['time'] = pd.to_datetime(df['time'], errors='coerce').fillna(0)\n",
    "trigs['present'] = pd.to_numeric(trigs['object_present'], errors='coerce')\n",
    "#df.set_index('time', inplace=True)\n",
    "trigs['present'].head()"
   ]
  },
  {
   "cell_type": "code",
   "execution_count": 146,
   "metadata": {},
   "outputs": [
    {
     "data": {
      "text/plain": [
       "<matplotlib.axes._subplots.AxesSubplot at 0xd1d1cc0>"
      ]
     },
     "execution_count": 146,
     "metadata": {},
     "output_type": "execute_result"
    },
    {
     "data": {
      "image/png": "[encoded data removed]",
      "text/plain": [
       "<matplotlib.figure.Figure at 0xc059438>"
      ]
     },
     "metadata": {},
     "output_type": "display_data"
    }
   ],
   "source": [
    "trigs['1/8/2017':'5/4/2024'][\"present\"].plot()"
   ]
  },
  {
   "cell_type": "code",
   "execution_count": 148,
   "metadata": {
    "collapsed": true
   },
   "outputs": [],
   "source": [
    "trigs['hour_in_day'] = [r.hour for r in trigs.index.time]"
   ]
  },
  {
   "cell_type": "code",
   "execution_count": 149,
   "metadata": {},
   "outputs": [
    {
     "data": {
      "text/plain": [
       "<matplotlib.axes._subplots.AxesSubplot at 0xbdd69e8>"
      ]
     },
     "execution_count": 149,
     "metadata": {},
     "output_type": "execute_result"
    },
    {
     "data": {
      "image/png": "[encoded data removed]",
      "text/plain": [
       "<matplotlib.figure.Figure at 0xd2676d8>"
      ]
     },
     "metadata": {},
     "output_type": "display_data"
    }
   ],
   "source": [
    "trigs.groupby(['hour_in_day'])['object_present'].count().plot()"
   ]
  },
  {
   "cell_type": "code",
   "execution_count": 156,
   "metadata": {
    "collapsed": true
   },
   "outputs": [],
   "source": [
    "#trigs.rssi_strength = pd.to_numeric(trigs.rssi_strength)\n",
    "#trigs.rssi = pd.to_numeric(trigs.rssi)"
   ]
  },
  {
   "cell_type": "code",
   "execution_count": 157,
   "metadata": {},
   "outputs": [
    {
     "data": {
      "text/html": [
       "<div>\n",
       "<style scoped>\n",
       "    .dataframe tbody tr th:only-of-type {\n",
       "        vertical-align: middle;\n",
       "    }\n",
       "\n",
       "    .dataframe tbody tr th {\n",
       "        vertical-align: top;\n",
       "    }\n",
       "\n",
       "    .dataframe thead th {\n",
       "        text-align: right;\n",
       "    }\n",
       "</style>\n",
       "<table border=\"1\" class=\"dataframe\">\n",
       "  <thead>\n",
       "    <tr style=\"text-align: right;\">\n",
       "      <th></th>\n",
       "      <th>event_type</th>\n",
       "      <th>object_trigger</th>\n",
       "    </tr>\n",
       "    <tr>\n",
       "      <th>object_present</th>\n",
       "      <th>battery_voltage</th>\n",
       "      <th></th>\n",
       "    </tr>\n",
       "  </thead>\n",
       "  <tbody>\n",
       "    <tr>\n",
       "      <th>0.0</th>\n",
       "      <th>2.82</th>\n",
       "      <td>-80.121951</td>\n",
       "    </tr>\n",
       "    <tr>\n",
       "      <th rowspan=\"2\" valign=\"top\">1.0</th>\n",
       "      <th>2.82</th>\n",
       "      <td>-81.317073</td>\n",
       "    </tr>\n",
       "    <tr>\n",
       "      <th>2.87</th>\n",
       "      <td>-87.666667</td>\n",
       "    </tr>\n",
       "  </tbody>\n",
       "</table>\n",
       "</div>"
      ],
      "text/plain": [
       "event_type                      object_trigger\n",
       "object_present battery_voltage                \n",
       "0.0            2.82                 -80.121951\n",
       "1.0            2.82                 -81.317073\n",
       "               2.87                 -87.666667"
      ]
     },
     "execution_count": 157,
     "metadata": {},
     "output_type": "execute_result"
    }
   ],
   "source": [
    "pd.pivot_table(trigs, values='rssi', index=['object_present', 'battery_voltage'], columns=['event_type'])"
   ]
  },
  {
   "cell_type": "code",
   "execution_count": 160,
   "metadata": {
    "collapsed": true
   },
   "outputs": [],
   "source": [
    "#trigs.pivot(values='duration', index=trigs.index, columns=['object_present'])\n",
    "#trigs.head()"
   ]
  },
  {
   "cell_type": "markdown",
   "metadata": {
    "slideshow": {
     "slide_type": "slide"
    }
   },
   "source": [
    "### Pivot Table"
   ]
  },
  {
   "cell_type": "code",
   "execution_count": 163,
   "metadata": {
    "slideshow": {
     "slide_type": "fragment"
    }
   },
   "outputs": [
    {
     "data": {
      "text/html": [
       "<div>\n",
       "<style scoped>\n",
       "    .dataframe tbody tr th:only-of-type {\n",
       "        vertical-align: middle;\n",
       "    }\n",
       "\n",
       "    .dataframe tbody tr th {\n",
       "        vertical-align: top;\n",
       "    }\n",
       "\n",
       "    .dataframe thead th {\n",
       "        text-align: right;\n",
       "    }\n",
       "</style>\n",
       "<table border=\"1\" class=\"dataframe\">\n",
       "  <thead>\n",
       "    <tr style=\"text-align: right;\">\n",
       "      <th></th>\n",
       "      <th>battery_percentage</th>\n",
       "      <th>battery_voltage</th>\n",
       "      <th>device_id</th>\n",
       "      <th>event_type</th>\n",
       "      <th>last_pressed</th>\n",
       "      <th>object_present</th>\n",
       "      <th>rssi</th>\n",
       "      <th>rssi_strength</th>\n",
       "      <th>temperature</th>\n",
       "      <th>thing_id</th>\n",
       "      <th>thing_type_id</th>\n",
       "      <th>touch</th>\n",
       "      <th>time</th>\n",
       "      <th>duration</th>\n",
       "      <th>present</th>\n",
       "      <th>hour_in_day</th>\n",
       "      <th>weekday</th>\n",
       "    </tr>\n",
       "    <tr>\n",
       "      <th>time</th>\n",
       "      <th></th>\n",
       "      <th></th>\n",
       "      <th></th>\n",
       "      <th></th>\n",
       "      <th></th>\n",
       "      <th></th>\n",
       "      <th></th>\n",
       "      <th></th>\n",
       "      <th></th>\n",
       "      <th></th>\n",
       "      <th></th>\n",
       "      <th></th>\n",
       "      <th></th>\n",
       "      <th></th>\n",
       "      <th></th>\n",
       "      <th></th>\n",
       "      <th></th>\n",
       "    </tr>\n",
       "  </thead>\n",
       "  <tbody>\n",
       "    <tr>\n",
       "      <th>2017-11-01 09:30:13.587183270</th>\n",
       "      <td>100</td>\n",
       "      <td>2.82</td>\n",
       "      <td>206853764</td>\n",
       "      <td>object_trigger</td>\n",
       "      <td>1970-01-01 00:00:00 +0000 UTC</td>\n",
       "      <td>0.0</td>\n",
       "      <td>-79.0</td>\n",
       "      <td>3.0</td>\n",
       "      <td>24</td>\n",
       "      <td>206853764</td>\n",
       "      <td>proximity</td>\n",
       "      <td>0.0</td>\n",
       "      <td>2017-11-01 09:30:13.587183270</td>\n",
       "      <td>NaT</td>\n",
       "      <td>0.0</td>\n",
       "      <td>9</td>\n",
       "      <td>2</td>\n",
       "    </tr>\n",
       "    <tr>\n",
       "      <th>2017-11-01 09:30:19.207188223</th>\n",
       "      <td>100</td>\n",
       "      <td>2.87</td>\n",
       "      <td>206853764</td>\n",
       "      <td>object_trigger</td>\n",
       "      <td>1970-01-01 00:00:00 +0000 UTC</td>\n",
       "      <td>1.0</td>\n",
       "      <td>-85.0</td>\n",
       "      <td>3.0</td>\n",
       "      <td>24</td>\n",
       "      <td>206853764</td>\n",
       "      <td>proximity</td>\n",
       "      <td>0.0</td>\n",
       "      <td>2017-11-01 09:30:19.207188223</td>\n",
       "      <td>00:00:05.620004</td>\n",
       "      <td>1.0</td>\n",
       "      <td>9</td>\n",
       "      <td>2</td>\n",
       "    </tr>\n",
       "    <tr>\n",
       "      <th>2017-11-01 13:52:23.417125856</th>\n",
       "      <td>100</td>\n",
       "      <td>2.82</td>\n",
       "      <td>206853764</td>\n",
       "      <td>object_trigger</td>\n",
       "      <td>1970-01-01 00:00:00 +0000 UTC</td>\n",
       "      <td>0.0</td>\n",
       "      <td>-82.0</td>\n",
       "      <td>3.0</td>\n",
       "      <td>24</td>\n",
       "      <td>206853764</td>\n",
       "      <td>proximity</td>\n",
       "      <td>0.0</td>\n",
       "      <td>2017-11-01 13:52:23.417125856</td>\n",
       "      <td>04:22:04.209937</td>\n",
       "      <td>0.0</td>\n",
       "      <td>13</td>\n",
       "      <td>2</td>\n",
       "    </tr>\n",
       "    <tr>\n",
       "      <th>2017-11-01 13:52:28.037115089</th>\n",
       "      <td>100</td>\n",
       "      <td>2.82</td>\n",
       "      <td>206853764</td>\n",
       "      <td>object_trigger</td>\n",
       "      <td>1970-01-01 00:00:00 +0000 UTC</td>\n",
       "      <td>1.0</td>\n",
       "      <td>-82.0</td>\n",
       "      <td>3.0</td>\n",
       "      <td>24</td>\n",
       "      <td>206853764</td>\n",
       "      <td>proximity</td>\n",
       "      <td>0.0</td>\n",
       "      <td>2017-11-01 13:52:28.037115089</td>\n",
       "      <td>00:00:04.619989</td>\n",
       "      <td>1.0</td>\n",
       "      <td>13</td>\n",
       "      <td>2</td>\n",
       "    </tr>\n",
       "    <tr>\n",
       "      <th>2017-11-01 13:52:32.137125622</th>\n",
       "      <td>100</td>\n",
       "      <td>2.82</td>\n",
       "      <td>206853764</td>\n",
       "      <td>object_trigger</td>\n",
       "      <td>1970-01-01 00:00:00 +0000 UTC</td>\n",
       "      <td>0.0</td>\n",
       "      <td>-81.0</td>\n",
       "      <td>3.0</td>\n",
       "      <td>24</td>\n",
       "      <td>206853764</td>\n",
       "      <td>proximity</td>\n",
       "      <td>0.0</td>\n",
       "      <td>2017-11-01 13:52:32.137125622</td>\n",
       "      <td>00:00:04.100010</td>\n",
       "      <td>0.0</td>\n",
       "      <td>13</td>\n",
       "      <td>2</td>\n",
       "    </tr>\n",
       "  </tbody>\n",
       "</table>\n",
       "</div>"
      ],
      "text/plain": [
       "                              battery_percentage battery_voltage  device_id  \\\n",
       "time                                                                          \n",
       "2017-11-01 09:30:13.587183270                100            2.82  206853764   \n",
       "2017-11-01 09:30:19.207188223                100            2.87  206853764   \n",
       "2017-11-01 13:52:23.417125856                100            2.82  206853764   \n",
       "2017-11-01 13:52:28.037115089                100            2.82  206853764   \n",
       "2017-11-01 13:52:32.137125622                100            2.82  206853764   \n",
       "\n",
       "                                   event_type                   last_pressed  \\\n",
       "time                                                                           \n",
       "2017-11-01 09:30:13.587183270  object_trigger  1970-01-01 00:00:00 +0000 UTC   \n",
       "2017-11-01 09:30:19.207188223  object_trigger  1970-01-01 00:00:00 +0000 UTC   \n",
       "2017-11-01 13:52:23.417125856  object_trigger  1970-01-01 00:00:00 +0000 UTC   \n",
       "2017-11-01 13:52:28.037115089  object_trigger  1970-01-01 00:00:00 +0000 UTC   \n",
       "2017-11-01 13:52:32.137125622  object_trigger  1970-01-01 00:00:00 +0000 UTC   \n",
       "\n",
       "                               object_present  rssi  rssi_strength  \\\n",
       "time                                                                 \n",
       "2017-11-01 09:30:13.587183270             0.0 -79.0            3.0   \n",
       "2017-11-01 09:30:19.207188223             1.0 -85.0            3.0   \n",
       "2017-11-01 13:52:23.417125856             0.0 -82.0            3.0   \n",
       "2017-11-01 13:52:28.037115089             1.0 -82.0            3.0   \n",
       "2017-11-01 13:52:32.137125622             0.0 -81.0            3.0   \n",
       "\n",
       "                              temperature   thing_id thing_type_id  touch  \\\n",
       "time                                                                        \n",
       "2017-11-01 09:30:13.587183270          24  206853764     proximity    0.0   \n",
       "2017-11-01 09:30:19.207188223          24  206853764     proximity    0.0   \n",
       "2017-11-01 13:52:23.417125856          24  206853764     proximity    0.0   \n",
       "2017-11-01 13:52:28.037115089          24  206853764     proximity    0.0   \n",
       "2017-11-01 13:52:32.137125622          24  206853764     proximity    0.0   \n",
       "\n",
       "                                                       time        duration  \\\n",
       "time                                                                          \n",
       "2017-11-01 09:30:13.587183270 2017-11-01 09:30:13.587183270             NaT   \n",
       "2017-11-01 09:30:19.207188223 2017-11-01 09:30:19.207188223 00:00:05.620004   \n",
       "2017-11-01 13:52:23.417125856 2017-11-01 13:52:23.417125856 04:22:04.209937   \n",
       "2017-11-01 13:52:28.037115089 2017-11-01 13:52:28.037115089 00:00:04.619989   \n",
       "2017-11-01 13:52:32.137125622 2017-11-01 13:52:32.137125622 00:00:04.100010   \n",
       "\n",
       "                               present  hour_in_day  weekday  \n",
       "time                                                          \n",
       "2017-11-01 09:30:13.587183270      0.0            9        2  \n",
       "2017-11-01 09:30:19.207188223      1.0            9        2  \n",
       "2017-11-01 13:52:23.417125856      0.0           13        2  \n",
       "2017-11-01 13:52:28.037115089      1.0           13        2  \n",
       "2017-11-01 13:52:32.137125622      0.0           13        2  "
      ]
     },
     "execution_count": 163,
     "metadata": {},
     "output_type": "execute_result"
    }
   ],
   "source": [
    "trigs['hour_in_day'] = [r.hour for r in trigs.index.time]\n",
    "trigs.head()"
   ]
  },
  {
   "cell_type": "code",
   "execution_count": 162,
   "metadata": {
    "collapsed": true,
    "slideshow": {
     "slide_type": "subslide"
    }
   },
   "outputs": [],
   "source": [
    "trigs['weekday'] = trigs.index.weekday"
   ]
  },
  {
   "cell_type": "code",
   "execution_count": 164,
   "metadata": {
    "slideshow": {
     "slide_type": "fragment"
    }
   },
   "outputs": [
    {
     "data": {
      "text/plain": [
       "battery_percentage             object\n",
       "battery_voltage                object\n",
       "device_id                      object\n",
       "event_type                     object\n",
       "last_pressed                   object\n",
       "object_present                float64\n",
       "rssi                          float64\n",
       "rssi_strength                 float64\n",
       "temperature                    object\n",
       "thing_id                       object\n",
       "thing_type_id                  object\n",
       "touch                         float64\n",
       "time                   datetime64[ns]\n",
       "duration              timedelta64[ns]\n",
       "present                       float64\n",
       "hour_in_day                     int64\n",
       "weekday                         int64\n",
       "duration_minutes              float64\n",
       "dtype: object"
      ]
     },
     "execution_count": 164,
     "metadata": {},
     "output_type": "execute_result"
    }
   ],
   "source": [
    "tr = trigs.copy()\n",
    "tr['duration_minutes'] = tr.duration / pd.Timedelta('1 minute')\n",
    "tr.head()\n",
    "tr.dtypes"
   ]
  },
  {
   "cell_type": "code",
   "execution_count": 165,
   "metadata": {
    "slideshow": {
     "slide_type": "subslide"
    }
   },
   "outputs": [
    {
     "data": {
      "text/html": [
       "<div>\n",
       "<style scoped>\n",
       "    .dataframe tbody tr th:only-of-type {\n",
       "        vertical-align: middle;\n",
       "    }\n",
       "\n",
       "    .dataframe tbody tr th {\n",
       "        vertical-align: top;\n",
       "    }\n",
       "\n",
       "    .dataframe thead th {\n",
       "        text-align: right;\n",
       "    }\n",
       "</style>\n",
       "<table border=\"1\" class=\"dataframe\">\n",
       "  <thead>\n",
       "    <tr style=\"text-align: right;\">\n",
       "      <th>object_present</th>\n",
       "      <th>0.0</th>\n",
       "      <th>1.0</th>\n",
       "    </tr>\n",
       "    <tr>\n",
       "      <th>hour_in_day</th>\n",
       "      <th></th>\n",
       "      <th></th>\n",
       "    </tr>\n",
       "  </thead>\n",
       "  <tbody>\n",
       "    <tr>\n",
       "      <th>6</th>\n",
       "      <td>1031.611185</td>\n",
       "      <td>2045.701732</td>\n",
       "    </tr>\n",
       "    <tr>\n",
       "      <th>7</th>\n",
       "      <td>433.857097</td>\n",
       "      <td>0.061056</td>\n",
       "    </tr>\n",
       "    <tr>\n",
       "      <th>8</th>\n",
       "      <td>498.142272</td>\n",
       "      <td>0.170007</td>\n",
       "    </tr>\n",
       "    <tr>\n",
       "      <th>9</th>\n",
       "      <td>573.456384</td>\n",
       "      <td>0.075865</td>\n",
       "    </tr>\n",
       "    <tr>\n",
       "      <th>10</th>\n",
       "      <td>143.382838</td>\n",
       "      <td>1370.713614</td>\n",
       "    </tr>\n",
       "    <tr>\n",
       "      <th>11</th>\n",
       "      <td>1311.629503</td>\n",
       "      <td>0.067827</td>\n",
       "    </tr>\n",
       "    <tr>\n",
       "      <th>12</th>\n",
       "      <td>997.431501</td>\n",
       "      <td>0.245218</td>\n",
       "    </tr>\n",
       "    <tr>\n",
       "      <th>13</th>\n",
       "      <td>102.599408</td>\n",
       "      <td>0.091041</td>\n",
       "    </tr>\n",
       "    <tr>\n",
       "      <th>14</th>\n",
       "      <td>114.359584</td>\n",
       "      <td>0.164375</td>\n",
       "    </tr>\n",
       "    <tr>\n",
       "      <th>15</th>\n",
       "      <td>66.865763</td>\n",
       "      <td>0.430357</td>\n",
       "    </tr>\n",
       "    <tr>\n",
       "      <th>16</th>\n",
       "      <td>46.775748</td>\n",
       "      <td>0.405002</td>\n",
       "    </tr>\n",
       "    <tr>\n",
       "      <th>17</th>\n",
       "      <td>32.056914</td>\n",
       "      <td>12.989222</td>\n",
       "    </tr>\n",
       "    <tr>\n",
       "      <th>18</th>\n",
       "      <td>481.891963</td>\n",
       "      <td>0.180668</td>\n",
       "    </tr>\n",
       "  </tbody>\n",
       "</table>\n",
       "</div>"
      ],
      "text/plain": [
       "object_present          0.0          1.0\n",
       "hour_in_day                             \n",
       "6               1031.611185  2045.701732\n",
       "7                433.857097     0.061056\n",
       "8                498.142272     0.170007\n",
       "9                573.456384     0.075865\n",
       "10               143.382838  1370.713614\n",
       "11              1311.629503     0.067827\n",
       "12               997.431501     0.245218\n",
       "13               102.599408     0.091041\n",
       "14               114.359584     0.164375\n",
       "15                66.865763     0.430357\n",
       "16                46.775748     0.405002\n",
       "17                32.056914    12.989222\n",
       "18               481.891963     0.180668"
      ]
     },
     "execution_count": 165,
     "metadata": {},
     "output_type": "execute_result"
    }
   ],
   "source": [
    "#trigs.pivot(values='duration', index='hour_in_day', columns='object_present')\n",
    "pd.pivot_table(tr, values='duration_minutes', index='hour_in_day', columns=['object_present'])"
   ]
  },
  {
   "cell_type": "code",
   "execution_count": 166,
   "metadata": {
    "slideshow": {
     "slide_type": "subslide"
    }
   },
   "outputs": [
    {
     "data": {
      "text/html": [
       "<div>\n",
       "<style scoped>\n",
       "    .dataframe tbody tr th:only-of-type {\n",
       "        vertical-align: middle;\n",
       "    }\n",
       "\n",
       "    .dataframe tbody tr th {\n",
       "        vertical-align: top;\n",
       "    }\n",
       "\n",
       "    .dataframe thead th {\n",
       "        text-align: right;\n",
       "    }\n",
       "</style>\n",
       "<table border=\"1\" class=\"dataframe\">\n",
       "  <thead>\n",
       "    <tr style=\"text-align: right;\">\n",
       "      <th></th>\n",
       "      <th>object_present</th>\n",
       "      <th>0.0</th>\n",
       "      <th>1.0</th>\n",
       "    </tr>\n",
       "    <tr>\n",
       "      <th>hour_in_day</th>\n",
       "      <th>time</th>\n",
       "      <th></th>\n",
       "      <th></th>\n",
       "    </tr>\n",
       "  </thead>\n",
       "  <tbody>\n",
       "    <tr>\n",
       "      <th rowspan=\"3\" valign=\"top\">6</th>\n",
       "      <th>2017-11-10 06:55:28.155283883</th>\n",
       "      <td>NaN</td>\n",
       "      <td>4091.296462</td>\n",
       "    </tr>\n",
       "    <tr>\n",
       "      <th>2017-11-14 06:48:58.468421874</th>\n",
       "      <td>1031.611185</td>\n",
       "      <td>NaN</td>\n",
       "    </tr>\n",
       "    <tr>\n",
       "      <th>2017-11-14 06:49:04.888539829</th>\n",
       "      <td>NaN</td>\n",
       "      <td>0.107002</td>\n",
       "    </tr>\n",
       "    <tr>\n",
       "      <th rowspan=\"5\" valign=\"top\">7</th>\n",
       "      <th>2017-11-07 07:32:11.957655629</th>\n",
       "      <td>865.219530</td>\n",
       "      <td>NaN</td>\n",
       "    </tr>\n",
       "    <tr>\n",
       "      <th>2017-11-07 07:32:16.028099725</th>\n",
       "      <td>NaN</td>\n",
       "      <td>0.067841</td>\n",
       "    </tr>\n",
       "    <tr>\n",
       "      <th>2017-11-07 07:34:45.707877516</th>\n",
       "      <td>2.494663</td>\n",
       "      <td>NaN</td>\n",
       "    </tr>\n",
       "    <tr>\n",
       "      <th>2017-11-07 07:34:52.047706306</th>\n",
       "      <td>NaN</td>\n",
       "      <td>0.105664</td>\n",
       "    </tr>\n",
       "    <tr>\n",
       "      <th>2017-11-07 07:34:52.627602866</th>\n",
       "      <td>NaN</td>\n",
       "      <td>0.009665</td>\n",
       "    </tr>\n",
       "    <tr>\n",
       "      <th rowspan=\"4\" valign=\"top\">8</th>\n",
       "      <th>2017-11-10 08:28:14.685481404</th>\n",
       "      <td>92.775503</td>\n",
       "      <td>NaN</td>\n",
       "    </tr>\n",
       "    <tr>\n",
       "      <th>2017-11-10 08:28:18.806224720</th>\n",
       "      <td>NaN</td>\n",
       "      <td>0.068679</td>\n",
       "    </tr>\n",
       "    <tr>\n",
       "      <th>2017-11-15 08:20:55.020831183</th>\n",
       "      <td>903.509040</td>\n",
       "      <td>NaN</td>\n",
       "    </tr>\n",
       "    <tr>\n",
       "      <th>2017-11-15 08:21:11.300985872</th>\n",
       "      <td>NaN</td>\n",
       "      <td>0.271336</td>\n",
       "    </tr>\n",
       "    <tr>\n",
       "      <th rowspan=\"10\" valign=\"top\">9</th>\n",
       "      <th>2017-11-01 09:30:13.587183270</th>\n",
       "      <td>NaN</td>\n",
       "      <td>NaN</td>\n",
       "    </tr>\n",
       "    <tr>\n",
       "      <th>2017-11-01 09:30:19.207188223</th>\n",
       "      <td>NaN</td>\n",
       "      <td>0.093667</td>\n",
       "    </tr>\n",
       "    <tr>\n",
       "      <th>2017-11-06 09:28:19.195885103</th>\n",
       "      <td>916.313501</td>\n",
       "      <td>NaN</td>\n",
       "    </tr>\n",
       "    <tr>\n",
       "      <th>2017-11-06 09:28:24.015835148</th>\n",
       "      <td>NaN</td>\n",
       "      <td>0.080333</td>\n",
       "    </tr>\n",
       "    <tr>\n",
       "      <th>2017-11-07 09:15:03.117967321</th>\n",
       "      <td>100.174839</td>\n",
       "      <td>NaN</td>\n",
       "    </tr>\n",
       "    <tr>\n",
       "      <th>2017-11-07 09:15:07.187522665</th>\n",
       "      <td>NaN</td>\n",
       "      <td>0.067826</td>\n",
       "    </tr>\n",
       "    <tr>\n",
       "      <th>2017-11-13 09:06:27.827560658</th>\n",
       "      <td>1232.303699</td>\n",
       "      <td>NaN</td>\n",
       "    </tr>\n",
       "    <tr>\n",
       "      <th>2017-11-13 09:06:31.927732218</th>\n",
       "      <td>NaN</td>\n",
       "      <td>0.068336</td>\n",
       "    </tr>\n",
       "    <tr>\n",
       "      <th>2017-11-15 09:06:13.310815738</th>\n",
       "      <td>45.033497</td>\n",
       "      <td>NaN</td>\n",
       "    </tr>\n",
       "    <tr>\n",
       "      <th>2017-11-15 09:06:17.460773197</th>\n",
       "      <td>NaN</td>\n",
       "      <td>0.069166</td>\n",
       "    </tr>\n",
       "    <tr>\n",
       "      <th rowspan=\"5\" valign=\"top\">10</th>\n",
       "      <th>2017-11-05 10:09:56.028019458</th>\n",
       "      <td>NaN</td>\n",
       "      <td>4111.990350</td>\n",
       "    </tr>\n",
       "    <tr>\n",
       "      <th>2017-11-07 10:44:06.308105092</th>\n",
       "      <td>88.985343</td>\n",
       "      <td>NaN</td>\n",
       "    </tr>\n",
       "    <tr>\n",
       "      <th>2017-11-07 10:44:10.367584865</th>\n",
       "      <td>NaN</td>\n",
       "      <td>0.067658</td>\n",
       "    </tr>\n",
       "    <tr>\n",
       "      <th>2017-11-14 10:06:51.708509903</th>\n",
       "      <td>197.780333</td>\n",
       "      <td>NaN</td>\n",
       "    </tr>\n",
       "    <tr>\n",
       "      <th>2017-11-14 10:06:56.678555976</th>\n",
       "      <td>NaN</td>\n",
       "      <td>0.082834</td>\n",
       "    </tr>\n",
       "    <tr>\n",
       "      <th rowspan=\"2\" valign=\"top\">11</th>\n",
       "      <th>2017-11-02 11:47:59.497337261</th>\n",
       "      <td>1311.629503</td>\n",
       "      <td>NaN</td>\n",
       "    </tr>\n",
       "    <tr>\n",
       "      <th>2017-11-02 11:48:03.566975147</th>\n",
       "      <td>NaN</td>\n",
       "      <td>0.067827</td>\n",
       "    </tr>\n",
       "    <tr>\n",
       "      <th>12</th>\n",
       "      <th>2017-11-10 12:37:38.255481838</th>\n",
       "      <td>249.324154</td>\n",
       "      <td>NaN</td>\n",
       "    </tr>\n",
       "    <tr>\n",
       "      <th>...</th>\n",
       "      <th>...</th>\n",
       "      <td>...</td>\n",
       "      <td>...</td>\n",
       "    </tr>\n",
       "    <tr>\n",
       "      <th rowspan=\"5\" valign=\"top\">14</th>\n",
       "      <th>2017-11-14 14:04:01.748716840</th>\n",
       "      <td>NaN</td>\n",
       "      <td>0.081996</td>\n",
       "    </tr>\n",
       "    <tr>\n",
       "      <th>2017-11-14 14:22:26.568554604</th>\n",
       "      <td>18.413664</td>\n",
       "      <td>NaN</td>\n",
       "    </tr>\n",
       "    <tr>\n",
       "      <th>2017-11-14 14:22:39.098895163</th>\n",
       "      <td>NaN</td>\n",
       "      <td>0.208839</td>\n",
       "    </tr>\n",
       "    <tr>\n",
       "      <th>2017-11-15 14:52:55.860824916</th>\n",
       "      <td>108.944666</td>\n",
       "      <td>NaN</td>\n",
       "    </tr>\n",
       "    <tr>\n",
       "      <th>2017-11-15 14:53:13.750775380</th>\n",
       "      <td>NaN</td>\n",
       "      <td>0.298166</td>\n",
       "    </tr>\n",
       "    <tr>\n",
       "      <th rowspan=\"14\" valign=\"top\">15</th>\n",
       "      <th>2017-11-06 15:15:04.356189651</th>\n",
       "      <td>346.672339</td>\n",
       "      <td>NaN</td>\n",
       "    </tr>\n",
       "    <tr>\n",
       "      <th>2017-11-06 15:16:09.346145143</th>\n",
       "      <td>NaN</td>\n",
       "      <td>1.083166</td>\n",
       "    </tr>\n",
       "    <tr>\n",
       "      <th>2017-11-14 15:26:42.908375370</th>\n",
       "      <td>64.063491</td>\n",
       "      <td>NaN</td>\n",
       "    </tr>\n",
       "    <tr>\n",
       "      <th>2017-11-14 15:27:45.748434112</th>\n",
       "      <td>NaN</td>\n",
       "      <td>1.047334</td>\n",
       "    </tr>\n",
       "    <tr>\n",
       "      <th>2017-11-14 15:33:01.988816143</th>\n",
       "      <td>5.270673</td>\n",
       "      <td>NaN</td>\n",
       "    </tr>\n",
       "    <tr>\n",
       "      <th>2017-11-14 15:33:10.769070708</th>\n",
       "      <td>NaN</td>\n",
       "      <td>0.146338</td>\n",
       "    </tr>\n",
       "    <tr>\n",
       "      <th>2017-11-14 15:40:57.118532925</th>\n",
       "      <td>7.772491</td>\n",
       "      <td>NaN</td>\n",
       "    </tr>\n",
       "    <tr>\n",
       "      <th>2017-11-14 15:41:05.888492337</th>\n",
       "      <td>NaN</td>\n",
       "      <td>0.146166</td>\n",
       "    </tr>\n",
       "    <tr>\n",
       "      <th>2017-11-14 15:45:58.908863249</th>\n",
       "      <td>4.883673</td>\n",
       "      <td>NaN</td>\n",
       "    </tr>\n",
       "    <tr>\n",
       "      <th>2017-11-14 15:46:12.188457985</th>\n",
       "      <td>NaN</td>\n",
       "      <td>0.221327</td>\n",
       "    </tr>\n",
       "    <tr>\n",
       "      <th>2017-11-14 15:50:43.138611257</th>\n",
       "      <td>4.515836</td>\n",
       "      <td>NaN</td>\n",
       "    </tr>\n",
       "    <tr>\n",
       "      <th>2017-11-14 15:50:47.338639331</th>\n",
       "      <td>NaN</td>\n",
       "      <td>0.070000</td>\n",
       "    </tr>\n",
       "    <tr>\n",
       "      <th>2017-11-15 15:28:06.660887843</th>\n",
       "      <td>34.881835</td>\n",
       "      <td>NaN</td>\n",
       "    </tr>\n",
       "    <tr>\n",
       "      <th>2017-11-15 15:28:24.550794137</th>\n",
       "      <td>NaN</td>\n",
       "      <td>0.298165</td>\n",
       "    </tr>\n",
       "    <tr>\n",
       "      <th rowspan=\"4\" valign=\"top\">16</th>\n",
       "      <th>2017-11-06 16:07:25.465789431</th>\n",
       "      <td>51.268661</td>\n",
       "      <td>NaN</td>\n",
       "    </tr>\n",
       "    <tr>\n",
       "      <th>2017-11-06 16:07:31.055757995</th>\n",
       "      <td>NaN</td>\n",
       "      <td>0.093166</td>\n",
       "    </tr>\n",
       "    <tr>\n",
       "      <th>2017-11-14 16:33:04.308709787</th>\n",
       "      <td>42.282835</td>\n",
       "      <td>NaN</td>\n",
       "    </tr>\n",
       "    <tr>\n",
       "      <th>2017-11-14 16:33:47.318957457</th>\n",
       "      <td>NaN</td>\n",
       "      <td>0.716837</td>\n",
       "    </tr>\n",
       "    <tr>\n",
       "      <th rowspan=\"5\" valign=\"top\">17</th>\n",
       "      <th>2017-11-06 17:06:30.345846389</th>\n",
       "      <td>58.988168</td>\n",
       "      <td>NaN</td>\n",
       "    </tr>\n",
       "    <tr>\n",
       "      <th>2017-11-06 17:06:58.785841527</th>\n",
       "      <td>NaN</td>\n",
       "      <td>0.474000</td>\n",
       "    </tr>\n",
       "    <tr>\n",
       "      <th>2017-11-14 17:11:59.798948935</th>\n",
       "      <td>NaN</td>\n",
       "      <td>38.208000</td>\n",
       "    </tr>\n",
       "    <tr>\n",
       "      <th>2017-11-14 17:17:07.338493602</th>\n",
       "      <td>5.125659</td>\n",
       "      <td>NaN</td>\n",
       "    </tr>\n",
       "    <tr>\n",
       "      <th>2017-11-14 17:17:24.478432438</th>\n",
       "      <td>NaN</td>\n",
       "      <td>0.285666</td>\n",
       "    </tr>\n",
       "    <tr>\n",
       "      <th rowspan=\"2\" valign=\"top\">18</th>\n",
       "      <th>2017-11-05 18:11:49.545783324</th>\n",
       "      <td>481.891963</td>\n",
       "      <td>NaN</td>\n",
       "    </tr>\n",
       "    <tr>\n",
       "      <th>2017-11-05 18:12:00.385854378</th>\n",
       "      <td>NaN</td>\n",
       "      <td>0.180668</td>\n",
       "    </tr>\n",
       "  </tbody>\n",
       "</table>\n",
       "<p>85 rows × 2 columns</p>\n",
       "</div>"
      ],
      "text/plain": [
       "object_present                                     0.0          1.0\n",
       "hour_in_day time                                                   \n",
       "6           2017-11-10 06:55:28.155283883          NaN  4091.296462\n",
       "            2017-11-14 06:48:58.468421874  1031.611185          NaN\n",
       "            2017-11-14 06:49:04.888539829          NaN     0.107002\n",
       "7           2017-11-07 07:32:11.957655629   865.219530          NaN\n",
       "            2017-11-07 07:32:16.028099725          NaN     0.067841\n",
       "            2017-11-07 07:34:45.707877516     2.494663          NaN\n",
       "            2017-11-07 07:34:52.047706306          NaN     0.105664\n",
       "            2017-11-07 07:34:52.627602866          NaN     0.009665\n",
       "8           2017-11-10 08:28:14.685481404    92.775503          NaN\n",
       "            2017-11-10 08:28:18.806224720          NaN     0.068679\n",
       "            2017-11-15 08:20:55.020831183   903.509040          NaN\n",
       "            2017-11-15 08:21:11.300985872          NaN     0.271336\n",
       "9           2017-11-01 09:30:13.587183270          NaN          NaN\n",
       "            2017-11-01 09:30:19.207188223          NaN     0.093667\n",
       "            2017-11-06 09:28:19.195885103   916.313501          NaN\n",
       "            2017-11-06 09:28:24.015835148          NaN     0.080333\n",
       "            2017-11-07 09:15:03.117967321   100.174839          NaN\n",
       "            2017-11-07 09:15:07.187522665          NaN     0.067826\n",
       "            2017-11-13 09:06:27.827560658  1232.303699          NaN\n",
       "            2017-11-13 09:06:31.927732218          NaN     0.068336\n",
       "            2017-11-15 09:06:13.310815738    45.033497          NaN\n",
       "            2017-11-15 09:06:17.460773197          NaN     0.069166\n",
       "10          2017-11-05 10:09:56.028019458          NaN  4111.990350\n",
       "            2017-11-07 10:44:06.308105092    88.985343          NaN\n",
       "            2017-11-07 10:44:10.367584865          NaN     0.067658\n",
       "            2017-11-14 10:06:51.708509903   197.780333          NaN\n",
       "            2017-11-14 10:06:56.678555976          NaN     0.082834\n",
       "11          2017-11-02 11:47:59.497337261  1311.629503          NaN\n",
       "            2017-11-02 11:48:03.566975147          NaN     0.067827\n",
       "12          2017-11-10 12:37:38.255481838   249.324154          NaN\n",
       "...                                                ...          ...\n",
       "14          2017-11-14 14:04:01.748716840          NaN     0.081996\n",
       "            2017-11-14 14:22:26.568554604    18.413664          NaN\n",
       "            2017-11-14 14:22:39.098895163          NaN     0.208839\n",
       "            2017-11-15 14:52:55.860824916   108.944666          NaN\n",
       "            2017-11-15 14:53:13.750775380          NaN     0.298166\n",
       "15          2017-11-06 15:15:04.356189651   346.672339          NaN\n",
       "            2017-11-06 15:16:09.346145143          NaN     1.083166\n",
       "            2017-11-14 15:26:42.908375370    64.063491          NaN\n",
       "            2017-11-14 15:27:45.748434112          NaN     1.047334\n",
       "            2017-11-14 15:33:01.988816143     5.270673          NaN\n",
       "            2017-11-14 15:33:10.769070708          NaN     0.146338\n",
       "            2017-11-14 15:40:57.118532925     7.772491          NaN\n",
       "            2017-11-14 15:41:05.888492337          NaN     0.146166\n",
       "            2017-11-14 15:45:58.908863249     4.883673          NaN\n",
       "            2017-11-14 15:46:12.188457985          NaN     0.221327\n",
       "            2017-11-14 15:50:43.138611257     4.515836          NaN\n",
       "            2017-11-14 15:50:47.338639331          NaN     0.070000\n",
       "            2017-11-15 15:28:06.660887843    34.881835          NaN\n",
       "            2017-11-15 15:28:24.550794137          NaN     0.298165\n",
       "16          2017-11-06 16:07:25.465789431    51.268661          NaN\n",
       "            2017-11-06 16:07:31.055757995          NaN     0.093166\n",
       "            2017-11-14 16:33:04.308709787    42.282835          NaN\n",
       "            2017-11-14 16:33:47.318957457          NaN     0.716837\n",
       "17          2017-11-06 17:06:30.345846389    58.988168          NaN\n",
       "            2017-11-06 17:06:58.785841527          NaN     0.474000\n",
       "            2017-11-14 17:11:59.798948935          NaN    38.208000\n",
       "            2017-11-14 17:17:07.338493602     5.125659          NaN\n",
       "            2017-11-14 17:17:24.478432438          NaN     0.285666\n",
       "18          2017-11-05 18:11:49.545783324   481.891963          NaN\n",
       "            2017-11-05 18:12:00.385854378          NaN     0.180668\n",
       "\n",
       "[85 rows x 2 columns]"
      ]
     },
     "execution_count": 166,
     "metadata": {},
     "output_type": "execute_result"
    }
   ],
   "source": [
    "pd.pivot_table(tr, values='duration_minutes', index=['hour_in_day', tr.index], columns=['object_present'])"
   ]
  },
  {
   "cell_type": "code",
   "execution_count": 167,
   "metadata": {
    "slideshow": {
     "slide_type": "subslide"
    }
   },
   "outputs": [
    {
     "data": {
      "text/html": [
       "<div>\n",
       "<style scoped>\n",
       "    .dataframe tbody tr th:only-of-type {\n",
       "        vertical-align: middle;\n",
       "    }\n",
       "\n",
       "    .dataframe tbody tr th {\n",
       "        vertical-align: top;\n",
       "    }\n",
       "\n",
       "    .dataframe thead th {\n",
       "        text-align: right;\n",
       "    }\n",
       "</style>\n",
       "<table border=\"1\" class=\"dataframe\">\n",
       "  <thead>\n",
       "    <tr style=\"text-align: right;\">\n",
       "      <th></th>\n",
       "      <th>object_present</th>\n",
       "      <th>0.0</th>\n",
       "      <th>1.0</th>\n",
       "    </tr>\n",
       "    <tr>\n",
       "      <th>hour_in_day</th>\n",
       "      <th>weekday</th>\n",
       "      <th></th>\n",
       "      <th></th>\n",
       "    </tr>\n",
       "  </thead>\n",
       "  <tbody>\n",
       "    <tr>\n",
       "      <th rowspan=\"2\" valign=\"top\">6</th>\n",
       "      <th>1</th>\n",
       "      <td>1031.611185</td>\n",
       "      <td>0.107002</td>\n",
       "    </tr>\n",
       "    <tr>\n",
       "      <th>4</th>\n",
       "      <td>NaN</td>\n",
       "      <td>4091.296462</td>\n",
       "    </tr>\n",
       "    <tr>\n",
       "      <th>7</th>\n",
       "      <th>1</th>\n",
       "      <td>433.857097</td>\n",
       "      <td>0.061056</td>\n",
       "    </tr>\n",
       "    <tr>\n",
       "      <th rowspan=\"2\" valign=\"top\">8</th>\n",
       "      <th>2</th>\n",
       "      <td>903.509040</td>\n",
       "      <td>0.271336</td>\n",
       "    </tr>\n",
       "    <tr>\n",
       "      <th>4</th>\n",
       "      <td>92.775503</td>\n",
       "      <td>0.068679</td>\n",
       "    </tr>\n",
       "    <tr>\n",
       "      <th rowspan=\"3\" valign=\"top\">9</th>\n",
       "      <th>0</th>\n",
       "      <td>1074.308600</td>\n",
       "      <td>0.074334</td>\n",
       "    </tr>\n",
       "    <tr>\n",
       "      <th>1</th>\n",
       "      <td>100.174839</td>\n",
       "      <td>0.067826</td>\n",
       "    </tr>\n",
       "    <tr>\n",
       "      <th>2</th>\n",
       "      <td>45.033497</td>\n",
       "      <td>0.081416</td>\n",
       "    </tr>\n",
       "    <tr>\n",
       "      <th rowspan=\"2\" valign=\"top\">10</th>\n",
       "      <th>1</th>\n",
       "      <td>143.382838</td>\n",
       "      <td>0.075246</td>\n",
       "    </tr>\n",
       "    <tr>\n",
       "      <th>6</th>\n",
       "      <td>NaN</td>\n",
       "      <td>4111.990350</td>\n",
       "    </tr>\n",
       "    <tr>\n",
       "      <th>11</th>\n",
       "      <th>3</th>\n",
       "      <td>1311.629503</td>\n",
       "      <td>0.067827</td>\n",
       "    </tr>\n",
       "    <tr>\n",
       "      <th rowspan=\"2\" valign=\"top\">12</th>\n",
       "      <th>4</th>\n",
       "      <td>249.324154</td>\n",
       "      <td>0.119167</td>\n",
       "    </tr>\n",
       "    <tr>\n",
       "      <th>6</th>\n",
       "      <td>1371.485175</td>\n",
       "      <td>0.308244</td>\n",
       "    </tr>\n",
       "    <tr>\n",
       "      <th rowspan=\"4\" valign=\"top\">13</th>\n",
       "      <th>0</th>\n",
       "      <td>135.327331</td>\n",
       "      <td>0.088249</td>\n",
       "    </tr>\n",
       "    <tr>\n",
       "      <th>2</th>\n",
       "      <td>100.650801</td>\n",
       "      <td>0.096666</td>\n",
       "    </tr>\n",
       "    <tr>\n",
       "      <th>3</th>\n",
       "      <td>109.884001</td>\n",
       "      <td>NaN</td>\n",
       "    </tr>\n",
       "    <tr>\n",
       "      <th>4</th>\n",
       "      <td>39.602001</td>\n",
       "      <td>0.068498</td>\n",
       "    </tr>\n",
       "    <tr>\n",
       "      <th rowspan=\"3\" valign=\"top\">14</th>\n",
       "      <th>1</th>\n",
       "      <td>127.708085</td>\n",
       "      <td>0.145418</td>\n",
       "    </tr>\n",
       "    <tr>\n",
       "      <th>2</th>\n",
       "      <td>108.944666</td>\n",
       "      <td>0.298166</td>\n",
       "    </tr>\n",
       "    <tr>\n",
       "      <th>4</th>\n",
       "      <td>93.077500</td>\n",
       "      <td>0.068499</td>\n",
       "    </tr>\n",
       "    <tr>\n",
       "      <th rowspan=\"3\" valign=\"top\">15</th>\n",
       "      <th>0</th>\n",
       "      <td>346.672339</td>\n",
       "      <td>1.083166</td>\n",
       "    </tr>\n",
       "    <tr>\n",
       "      <th>1</th>\n",
       "      <td>17.301233</td>\n",
       "      <td>0.326233</td>\n",
       "    </tr>\n",
       "    <tr>\n",
       "      <th>2</th>\n",
       "      <td>34.881835</td>\n",
       "      <td>0.298165</td>\n",
       "    </tr>\n",
       "    <tr>\n",
       "      <th rowspan=\"2\" valign=\"top\">16</th>\n",
       "      <th>0</th>\n",
       "      <td>51.268661</td>\n",
       "      <td>0.093166</td>\n",
       "    </tr>\n",
       "    <tr>\n",
       "      <th>1</th>\n",
       "      <td>42.282835</td>\n",
       "      <td>0.716837</td>\n",
       "    </tr>\n",
       "    <tr>\n",
       "      <th rowspan=\"2\" valign=\"top\">17</th>\n",
       "      <th>0</th>\n",
       "      <td>58.988168</td>\n",
       "      <td>0.474000</td>\n",
       "    </tr>\n",
       "    <tr>\n",
       "      <th>1</th>\n",
       "      <td>5.125659</td>\n",
       "      <td>19.246833</td>\n",
       "    </tr>\n",
       "    <tr>\n",
       "      <th>18</th>\n",
       "      <th>6</th>\n",
       "      <td>481.891963</td>\n",
       "      <td>0.180668</td>\n",
       "    </tr>\n",
       "  </tbody>\n",
       "</table>\n",
       "</div>"
      ],
      "text/plain": [
       "object_present               0.0          1.0\n",
       "hour_in_day weekday                          \n",
       "6           1        1031.611185     0.107002\n",
       "            4                NaN  4091.296462\n",
       "7           1         433.857097     0.061056\n",
       "8           2         903.509040     0.271336\n",
       "            4          92.775503     0.068679\n",
       "9           0        1074.308600     0.074334\n",
       "            1         100.174839     0.067826\n",
       "            2          45.033497     0.081416\n",
       "10          1         143.382838     0.075246\n",
       "            6                NaN  4111.990350\n",
       "11          3        1311.629503     0.067827\n",
       "12          4         249.324154     0.119167\n",
       "            6        1371.485175     0.308244\n",
       "13          0         135.327331     0.088249\n",
       "            2         100.650801     0.096666\n",
       "            3         109.884001          NaN\n",
       "            4          39.602001     0.068498\n",
       "14          1         127.708085     0.145418\n",
       "            2         108.944666     0.298166\n",
       "            4          93.077500     0.068499\n",
       "15          0         346.672339     1.083166\n",
       "            1          17.301233     0.326233\n",
       "            2          34.881835     0.298165\n",
       "16          0          51.268661     0.093166\n",
       "            1          42.282835     0.716837\n",
       "17          0          58.988168     0.474000\n",
       "            1           5.125659    19.246833\n",
       "18          6         481.891963     0.180668"
      ]
     },
     "execution_count": 167,
     "metadata": {},
     "output_type": "execute_result"
    }
   ],
   "source": [
    "tr.head()\n",
    "pd.pivot_table(tr, values='duration_minutes', index=['hour_in_day', 'weekday'], columns=['object_present'])"
   ]
  },
  {
   "cell_type": "code",
   "execution_count": null,
   "metadata": {
    "collapsed": true
   },
   "outputs": [],
   "source": []
  }
 ],
 "metadata": {
  "celltoolbar": "Slideshow",
  "kernelspec": {
   "display_name": "Python 3",
   "language": "python",
   "name": "python3"
  },
  "language_info": {
   "codemirror_mode": {
    "name": "ipython",
    "version": 3
   },
   "file_extension": ".py",
   "mimetype": "text/x-python",
   "name": "python",
   "nbconvert_exporter": "python",
   "pygments_lexer": "ipython3",
   "version": "3.6.3"
  },
  "livereveal": {
   "autolaunch": true,
   "scroll": true,
   "start_slideshow_at": "selected"
  }
 },
 "nbformat": 4,
 "nbformat_minor": 2
}
