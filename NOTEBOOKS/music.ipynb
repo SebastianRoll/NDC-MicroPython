{
 "cells": [
  {
   "cell_type": "markdown",
   "metadata": {},
   "source": [
    "# Music"
   ]
  },
  {
   "cell_type": "markdown",
   "metadata": {},
   "source": [
    "Servo and Piezoelectric speaker:\n",
    "https://micropython-on-esp8266-workshop.readthedocs.io/en/latest/basics.html#servomechanisms\n",
    "\n",
    "http://micropython-on-esp8266-workshop.readthedocs.io/en/latest/basics.html\n",
    "\n",
    "Wav to 8 bit unsigned PCM: \n",
    "\n",
    "`ffmpeg -i original-file.wav -f u8 -acodec pcm_u8 8bit-file.pcm`"
   ]
  },
  {
   "cell_type": "code",
   "execution_count": null,
   "metadata": {},
   "outputs": [],
   "source": [
    "# Extract notes from notes.h\n",
    "m = \"/home/sebastian/PycharmProjects/slides_micropython/src/music/notes.h\"\n",
    "notes = {}\n",
    "with open(m, 'r') as f:\n",
    "    for l in f:\n",
    "        l = l.split()\n",
    "        if len(l) > 0 and l[0] == '#define' and len(l)>3:\n",
    "            print(l)\n",
    "            name = l[1]\n",
    "            freq = l[5] \n",
    "            notes[name] = freq\n",
    "notes.loc['P'] = 0\n",
    "notes.loc['p'] = 0\n",
    "import pandas as pd\n",
    "df = pd.DataFrame.from_dict(notes, orient='index')\n",
    "df_int = pd.to_numeric(df[0]).astype('int32')\n",
    "df_int.to_csv(\"/home/sebastian/PycharmProjects/slides_micropython/src/music/notes.csv\")"
   ]
  },
  {
   "cell_type": "markdown",
   "metadata": {},
   "source": [
    "## DAC"
   ]
  },
  {
   "cell_type": "code",
   "execution_count": null,
   "metadata": {},
   "outputs": [],
   "source": [
    "from machine import DAC, Pin\n",
    "from time import sleep_ms\n",
    "d = DAC(Pin(25))"
   ]
  },
  {
   "cell_type": "code",
   "execution_count": null,
   "metadata": {},
   "outputs": [],
   "source": []
  },
  {
   "cell_type": "code",
   "execution_count": 20,
   "metadata": {},
   "outputs": [
    {
     "name": "stdout",
     "output_type": "stream",
     "text": [
      "Traceback (most recent call last):\r\n",
      "  File \"<stdin>\", line 11, in <module>\r\n",
      "AttributeError: type object 'DAC' has no attribute 'NORMAL'\r\n"
     ]
    }
   ],
   "source": [
    "#http://docs.micropython.org/en/latest/esp8266/library/pyb.DAC.html\n",
    "\n",
    "import math\n",
    "\n",
    "# create a buffer containing a sine-wave\n",
    "buf = bytearray(100)\n",
    "for i in range(len(buf)):\n",
    "    buf[i] = 128 + int(127 * math.sin(2 * math.pi * i / len(buf)))\n",
    "\n",
    "for n in buf:\n",
    "    d.write(n)\n",
    "    sleep_ms(1)\n",
    "# output the sine-wave at 400Hz\n",
    "d.write(buf, 400 * len(buf), mode=DAC.CIRCULAR)"
   ]
  },
  {
   "cell_type": "code",
   "execution_count": 21,
   "metadata": {},
   "outputs": [
    {
     "name": "stdout",
     "output_type": "stream",
     "text": [
      "['__class__', 'write'] ['__class__', '__name__', 'write']\r\n"
     ]
    }
   ],
   "source": [
    "print(dir(d), dir(DAC))"
   ]
  }
 ],
 "metadata": {
  "kernelspec": {
   "display_name": "MicroPython - /dev/ttyUSB3",
   "language": "micropython",
   "name": "micropython-ttyusb3"
  },
  "language_info": {
   "file_extension": ".py",
   "mimetype": "text/x-python",
   "name": "python"
  }
 },
 "nbformat": 4,
 "nbformat_minor": 2
}
