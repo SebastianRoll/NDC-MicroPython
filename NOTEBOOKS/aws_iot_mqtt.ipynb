{
 "cells": [
  {
   "cell_type": "code",
   "execution_count": 2,
   "metadata": {},
   "outputs": [
    {
     "name": "stdout",
     "output_type": "stream",
     "text": [
      "Collecting AWSIoTPythonSDK\n",
      "  Downloading https://files.pythonhosted.org/packages/e4/af/2cc14c4c9a0e1397f0f6c571277f997936f88c2e2c6a3a388640a200f829/AWSIoTPythonSDK-1.3.1.tar.gz (70kB)\n",
      "Building wheels for collected packages: AWSIoTPythonSDK\n",
      "  Running setup.py bdist_wheel for AWSIoTPythonSDK: started\n",
      "  Running setup.py bdist_wheel for AWSIoTPythonSDK: finished with status 'done'\n",
      "  Stored in directory: /home/sebastian/.cache/pip/wheels/bb/15/55/cb48293eb01350e3474c8cd830fd0efd1f0e1c1874deb3a40e\n",
      "Successfully built AWSIoTPythonSDK\n",
      "Installing collected packages: AWSIoTPythonSDK\n",
      "Successfully installed AWSIoTPythonSDK-1.3.1\n"
     ]
    },
    {
     "name": "stderr",
     "output_type": "stream",
     "text": [
      "You are using pip version 9.0.1, however version 10.0.1 is available.\n",
      "You should consider upgrading via the 'pip install --upgrade pip' command.\n"
     ]
    }
   ],
   "source": [
    "%%bash\n",
    "pip install AWSIoTPythonSDK"
   ]
  },
  {
   "cell_type": "code",
   "execution_count": 15,
   "metadata": {},
   "outputs": [],
   "source": [
    "# Import SDK packages\n",
    "from AWSIoTPythonSDK.MQTTLib import AWSIoTMQTTClient\n",
    "\n",
    "\n",
    "# For certificate based connection\n",
    "myMQTTClient = AWSIoTMQTTClient(\"black\")\n",
    "# For Websocket connection\n",
    "# myMQTTClient = AWSIoTMQTTClient(\"myClientID\", useWebsocket=True)\n",
    "# Configurations\n",
    "# For TLS mutual authentication\n",
    "myMQTTClient.configureEndpoint(\"av8niy97wewyw.iot.eu-west-1.amazonaws.com\", 8883)\n",
    "# For Websocket\n",
    "# myMQTTClient.configureEndpoint(\"YOUR.ENDPOINT\", 443)\n",
    "myMQTTClient.configureCredentials(\"/home/sebastian/PycharmProjects/webstep-office-sensors/sensors/aws-root-ca.txt\", \n",
    "                                  \"/home/sebastian/PycharmProjects/webstep-office-sensors/sensors/black/7d76855907-private.pem.key\", \n",
    "                                  \"/home/sebastian/PycharmProjects/webstep-office-sensors/sensors/black/7d76855907-certificate.pem.crt\")\n",
    "# For Websocket, we only need to configure the root CA\n",
    "# myMQTTClient.configureCredentials(\"YOUR/ROOT/CA/PATH\")\n",
    "myMQTTClient.configureOfflinePublishQueueing(-1)  # Infinite offline Publish queueing\n",
    "myMQTTClient.configureDrainingFrequency(2)  # Draining: 2 Hz\n",
    "myMQTTClient.configureConnectDisconnectTimeout(10)  # 10 sec\n",
    "myMQTTClient.configureMQTTOperationTimeout(5)  # 5 sec"
   ]
  },
  {
   "cell_type": "code",
   "execution_count": 16,
   "metadata": {},
   "outputs": [
    {
     "name": "stderr",
     "output_type": "stream",
     "text": [
      "Connect timed out\n"
     ]
    },
    {
     "ename": "connectTimeoutException",
     "evalue": "",
     "output_type": "error",
     "traceback": [
      "\u001b[0;31m---------------------------------------------------------------------------\u001b[0m",
      "\u001b[0;31mconnectTimeoutException\u001b[0m                   Traceback (most recent call last)",
      "\u001b[0;32m<ipython-input-16-2e5ab67499f1>\u001b[0m in \u001b[0;36m<module>\u001b[0;34m()\u001b[0m\n\u001b[0;32m----> 1\u001b[0;31m \u001b[0mmyMQTTClient\u001b[0m\u001b[0;34m.\u001b[0m\u001b[0mconnect\u001b[0m\u001b[0;34m(\u001b[0m\u001b[0;34m)\u001b[0m\u001b[0;34m\u001b[0m\u001b[0m\n\u001b[0m\u001b[1;32m      2\u001b[0m \u001b[0mmyMQTTClient\u001b[0m\u001b[0;34m.\u001b[0m\u001b[0mpublish\u001b[0m\u001b[0;34m(\u001b[0m\u001b[0;34m\"black\"\u001b[0m\u001b[0;34m,\u001b[0m \u001b[0;34m'{\"b\": \"myPayload\"}'\u001b[0m\u001b[0;34m,\u001b[0m \u001b[0;36m0\u001b[0m\u001b[0;34m)\u001b[0m\u001b[0;34m\u001b[0m\u001b[0m\n\u001b[1;32m      3\u001b[0m \u001b[0;31m#myMQTTClient.subscribe(\"black\", 1, customCallback)\u001b[0m\u001b[0;34m\u001b[0m\u001b[0;34m\u001b[0m\u001b[0m\n\u001b[1;32m      4\u001b[0m \u001b[0;31m#myMQTTClient.unsubscribe(\"myTopic\")\u001b[0m\u001b[0;34m\u001b[0m\u001b[0;34m\u001b[0m\u001b[0m\n\u001b[1;32m      5\u001b[0m \u001b[0mmyMQTTClient\u001b[0m\u001b[0;34m.\u001b[0m\u001b[0mdisconnect\u001b[0m\u001b[0;34m(\u001b[0m\u001b[0;34m)\u001b[0m\u001b[0;34m\u001b[0m\u001b[0m\n",
      "\u001b[0;32m/home/sebastian/anaconda3/lib/python3.6/site-packages/AWSIoTPythonSDK/MQTTLib.py\u001b[0m in \u001b[0;36mconnect\u001b[0;34m(self, keepAliveIntervalSecond)\u001b[0m\n\u001b[1;32m    479\u001b[0m         \"\"\"\n\u001b[1;32m    480\u001b[0m         \u001b[0mself\u001b[0m\u001b[0;34m.\u001b[0m\u001b[0m_load_callbacks\u001b[0m\u001b[0;34m(\u001b[0m\u001b[0;34m)\u001b[0m\u001b[0;34m\u001b[0m\u001b[0m\n\u001b[0;32m--> 481\u001b[0;31m         \u001b[0;32mreturn\u001b[0m \u001b[0mself\u001b[0m\u001b[0;34m.\u001b[0m\u001b[0m_mqtt_core\u001b[0m\u001b[0;34m.\u001b[0m\u001b[0mconnect\u001b[0m\u001b[0;34m(\u001b[0m\u001b[0mkeepAliveIntervalSecond\u001b[0m\u001b[0;34m)\u001b[0m\u001b[0;34m\u001b[0m\u001b[0m\n\u001b[0m\u001b[1;32m    482\u001b[0m \u001b[0;34m\u001b[0m\u001b[0m\n\u001b[1;32m    483\u001b[0m     \u001b[0;32mdef\u001b[0m \u001b[0mconnectAsync\u001b[0m\u001b[0;34m(\u001b[0m\u001b[0mself\u001b[0m\u001b[0;34m,\u001b[0m \u001b[0mkeepAliveIntervalSecond\u001b[0m\u001b[0;34m=\u001b[0m\u001b[0;36m600\u001b[0m\u001b[0;34m,\u001b[0m \u001b[0mackCallback\u001b[0m\u001b[0;34m=\u001b[0m\u001b[0;32mNone\u001b[0m\u001b[0;34m)\u001b[0m\u001b[0;34m:\u001b[0m\u001b[0;34m\u001b[0m\u001b[0m\n",
      "\u001b[0;32m/home/sebastian/anaconda3/lib/python3.6/site-packages/AWSIoTPythonSDK/core/protocol/mqtt_core.py\u001b[0m in \u001b[0;36mconnect\u001b[0;34m(self, keep_alive_sec)\u001b[0m\n\u001b[1;32m    184\u001b[0m         \u001b[0;32mif\u001b[0m \u001b[0;32mnot\u001b[0m \u001b[0mevent\u001b[0m\u001b[0;34m.\u001b[0m\u001b[0mwait\u001b[0m\u001b[0;34m(\u001b[0m\u001b[0mself\u001b[0m\u001b[0;34m.\u001b[0m\u001b[0m_connect_disconnect_timeout_sec\u001b[0m\u001b[0;34m)\u001b[0m\u001b[0;34m:\u001b[0m\u001b[0;34m\u001b[0m\u001b[0m\n\u001b[1;32m    185\u001b[0m             \u001b[0mself\u001b[0m\u001b[0;34m.\u001b[0m\u001b[0m_logger\u001b[0m\u001b[0;34m.\u001b[0m\u001b[0merror\u001b[0m\u001b[0;34m(\u001b[0m\u001b[0;34m\"Connect timed out\"\u001b[0m\u001b[0;34m)\u001b[0m\u001b[0;34m\u001b[0m\u001b[0m\n\u001b[0;32m--> 186\u001b[0;31m             \u001b[0;32mraise\u001b[0m \u001b[0mconnectTimeoutException\u001b[0m\u001b[0;34m(\u001b[0m\u001b[0;34m)\u001b[0m\u001b[0;34m\u001b[0m\u001b[0m\n\u001b[0m\u001b[1;32m    187\u001b[0m         \u001b[0;32mreturn\u001b[0m \u001b[0;32mTrue\u001b[0m\u001b[0;34m\u001b[0m\u001b[0m\n\u001b[1;32m    188\u001b[0m \u001b[0;34m\u001b[0m\u001b[0m\n",
      "\u001b[0;31mconnectTimeoutException\u001b[0m: "
     ]
    }
   ],
   "source": [
    "myMQTTClient.connect()\n",
    "myMQTTClient.publish(\"black\", '{\"b\": \"myPayload\"}', 0)\n",
    "#myMQTTClient.subscribe(\"black\", 1, customCallback)\n",
    "#myMQTTClient.unsubscribe(\"myTopic\")\n",
    "myMQTTClient.disconnect()"
   ]
  },
  {
   "cell_type": "code",
   "execution_count": null,
   "metadata": {},
   "outputs": [],
   "source": []
  }
 ],
 "metadata": {
  "kernelspec": {
   "display_name": "Python 3",
   "language": "python",
   "name": "python3"
  },
  "language_info": {
   "codemirror_mode": {
    "name": "ipython",
    "version": 3
   },
   "file_extension": ".py",
   "mimetype": "text/x-python",
   "name": "python",
   "nbconvert_exporter": "python",
   "pygments_lexer": "ipython3",
   "version": "3.6.3"
  }
 },
 "nbformat": 4,
 "nbformat_minor": 2
}
