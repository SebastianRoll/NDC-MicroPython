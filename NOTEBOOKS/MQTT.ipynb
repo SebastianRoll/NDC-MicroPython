{
 "cells": [
  {
   "cell_type": "code",
   "execution_count": 23,
   "metadata": {},
   "outputs": [
    {
     "name": "stdout",
     "output_type": "stream",
     "text": []
    }
   ],
   "source": [
    "import network\n",
    "\n",
    "def connect(ssid, password):\n",
    "    wlan = network.WLAN(network.STA_IF)\n",
    "    wlan.active(True)\n",
    "    wlan.connect(ssid, password)\n"
   ]
  },
  {
   "cell_type": "code",
   "execution_count": 24,
   "metadata": {},
   "outputs": [
    {
     "name": "stdout",
     "output_type": "stream",
     "text": []
    }
   ],
   "source": [
    "connect('HackheimWifi', 'TeletextFTW')"
   ]
  },
  {
   "cell_type": "code",
   "execution_count": 31,
   "metadata": {},
   "outputs": [
    {
     "name": "stdout",
     "output_type": "stream",
     "text": [
      "False\r\n",
      "('192.168.4.1', '255.255.255.0', '192.168.4.1', '0.0.0.0')\r\n",
      "True\r\n",
      "('10.20.30.85', '255.255.255.0', '10.20.30.1', '10.20.30.1')\r\n"
     ]
    }
   ],
   "source": [
    "ap_if = network.WLAN(network.AP_IF)\n",
    "print(ap_if.active())\n",
    "print(ap_if.ifconfig())\n",
    "\n",
    "\n",
    "sta_if = network.WLAN(network.STA_IF)\n",
    "print(sta_if.active())\n",
    "print(sta_if.ifconfig())"
   ]
  },
  {
   "cell_type": "code",
   "execution_count": 1,
   "metadata": {},
   "outputs": [
    {
     "name": "stdout",
     "output_type": "stream",
     "text": []
    }
   ],
   "source": [
    "import socket"
   ]
  },
  {
   "cell_type": "code",
   "execution_count": 2,
   "metadata": {},
   "outputs": [
    {
     "name": "stdout",
     "output_type": "stream",
     "text": []
    }
   ],
   "source": [
    "def http_get(url):\n",
    "    _, _, host, path = url.split('/', 3)\n",
    "    addr = socket.getaddrinfo(host, 80)[0][-1]\n",
    "    s = socket.socket()\n",
    "    s.connect(addr)\n",
    "    s.send(bytes('GET /%s HTTP/1.0\\r\\nHost: %s\\r\\n\\r\\n' % (path, host), 'utf8'))\n",
    "    while True:\n",
    "        data = s.recv(100)\n",
    "        if data:\n",
    "            print(str(data, 'utf8'), end='')\n",
    "        else:\n",
    "            break\n",
    "    s.close()"
   ]
  },
  {
   "cell_type": "code",
   "execution_count": 3,
   "metadata": {},
   "outputs": [
    {
     "name": "stdout",
     "output_type": "stream",
     "text": [
      "HTTP/1.1 200 OK\r",
      "\r\n",
      "Server: nginx/1.12.2\r",
      "\r\n",
      "Date: Sat, 19 May 2018 19:50:12 GMT\r",
      "\r\n",
      "Content-Type: text/html\r",
      "\r\n",
      "Content-Length: 180\r",
      "\r\n",
      "Last-Modified: Tue, 03 Dec 2013 00:16:26 GMT\r",
      "\r\n",
      "Connection: close\r",
      "\r\n",
      "Vary: Accept-Encoding\r",
      "\r\n",
      "ETag: \"529d22da-b4\"\r",
      "\r\n",
      "Accept-Ranges: bytes\r",
      "\r\n",
      "\r",
      "\r\n",
      "<!DOCTYPE html>\r\n",
      "<html lang=\"en\">\r\n",
      "    <head>\r\n",
      "        <title>Test</title>\r\n",
      "    </head>\r\n",
      "    <body>\r\n",
      "        <h1>Test</h1>\r\n",
      "        It's working if you can read this!\r\n",
      "    </body>\r\n",
      "</html>\r\n"
     ]
    }
   ],
   "source": [
    "http_get('http://micropython.org/ks/test.html')"
   ]
  },
  {
   "cell_type": "code",
   "execution_count": null,
   "metadata": {},
   "outputs": [],
   "source": [
    "addr_info = socket.getaddrinfo(\"towel.blinkenlights.nl\", 23)\n",
    "addr = addr_info[0][-1]\n",
    "print(addr)\n",
    "s = socket.socket()\n",
    "s.connect(addr)\n",
    "while True:\n",
    "    data = s.recv(500)\n",
    "    print(str(data, 'utf8'), end='')"
   ]
  },
  {
   "cell_type": "code",
   "execution_count": 5,
   "metadata": {},
   "outputs": [
    {
     "name": "stdout",
     "output_type": "stream",
     "text": [
      "1\r\n"
     ]
    }
   ],
   "source": [
    "print(1)"
   ]
  },
  {
   "cell_type": "code",
   "execution_count": 4,
   "metadata": {},
   "outputs": [
    {
     "name": "stdout",
     "output_type": "stream",
     "text": [
      "upip - Simple PyPI package manager for MicroPython\r\n",
      "Usage: micropython -m upip install [-p <path>] <package>... | -r <requirements.txt>\r\n",
      "import upip; upip.install(package_or_list, [<path>])\r\n",
      "\r\n",
      "If <path> is not given, packages will be installed into sys.path[1]\r\n",
      "(can be set from MICROPYPATH environment variable, if current system\r\n",
      "supports that).\r\n",
      "Current value of sys.path[1]: /lib\r\n",
      "\r\n",
      "Note: only MicroPython packages (usually, named micropython-*) are supported\r\n",
      "for installation, upip does not support arbitrary code in setup.py.\r\n",
      "\r\n"
     ]
    }
   ],
   "source": [
    "import upip\n",
    "upip.help()"
   ]
  },
  {
   "cell_type": "code",
   "execution_count": 5,
   "metadata": {},
   "outputs": [
    {
     "name": "stdout",
     "output_type": "stream",
     "text": [
      "Installing to: /lib/\r\n",
      "Warning: pypi.python.org SSL certificate is not validated\r\n",
      "Error installing 'micropython-logging': Package not found, packages may be partially installed\r\n"
     ]
    }
   ],
   "source": [
    "upip.install('micropython-logging')"
   ]
  },
  {
   "cell_type": "code",
   "execution_count": 9,
   "metadata": {},
   "outputs": [
    {
     "name": "stdout",
     "output_type": "stream",
     "text": [
      "Installing to: /lib/\r\n",
      "Error installing 'micropython-uasyncio': list index out of range, packages may be partially installed\r\n"
     ]
    }
   ],
   "source": [
    "upip.install('micropython-uasyncio')"
   ]
  },
  {
   "cell_type": "code",
   "execution_count": 6,
   "metadata": {},
   "outputs": [
    {
     "name": "stdout",
     "output_type": "stream",
     "text": [
      "Installing to: /lib/\r\n",
      "Error installing 'micropython-umqtt.simple': Package not found, packages may be partially installed\r\n"
     ]
    }
   ],
   "source": [
    "upip.install('micropython-umqtt.simple')"
   ]
  },
  {
   "cell_type": "code",
   "execution_count": 7,
   "metadata": {},
   "outputs": [
    {
     "name": "stdout",
     "output_type": "stream",
     "text": [
      "Installing to: /lib/\r\n",
      "Error installing 'micropython-umqtt.robust': list index out of range, packages may be partially installed\r\n"
     ]
    }
   ],
   "source": [
    "upip.install('micropython-umqtt.robust')"
   ]
  },
  {
   "cell_type": "code",
   "execution_count": 2,
   "metadata": {},
   "outputs": [
    {
     "name": "stdout",
     "output_type": "stream",
     "text": []
    }
   ],
   "source": [
    "from machine import Pin"
   ]
  },
  {
   "cell_type": "code",
   "execution_count": 3,
   "metadata": {},
   "outputs": [
    {
     "name": "stdout",
     "output_type": "stream",
     "text": []
    }
   ],
   "source": [
    "p = Pin(16, Pin.IN, Pin.PULL_UP)"
   ]
  },
  {
   "cell_type": "code",
   "execution_count": 121,
   "metadata": {},
   "outputs": [
    {
     "name": "stdout",
     "output_type": "stream",
     "text": [
      "1\r\n"
     ]
    }
   ],
   "source": [
    "print(p.value())"
   ]
  }
 ],
 "metadata": {
  "kernelspec": {
   "display_name": "MicroPython - /dev/ttyUSB2",
   "language": "micropython",
   "name": "micropython-ttyusb2"
  },
  "language_info": {
   "file_extension": ".py",
   "mimetype": "text/x-python",
   "name": "python"
  }
 },
 "nbformat": 4,
 "nbformat_minor": 2
}
