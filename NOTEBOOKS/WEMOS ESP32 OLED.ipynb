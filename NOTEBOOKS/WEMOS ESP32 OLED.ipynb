{
 "cells": [
  {
   "cell_type": "markdown",
   "metadata": {},
   "source": [
    "## Pinout\n",
    "\n",
    "scl is pin 4, sda is pin 5"
   ]
  },
  {
   "cell_type": "code",
   "execution_count": null,
   "metadata": {},
   "outputs": [],
   "source": [
    "!bash\n",
    "wget https://raw.githubusercontent.com/adafruit/micropython-adafruit-ssd1306/master/ssd1306.py > ssd1306.py"
   ]
  },
  {
   "cell_type": "code",
   "execution_count": 1,
   "metadata": {},
   "outputs": [
    {
     "name": "stdout",
     "output_type": "stream",
     "text": []
    }
   ],
   "source": [
    "class Oled():\n",
    "    def __init__(self):\n",
    "        import machine, ssd1306\n",
    "        i2c = machine.I2C(scl=machine.Pin(4), sda=machine.Pin(5))\n",
    "        oled = ssd1306.SSD1306_I2C(128, 64, i2c)\n",
    "        oled.fill(0)\n",
    "        oled.show()\n",
    "        self.oled = oled\n",
    "\n",
    "    def display(self, msg):\n",
    "        self.oled.text('MicroPython on', 0, 0)\n",
    "        self.oled.text('an ESP32 with an', 0, 10)\n",
    "        self.oled.text('attached SSD1306', 0, 20)\n",
    "        self.oled.text('OLED display', 0, 30)\n",
    "        self.oled.show()\n",
    "        "
   ]
  },
  {
   "cell_type": "code",
   "execution_count": 2,
   "metadata": {},
   "outputs": [
    {
     "name": "stdout",
     "output_type": "stream",
     "text": [
      "Traceback (most recent call last):\r\n",
      "  File \"<stdin>\", line 1, in <module>\r\n",
      "  File \"<stdin>\", line 3, in __init__\r\n",
      "ImportError: no module named 'ssd1306'\r\n"
     ]
    }
   ],
   "source": [
    "oled = Oled()"
   ]
  },
  {
   "cell_type": "code",
   "execution_count": 4,
   "metadata": {},
   "outputs": [
    {
     "name": "stdout",
     "output_type": "stream",
     "text": []
    }
   ],
   "source": [
    "oled.display(\"jk\")"
   ]
  },
  {
   "cell_type": "code",
   "execution_count": 6,
   "metadata": {},
   "outputs": [
    {
     "name": "stdout",
     "output_type": "stream",
     "text": []
    }
   ],
   "source": [
    "from ssd1306_sr_writer import SSD1306_SR\n",
    "import roboto_regular\n",
    "ssd1306 = SSD1306_SR(font=roboto_regular, pin_scl=4, pin_sda=5)\n",
    "ssd1306.display(\"jaja\")"
   ]
  },
  {
   "cell_type": "code",
   "execution_count": 5,
   "metadata": {},
   "outputs": [
    {
     "name": "stdout",
     "output_type": "stream",
     "text": []
    }
   ],
   "source": [
    "ssd1306.display(\"Det var en gang en iskrem som ville ha is..\")"
   ]
  },
  {
   "cell_type": "code",
   "execution_count": null,
   "metadata": {},
   "outputs": [],
   "source": [
    "from machine import Pin\n",
    "r = Pin(4, Pin.OUT)\n",
    "g = Pin(27, Pin.OUT)\n",
    "b = Pin(15, Pin.OUT)\n"
   ]
  },
  {
   "cell_type": "code",
   "execution_count": null,
   "metadata": {},
   "outputs": [],
   "source": [
    "r.value(1)"
   ]
  }
 ],
 "metadata": {
  "kernelspec": {
   "display_name": "MicroPython - /dev/ttyUSB2",
   "language": "micropython",
   "name": "micropython-ttyusb2"
  },
  "language_info": {
   "file_extension": ".py",
   "mimetype": "text/x-python",
   "name": "python"
  }
 },
 "nbformat": 4,
 "nbformat_minor": 2
}
