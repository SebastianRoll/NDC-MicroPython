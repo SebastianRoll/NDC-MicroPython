{
 "cells": [
  {
   "cell_type": "code",
   "execution_count": 2,
   "metadata": {
    "collapsed": true
   },
   "outputs": [
    {
     "ename": "ModuleNotFoundError",
     "evalue": "No module named 'micropython'",
     "output_type": "error",
     "traceback": [
      "\u001b[0;31m---------------------------------------------------------------------------\u001b[0m",
      "\u001b[0;31mModuleNotFoundError\u001b[0m                       Traceback (most recent call last)",
      "\u001b[0;32m<ipython-input-2-a95248c072fe>\u001b[0m in \u001b[0;36m<module>\u001b[0;34m()\u001b[0m\n\u001b[0;32m----> 1\u001b[0;31m \u001b[0;32mimport\u001b[0m \u001b[0mmicropython\u001b[0m\u001b[0;34m\u001b[0m\u001b[0m\n\u001b[0m",
      "\u001b[0;31mModuleNotFoundError\u001b[0m: No module named 'micropython'"
     ]
    }
   ],
   "source": [
    "import micropython\n"
   ]
  },
  {
   "cell_type": "code",
   "execution_count": null,
   "metadata": {},
   "outputs": [],
   "source": [
    "import esp\n",
    "dir(esp)\n",
    "\n",
    "esp.flash_size()\n",
    "esp.flash_id() # reads the device ID of the flash memory."
   ]
  },
  {
   "cell_type": "markdown",
   "metadata": {},
   "source": [
    "## reset\n",
    "\n",
    "\n",
    "### soft\n",
    "\n",
    "\n",
    "- clears the state of the MicroPython virtual machine\n",
    "- leaves hardware peripherals unaffected\n",
    "\n",
    "\n",
    "`CTRL+D`\n",
    "\n",
    "or\n",
    "\n",
    "```\n",
    "import sys\n",
    "sys.exit()\n",
    "```\n",
    "\n",
    "### hard\n",
    "\n",
    "- same as performing a power cycle to the boar\n",
    "\n",
    "```\n",
    "import machine\n",
    "machine.reset()\n",
    "```\n"
   ]
  }
 ],
 "metadata": {
  "kernelspec": {
   "display_name": "Python 3",
   "language": "python",
   "name": "python3"
  },
  "language_info": {
   "codemirror_mode": {
    "name": "ipython",
    "version": 3
   },
   "file_extension": ".py",
   "mimetype": "text/x-python",
   "name": "python",
   "nbconvert_exporter": "python",
   "pygments_lexer": "ipython3",
   "version": "3.6.3"
  }
 },
 "nbformat": 4,
 "nbformat_minor": 2
}
