{
 "cells": [
  {
   "cell_type": "code",
   "execution_count": null,
   "metadata": {},
   "outputs": [],
   "source": [
    "print(1)"
   ]
  },
  {
   "cell_type": "code",
   "execution_count": null,
   "metadata": {},
   "outputs": [],
   "source": [
    "# ULTRASONIC SENSOR (REQUIRES 5V)\n",
    "\n",
    "from machine import Pin, PWM\n",
    "m = PWM(Pin(19), freq=100, duty=0)\n",
    "\n",
    "import hcsr04\n",
    "d = hcsr04.HCSR04(trigger_pin=32, echo_pin=33, echo_timeout_us=10000)\n",
    "\n",
    "d.distance_cm()"
   ]
  },
  {
   "cell_type": "markdown",
   "metadata": {},
   "source": [
    "## UART\n",
    "\n",
    "http://docs.micropython.org/en/v1.9.3/esp8266/library/machine.UART.html"
   ]
  },
  {
   "cell_type": "code",
   "execution_count": null,
   "metadata": {},
   "outputs": [],
   "source": [
    "from machine import UART\n",
    "from pyb import UART\n",
    "from microbit import UART\n",
    "\n",
    "uart = UART(1, 9600)                         # init with given baudrate\n",
    "uart.init(9600, bits=8, parity=None, stop=1) # init with given parameters\n",
    "\n",
    "uart.read(10)       # read 10 characters, returns a bytes object\n",
    "uart.read()         # read all available characters\n",
    "uart.readline()     # read a line\n",
    "uart.readinto(buf)  # read and store into the given buffer\n",
    "uart.write('abc')   # write the 3 characters\n"
   ]
  }
 ],
 "metadata": {
  "kernelspec": {
   "display_name": "Python 3",
   "language": "python",
   "name": "python3"
  },
  "language_info": {
   "codemirror_mode": {
    "name": "ipython",
    "version": 3
   },
   "file_extension": ".py",
   "mimetype": "text/x-python",
   "name": "python",
   "nbconvert_exporter": "python",
   "pygments_lexer": "ipython3",
   "version": "3.6.3"
  }
 },
 "nbformat": 4,
 "nbformat_minor": 2
}
