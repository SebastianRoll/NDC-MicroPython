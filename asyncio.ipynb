{
 "cells": [
  {
   "cell_type": "markdown",
   "metadata": {},
   "source": [
    "#  Interrupt handlers\n",
    "\n",
    "Interrupt handlers are pre-emptive\n",
    "\n",
    "https://docs.micropython.org/en/latest/esp8266/esp8266/tutorial/pins.html#external-interrupts\n",
    "\n",
    "As such your callback functions are limited in what they can do (they cannot allocate memory, for example) and should be as short and simple as possible.\n",
    "\n",
    "**Callbacks:**\n",
    "\n",
    "- can't create python objects\n",
    "- can't do floating point processing "
   ]
  },
  {
   "cell_type": "markdown",
   "metadata": {},
   "source": [
    "from machine import Pin\n",
    "\n",
    "p_led = Pin(1, Pin.IN)\n",
    "\n",
    "\n",
    "def callback(p):\n",
    "    print(p.value())\n",
    "    \n",
    "p_led.irq(trigger=Pin.IRQ_FALLING | Pin.IRQ.RISING, handler=callback)"
   ]
  },
  {
   "cell_type": "markdown",
   "metadata": {},
   "source": [
    "# Asyncio \n",
    "\n",
    "Python 3.5 and MicroPython support the notion of an asynchronous function, also known as a coroutine (coro) or task. \n",
    "\n",
    "A coro must include at least one await statement.\n",
    "\n",
    "### coro data sharing\n",
    "\n",
    "- global variables\n",
    "- declaring coros as object methods: these can then share instance variables. \n",
    "- mutable object as a coro argument.\n",
    "\n",
    "Pre-emptive systems mandate specialist classes to achieve \"thread safe\" communications (e.g. Lock class); in a cooperative system these are seldom required."
   ]
  },
  {
   "cell_type": "markdown",
   "metadata": {},
   "source": [
    "### Fair round-robin scheduling\n",
    "\n",
    "await asyncio.sleep(0)"
   ]
  },
  {
   "cell_type": "markdown",
   "metadata": {},
   "source": [
    "## Cooperative vs pre-emptive\n",
    "\n",
    "[threads are bad](https://glyph.twistedmatrix.com/2014/02/unyielding.html)\n",
    "\n",
    "[source](https://github.com/peterhinch/micropython-async/blob/master/TUTORIAL.md#7-notes-for-beginners)\n",
    "\n",
    "When it comes to embedded systems the cooperative model has two advantages. Fistly, it is lightweight. It is possible to have large numbers of coroutines because unlike descheduled threads, paused coroutines contain little state. Secondly it avoids some of the subtle problems associated with pre-emptive scheduling. In practice cooperative multi-tasking is widely used, notably in user interface applications.\n",
    "\n",
    "In a pre-emptive model every thread can interrupt every other thread, changing data which might be used in other threads.\n",
    "\n",
    "To put this in simple terms, if you write a MicroPython coroutine, you can be sure that variables won't suddenly be changed by another coro: your coro has complete control until it issues await asyncio.sleep(0)."
   ]
  },
  {
   "cell_type": "code",
   "execution_count": null,
   "metadata": {},
   "outputs": [],
   "source": []
  }
 ],
 "metadata": {
  "kernelspec": {
   "display_name": "Python 3",
   "language": "python",
   "name": "python3"
  },
  "language_info": {
   "codemirror_mode": {
    "name": "ipython",
    "version": 3
   },
   "file_extension": ".py",
   "mimetype": "text/x-python",
   "name": "python",
   "nbconvert_exporter": "python",
   "pygments_lexer": "ipython3",
   "version": "3.6.3"
  }
 },
 "nbformat": 4,
 "nbformat_minor": 2
}
