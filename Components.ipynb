{
 "cells": [
  {
   "cell_type": "code",
   "execution_count": 1,
   "metadata": {
    "collapsed": true
   },
   "outputs": [],
   "source": [
    "#!pip3 install esptool\n",
    "#!esptool.py --port /dev/ttyUSB0 erase_flash"
   ]
  },
  {
   "cell_type": "code",
   "execution_count": null,
   "metadata": {
    "collapsed": true
   },
   "outputs": [],
   "source": [
    "#!esptool.py --chip esp32 --port /dev/ttyUSB0 --baud 460800 write_flash --flash_size=detect -z 0x1000 micropythonesp32.bin"
   ]
  },
  {
   "cell_type": "markdown",
   "metadata": {},
   "source": [
    "## Pins\n",
    "\n",
    "### 1-wire\n",
    "import onewire\n",
    "\n",
    "The 1-wire bus is a serial bus that uses just a single wire for communication (in addition to wires for ground and power).\n",
    "\n",
    "### I2C \n",
    "\n",
    "\n",
    "### NeoPixels\n",
    "\n",
    "https://docs.micropython.org/en/latest/esp8266/esp8266/tutorial/neopixel.html\n",
    "\n",
    "### DHT\n",
    "\n",
    "Pin configurations:\n",
    "\n",
    "Sensor without I2C in 1-wire mode (eg. DHT11, DHT22, AM2301, AM2302):\n",
    "\n",
    "1=VDD, 2=Data, 3=NC, 4=GND\n",
    "Sensor with I2C in 1-wire mode (eg. DHT12, AM2320, AM2321, AM2322):\n",
    "\n",
    "1=VDD, 2=Data, 3=GND, 4=GND\n",
    "Sensor with I2C in I2C mode (eg. DHT12, AM2320, AM2321, AM2322):\n",
    "\n",
    "1=VDD, 2=SDA, 3=GND, 4=SCL\n",
    "You should use pull-up resistors for the Data, SDA and SCL pins.\n",
    "\n",
    "To make newer I2C sensors work in backwards compatible 1-wire mode, you must connect both pins 3 and 4 to GND. This disables the I2C interface.\n",
    "\n",
    "DHT22 sensors are now sold under the name AM2302 and are otherwise identical.\n",
    "\n",
    "### DAC\n",
    "“digital to analog converter”, adjustable output voltage\n",
    "\n",
    "ESP32 has two 8-bit DAC (digital to analog converter) channels, connected to GPIO25 (Channel 1) and GPIO26 (Channel 2).\n",
    "\n",
    " Maximum (255) corresponds to VDD."
   ]
  },
  {
   "cell_type": "markdown",
   "metadata": {},
   "source": [
    "### Pulse Width Modulation (PWM)\n",
    "\n",
    "https://learn.sparkfun.com/tutorials/hobby-servo-tutorial\n",
    "\n",
    "![PWM](https://upload.wikimedia.org/wikipedia/commons/e/e2/Servo_Diagram.svg)\n",
    "\n",
    "- hardware controlled\n",
    "- duty: 0-1023 (100%)\n",
    "- frequency"
   ]
  },
  {
   "cell_type": "markdown",
   "metadata": {},
   "source": [
    "On the ESP8266 the pins 0, 2, 4, 5, 12, 13, 14 and 15 all support PWM. The limitation is that they must all be at the same frequency, and the frequency must be between 1Hz and 1kHz."
   ]
  },
  {
   "cell_type": "markdown",
   "metadata": {},
   "source": [
    "### Pull up\n",
    "[source](https://micropython-on-esp8266-workshop.readthedocs.io/en/latest/basics.html#external-components)\n",
    "\n",
    "Pin.PULL_UP – that means that there is a special internal resistor enabled between that pin and the 3V3 pins. The effect of this is that when the pin is not connected to anything (we say it’s “floating”), it will return 1. If we didn’t do that, it would return random values depending on its environment. Of course when you connect the pin to GND, it will return 0."
   ]
  }
 ],
 "metadata": {
  "kernelspec": {
   "display_name": "Python 3",
   "language": "python",
   "name": "python3"
  },
  "language_info": {
   "codemirror_mode": {
    "name": "ipython",
    "version": 3
   },
   "file_extension": ".py",
   "mimetype": "text/x-python",
   "name": "python",
   "nbconvert_exporter": "python",
   "pygments_lexer": "ipython3",
   "version": "3.6.3"
  }
 },
 "nbformat": 4,
 "nbformat_minor": 2
}
