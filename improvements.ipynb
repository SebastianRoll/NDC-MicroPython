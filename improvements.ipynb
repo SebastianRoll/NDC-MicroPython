{
 "cells": [
  {
   "cell_type": "markdown",
   "metadata": {},
   "source": [
    "## frozen modules and frozen bytecode\n",
    "\n",
    "In general terms the steps are as follows:\n",
    "\n",
    "- Clone the MicroPython repository.\n",
    "- - Acquire the (platform specific) toolchain to build the firmware.\n",
    "- Build the cross compiler.\n",
    "- Place the modules to be frozen in a specified directory (dependent on whether the module is to be frozen as source or as bytecode).\n",
    "- Build the firmware. A specific command may be required to build frozen code of either type - see the platform documentation.\n",
    "- Flash the firmware to the device.\n",
    "\n",
    "## RAM\n",
    "Minimise the repeated creation and destruction of objects\n",
    "\n",
    "## The Heap\n",
    "\n",
    "When a running program instantiates an object the necessary RAM is allocated from a fixed size pool known as the heap. When the object goes out of scope (in other words becomes inaccessible to code) the redundant object is known as “garbage”. A process known as “garbage collection” (GC) reclaims that memory, returning it to the free heap. This process runs automatically, however it can be invoked directly by issuing gc.collect().\n",
    "\n",
    "The discourse on this is somewhat involved. For a ‘quick fix’ issue the following periodically:\n",
    "\n",
    "```\n",
    "gc.collect()\n",
    "gc.threshold(gc.mem_free() // 4 + gc.mem_alloc())\n",
    "```\n",
    "\n",
    "## Fragmentation\n",
    "Say a program creates an object foo, then an object bar. Subsequently foo goes out of scope but bar remains. The RAM used by foo will be reclaimed by GC. However if bar was allocated to a higher address, the RAM reclaimed from foo will only be of use for objects no bigger than foo. In a complex or long running program the heap can become fragmented: despite there being a substantial amount of RAM available, there is insufficient contiguous space to allocate a particular object, and the program fails with a memory error."
   ]
  }
 ],
 "metadata": {
  "kernelspec": {
   "display_name": "Python 3",
   "language": "python",
   "name": "python3"
  },
  "language_info": {
   "codemirror_mode": {
    "name": "ipython",
    "version": 3
   },
   "file_extension": ".py",
   "mimetype": "text/x-python",
   "name": "python",
   "nbconvert_exporter": "python",
   "pygments_lexer": "ipython3",
   "version": "3.6.3"
  }
 },
 "nbformat": 4,
 "nbformat_minor": 2
}
