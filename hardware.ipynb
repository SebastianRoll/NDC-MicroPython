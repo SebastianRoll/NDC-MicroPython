{
 "cells": [
  {
   "cell_type": "markdown",
   "metadata": {
    "collapsed": true
   },
   "source": [
    "## Pyboard"
   ]
  },
  {
   "cell_type": "markdown",
   "metadata": {},
   "source": [
    "## Pycom"
   ]
  },
  {
   "cell_type": "markdown",
   "metadata": {},
   "source": [
    "## Adafruit"
   ]
  },
  {
   "cell_type": "markdown",
   "metadata": {},
   "source": [
    "### CircuitPython"
   ]
  },
  {
   "cell_type": "markdown",
   "metadata": {},
   "source": [
    "### ESP8266\n",
    "\n",
    "ESP8266 which is now called ESP8266EX or ESP-WROOM-02\n",
    "\n",
    "![title](https://docs.micropython.org/en/latest/esp8266/_images/adafruit_products_pinoutstop.jpg)\n",
    "\n",
    "`import esp`\n",
    "`esp.flash_id()` reads the device ID of the flash memory.\n",
    "\n",
    "Available pins are: 0, 1, 2, 3, 4, 5, 12, 13, 14, 15, 16, which correspond to the actual GPIO pin numbers of ESP8266 chip. \n",
    "\n",
    "For mapping between board logical pins and physical chip pins, consult your board documentation.\n",
    " \n",
    "(https://docs.micropython.org/en/latest/esp8266/esp8266/quickref.html)\n",
    "\n"
   ]
  },
  {
   "cell_type": "markdown",
   "metadata": {},
   "source": [
    "### ESP32\n",
    "\n",
    "\n",
    "- ESP32 Module: ESP-WROOM-32 from Espressive.\n",
    "  - Microprocessor dual core @ 240 MHz\n",
    "  - 4MB flash memory\n",
    "- Connectivity\n",
    "  - WiFi 802.11 b / g / n compliant with IEEE 802.11 compatible with WFA, WPA / WPA2 and WAPI\n",
    "  - Bluetooth 4.0 LE and BR / EDR\n",
    "- I/O\n",
    "  - 26x Digital I/O (3.3V)\n",
    "  - 12x analog inputs\n",
    "  - 4 × SPI, 2 × I²S, 2 × I²C, 3 × UART, CAN 2.0, IR, Touch Sensor,\n",
    "  - Temperature sensor\n",
    "Cryptographic protection: AES, SHA-2, RSA, ECC, random number generator (RNG)\n",
    "\n",
    "\n",
    "The standard baudrate for the connection to the ESP32 development board is set at 115200. "
   ]
  },
  {
   "cell_type": "markdown",
   "metadata": {},
   "source": [
    "![esp32](https://projetsdiy.fr/wp-content/uploads/2017/06/ESP32-espressif-Pinout-broche-esp-wroom-32.jpg)"
   ]
  }
 ],
 "metadata": {
  "kernelspec": {
   "display_name": "Python 3",
   "language": "python",
   "name": "python3"
  },
  "language_info": {
   "codemirror_mode": {
    "name": "ipython",
    "version": 3
   },
   "file_extension": ".py",
   "mimetype": "text/x-python",
   "name": "python",
   "nbconvert_exporter": "python",
   "pygments_lexer": "ipython3",
   "version": "3.6.3"
  }
 },
 "nbformat": 4,
 "nbformat_minor": 1
}
