{
 "cells": [
  {
   "cell_type": "markdown",
   "metadata": {
    "slideshow": {
     "slide_type": "slide"
    }
   },
   "source": [
    "# MicroPython\n",
    "\n",
    "\n",
    "<img src=\"https://upload.wikimedia.org/wikipedia/commons/thumb/4/4e/Micropython-logo.svg/765px-Micropython-logo.svg.png\" alt=\"Drawing\" style=\"width: 200px; align:left;\"/>"
   ]
  },
  {
   "cell_type": "markdown",
   "metadata": {
    "slideshow": {
     "slide_type": "subslide"
    }
   },
   "source": [
    "- 256kB\n",
    "- hardware modules\n",
    "- Created by Damien George\n",
    "- Backed by Kickstarter campaign 2013\n",
    "- MIT license"
   ]
  },
  {
   "cell_type": "markdown",
   "metadata": {},
   "source": [
    "## micropython-lib\n",
    "\n",
    "[list of package](https://pypi.org/search/?q=micropython)\n",
    "\n",
    "MicroPython is (usually) distributed as a single executable/binary file with just few builtin modules. There is no extensive standard library comparable with CPython. Instead, there is a related, but separate project micropython-lib which provides implementations for many modules from CPython’s standard library. However, large subset of these modules require POSIX-like environment (Linux, FreeBSD, MacOS, etc.; Windows may be partially supported), and thus would work or make sense only with MicroPython Unix port. Some subset of modules is however usable for baremetal ports too.\n",
    "\n",
    "Unlike monolithic CPython stdlib, micropython-lib modules are intended to be installed individually - either using manual copying or using upip."
   ]
  },
  {
   "cell_type": "markdown",
   "metadata": {},
   "source": [
    "## Package management\n",
    "\n",
    "upip"
   ]
  },
  {
   "cell_type": "markdown",
   "metadata": {
    "collapsed": true
   },
   "source": [
    "### machine\n",
    "\n",
    "https://docs.micropython.org/en/latest/esp8266/library/machine.html\n",
    "\n",
    "machine.deepsleep()"
   ]
  }
 ],
 "metadata": {
  "celltoolbar": "Slideshow",
  "kernelspec": {
   "display_name": "Python 3",
   "language": "python",
   "name": "python3"
  },
  "language_info": {
   "codemirror_mode": {
    "name": "ipython",
    "version": 3
   },
   "file_extension": ".py",
   "mimetype": "text/x-python",
   "name": "python",
   "nbconvert_exporter": "python",
   "pygments_lexer": "ipython3",
   "version": "3.6.3"
  }
 },
 "nbformat": 4,
 "nbformat_minor": 1
}
