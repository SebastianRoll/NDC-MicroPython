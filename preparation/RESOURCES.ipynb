{
 "cells": [
  {
   "cell_type": "markdown",
   "metadata": {},
   "source": [
    "## Markdown cheatsheet\n",
    "\n",
    "> indent\n",
    ">> Nested indent\n",
    "\n",
    "<font color=\"blue\">Color</font>\n",
    "\n",
    "\n",
    "~~Strike~~\n",
    "\n",
    "***\n",
    "1. Item a\n",
    "  * Item a1\n",
    "\n",
    "<img width=\"500px\" src=\"https://upload.wikimedia.org/wikipedia/commons/4/4a/External_Fragmentation.svg\" align=\"left\" alt=\"Alt text that describes the graphic\" title=\"https://commons.wikimedia.org/wiki/File:External_Fragmentation.svg\">"
   ]
  },
  {
   "cell_type": "markdown",
   "metadata": {},
   "source": [
    " I am text to the left  ![Flowers](https://upload.wikimedia.org/wikipedia/commons/4/4a/External_Fragmentation.svg)"
   ]
  },
  {
   "cell_type": "markdown",
   "metadata": {},
   "source": [
    "## MicroPython\n",
    "\n",
    "[Distribution packages, package management, and deploying applications](https://docs.micropython.org/en/latest/esp8266/reference/packages.html)\n",
    "\n",
    "[External interrupts](https://docs.micropython.org/en/latest/esp8266/esp8266/tutorial/pins.html#external-interrupts)\n",
    "\n",
    "[micropython-asyncio](https://github.com/peterhinch/micropython-async)\n",
    "\n",
    "## Hardware\n",
    "\n",
    "[ESP8266 on micropython](https://docs.micropython.org/en/latest/esp8266/)\n",
    "\n",
    "[ESP8266 workshop](https://micropython-on-esp8266-workshop.readthedocs.io/en/latest/basics.html#servomechanisms)\n",
    "\n",
    "## Protocols\n",
    "\n",
    "[Google Book UART, SPI, I2C](https://books.google.no/books?id=Bic3DwAAQBAJ&pg=PA105&lpg=PA105&dq=micropython+communication&source=bl&ots=yzuniQ7Xu1&sig=qCkO9BWD7f43YExxtfPSt63M-Zk&hl=no&sa=X&ved=0ahUKEwi8uMLlwtHbAhUHyKYKHZDsATAQ6AEIdTAJ#v=onepage&q=micropython%20communication&f=false)\n",
    "\n",
    "## Attribution\n",
    "\n",
    "[create commons plugin](https://creativecommons.org/2017/01/18/one-click-wordpress/)\n",
    "\n",
    "## Miscellaneous\n",
    "\n",
    "[Adressaparken](https://www.ntnu.no/web/parken/tutorial)"
   ]
  },
  {
   "cell_type": "code",
   "execution_count": null,
   "metadata": {},
   "outputs": [],
   "source": []
  }
 ],
 "metadata": {
  "kernelspec": {
   "display_name": "Python 3",
   "language": "python",
   "name": "python3"
  },
  "language_info": {
   "codemirror_mode": {
    "name": "ipython",
    "version": 3
   },
   "file_extension": ".py",
   "mimetype": "text/x-python",
   "name": "python",
   "nbconvert_exporter": "python",
   "pygments_lexer": "ipython3",
   "version": "3.6.3"
  }
 },
 "nbformat": 4,
 "nbformat_minor": 2
}
