{
 "cells": [
  {
   "cell_type": "markdown",
   "metadata": {},
   "source": [
    "## max7219  8x8 LED Matrix display"
   ]
  },
  {
   "cell_type": "markdown",
   "metadata": {},
   "source": [
    "source: https://github.com/mcauser/micropython-max7219\n",
    "\n",
    "Huzzah32 instructions\n",
    "\n",
    "- DIN - MO(SI) Pin18\n",
    "- CS - GPIO Pin15\n",
    "- CLK - SCK Pin5 \n",
    "\n",
    "Lolin32 Lite\n",
    "\n",
    "\n",
    "- DIN - MO(SI) Pin18\n",
    "- CS - GPIO Pin15\n",
    "- CLK - SCK Pin5 \n"
   ]
  },
  {
   "cell_type": "code",
   "execution_count": 1,
   "metadata": {},
   "outputs": [
    {
     "name": "stdout",
     "output_type": "stream",
     "text": [
      "1\r\n"
     ]
    }
   ],
   "source": [
    "print(1)"
   ]
  },
  {
   "cell_type": "code",
   "execution_count": 9,
   "metadata": {},
   "outputs": [
    {
     "name": "stdout",
     "output_type": "stream",
     "text": []
    }
   ],
   "source": [
    "# Lolin32 Lite\n",
    "import max7219\n",
    "import time\n",
    "from machine import Pin, SPI\n",
    "spi = SPI(-1, 10000000, miso=Pin(19), mosi=Pin(23), sck=Pin(18))\n",
    "display = max7219.Matrix8x8(spi, Pin(17), 4)\n",
    "display.brightness(15)\n",
    "display.fill(0)\n",
    "display.text('1234',0,0,1)\n",
    "display.show()"
   ]
  },
  {
   "cell_type": "code",
   "execution_count": 32,
   "metadata": {},
   "outputs": [
    {
     "name": "stdout",
     "output_type": "stream",
     "text": [
      "----\r\n",
      "\r\n",
      "ALL \r\n",
      "\r\n",
      "HAIL\r\n",
      "\r\n",
      "THE \r\n",
      "\r\n",
      "DEMO\r\n",
      "\r\n",
      "GODS\r\n"
     ]
    }
   ],
   "source": [
    "from time import sleep\n",
    "\n",
    "with open('ledtext.txt', 'r') as f:\n",
    "    for l in f:\n",
    "        print(l)\n",
    "        display.fill(0)\n",
    "        display.text(l,0,0,1)\n",
    "        display.show()\n",
    "        sleep(1)\n",
    "\n",
    "display.fill(0)\n",
    "display.show()"
   ]
  },
  {
   "cell_type": "code",
   "execution_count": null,
   "metadata": {},
   "outputs": [],
   "source": [
    "with open('ledtext.txt', 'w') as f:\n",
    "    f.write('\\n'.join(\n",
    "        ['----', 'ALL ', 'HAIL', 'THE ', 'DEMO', 'GODS', '----']\n",
    "    ))"
   ]
  },
  {
   "cell_type": "code",
   "execution_count": null,
   "metadata": {},
   "outputs": [],
   "source": [
    "display.brightness(0)\n",
    "display.show()"
   ]
  },
  {
   "cell_type": "code",
   "execution_count": null,
   "metadata": {},
   "outputs": [],
   "source": [
    "display.clear()\n",
    "display.clean_up()"
   ]
  },
  {
   "cell_type": "code",
   "execution_count": 3,
   "metadata": {},
   "outputs": [
    {
     "name": "stdout",
     "output_type": "stream",
     "text": []
    }
   ],
   "source": [
    "from time import sleep\n",
    "from random import randint\n",
    "\n",
    "for i in range(64):\n",
    "    display.fill(0)\n",
    "    display.brightness(randint(0,15))\n",
    "    if randint(0,1):\n",
    "        words = 'NDC!'\n",
    "    else:\n",
    "        words = \"2018\"\n",
    "    display.text('NDC!',-(i%64),0)#,randint(0,1),1)\n",
    "    display.text(\"2018\",-(i-40)%64,0)#,randint(0,1),1)\n",
    "    display.show()\n",
    "    sleep(0.1)\n",
    "    \n",
    "display.text(\"SPI!\",0,0)#,randint(0,1),1)\n",
    "display.show()\n",
    "sleep(0.05)\n",
    "display.fill(0)\n",
    "display.show()"
   ]
  },
  {
   "cell_type": "code",
   "execution_count": 73,
   "metadata": {},
   "outputs": [
    {
     "name": "stdout",
     "output_type": "stream",
     "text": []
    }
   ],
   "source": [
    "display.fill(0)\n",
    "display.text('12345678',0,0,1)\n",
    "display.show()\n",
    "\n",
    "for i in range(13):\n",
    "    display.scroll(-8,0) # 23456788\n",
    "    display.show()\n",
    "    sleep(0.5)"
   ]
  },
  {
   "cell_type": "code",
   "execution_count": 66,
   "metadata": {},
   "outputs": [
    {
     "name": "stdout",
     "output_type": "stream",
     "text": []
    }
   ],
   "source": [
    "from time import sleep\n",
    "dur = 1\n",
    "display.fill(0)\n",
    "display.show()\n",
    "sleep(dur)\n",
    "\n",
    "display.pixel(0,0,1)\n",
    "display.pixel(1,1,1)\n",
    "display.hline(0,4,8,1)\n",
    "display.vline(4,0,8,1)\n",
    "display.line(8, 0, 16, 8, 1)\n",
    "display.rect(17,1,6,6,1)\n",
    "display.fill_rect(25,1,6,6,1)\n",
    "display.show()\n",
    "sleep(dur)\n",
    "\n",
    "display.fill(0)\n",
    "display.text('dead',0,0,1)\n",
    "display.text('beef',32,0,1)\n",
    "display.show()\n",
    "sleep(dur)\n",
    "\n",
    "display.fill(0)\n",
    "display.text('12345678',0,0,1)\n",
    "display.show()\n",
    "display.scroll(-8,0) # 23456788\n",
    "display.scroll(-8,0) # 34567888\n",
    "display.show()"
   ]
  },
  {
   "cell_type": "code",
   "execution_count": null,
   "metadata": {},
   "outputs": [],
   "source": [
    "from network import WLAN, STA_IF\n",
    "wlan = WLAN(STA_IF)\n",
    "wlan.active(True)\n",
    "wlan.connect('kubernetes lifeline', 'workwork')"
   ]
  },
  {
   "cell_type": "code",
   "execution_count": null,
   "metadata": {},
   "outputs": [],
   "source": [
    "display.fill(0)\n",
    "display.show()"
   ]
  },
  {
   "cell_type": "code",
   "execution_count": null,
   "metadata": {},
   "outputs": [],
   "source": []
  }
 ],
 "metadata": {
  "kernelspec": {
   "display_name": "MicroPython - /dev/micropython",
   "language": "micropython",
   "name": "micropython"
  },
  "language_info": {
   "file_extension": ".py",
   "mimetype": "text/x-python",
   "name": "python"
  }
 },
 "nbformat": 4,
 "nbformat_minor": 2
}
