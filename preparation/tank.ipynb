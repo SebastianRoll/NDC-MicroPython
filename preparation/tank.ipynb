{
 "cells": [
  {
   "cell_type": "code",
   "execution_count": 11,
   "metadata": {},
   "outputs": [
    {
     "name": "stdout",
     "output_type": "stream",
     "text": []
    }
   ],
   "source": [
    "from machine import Pin, PWM\n",
    "from time import sleep"
   ]
  },
  {
   "cell_type": "code",
   "execution_count": 4,
   "metadata": {},
   "outputs": [
    {
     "name": "stdout",
     "output_type": "stream",
     "text": []
    }
   ],
   "source": [
    "r = PWM(Pin(13), freq=50, duty=0)\n",
    "l = PWM(Pin(27), freq=50, duty=0)"
   ]
  },
  {
   "cell_type": "raw",
   "metadata": {},
   "source": [
    "r.duty(500)\n",
    "l.duty(500)"
   ]
  },
  {
   "cell_type": "code",
   "execution_count": 10,
   "metadata": {},
   "outputs": [
    {
     "name": "stdout",
     "output_type": "stream",
     "text": []
    }
   ],
   "source": [
    "r.deinit()\n",
    "l.deinit()"
   ]
  },
  {
   "cell_type": "code",
   "execution_count": 12,
   "metadata": {},
   "outputs": [
    {
     "name": "stdout",
     "output_type": "stream",
     "text": [
      "1\r\n"
     ]
    }
   ],
   "source": [
    "rb = Pin(27, Pin.OUT)\n",
    "rb.value(1)\n",
    "print(rb.value())\n",
    "sleep(0.5)\n",
    "rb.value(0)"
   ]
  },
  {
   "cell_type": "code",
   "execution_count": 8,
   "metadata": {},
   "outputs": [
    {
     "name": "stdout",
     "output_type": "stream",
     "text": [
      "500\r\n"
     ]
    }
   ],
   "source": [
    "r.duty(500)\n",
    "print(r.duty())"
   ]
  },
  {
   "cell_type": "code",
   "execution_count": 13,
   "metadata": {},
   "outputs": [
    {
     "name": "stdout",
     "output_type": "stream",
     "text": [
      "None\r\n"
     ]
    }
   ],
   "source": [
    "servo = PWM(Pin(13), freq=50, duty=77)\n",
    "servo.duty(44)\n",
    "print(servo.duty())\n",
    "sleep(0.5)\n",
    "servo.duty(77)"
   ]
  },
  {
   "cell_type": "code",
   "execution_count": null,
   "metadata": {},
   "outputs": [],
   "source": [
    "servo = PWM(Pin(27), freq=50, duty=0)\n",
    "servo.duty(340)\n",
    "print(servo.duty())\n",
    "sleep(1)\n",
    "servo.duty(0)"
   ]
  },
  {
   "cell_type": "markdown",
   "metadata": {},
   "source": [
    "## Control with encoder"
   ]
  },
  {
   "cell_type": "code",
   "execution_count": null,
   "metadata": {},
   "outputs": [],
   "source": [
    "# https://github.com/SpotlightKid/micropython-stm-lib/tree/master/encoder\n",
    "\n",
    "from time import sleep_ms\n",
    "from encoder import Encoder\n",
    "from machine import Pin, PWM\n",
    "l = PWM(Pin(27), freq=30, duty=0)\n",
    "r = PWM(Pin(13), freq=30, duty=0)\n",
    "maxduty = const(500)\n",
    "minduty = const(0)\n",
    "\n",
    "\n",
    "e = Encoder(pin_clk=36, pin_dt=4, clicks=4, min_val=minduty, max_val=maxduty, start_val=600)\n",
    "e_click = Pin(34, Pin.IN, Pin.PULL_UP)\n",
    "\n",
    "lastval = e.value\n",
    "try:\n",
    "    while True:\n",
    "        val = e.value\n",
    "        if e_click.value() is 0:\n",
    "            print(\"reset!\")\n",
    "            e.reset()\n",
    "            val = e.value\n",
    "            lastval = val\n",
    "            print(val)\n",
    "            r.duty(val)\n",
    "            l.duty(val)\n",
    "            sleep_ms(100)\n",
    "        elif lastval != val:\n",
    "            lastval = val\n",
    "            print(val)\n",
    "            r.duty(val)\n",
    "            l.duty(val)\n",
    "            sleep_ms(100)\n",
    "finally:\n",
    "    r.deinit()\n",
    "    l.deinit()"
   ]
  },
  {
   "cell_type": "markdown",
   "metadata": {},
   "source": [
    "## Control with joystick"
   ]
  },
  {
   "cell_type": "code",
   "execution_count": null,
   "metadata": {},
   "outputs": [],
   "source": [
    "import time\n",
    "from machine import Pin, PWM, ADC\n",
    "l = PWM(Pin(13), freq=30, duty=0)\n",
    "r = PWM(Pin(27), freq=30, duty=0)\n",
    "try:\n",
    "    adcl = ADC(Pin(32))\n",
    "    adcl.atten(ADC.ATTN_11DB)\n",
    "    adcr = ADC(Pin(39))\n",
    "    adcr.atten(ADC.ATTN_11DB)\n",
    "    while True:\n",
    "        lval = adcl.read()\n",
    "        rval = adcr.read()\n",
    "        print(max(0,min(1023, int((lval-1814)/3))))\n",
    "        l.duty(max(0,min(1023, int((lval-1814)/3))))\n",
    "        r.duty(max(0,min(1023, int((rval-1814)/3))))\n",
    "        time.sleep(0.1)\n",
    "    #adc = machine.ADC(Pin(39))\n",
    "finally:\n",
    "    r.deinit()\n",
    "    l.deinit()"
   ]
  },
  {
   "cell_type": "code",
   "execution_count": null,
   "metadata": {},
   "outputs": [],
   "source": []
  }
 ],
 "metadata": {
  "kernelspec": {
   "display_name": "MicroPython - /dev/ttyUSB3",
   "language": "micropython",
   "name": "micropython-ttyusb3"
  },
  "language_info": {
   "file_extension": ".py",
   "mimetype": "text/x-python",
   "name": "python"
  }
 },
 "nbformat": 4,
 "nbformat_minor": 2
}
