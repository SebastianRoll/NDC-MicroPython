{
 "cells": [
  {
   "cell_type": "code",
   "execution_count": 23,
   "metadata": {
    "slideshow": {
     "slide_type": "skip"
    }
   },
   "outputs": [
    {
     "data": {
      "text/html": [
       "<style>\n",
       "\n",
       ".CodeMirror {\n",
       "    width: 100vw;\n",
       "}\n",
       "\n",
       ".container {\n",
       "    width: 94% !important;\n",
       "}\n",
       "\n",
       ".rendered_html {\n",
       "  font-size:0.8em;\n",
       "}\n",
       ".rendered_html table, .rendered_html th, .rendered_html tr, .rendered_html td {\n",
       "     font-size: 100%;\n",
       "}\n",
       "\n",
       "</style>"
      ],
      "text/plain": [
       "<IPython.core.display.HTML object>"
      ]
     },
     "metadata": {},
     "output_type": "display_data"
    }
   ],
   "source": [
    "%%HTML\n",
    "<style>\n",
    "\n",
    ".CodeMirror {\n",
    "    width: 100vw;\n",
    "}\n",
    "\n",
    ".container {\n",
    "    width: 94% !important;\n",
    "}\n",
    "\n",
    ".rendered_html {\n",
    "  font-size:0.8em;\n",
    "}\n",
    ".rendered_html table, .rendered_html th, .rendered_html tr, .rendered_html td {\n",
    "     font-size: 100%;\n",
    "}\n",
    "\n",
    "</style>"
   ]
  },
  {
   "cell_type": "markdown",
   "metadata": {
    "slideshow": {
     "slide_type": "slide"
    }
   },
   "source": [
    "# IoT is fun using MicroPython\n",
    "\n",
    "![logo](https://upload.wikimedia.org/wikipedia/commons/thumb/4/4e/Micropython-logo.svg/765px-Micropython-logo.svg.png)"
   ]
  },
  {
   "cell_type": "markdown",
   "metadata": {
    "slideshow": {
     "slide_type": "slide"
    }
   },
   "source": [
    "## Sebastian Roll\n",
    "\n",
    "- M.Sc. Chemical Process Engineering @ NTNU\n",
    "- Senior Consultant @ Webstep\n",
    "- Co-founder _Retraze AS_\n",
    "\n",
    "<img align=\"left\" src=\"images/Sebastian_Roll.jpg\" width=400>"
   ]
  },
  {
   "cell_type": "markdown",
   "metadata": {
    "slideshow": {
     "slide_type": "subslide"
    }
   },
   "source": [
    "## Agenda\n",
    "\n",
    "1. Micropython\n",
    "- Hardware\n",
    "- Getting started\n",
    "- Demo!\n",
    "- Performance"
   ]
  },
  {
   "cell_type": "markdown",
   "metadata": {
    "slideshow": {
     "slide_type": "subslide"
    }
   },
   "source": [
    "![iot](images/concepts/iot.png)\n",
    "\n",
    "> The internet could be a very positive step towards education, organisation and participation in a meaningful society.\n",
    "\n",
    "Noam Chomsky"
   ]
  },
  {
   "cell_type": "markdown",
   "metadata": {
    "slideshow": {
     "slide_type": "skip"
    }
   },
   "source": [
    "> But if you look at the latest figures for internet use, things such as pornography and e-shopping overwhelm everything else."
   ]
  },
  {
   "cell_type": "markdown",
   "metadata": {
    "slideshow": {
     "slide_type": "slide"
    }
   },
   "source": [
    "![logomicro](https://github.com/micropython/micropython/blob/master/logo/upython-with-micro.png?raw=true)\n",
    "\n",
    "- Created by Damien George\n",
    "- Backed by Kickstarter campaign 2013\n",
    "- MIT license\n",
    "- 128K ROM/8K RAM\n",
    "- Python 3.4 + hardware modules"
   ]
  },
  {
   "cell_type": "markdown",
   "metadata": {
    "slideshow": {
     "slide_type": "skip"
    }
   },
   "source": [
    "RAM usage \n",
    "-  2KB heap\n",
    "- stack + static memory 2KB\n",
    "\n",
    "Performance\n",
    "- integer arithmetics 10x faster than CPython"
   ]
  },
  {
   "cell_type": "markdown",
   "metadata": {
    "slideshow": {
     "slide_type": "subslide"
    }
   },
   "source": [
    "![ESA](https://upload.wikimedia.org/wikipedia/commons/a/af/ESA_logo.png)"
   ]
  },
  {
   "cell_type": "markdown",
   "metadata": {
    "slideshow": {
     "slide_type": "subslide"
    }
   },
   "source": [
    "![bbcmicro](images/bbc micro.jpg)"
   ]
  },
  {
   "cell_type": "markdown",
   "metadata": {
    "slideshow": {
     "slide_type": "skip"
    }
   },
   "source": [
    "BBC Micro\n",
    "- 8 bit home computer.\n",
    "- During the early 1980s, the BBC started what became known as the BBC Computer Literacy Project. \n",
    "- An accompanying 1982 television series \"The Computer Programme\" featuring Chris Serle learning to use the machine was also broadcast on BBC 2."
   ]
  },
  {
   "cell_type": "markdown",
   "metadata": {
    "slideshow": {
     "slide_type": "subslide"
    }
   },
   "source": [
    "<img src=\"https://c1.staticflickr.com/2/1583/26146391212_d21e009360_b.jpg\" width=800>\n",
    "> A collaboration between 29 partners, the micro:bit is the BBC's most ambitious education initiative in 30 years, with an ambition to inspire digital creativity and develop a new generation of tech pioneers.\n",
    "\n",
    "https://www.computingatschool.org.uk"
   ]
  },
  {
   "cell_type": "markdown",
   "metadata": {
    "slideshow": {
     "slide_type": "skip"
    }
   },
   "source": [
    "Microbit\n",
    "\n",
    "- 7 graders (12 years) 1 million\n",
    "- 5000 schools\n",
    "\n",
    "European Space Agency (ESA)\n",
    "\n",
    "- funding micropython development"
   ]
  },
  {
   "cell_type": "markdown",
   "metadata": {
    "slideshow": {
     "slide_type": "subslide"
    }
   },
   "source": [
    "## Flavours (ports, distributions)\n",
    "\n",
    "- MicroPython\n",
    "  - Pyboard\n",
    "  - WiPy\n",
    "  - ESP8266\n",
    "  - ESP32\n",
    "  - micro:bit (bbc)\n",
    "- CircuitPython (Adafruit)\n",
    "\n",
    "\n",
    "http://micropython.org/download"
   ]
  },
  {
   "cell_type": "markdown",
   "metadata": {
    "slideshow": {
     "slide_type": "slide"
    }
   },
   "source": [
    "## micropython-lib\n",
    "\n",
    "- individually installed\n",
    "- [package list](https://pypi.org/search/?q=micropython)\n",
    "- origins\n",
    "    - written from scratch specifically for MicroPython\n",
    "    - ported from CPython\n",
    "    - ported from some other Python implementation, e.g. PyPy\n",
    "    - some modules actually aren't implemented yet and are dummy\n",
    "\n",
    "- examples\n",
    "  - umqtt.robust\n",
    "  - threading\n",
    "  - uasyncio\n",
    "  - timeit\n",
    "  - struct\n",
    "  - random\n",
    "  - itertools\n",
    "  "
   ]
  }
 ],
 "metadata": {
  "celltoolbar": "Slideshow",
  "kernelspec": {
   "display_name": "Python 3",
   "language": "python",
   "name": "python3"
  },
  "language_info": {
   "codemirror_mode": {
    "name": "ipython",
    "version": 3
   },
   "file_extension": ".py",
   "mimetype": "text/x-python",
   "name": "python",
   "nbconvert_exporter": "python",
   "pygments_lexer": "ipython3",
   "version": "3.6.3"
  },
  "livereveal": {
   "autolaunch": true,
   "height": 900,
   "scroll": true,
   "start_slideshow_at": "selected",
   "width": 1600
  }
 },
 "nbformat": 4,
 "nbformat_minor": 2
}
