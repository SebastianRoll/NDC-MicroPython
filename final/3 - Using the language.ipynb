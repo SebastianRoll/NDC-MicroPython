{
 "cells": [
  {
   "cell_type": "code",
   "execution_count": 1,
   "metadata": {
    "slideshow": {
     "slide_type": "skip"
    }
   },
   "outputs": [
    {
     "data": {
      "text/html": [
       "<style>\n",
       "\n",
       ".CodeMirror {\n",
       "    width: 100vw;\n",
       "}\n",
       "\n",
       ".container {\n",
       "    width: 79% !important;\n",
       "}\n",
       "\n",
       ".rendered_html {\n",
       "  font-size:0.8em;\n",
       "}\n",
       ".rendered_html table, .rendered_html th, .rendered_html tr, .rendered_html td {\n",
       "     font-size: 100%;\n",
       "}\n",
       "\n",
       "</style>"
      ],
      "text/plain": [
       "<IPython.core.display.HTML object>"
      ]
     },
     "metadata": {},
     "output_type": "display_data"
    }
   ],
   "source": [
    "%%HTML\n",
    "<style>\n",
    "\n",
    ".CodeMirror {\n",
    "    width: 100vw;\n",
    "}\n",
    "\n",
    ".container {\n",
    "    width: 79% !important;\n",
    "}\n",
    "\n",
    ".rendered_html {\n",
    "  font-size:0.8em;\n",
    "}\n",
    ".rendered_html table, .rendered_html th, .rendered_html tr, .rendered_html td {\n",
    "     font-size: 100%;\n",
    "}\n",
    "\n",
    "</style>"
   ]
  },
  {
   "cell_type": "markdown",
   "metadata": {
    "slideshow": {
     "slide_type": "slide"
    }
   },
   "source": [
    "# Performance\n",
    "\n",
    "http://docs.micropython.org/en/latest/pyboard/reference/constrained.html\n",
    "\n",
    "[Writing fast and efficient MicroPython (Youtube)](https://www.youtube.com/watch?v=hHec4qL00x0&t=1261s) - Damien George"
   ]
  },
  {
   "cell_type": "markdown",
   "metadata": {
    "slideshow": {
     "slide_type": "subslide"
    }
   },
   "source": [
    "![innerworkings](images/performance/1_micropython_inner_workings.png)"
   ]
  },
  {
   "cell_type": "markdown",
   "metadata": {
    "slideshow": {
     "slide_type": "subslide"
    }
   },
   "source": [
    "![innerworkings](images/performance/2_micropython_bytecodes.png)"
   ]
  },
  {
   "cell_type": "markdown",
   "metadata": {
    "slideshow": {
     "slide_type": "subslide"
    }
   },
   "source": [
    "![innerworkings](images/performance/3_bytecode_example.png)"
   ]
  },
  {
   "cell_type": "markdown",
   "metadata": {
    "slideshow": {
     "slide_type": "subslide"
    }
   },
   "source": [
    "![innerworkings](images/performance/4_memory_allocation.png)"
   ]
  },
  {
   "cell_type": "markdown",
   "metadata": {
    "slideshow": {
     "slide_type": "subslide"
    }
   },
   "source": [
    "![innerworkings](images/performance/5_cpu_time.png)"
   ]
  },
  {
   "cell_type": "markdown",
   "metadata": {
    "slideshow": {
     "slide_type": "subslide"
    }
   },
   "source": [
    "![innerworkings](images/performance/6_ram.png)"
   ]
  },
  {
   "cell_type": "markdown",
   "metadata": {
    "slideshow": {
     "slide_type": "slide"
    }
   },
   "source": [
    "# Example: blinking leds"
   ]
  },
  {
   "cell_type": "markdown",
   "metadata": {
    "slideshow": {
     "slide_type": "-"
    }
   },
   "source": [
    "``` python\n",
    "led = machine.Pin('LED_BLUE')\n",
    "N = 200000\n",
    "\n",
    "for i in range(N):\n",
    "    led.on()\n",
    "    led.off()\n",
    "```\n",
    "\n",
    "57.93 kblinks/sec"
   ]
  },
  {
   "cell_type": "markdown",
   "metadata": {
    "slideshow": {
     "slide_type": "subslide"
    }
   },
   "source": [
    "## Reasonable optimization (182.39 kblinks/sec)\n",
    "\n",
    "![innerworkings](images/performance/7_example.png)"
   ]
  },
  {
   "cell_type": "markdown",
   "metadata": {
    "slideshow": {
     "slide_type": "subslide"
    }
   },
   "source": [
    "## Hardcore optimizations"
   ]
  },
  {
   "cell_type": "markdown",
   "metadata": {
    "slideshow": {
     "slide_type": "fragment"
    }
   },
   "source": [
    "### @micropython.viper\n",
    "\n",
    "- directly writing GPIO registers\n",
    "- 12890 kblinks/sec"
   ]
  },
  {
   "cell_type": "markdown",
   "metadata": {
    "slideshow": {
     "slide_type": "fragment"
    }
   },
   "source": [
    "### @micropython.asm_thumb\n",
    "\n",
    "- directly writing GPIO registers - in assembler..\n",
    "- 27359 kblinks/sec \n",
    "- 500 times faster than initial code"
   ]
  },
  {
   "cell_type": "markdown",
   "metadata": {
    "slideshow": {
     "slide_type": "subslide"
    }
   },
   "source": [
    "![innerworkings](images/performance/8_example_assembler.png)"
   ]
  },
  {
   "cell_type": "markdown",
   "metadata": {
    "slideshow": {
     "slide_type": "skip"
    }
   },
   "source": [
    "Compiler can emit machine code\n",
    "\n",
    "> ahead-of-time (AOT) compilation is the act of compiling a higher-level programming language such as C or C++, or an intermediate representation such as Java bytecode or .NET Framework Common Intermediate Language (CIL) code, into a native (system-dependent) machine code so that the resulting binary file can execute natively."
   ]
  },
  {
   "cell_type": "markdown",
   "metadata": {
    "slideshow": {
     "slide_type": "subslide"
    }
   },
   "source": [
    "## Flash\n",
    "\n",
    "> For reasons connected with the physical architecture of the flash memory part of this capacity may be inaccessible as a filesystem. In such cases this space may be employed by incorporating user modules into a firmware build which is then flashed to the device.\n"
   ]
  },
  {
   "cell_type": "markdown",
   "metadata": {
    "slideshow": {
     "slide_type": "subslide"
    }
   },
   "source": [
    "### custom build\n",
    "\n",
    "![image.png](https://cdn-learn.adafruit.com/assets/assets/000/035/165/medium800/microcontrollers_Screen_Shot_2016-08-27_at_9.49.51_PM.png?1472360111)\n",
    "\n",
    "**scripts/**: raw Python code stored in the board's flash memory.  \n",
    "\n",
    "**modules/**: using cross-compiler to store python modules as bytecode\n"
   ]
  },
  {
   "cell_type": "markdown",
   "metadata": {
    "slideshow": {
     "slide_type": "skip"
    }
   },
   "source": [
    "\n",
    "\n",
    "### frozen modules (.mpy)\n",
    "\n",
    "Frozen modules store the Python source with the firmware. \n",
    "\n",
    "### frozen bytecode\n",
    "\n",
    "Frozen bytecode uses the cross compiler to convert the source to bytecode which is then stored with the firmware.\n",
    "\n",
    "**Scripts/**: This saves you from having to copy that code onto the board's filesystem, but doesn't save a lot of memory or processing time.\n"
   ]
  },
  {
   "cell_type": "markdown",
   "metadata": {
    "slideshow": {
     "slide_type": "subslide"
    }
   },
   "source": [
    "### Steps:\n",
    "\n",
    "1. Clone the MicroPython repository.\n",
    "- Acquire the (platform specific) toolchain to build the firmware.\n",
    "- Build the cross compiler.\n",
    "- Place the modules to be frozen in a specified directory (dependent on whether the module is to be frozen as source or as bytecode).\n",
    "- Build the firmware. A specific command may be required to build frozen code of either type - see the platform documentation.\n",
    "- Flash the firmware to the device."
   ]
  },
  {
   "cell_type": "markdown",
   "metadata": {
    "slideshow": {
     "slide_type": "slide"
    }
   },
   "source": [
    "# RAM\n",
    "\n",
    "- compilation phase\n",
    "- execution phase"
   ]
  },
  {
   "cell_type": "markdown",
   "metadata": {
    "slideshow": {
     "slide_type": "subslide"
    }
   },
   "source": [
    "## Compilation Phase"
   ]
  },
  {
   "cell_type": "markdown",
   "metadata": {
    "slideshow": {
     "slide_type": "-"
    }
   },
   "source": [
    "#### compiling during runtime requires overhead RAM\n",
    "\n",
    "- import module -> compiled to bytecode -> RAM\n",
    "- instantiated objects -> RAM\n",
    "- The compiler itself requires RAM\n"
   ]
  },
  {
   "cell_type": "markdown",
   "metadata": {
    "slideshow": {
     "slide_type": "fragment"
    }
   },
   "source": [
    "* **Limit module imports**\n",
    "* __Avoid global objects in imported modules__\n",
    "\n",
    "> In general it is best to avoid code which runs on import; a better approach is to have initialisation code which is run by the application after all modules have been imported.\n"
   ]
  },
  {
   "cell_type": "markdown",
   "metadata": {
    "slideshow": {
     "slide_type": "skip"
    }
   },
   "source": [
    "When a module is imported, MicroPython compiles the code to bytecode which is then executed by the MicroPython virtual machine (VM). The bytecode is stored in RAM. The compiler itself requires RAM, but this becomes available for use when the compilation has completed.\n",
    "\n",
    "### Frozen modules\n",
    "\n",
    "### Frozen bytecode\n",
    "\n",
    "on most platforms this saves even more RAM as the bytecode is run directly from flash rather than being stored in RAM."
   ]
  },
  {
   "cell_type": "markdown",
   "metadata": {
    "slideshow": {
     "slide_type": "subslide"
    }
   },
   "source": [
    "## Exection phase"
   ]
  },
  {
   "cell_type": "markdown",
   "metadata": {
    "slideshow": {
     "slide_type": "subslide"
    }
   },
   "source": [
    "## Constants\n",
    "\n",
    "```\n",
    "from micropython import const\n",
    "ROWS = const(33)\n",
    "_COLS = const(0x10)\n",
    "a = ROWS\n",
    "b = _COLS\n",
    "```\n",
    "\n",
    "- compiler substitutes identifier with numeric value in bytecode \n",
    "  - this avoids a dictionary lookup at runtime.\n",
    "- anything that evaluates to integer compile time"
   ]
  },
  {
   "cell_type": "markdown",
   "metadata": {
    "slideshow": {
     "slide_type": "skip"
    }
   },
   "source": [
    "In both instances where the constant is assigned to a variable the compiler will avoid coding a lookup to the name of the constant by substituting its literal value. This saves bytecode and hence RAM. However the ROWS value will occupy at least two machine words, one each for the key and value in the globals dictionary. The presence in the dictionary is necessary because another module might import or use it. This RAM can be saved by prepending the name with an underscore as in _COLS: this symbol is not visible outside the module so will not occupy RAM.\n",
    "\n",
    "The argument to const() may be anything which, at compile time, evaluates to an integer e.g. 0x100 or 1 << 8. It can even include other const symbols that have already been defined, e.g. 1 << BIT."
   ]
  },
  {
   "cell_type": "markdown",
   "metadata": {
    "slideshow": {
     "slide_type": "subslide"
    }
   },
   "source": [
    "## Constant data structures"
   ]
  },
  {
   "cell_type": "markdown",
   "metadata": {},
   "source": [
    "- Store data as bytes in frozen bytecode.\n",
    "- Use ustruct to convert between bytes and python built-in types\n",
    "    - strings\n",
    "    - numeric data\n",
    "\n",
    "The compiler ‘knows’ that bytes objects are immutable and ensures that the objects remain in flash memory rather than being copied to RAM.\n"
   ]
  },
  {
   "cell_type": "markdown",
   "metadata": {
    "slideshow": {
     "slide_type": "skip"
    }
   },
   "source": [
    "Where there is a substantial volume of constant data and the platform supports execution from Flash, RAM may be saved as follows. The data should be located in Python modules and frozen as bytecode. The data must be defined as bytes objects. The compiler ‘knows’ that bytes objects are immutable and ensures that the objects remain in flash memory rather than being copied to RAM. The ustruct module can assist in converting between bytes types and other Python built-in types.\n",
    "\n",
    "When considering the implications of frozen bytecode, note that in Python strings, floats, bytes, integers and complex numbers are immutable. Accordingly these will be frozen into flash. Thus, in the line\n",
    "\n",
    "`mystring = \"The quick brown fox\"`\n",
    "\n",
    "the actual string “The quick brown fox” will reside in flash. At runtime a reference to the string is assigned to the variable mystring. The reference occupies a single machine word. In principle a long integer could be used to store constant data:\n",
    "\n",
    "`bar = 0xDEADBEEF0000DEADBEEF`\n",
    "\n",
    "As in the string example, at runtime a reference to the arbitrarily large integer is assigned to the variable bar. That reference occupies a single machine word."
   ]
  },
  {
   "cell_type": "markdown",
   "metadata": {
    "slideshow": {
     "slide_type": "subslide"
    }
   },
   "source": [
    "### String concatenation\n",
    "\n",
    "```\n",
    "\n",
    "var1 = \"foo\" \"bar\"\n",
    "var2 = \"\"\"\\\n",
    "foo\\\n",
    "bar\"\"\"\n",
    "```\n",
    "\n",
    "Creates at compile time\n",
    "\n",
    "`var = \"foo\" + \"bar\"`\n",
    "\n",
    "Creates \"foo\", \"bar\" and var at runtime"
   ]
  },
  {
   "cell_type": "markdown",
   "metadata": {
    "slideshow": {
     "slide_type": "-"
    }
   },
   "source": [
    "> The best way to create dynamic strings is by means of the string format() method:\n",
    "\n",
    "`var = \"Temperature {:5.2f} Pressure {:06d}\\n\".format(temp, press)`"
   ]
  },
  {
   "cell_type": "markdown",
   "metadata": {
    "slideshow": {
     "slide_type": "subslide"
    }
   },
   "source": [
    "## Buffers\n",
    "\n",
    "\n",
    "When accessing devices such as instances of UART, I2C and SPI interfaces, using pre-allocated buffers avoids the creation of needless objects. Consider these two loops:\n",
    "\n",
    "```\n",
    "while True:\n",
    "    var = spi.read(100)\n",
    "    # process data\n",
    "\n",
    "buf = bytearray(100)\n",
    "while True:\n",
    "    spi.readinto(buf)\n",
    "    # process data in buf\n",
    "```\n",
    "\n",
    "The first creates a buffer on each pass whereas the second re-uses a pre-allocated buffer; this is both faster and more efficient in terms of memory fragmentation."
   ]
  },
  {
   "cell_type": "markdown",
   "metadata": {
    "slideshow": {
     "slide_type": "slide"
    }
   },
   "source": [
    "## Heap"
   ]
  },
  {
   "cell_type": "markdown",
   "metadata": {
    "slideshow": {
     "slide_type": "subslide"
    }
   },
   "source": [
    "## Heap fragmentation\n",
    "\n",
    "<img width=\"500px\" src=\"https://upload.wikimedia.org/wikipedia/commons/4/4a/External_Fragmentation.svg\" align=\"right\" alt=\"Alt text that describes the graphic\" title=\"https://commons.wikimedia.org/wiki/File:External_Fragmentation.svg\">\n"
   ]
  },
  {
   "cell_type": "markdown",
   "metadata": {
    "slideshow": {
     "slide_type": "fragment"
    }
   },
   "source": [
    "- <font color=\"red\">Minimise</font> the repeated creation and destruction of objects!\n",
    "- instantiate large buffers/objects early\n",
    "- periodic use of `gc.collect()` (few ms)"
   ]
  },
  {
   "cell_type": "markdown",
   "metadata": {
    "slideshow": {
     "slide_type": "fragment"
    }
   },
   "source": [
    "> The discourse on this is somewhat involved. For a ‘quick fix’ issue the following periodically:\n",
    "\n",
    "```\n",
    "gc.collect()\n",
    "gc.threshold( (gc.mem_free() // 10) + gc.mem_alloc())\n",
    "```"
   ]
  },
  {
   "cell_type": "markdown",
   "metadata": {
    "slideshow": {
     "slide_type": "skip"
    }
   },
   "source": [
    "This will provoke a GC when more than 10% of the currently free heap becomes occupied."
   ]
  },
  {
   "cell_type": "markdown",
   "metadata": {
    "slideshow": {
     "slide_type": "skip"
    }
   },
   "source": [
    "## Commands"
   ]
  },
  {
   "cell_type": "code",
   "execution_count": 2,
   "metadata": {
    "slideshow": {
     "slide_type": "skip"
    }
   },
   "outputs": [
    {
     "ename": "ModuleNotFoundError",
     "evalue": "No module named 'micropython'",
     "output_type": "error",
     "traceback": [
      "\u001b[0;31m---------------------------------------------------------------------------\u001b[0m",
      "\u001b[0;31mModuleNotFoundError\u001b[0m                       Traceback (most recent call last)",
      "\u001b[0;32m<ipython-input-2-e50684927c42>\u001b[0m in \u001b[0;36m<module>\u001b[0;34m()\u001b[0m\n\u001b[1;32m      1\u001b[0m \u001b[0;32mimport\u001b[0m \u001b[0mgc\u001b[0m\u001b[0;34m\u001b[0m\u001b[0m\n\u001b[0;32m----> 2\u001b[0;31m \u001b[0;32mimport\u001b[0m \u001b[0mmicropython\u001b[0m\u001b[0;34m\u001b[0m\u001b[0m\n\u001b[0m\u001b[1;32m      3\u001b[0m \u001b[0mgc\u001b[0m\u001b[0;34m.\u001b[0m\u001b[0mcollect\u001b[0m\u001b[0;34m(\u001b[0m\u001b[0;34m)\u001b[0m\u001b[0;34m\u001b[0m\u001b[0m\n\u001b[1;32m      4\u001b[0m \u001b[0mmicropython\u001b[0m\u001b[0;34m.\u001b[0m\u001b[0mmem_info\u001b[0m\u001b[0;34m(\u001b[0m\u001b[0;34m)\u001b[0m\u001b[0;34m\u001b[0m\u001b[0m\n\u001b[1;32m      5\u001b[0m \u001b[0mprint\u001b[0m\u001b[0;34m(\u001b[0m\u001b[0;34m'-----------------------------'\u001b[0m\u001b[0;34m)\u001b[0m\u001b[0;34m\u001b[0m\u001b[0m\n",
      "\u001b[0;31mModuleNotFoundError\u001b[0m: No module named 'micropython'"
     ]
    }
   ],
   "source": [
    "import gc\n",
    "import micropython\n",
    "gc.collect()\n",
    "micropython.mem_info()\n",
    "print('-----------------------------')\n",
    "print('Initial free: {} allocated: {}'.format(gc.mem_free(), gc.mem_alloc()))\n",
    "def func():\n",
    "    a = bytearray(10000)\n",
    "gc.collect()\n",
    "print('Func definition: {} allocated: {}'.format(gc.mem_free(), gc.mem_alloc()))\n",
    "func()\n",
    "print('Func run free: {} allocated: {}'.format(gc.mem_free(), gc.mem_alloc()))\n",
    "gc.collect()\n",
    "print('Garbage collect free: {} allocated: {}'.format(gc.mem_free(), gc.mem_alloc()))\n",
    "print('-----------------------------')\n",
    "micropython.mem_info(1)"
   ]
  },
  {
   "cell_type": "markdown",
   "metadata": {
    "slideshow": {
     "slide_type": "skip"
    }
   },
   "source": [
    "- gc.collect() Force a garbage collection.\n",
    "- micropython.mem_info() Print a summary of RAM utilisation.\n",
    "- gc.mem_free() Return the free heap size in bytes.\n",
    "- gc.mem_alloc() Return the number of bytes currently allocated.\n",
    "- micropython.mem_info(1) Print a table of heap utilisation (detailed below)."
   ]
  },
  {
   "cell_type": "markdown",
   "metadata": {
    "slideshow": {
     "slide_type": "skip"
    }
   },
   "source": [
    "Error messages can be strange\n",
    "\n",
    "```\n",
    "with open(\"file.txt\") as f:\n",
    "    f.write(\"hello world\")\n",
    "```"
   ]
  },
  {
   "cell_type": "markdown",
   "metadata": {
    "slideshow": {
     "slide_type": "slide"
    }
   },
   "source": [
    "## Performance"
   ]
  },
  {
   "cell_type": "markdown",
   "metadata": {
    "slideshow": {
     "slide_type": "fragment"
    }
   },
   "source": [
    "- Locally scope your variables\n",
    "- Avoid floating Point arithmetric\n",
    "- Use allocate buffers (instead of appending list)"
   ]
  },
  {
   "cell_type": "markdown",
   "metadata": {
    "slideshow": {
     "slide_type": "skip"
    }
   },
   "source": [
    "Some MicroPython ports allocate floating point numbers on heap. Some other ports may lack dedicated floating-point coprocessor, and perform arithmetic operations on them in “software” at considerably lower speed than on integers."
   ]
  },
  {
   "cell_type": "markdown",
   "metadata": {
    "slideshow": {
     "slide_type": "fragment"
    }
   },
   "source": [
    "- Caching object references"
   ]
  },
  {
   "cell_type": "code",
   "execution_count": null,
   "metadata": {
    "slideshow": {
     "slide_type": "-"
    }
   },
   "outputs": [],
   "source": [
    "class Tank(object):\n",
    "    def __init__(self):\n",
    "        self.targets = bytearray(100)\n",
    "    def identify_target(self, obj_display):\n",
    "        targets_ref = self.targets\n",
    "        fb = obj_display.framebuffer\n",
    "        (...)"
   ]
  }
 ],
 "metadata": {
  "celltoolbar": "Slideshow",
  "kernelspec": {
   "display_name": "Python 3",
   "language": "python",
   "name": "python3"
  },
  "language_info": {
   "codemirror_mode": {
    "name": "ipython",
    "version": 3
   },
   "file_extension": ".py",
   "mimetype": "text/x-python",
   "name": "python",
   "nbconvert_exporter": "python",
   "pygments_lexer": "ipython3",
   "version": "3.6.5"
  },
  "livereveal": {
   "autolaunch": true,
   "height": 900,
   "scroll": true,
   "start_slideshow_at": "selected",
   "width": 1600
  }
 },
 "nbformat": 4,
 "nbformat_minor": 2
}
