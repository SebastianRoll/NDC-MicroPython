{
 "cells": [
  {
   "cell_type": "markdown",
   "metadata": {},
   "source": [
    "## Flash"
   ]
  },
  {
   "cell_type": "markdown",
   "metadata": {
    "slideshow": {
     "slide_type": "subslide"
    }
   },
   "source": [
    "## frozen modules\n",
    "\n",
    "http://docs.micropython.org/en/latest/pyboard/reference/constrained.html\n",
    "\n",
    "- parts of flash might not be available as filesystem.\n",
    "\n",
    "platform dependent\n",
    "\n",
    "### frozen modules (.mpy)\n",
    "\n",
    "Frozen modules store the Python source with the firmware. \n",
    "\n",
    "### frozen bytecode\n",
    "\n",
    "Frozen bytecode uses the cross compiler to convert the source to bytecode which is then stored with the firmware."
   ]
  },
  {
   "cell_type": "markdown",
   "metadata": {
    "slideshow": {
     "slide_type": "fragment"
    }
   },
   "source": [
    "Steps:\n",
    "    \n",
    "1. Clone the MicroPython repository.\n",
    "- Acquire the (platform specific) toolchain to build the firmware.\n",
    "- Build the cross compiler.\n",
    "- Place the modules to be frozen in a specified directory (dependent on whether the module is to be frozen as source or as bytecode).\n",
    "- Build the firmware. A specific command may be required to build frozen code of either type - see the platform documentation.\n",
    "- Flash the firmware to the device."
   ]
  },
  {
   "cell_type": "markdown",
   "metadata": {
    "slideshow": {
     "slide_type": "slide"
    }
   },
   "source": [
    "# RAM"
   ]
  },
  {
   "cell_type": "markdown",
   "metadata": {
    "slideshow": {
     "slide_type": "subslide"
    }
   },
   "source": [
    "## Compilation Phase"
   ]
  },
  {
   "cell_type": "markdown",
   "metadata": {
    "slideshow": {
     "slide_type": "-"
    }
   },
   "source": [
    "#### compiling during runtime requires overhead RAM\n",
    "\n",
    "- import module -> compiled to bytecode -> RAM\n",
    "- instantiated objects -> RAM\n",
    "- The compiler itself requires RAM\n"
   ]
  },
  {
   "cell_type": "markdown",
   "metadata": {
    "slideshow": {
     "slide_type": "fragment"
    }
   },
   "source": [
    "* Limit module imports\n",
    "* Avoid global objects in imported modules\n",
    "\n",
    "> In general it is best to avoid code which runs on import; a better approach is to have initialisation code which is run by the application after all modules have been imported.\n"
   ]
  },
  {
   "cell_type": "markdown",
   "metadata": {
    "slideshow": {
     "slide_type": "skip"
    }
   },
   "source": [
    "When a module is imported, MicroPython compiles the code to bytecode which is then executed by the MicroPython virtual machine (VM). The bytecode is stored in RAM. The compiler itself requires RAM, but this becomes available for use when the compilation has completed.\n",
    "\n",
    "### Frozen modules\n",
    "\n",
    "### Frozen bytecode\n",
    "\n",
    "on most platforms this saves even more RAM as the bytecode is run directly from flash rather than being stored in RAM."
   ]
  },
  {
   "cell_type": "markdown",
   "metadata": {
    "slideshow": {
     "slide_type": "subslide"
    }
   },
   "source": [
    "## Exection phase"
   ]
  },
  {
   "cell_type": "markdown",
   "metadata": {
    "slideshow": {
     "slide_type": "subslide"
    }
   },
   "source": [
    "## Constants\n",
    "\n",
    "```\n",
    "from micropython import const\n",
    "ROWS = const(33)\n",
    "_COLS = const(0x10)\n",
    "a = ROWS\n",
    "b = _COLS\n",
    "```\n",
    "\n",
    "- compiler substitutes identifier with numeric value in bytecode \n",
    "  - this avoids a dictionary lookup at runtime.\n",
    "- anything that evaluates to integer compile time"
   ]
  },
  {
   "cell_type": "markdown",
   "metadata": {
    "slideshow": {
     "slide_type": "skip"
    }
   },
   "source": [
    "In both instances where the constant is assigned to a variable the compiler will avoid coding a lookup to the name of the constant by substituting its literal value. This saves bytecode and hence RAM. However the ROWS value will occupy at least two machine words, one each for the key and value in the globals dictionary. The presence in the dictionary is necessary because another module might import or use it. This RAM can be saved by prepending the name with an underscore as in _COLS: this symbol is not visible outside the module so will not occupy RAM.\n",
    "\n",
    "The argument to const() may be anything which, at compile time, evaluates to an integer e.g. 0x100 or 1 << 8. It can even include other const symbols that have already been defined, e.g. 1 << BIT."
   ]
  },
  {
   "cell_type": "markdown",
   "metadata": {},
   "source": [
    "## Constant data structures"
   ]
  },
  {
   "cell_type": "markdown",
   "metadata": {},
   "source": [
    "Where there is a substantial volume of constant data and the platform supports execution from Flash, RAM may be saved as follows. The data should be located in Python modules and frozen as bytecode. The data must be defined as bytes objects. The compiler ‘knows’ that bytes objects are immutable and ensures that the objects remain in flash memory rather than being copied to RAM. The ustruct module can assist in converting between bytes types and other Python built-in types.\n",
    "\n",
    "When considering the implications of frozen bytecode, note that in Python strings, floats, bytes, integers and complex numbers are immutable. Accordingly these will be frozen into flash. Thus, in the line\n",
    "\n",
    "`mystring = \"The quick brown fox\"`\n",
    "\n",
    "the actual string “The quick brown fox” will reside in flash. At runtime a reference to the string is assigned to the variable mystring. The reference occupies a single machine word. In principle a long integer could be used to store constant data:\n",
    "\n",
    "`bar = 0xDEADBEEF0000DEADBEEF`\n",
    "\n",
    "As in the string example, at runtime a reference to the arbitrarily large integer is assigned to the variable bar. That reference occupies a single machine word."
   ]
  },
  {
   "cell_type": "markdown",
   "metadata": {
    "slideshow": {
     "slide_type": "subslide"
    }
   },
   "source": [
    "### String concatenation\n",
    "\n",
    "```\n",
    "\n",
    "var1 = \"foo\" \"bar\"\n",
    "var2 = \"\"\"\\\n",
    "foo\\\n",
    "bar\"\"\"\n",
    "```\n",
    "\n",
    "Creates at compile time\n",
    "\n",
    "`var = \"foo\" + \"bar\"`\n",
    "\n",
    "Creates \"foo\", \"bar\" and var at runtime"
   ]
  },
  {
   "cell_type": "markdown",
   "metadata": {
    "slideshow": {
     "slide_type": "fragment"
    }
   },
   "source": [
    "> The best way to create dynamic strings is by means of the string format() method:\n",
    "\n",
    "`var = \"Temperature {:5.2f} Pressure {:06d}\\n\".format(temp, press)`"
   ]
  },
  {
   "cell_type": "markdown",
   "metadata": {
    "slideshow": {
     "slide_type": "subslide"
    }
   },
   "source": [
    "## Buffers\n",
    "\n",
    "\n",
    "When accessing devices such as instances of UART, I2C and SPI interfaces, using pre-allocated buffers avoids the creation of needless objects. Consider these two loops:\n",
    "\n",
    "```\n",
    "while True:\n",
    "    var = spi.read(100)\n",
    "    # process data\n",
    "\n",
    "buf = bytearray(100)\n",
    "while True:\n",
    "    spi.readinto(buf)\n",
    "    # process data in buf\n",
    "```\n",
    "\n",
    "The first creates a buffer on each pass whereas the second re-uses a pre-allocated buffer; this is both faster and more efficient in terms of memory fragmentation."
   ]
  },
  {
   "cell_type": "markdown",
   "metadata": {
    "slideshow": {
     "slide_type": "slide"
    }
   },
   "source": [
    "## Heap"
   ]
  },
  {
   "cell_type": "markdown",
   "metadata": {
    "slideshow": {
     "slide_type": "subslide"
    }
   },
   "source": [
    "## Heap fragmentation\n",
    "\n",
    "<img width=\"500px\" src=\"https://upload.wikimedia.org/wikipedia/commons/4/4a/External_Fragmentation.svg\" align=\"right\" alt=\"Alt text that describes the graphic\" title=\"https://commons.wikimedia.org/wiki/File:External_Fragmentation.svg\">\n"
   ]
  },
  {
   "cell_type": "markdown",
   "metadata": {
    "slideshow": {
     "slide_type": "fragment"
    }
   },
   "source": [
    "- <font color=\"red\">Minimise</font> the repeated creation and destruction of objects!\n",
    "- instantiate large buffers/objects early\n",
    "- periodic use of `gc.collect()` (few ms)"
   ]
  },
  {
   "cell_type": "markdown",
   "metadata": {
    "slideshow": {
     "slide_type": "fragment"
    }
   },
   "source": [
    "> The discourse on this is somewhat involved. For a ‘quick fix’ issue the following periodically:\n",
    "\n",
    "```\n",
    "gc.collect()\n",
    "gc.threshold( (gc.mem_free() // 10) + gc.mem_alloc())\n",
    "```"
   ]
  },
  {
   "cell_type": "markdown",
   "metadata": {
    "slideshow": {
     "slide_type": "skip"
    }
   },
   "source": [
    "This will provoke a GC when more than 10% of the currently free heap becomes occupied."
   ]
  },
  {
   "cell_type": "markdown",
   "metadata": {
    "slideshow": {
     "slide_type": "skip"
    }
   },
   "source": [
    "## Commands"
   ]
  },
  {
   "cell_type": "code",
   "execution_count": null,
   "metadata": {
    "slideshow": {
     "slide_type": "skip"
    }
   },
   "outputs": [],
   "source": [
    "import gc\n",
    "import micropython\n",
    "gc.collect()\n",
    "micropython.mem_info()\n",
    "print('-----------------------------')\n",
    "print('Initial free: {} allocated: {}'.format(gc.mem_free(), gc.mem_alloc()))\n",
    "def func():\n",
    "    a = bytearray(10000)\n",
    "gc.collect()\n",
    "print('Func definition: {} allocated: {}'.format(gc.mem_free(), gc.mem_alloc()))\n",
    "func()\n",
    "print('Func run free: {} allocated: {}'.format(gc.mem_free(), gc.mem_alloc()))\n",
    "gc.collect()\n",
    "print('Garbage collect free: {} allocated: {}'.format(gc.mem_free(), gc.mem_alloc()))\n",
    "print('-----------------------------')\n",
    "micropython.mem_info(1)"
   ]
  },
  {
   "cell_type": "markdown",
   "metadata": {
    "slideshow": {
     "slide_type": "skip"
    }
   },
   "source": [
    "- gc.collect() Force a garbage collection.\n",
    "- micropython.mem_info() Print a summary of RAM utilisation.\n",
    "- gc.mem_free() Return the free heap size in bytes.\n",
    "- gc.mem_alloc() Return the number of bytes currently allocated.\n",
    "- micropython.mem_info(1) Print a table of heap utilisation (detailed below)."
   ]
  },
  {
   "cell_type": "markdown",
   "metadata": {
    "slideshow": {
     "slide_type": "subslide"
    }
   },
   "source": [
    "Error messages can be strange\n",
    "\n",
    "```\n",
    "with open(\"file.txt\") as f:\n",
    "    f.write(\"hello world\")\n",
    "``"
   ]
  },
  {
   "cell_type": "markdown",
   "metadata": {
    "slideshow": {
     "slide_type": "slide"
    }
   },
   "source": [
    "## Performance"
   ]
  },
  {
   "cell_type": "markdown",
   "metadata": {
    "slideshow": {
     "slide_type": "fragment"
    }
   },
   "source": [
    "- Floating Point arithmetric\n",
    "- Allocate buffers (instead of appending list)"
   ]
  },
  {
   "cell_type": "markdown",
   "metadata": {
    "slideshow": {
     "slide_type": "skip"
    }
   },
   "source": [
    "Some MicroPython ports allocate floating point numbers on heap. Some other ports may lack dedicated floating-point coprocessor, and perform arithmetic operations on them in “software” at considerably lower speed than on integers."
   ]
  },
  {
   "cell_type": "markdown",
   "metadata": {
    "slideshow": {
     "slide_type": "fragment"
    }
   },
   "source": [
    "- Caching object references"
   ]
  },
  {
   "cell_type": "code",
   "execution_count": 9,
   "metadata": {
    "slideshow": {
     "slide_type": "-"
    }
   },
   "outputs": [],
   "source": [
    "class Tank(object):\n",
    "    def __init__(self):\n",
    "        self.targets = bytearray(100)\n",
    "    def identify_target(self, obj_display):\n",
    "        targets_ref = self.targets\n",
    "        fb = obj_display.framebuffer\n",
    "        (...)"
   ]
  }
 ],
 "metadata": {
  "celltoolbar": "Slideshow",
  "kernelspec": {
   "display_name": "Python 3",
   "language": "python",
   "name": "python3"
  },
  "language_info": {
   "codemirror_mode": {
    "name": "ipython",
    "version": 3
   },
   "file_extension": ".py",
   "mimetype": "text/x-python",
   "name": "python",
   "nbconvert_exporter": "python",
   "pygments_lexer": "ipython3",
   "version": "3.6.3"
  }
 },
 "nbformat": 4,
 "nbformat_minor": 2
}
