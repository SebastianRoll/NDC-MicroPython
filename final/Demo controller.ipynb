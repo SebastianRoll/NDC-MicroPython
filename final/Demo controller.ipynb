{
 "cells": [
  {
   "cell_type": "markdown",
   "metadata": {
    "slideshow": {
     "slide_type": "skip"
    }
   },
   "source": [
    "%%HTML\n",
    "<style>\n",
    "\n",
    ".CodeMirror {\n",
    "    width: 100vw;\n",
    "}\n",
    "\n",
    ".container {\n",
    "    width: 69% !important;\n",
    "}\n",
    "\n",
    ".rendered_html {\n",
    "  font-size:0.8em;\n",
    "}\n",
    ".rendered_html table, .rendered_html th, .rendered_html tr, .rendered_html td {\n",
    "     font-size: 100%;\n",
    "}\n",
    "\n",
    "</style>"
   ]
  },
  {
   "cell_type": "markdown",
   "metadata": {
    "slideshow": {
     "slide_type": "slide"
    }
   },
   "source": [
    "### Pushbuttons"
   ]
  },
  {
   "cell_type": "code",
   "execution_count": null,
   "metadata": {
    "slideshow": {
     "slide_type": "fragment"
    }
   },
   "outputs": [],
   "source": [
    "from machine import Pin\n",
    "\n",
    "button = Pin(27, Pin.IN, Pin.PULL_UP)"
   ]
  },
  {
   "cell_type": "code",
   "execution_count": 1,
   "metadata": {
    "collapsed": true
   },
   "outputs": [
    {
     "name": "stdout",
     "output_type": "stream",
     "text": [
      "Traceback (most recent call last):\r\n",
      "  File \"<stdin>\", line 1, in <module>\r\n",
      "NameError: name 'button' is not defined\r\n"
     ]
    }
   ],
   "source": [
    "print(button.value())"
   ]
  },
  {
   "cell_type": "code",
   "execution_count": null,
   "metadata": {
    "slideshow": {
     "slide_type": "fragment"
    }
   },
   "outputs": [],
   "source": [
    "from time import sleep\n",
    "\n",
    "while True:\n",
    "    print(button.value())\n",
    "    sleep(1)"
   ]
  },
  {
   "cell_type": "markdown",
   "metadata": {
    "slideshow": {
     "slide_type": "subslide"
    }
   },
   "source": [
    "## Interrupt handlers\n",
    "\n",
    "ISR (interrupt service routines)"
   ]
  },
  {
   "cell_type": "code",
   "execution_count": 103,
   "metadata": {
    "slideshow": {
     "slide_type": "fragment"
    }
   },
   "outputs": [
    {
     "name": "stdout",
     "output_type": "stream",
     "text": []
    }
   ],
   "source": [
    "def interrupt(p):\n",
    "    print(\"Button clicked!\")\n",
    "    \n",
    "button.irq(trigger=Pin.IRQ_FALLING, handler=interrupt)"
   ]
  },
  {
   "cell_type": "code",
   "execution_count": 10,
   "metadata": {
    "collapsed": true
   },
   "outputs": [
    {
     "name": "stdout",
     "output_type": "stream",
     "text": [
      "object <class 'Timer'> is of type type\r\n",
      "  __del__ -- <function>\r\n",
      "  deinit -- <function>\r\n",
      "  init -- <function>\r\n",
      "  value -- <function>\r\n",
      "  ONE_SHOT -- 0\r\n",
      "  PERIODIC -- 1\r\n"
     ]
    }
   ],
   "source": [
    "import machine\n",
    "help(machine.Timer)"
   ]
  },
  {
   "cell_type": "code",
   "execution_count": 4,
   "metadata": {
    "slideshow": {
     "slide_type": "fragment"
    }
   },
   "outputs": [
    {
     "name": "stdout",
     "output_type": "stream",
     "text": []
    }
   ],
   "source": [
    "import micropython\n",
    "micropython.alloc_emergency_exception_buf(100)"
   ]
  },
  {
   "cell_type": "markdown",
   "metadata": {
    "slideshow": {
     "slide_type": "slide"
    }
   },
   "source": [
    "## OLED Display (SSD-1351)\n",
    "\n",
    "![ssd1351](images/components/ssd1351.jpg)"
   ]
  },
  {
   "cell_type": "markdown",
   "metadata": {
    "slideshow": {
     "slide_type": "subslide"
    }
   },
   "source": [
    "## SPI (Serial Peripheral Interface Bus) - 1980s\n",
    "\n",
    "\n",
    "![SPI](https://upload.wikimedia.org/wikipedia/commons/9/97/SPI_three_slaves_daisy_chained.svg)"
   ]
  },
  {
   "cell_type": "markdown",
   "metadata": {
    "slideshow": {
     "slide_type": "fragment"
    }
   },
   "source": [
    "# I2C (Inter-Integrated Circuit) - 1982\n",
    "\n",
    "![I2C](https://upload.wikimedia.org/wikipedia/commons/thumb/3/3e/I2C.svg/300px-I2C.svg.png)"
   ]
  },
  {
   "cell_type": "markdown",
   "metadata": {
    "slideshow": {
     "slide_type": "skip"
    }
   },
   "source": [
    "- SPI: \n",
    " - software (-1) and \n",
    " - hardware (0, 1, 2, ..),  up to 80Mhz\n",
    "- I2C: software (bit-banging)"
   ]
  },
  {
   "cell_type": "code",
   "execution_count": 11,
   "metadata": {
    "slideshow": {
     "slide_type": "subslide"
    }
   },
   "outputs": [
    {
     "name": "stdout",
     "output_type": "stream",
     "text": []
    }
   ],
   "source": [
    "from machine import Pin, SPI, ADC\n",
    "from time import sleep\n",
    "from ssd1351 import Display, color565\n",
    "\n",
    "def setup_display():\n",
    "    spi = SPI(2, 14500000, miso=Pin(19), mosi=Pin(18), sck=Pin(5))\n",
    "    display = Display(spi, rst=Pin(26), dc=Pin(25), cs=Pin(4))\n",
    "    return display\n",
    "\n",
    "def cleanup_display(display):\n",
    "    print('clearing display')\n",
    "    display.clear()\n",
    "    display.cleanup()\n",
    "\n",
    "display = setup_display()"
   ]
  },
  {
   "cell_type": "code",
   "execution_count": 3,
   "metadata": {
    "slideshow": {
     "slide_type": "skip"
    }
   },
   "outputs": [
    {
     "name": "stdout",
     "output_type": "stream",
     "text": [
      "Traceback (most recent call last):\r\n",
      "  File \"<stdin>\", line 1, in <module>\r\n",
      "OSError: SPI device already in use\r\n"
     ]
    }
   ],
   "source": [
    "spi = SPI(2, 14500000, miso=Pin(19), mosi=Pin(18), sck=Pin(5))\n",
    "display = Display(spi, rst=Pin(26), dc=Pin(25), cs=Pin(4))"
   ]
  },
  {
   "cell_type": "code",
   "execution_count": 4,
   "metadata": {
    "slideshow": {
     "slide_type": "fragment"
    }
   },
   "outputs": [
    {
     "name": "stdout",
     "output_type": "stream",
     "text": [
      "Traceback (most recent call last):\r\n",
      "  File \"<stdin>\", line 1, in <module>\r\n",
      "  File \"ssd1351.py\", line 137, in clear\r\n",
      "  File \"ssd1351.py\", line 111, in block\r\n",
      "  File \"ssd1351.py\", line 819, in write_cmd\r\n",
      "OSError: transfer on deinitialized SPI\r\n"
     ]
    }
   ],
   "source": [
    "display.clear()\n",
    "display.cleanup()"
   ]
  },
  {
   "cell_type": "code",
   "execution_count": 6,
   "metadata": {},
   "outputs": [
    {
     "name": "stdout",
     "output_type": "stream",
     "text": []
    }
   ],
   "source": [
    "display.fill_rectangle(0, 0, 100, 100, color565(255, 255, 0))"
   ]
  },
  {
   "cell_type": "code",
   "execution_count": 5,
   "metadata": {
    "slideshow": {
     "slide_type": "subslide"
    }
   },
   "outputs": [
    {
     "name": "stdout",
     "output_type": "stream",
     "text": []
    }
   ],
   "source": [
    "from xglcd_font import XglcdFont\n",
    "font = XglcdFont('fonts/Bally7x9.c', 7, 9)\n",
    "\n",
    "display.draw_text(10, 20, \"NDC 2018!\", font, color565(0, 0, 255))"
   ]
  },
  {
   "cell_type": "markdown",
   "metadata": {},
   "source": [
    "<p align=\"center\">\n",
    "    <img src=\"images/mine/ssd1351_text.jpg\" width=500>\n",
    "</p>"
   ]
  },
  {
   "cell_type": "markdown",
   "metadata": {
    "slideshow": {
     "slide_type": "slide"
    }
   },
   "source": [
    "### Joystick \n",
    "\n",
    "<img align=\"left\" src=\"images/components/joystick.jpg\" width=300>\n"
   ]
  },
  {
   "cell_type": "markdown",
   "metadata": {
    "slideshow": {
     "slide_type": "slide"
    }
   },
   "source": [
    "<img align=\"left\" src=\"images/concepts/ADC.png\" width=500>\n",
    "- Attentuation level (voltage measurement range)\n",
    "- Bit size (resolution)"
   ]
  },
  {
   "cell_type": "code",
   "execution_count": null,
   "metadata": {
    "slideshow": {
     "slide_type": "skip"
    }
   },
   "outputs": [],
   "source": [
    "import time\n",
    "t = time.time()\n",
    "print(t)\n",
    "time.sleep(1)\n",
    "print(time.time()-t)"
   ]
  },
  {
   "cell_type": "code",
   "execution_count": 12,
   "metadata": {
    "slideshow": {
     "slide_type": "subslide"
    }
   },
   "outputs": [
    {
     "name": "stdout",
     "output_type": "stream",
     "text": []
    }
   ],
   "source": [
    "from machine import Pin, ADC\n",
    "import time\n",
    "sw = Pin(27, Pin.IN, Pin.PULL_UP)\n",
    "adcl = ADC(Pin(32))\n",
    "adcl.atten(ADC.ATTN_11DB)\n",
    "adcr = ADC(Pin(39))\n",
    "adcr.atten(ADC.ATTN_11DB) # change attentuation level 0-3.3V\n",
    "\n",
    "color = color565(255, 0, 0)\n",
    "while True:\n",
    "    if sw.value() == 0:\n",
    "        display.clear(color565(0, 0, 0))\n",
    "        break\n",
    "    x = 127 - (max(6, min(120, int(adcl.read()/32))))\n",
    "    y = max(6, min(120, int(adcr.read()/32)))\n",
    "    display.clear(color565(0, 0, 0))\n",
    "    display.fill_circle(x, y, 6, color)\n",
    "    sleep(0.01)"
   ]
  },
  {
   "cell_type": "code",
   "execution_count": 15,
   "metadata": {},
   "outputs": [
    {
     "name": "stdout",
     "output_type": "stream",
     "text": []
    }
   ],
   "source": [
    "for i in range(30):\n",
    "    display.draw_circle(64, 64, i, color565(i*4, 0, 0))"
   ]
  },
  {
   "cell_type": "markdown",
   "metadata": {
    "slideshow": {
     "slide_type": "skip"
    }
   },
   "source": [
    "Consider adding irq on switch button to change color"
   ]
  },
  {
   "cell_type": "markdown",
   "metadata": {
    "slideshow": {
     "slide_type": "slide"
    }
   },
   "source": [
    "### Microphone\n",
    "\n",
    "<img align=\"left\" src=\"images/components/max9814 mic.jpeg\" width=300>"
   ]
  },
  {
   "cell_type": "code",
   "execution_count": 14,
   "metadata": {
    "slideshow": {
     "slide_type": "fragment"
    }
   },
   "outputs": [
    {
     "name": "stdout",
     "output_type": "stream",
     "text": [
      "1323\r\n"
     ]
    }
   ],
   "source": [
    "from machine import Pin, SPI, ADC\n",
    "from time import sleep\n",
    "mic = ADC(Pin(33))\n",
    "mic.atten(ADC.ATTN_11DB)\n",
    "print(mic.read())"
   ]
  },
  {
   "cell_type": "code",
   "execution_count": 15,
   "metadata": {
    "slideshow": {
     "slide_type": "subslide"
    }
   },
   "outputs": [
    {
     "name": "stdout",
     "output_type": "stream",
     "text": []
    }
   ],
   "source": [
    "display.clear(color565(0, 0, 0))\n",
    "sleep(0.5)\n",
    "try:\n",
    "    while True:\n",
    "        if sw.value() == 0:\n",
    "            display.clear(color565(0, 0, 0))\n",
    "            break\n",
    "        for i in range(127):\n",
    "            val = int(mic.read())\n",
    "            display.draw_vline(i%127, 0, min(max(int(val/15)-44,10),127), color565((i*2%255), 255-(i*2%255), 255-int(((i*2%255)/2))))\n",
    "            sleep(0.01)\n",
    "        display.clear(color565(0, 0, 0))\n",
    "        gc.collect()\n",
    "finally:\n",
    "    display.clear(color565(0, 0, 0))\n",
    "    gc.collect()"
   ]
  },
  {
   "cell_type": "markdown",
   "metadata": {
    "slideshow": {
     "slide_type": "slide"
    }
   },
   "source": [
    "## Rotary encoder\n",
    "\n",
    "<img align=\"left\" src=\"images/components/encoder.jpg\" width=300>"
   ]
  },
  {
   "cell_type": "code",
   "execution_count": 9,
   "metadata": {
    "slideshow": {
     "slide_type": "subslide"
    }
   },
   "outputs": [
    {
     "name": "stdout",
     "output_type": "stream",
     "text": [
      "display off\r\n"
     ]
    }
   ],
   "source": [
    "from time import sleep_ms\n",
    "from encoder import Encoder\n",
    "from machine import Pin\n",
    "\n",
    "maxduty = const(122)\n",
    "minduty = const(30)\n",
    "e = Encoder(pin_clk=36, pin_dt=15, clicks=4, min_val=minduty, max_val=maxduty, start_val=77)\n",
    "e_click = Pin(27, Pin.IN)\n",
    "\n",
    "colors = [\n",
    "    (255,0,0),\n",
    "    (255, 100, 0),\n",
    "    (255, 255, 0),\n",
    "    (153, 255, 0),\n",
    "    (0, 255, 255),\n",
    "    (255, 51, 255),\n",
    "    (0, 0, 255),\n",
    "]\n",
    "numcolors = len(colors)\n",
    "\n",
    "val = e.value\n",
    "try:\n",
    "    while True:\n",
    "        if sw.value() == 0:\n",
    "            display.clear(color565(0, 0, 0))\n",
    "            break\n",
    "        if e.value != val:\n",
    "            val = e.value\n",
    "            #print(val)\n",
    "            i = val % numcolors\n",
    "            color = colors[i]\n",
    "            display.clear(color565(*color))\n",
    "            display.fill_polygon(sides=i+3, x0=64, y0=64, r=35, color=color565(255, 255, 255))\n",
    "        sleep_ms(50)\n",
    "finally:\n",
    "    display.clear()\n",
    "    display.cleanup()"
   ]
  },
  {
   "cell_type": "markdown",
   "metadata": {
    "slideshow": {
     "slide_type": "slide"
    }
   },
   "source": [
    "### MicroSD"
   ]
  },
  {
   "cell_type": "markdown",
   "metadata": {},
   "source": [
    "from example:\n",
    "\n",
    "spi = SPI(-1, 10000000, miso=Pin(19), mosi=Pin(18), sck=Pin(5))"
   ]
  },
  {
   "cell_type": "markdown",
   "metadata": {},
   "source": [
    "from machine import Pin, SPI, ADC\n",
    "from time import sleep\n",
    "spi = SPI(2, 14500000, miso=Pin(19), mosi=Pin(18), sck=Pin(5))"
   ]
  },
  {
   "cell_type": "code",
   "execution_count": 7,
   "metadata": {
    "slideshow": {
     "slide_type": "fragment"
    }
   },
   "outputs": [
    {
     "name": "stdout",
     "output_type": "stream",
     "text": []
    }
   ],
   "source": [
    "import os, sdcard\n",
    "from machine import SPI, Pin\n",
    "\n",
    "spi = SPI(2, 14500000, miso=Pin(19), mosi=Pin(18), sck=Pin(5))\n",
    "sd = sdcard.SDCard(spi, Pin(14))\n",
    "os.mount(sd, '/sd')"
   ]
  },
  {
   "cell_type": "code",
   "execution_count": 10,
   "metadata": {
    "slideshow": {
     "slide_type": "fragment"
    }
   },
   "outputs": [
    {
     "name": "stdout",
     "output_type": "stream",
     "text": []
    }
   ],
   "source": [
    "with open('/sd/testfile.txt', 'w') as f:\n",
    "    f.write('Hello NDC!')"
   ]
  },
  {
   "cell_type": "code",
   "execution_count": 11,
   "metadata": {
    "slideshow": {
     "slide_type": "fragment"
    }
   },
   "outputs": [
    {
     "name": "stdout",
     "output_type": "stream",
     "text": [
      "['testfile.txt']\r\n"
     ]
    }
   ],
   "source": [
    "print(os.listdir('sd'))"
   ]
  },
  {
   "cell_type": "code",
   "execution_count": null,
   "metadata": {
    "slideshow": {
     "slide_type": "skip"
    }
   },
   "outputs": [],
   "source": [
    "with open('/sd/testfile.txt', 'r') as f:\n",
    "    print(f.read())\n",
    "os.remove('/sd/testfile.txt')"
   ]
  },
  {
   "cell_type": "code",
   "execution_count": null,
   "metadata": {
    "slideshow": {
     "slide_type": "skip"
    }
   },
   "outputs": [],
   "source": [
    "os.remove('/sd/testfile.py')"
   ]
  }
 ],
 "metadata": {
  "celltoolbar": "Slideshow",
  "kernelspec": {
   "display_name": "MicroPython - /dev/micropython",
   "language": "micropython",
   "name": "micropython"
  },
  "language_info": {
   "file_extension": ".py",
   "mimetype": "text/x-python",
   "name": "python"
  },
  "livereveal": {
   "autolaunch": true,
   "height": 900,
   "scroll": true,
   "start_slideshow_at": "selected",
   "width": 1600
  }
 },
 "nbformat": 4,
 "nbformat_minor": 2
}
