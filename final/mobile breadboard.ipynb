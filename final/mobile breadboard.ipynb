{
 "cells": [
  {
   "cell_type": "markdown",
   "metadata": {
    "slideshow": {
     "slide_type": "slide"
    }
   },
   "source": [
    "# Mobile breadboard!\n",
    "\n",
    "\n",
    "\n",
    "\n",
    "<img align=\"left\" src=\"images/mine/tank_front.jpg\" width=900>"
   ]
  },
  {
   "cell_type": "markdown",
   "metadata": {
    "slideshow": {
     "slide_type": "subslide"
    }
   },
   "source": [
    "\n",
    "<img align=\"right\" src=\"images/mine/tank_diag.jpg\" width=400>\n",
    "\n",
    "- Lolin32 Lite Devboard\n",
    "- Led lit NDC front\n",
    "- max7219 8x8 LED Matrix display\n",
    "- DHT22 temperature and humidity sensor\n",
    "- 2x Piezo buzzers\n",
    "- <font color=\"brown\">Cat</font>\n"
   ]
  },
  {
   "cell_type": "markdown",
   "metadata": {
    "slideshow": {
     "slide_type": "subslide"
    }
   },
   "source": [
    "## LED Matrix\n",
    "\n",
    "<img src=\"images/components/max7219 led matrix.jpg\" width=400>"
   ]
  },
  {
   "cell_type": "code",
   "execution_count": 1,
   "metadata": {
    "slideshow": {
     "slide_type": "skip"
    }
   },
   "outputs": [
    {
     "name": "stdout",
     "output_type": "stream",
     "text": [
      "1\r\n"
     ]
    }
   ],
   "source": [
    "print(1)"
   ]
  },
  {
   "cell_type": "code",
   "execution_count": 32,
   "metadata": {
    "slideshow": {
     "slide_type": "subslide"
    }
   },
   "outputs": [
    {
     "name": "stdout",
     "output_type": "stream",
     "text": []
    }
   ],
   "source": [
    "import max7219\n",
    "import time\n",
    "from machine import Pin, SPI\n",
    "spi = SPI(-1, 10000000, miso=Pin(19), mosi=Pin(23), sck=Pin(18))\n",
    "display = max7219.Matrix8x8(spi, Pin(17), 4)"
   ]
  },
  {
   "cell_type": "code",
   "execution_count": 33,
   "metadata": {
    "slideshow": {
     "slide_type": "fragment"
    }
   },
   "outputs": [
    {
     "name": "stdout",
     "output_type": "stream",
     "text": []
    }
   ],
   "source": [
    "display.brightness(15)\n",
    "display.fill(0)\n",
    "display.text('1234',0,0,1)\n",
    "display.show()"
   ]
  },
  {
   "cell_type": "code",
   "execution_count": 38,
   "metadata": {},
   "outputs": [
    {
     "name": "stdout",
     "output_type": "stream",
     "text": [
      "----\r\n",
      "\r\n",
      "ALL \r\n",
      "\r\n",
      "HAIL\r\n",
      "\r\n",
      "THE \r\n",
      "\r\n",
      "DEMO\r\n",
      "\r\n",
      "GODS\r\n"
     ]
    }
   ],
   "source": [
    "from time import sleep\n",
    "\n",
    "with open('ledtext.txt', 'r') as f:\n",
    "    for l in f:\n",
    "        print(l)\n",
    "        display.fill(0)\n",
    "        display.text(l,0,0,1)\n",
    "        display.show()\n",
    "        sleep(1)\n",
    "\n",
    "display.fill(0)\n",
    "display.show()\n"
   ]
  },
  {
   "cell_type": "markdown",
   "metadata": {
    "slideshow": {
     "slide_type": "subslide"
    }
   },
   "source": [
    "## Temperature and humidity\n",
    "\n",
    "<img src=\"images/components/dht22.jpg\" width=400>\n",
    "\n",
    "DHT22\n",
    "- 1-wire interface (newer have i2c)"
   ]
  },
  {
   "cell_type": "markdown",
   "metadata": {
    "slideshow": {
     "slide_type": "skip"
    }
   },
   "source": [
    "MicroPython [dht](https://docs.micropython.org/en/latest/esp8266/esp8266/tutorial/dht.html) module"
   ]
  },
  {
   "cell_type": "code",
   "execution_count": 12,
   "metadata": {
    "slideshow": {
     "slide_type": "subslide"
    }
   },
   "outputs": [
    {
     "name": "stdout",
     "output_type": "stream",
     "text": []
    }
   ],
   "source": [
    "import dht\n",
    "import machine\n",
    "d = dht.DHT22(machine.Pin(4))"
   ]
  },
  {
   "cell_type": "code",
   "execution_count": 13,
   "metadata": {
    "slideshow": {
     "slide_type": "fragment"
    }
   },
   "outputs": [
    {
     "name": "stdout",
     "output_type": "stream",
     "text": [
      "24.1 degrees and 49.2% humidity\r\n"
     ]
    }
   ],
   "source": [
    "d.measure()\n",
    "t = d.temperature()\n",
    "h = d.humidity()\n",
    "print(\"{} degrees and {}% humidity\".format(t, h))"
   ]
  },
  {
   "cell_type": "code",
   "execution_count": 14,
   "metadata": {
    "slideshow": {
     "slide_type": "fragment"
    }
   },
   "outputs": [
    {
     "name": "stdout",
     "output_type": "stream",
     "text": []
    }
   ],
   "source": [
    "display.fill(0)\n",
    "display.text('{}C'.format(int(t)),0,0,1)\n",
    "display.show()"
   ]
  },
  {
   "cell_type": "markdown",
   "metadata": {
    "slideshow": {
     "slide_type": "subslide"
    }
   },
   "source": [
    "## Mobile breadboard"
   ]
  },
  {
   "cell_type": "code",
   "execution_count": 24,
   "metadata": {
    "slideshow": {
     "slide_type": "fragment"
    }
   },
   "outputs": [
    {
     "name": "stdout",
     "output_type": "stream",
     "text": []
    }
   ],
   "source": [
    "to_left = Pin(12, Pin.OUT)"
   ]
  },
  {
   "cell_type": "code",
   "execution_count": 26,
   "metadata": {
    "slideshow": {
     "slide_type": "skip"
    }
   },
   "outputs": [
    {
     "name": "stdout",
     "output_type": "stream",
     "text": []
    }
   ],
   "source": [
    "to_left.value(0)"
   ]
  },
  {
   "cell_type": "markdown",
   "metadata": {
    "slideshow": {
     "slide_type": "subslide"
    }
   },
   "source": [
    "## Pulse-width modulation (PWM)\n",
    "\n",
    "<img align=\"right\" src=\"images/concepts/Pwm_5steps.gif\" width=600>\n",
    "\n",
    "- Frequency [Hz]\n",
    "- Duty [%]"
   ]
  },
  {
   "cell_type": "markdown",
   "metadata": {
    "slideshow": {
     "slide_type": "subslide"
    }
   },
   "source": [
    "<img src=\"images/concepts/Delta_PWM.png\" width=900>"
   ]
  },
  {
   "cell_type": "code",
   "execution_count": 2,
   "metadata": {
    "slideshow": {
     "slide_type": "subslide"
    }
   },
   "outputs": [
    {
     "name": "stdout",
     "output_type": "stream",
     "text": []
    }
   ],
   "source": [
    "from machine import Pin, PWM\n",
    "ndc_led = PWM(Pin(27, Pin.OUT), freq=50, duty=0)\n",
    "to_left = PWM(Pin(12, Pin.OUT), freq=50, duty=0)\n",
    "to_right = PWM(Pin(14, Pin.OUT), freq=50, duty=0)"
   ]
  },
  {
   "cell_type": "code",
   "execution_count": null,
   "metadata": {},
   "outputs": [],
   "source": [
    "to_left.duty()"
   ]
  },
  {
   "cell_type": "code",
   "execution_count": null,
   "metadata": {
    "slideshow": {
     "slide_type": "fragment"
    }
   },
   "outputs": [],
   "source": [
    "to_left.duty(0)"
   ]
  },
  {
   "cell_type": "markdown",
   "metadata": {
    "slideshow": {
     "slide_type": "subslide"
    }
   },
   "source": [
    "## Uasyncio"
   ]
  },
  {
   "cell_type": "code",
   "execution_count": 3,
   "metadata": {
    "slideshow": {
     "slide_type": "fragment"
    }
   },
   "outputs": [
    {
     "name": "stdout",
     "output_type": "stream",
     "text": [
      "----\r\n",
      "\r\n",
      "measuring..\r\n",
      "PWM(19, freq=440, duty=0) - freq = 1174.8 msec =   78.9\r\n",
      "PWM(32, freq=1174, duty=0) - freq = 1174.8 msec =   78.9\r\n",
      "sleeping 20 seconds\r\n",
      "ALL \r\n",
      "\r\n",
      "PWM(19, freq=1174, duty=0) - freq = 1244.4 msec =   78.9\r\n",
      "PWM(32, freq=1244, duty=0) - freq = 1244.4 msec =   78.9\r\n",
      "PWM(19, freq=1244, duty=0) - freq = 1174.8 msec =   78.9\r\n",
      "PWM(32, freq=1174, duty=0) - freq = 1174.8 msec =   78.9\r\n",
      "PWM(19, freq=1174, duty=0) - freq = 1244.4 msec =   78.9\r\n",
      "PWM(32, freq=1244, duty=0) - freq = 1244.4 msec =   78.9\r\n",
      "PWM(19, freq=1244, duty=0) - freq = 1174.8 msec =   78.9\r\n",
      "PWM(32, freq=1174, duty=0) - freq = 1174.8 msec =   78.9\r\n",
      "PWM(19, freq=1174, duty=0) - freq = 1244.4 msec =   78.9\r\n",
      "PWM(32, freq=1244, duty=0) - freq = 1244.4 msec =   78.9\r\n",
      "PWM(19, freq=1244, duty=0) - freq = 1174.8 msec =   78.9\r\n",
      "HAIL\r\n",
      "\r\n",
      "PWM(32, freq=1174, duty=0) - freq = 1174.8 msec =   78.9\r\n",
      "PWM(19, freq=1174, duty=0) - freq = 1244.4 msec =   78.9\r\n",
      "PWM(32, freq=1244, duty=0) - freq = 1244.4 msec =   78.9\r\n",
      "PWM(19, freq=1244, duty=0) - freq = 1174.8 msec =   78.9\r\n",
      "PWM(32, freq=1174, duty=0) - freq = 1174.8 msec =   78.9\r\n",
      "PWM(19, freq=1174, duty=0) - freq = 1174.8 msec =   78.9\r\n",
      "PWM(32, freq=1174, duty=0) - freq = 1174.8 msec =   78.9\r\n",
      "PWM(19, freq=1174, duty=0) - freq = 1244.4 msec =   78.9\r\n",
      "PWM(32, freq=1244, duty=0) - freq = 1244.4 msec =   78.9\r\n",
      "PWM(19, freq=1244, duty=0) - freq = 1318.4 msec =   78.9\r\n",
      "PWM(32, freq=1318, duty=0) - freq = 1318.4 msec =   78.9\r\n",
      "THE \r\n",
      "\r\n",
      "PWM(19, freq=1318, duty=0) - freq = 1396.8 msec =   78.9\r\n",
      "PWM(32, freq=1396, duty=0) - freq = 1396.8 msec =   78.9\r\n",
      "PWM(19, freq=1396, duty=0) - freq = 1480.0 msec =   78.9\r\n",
      "PWM(32, freq=1480, duty=0) - freq = 1480.0 msec =   78.9\r\n",
      "PWM(19, freq=1480, duty=0) - freq = 1568.0 msec =   78.9\r\n",
      "PWM(32, freq=1568, duty=0) - freq = 1568.0 msec =   78.9\r\n",
      "PWM(19, freq=1568, duty=0) - freq = 1568.0 msec =  157.9\r\n",
      "PWM(32, freq=1568, duty=0) - freq = 1568.0 msec =  157.9\r\n",
      "PWM(19, freq=1568, duty=0) - freq =    0.0 msec =  315.8\r\n",
      "PWM(32, freq=1568, duty=0) - freq =    0.0 msec =  315.8\r\n",
      "PWM(19, freq=1568, duty=0) - freq = 1568.0 msec =  157.9\r\n",
      "PWM(32, freq=1568, duty=0) - freq = 1568.0 msec =  157.9\r\n",
      "DEMO\r\n",
      "\r\n",
      "PWM(19, freq=1568, duty=0) - freq =    0.0 msec =  315.8\r\n",
      "PWM(32, freq=1568, duty=0) - freq =    0.0 msec =  315.8\r\n",
      "PWM(19, freq=1568, duty=0) - freq = 1864.8 msec =  157.9\r\n",
      "PWM(32, freq=1864, duty=0) - freq = 1864.8 msec =  157.9\r\n",
      "PWM(19, freq=1864, duty=0) - freq =    0.0 msec =  157.9\r\n",
      "PWM(32, freq=1864, duty=0) - freq =    0.0 msec =  157.9\r\n",
      "PWM(19, freq=1864, duty=0) - freq = 2092.8 msec =  157.9\r\n",
      "PWM(32, freq=2092, duty=0) - freq = 2092.8 msec =  157.9\r\n",
      "GODS\r\n",
      "PWM(19, freq=2092, duty=0) - freq =    0.0 msec =  157.9\r\n",
      "PWM(32, freq=2092, duty=0) - freq =    0.0 msec =  157.9\r\n",
      "PWM(19, freq=2092, duty=0) - freq = 1568.0 msec =  157.9\r\n",
      "PWM(32, freq=1568, duty=0) - freq = 1568.0 msec =  157.9\r\n",
      "PWM(19, freq=1568, duty=0) - freq =    0.0 msec =  315.8\r\n",
      "PWM(32, freq=1568, duty=0) - freq =    0.0 msec =  315.8\r\n",
      "PWM(19, freq=1568, duty=0) - freq = 1568.0 msec =  157.9\r\n",
      "PWM(32, freq=1568, duty=0) - freq = 1568.0 msec =  157.9\r\n",
      "PWM(19, freq=1568, duty=0) - freq =    0.0 msec =  315.8\r\n",
      "PWM(32, freq=1568, duty=0) - freq =    0.0 msec =  315.8\r\n",
      "PWM(19, freq=1568, duty=0) - freq = 1396.8 msec =  157.9\r\n",
      "PWM(32, freq=1396, duty=0) - freq = 1396.8 msec =  157.9\r\n",
      "PWM(19, freq=1396, duty=0) - freq =    0.0 msec =  157.9\r\n",
      "PWM(32, freq=1396, duty=0) - freq =    0.0 msec =  157.9\r\n",
      "PWM(19, freq=1396, duty=0) - freq = 1480.0 msec =  157.9\r\n",
      "PWM(32, freq=1480, duty=0) - freq = 1480.0 msec =  157.9\r\n",
      "PWM(19, freq=1480, duty=0) - freq =    0.0 msec =  157.9\r\n",
      "PWM(32, freq=1480, duty=0) - freq =    0.0 msec =  157.9\r\n",
      "PWM(19, freq=1480, duty=0) - freq = 1568.0 msec =  157.9\r\n",
      "PWM(32, freq=1568, duty=0) - freq = 1568.0 msec =  157.9\r\n",
      "PWM(19, freq=1568, duty=0) - freq =    0.0 msec =  315.8\r\n",
      "PWM(32, freq=1568, duty=0) - freq =    0.0 msec =  315.8\r\n",
      "PWM(19, freq=1568, duty=0) - freq = 1568.0 msec =  157.9\r\n",
      "PWM(32, freq=1568, duty=0) - freq = 1568.0 msec =  157.9\r\n",
      "PWM(19, freq=1568, duty=0) - freq =    0.0 msec =  315.8\r\n",
      "PWM(32, freq=1568, duty=0) - freq =    0.0 msec =  315.8\r\n",
      "PWM(19, freq=1568, duty=0) - freq = 1864.8 msec =  157.9\r\n",
      "PWM(32, freq=1864, duty=0) - freq = 1864.8 msec =  157.9\r\n",
      "PWM(19, freq=1864, duty=0) - freq =    0.0 msec =  157.9\r\n",
      "PWM(32, freq=1864, duty=0) - freq =    0.0 msec =  157.9\r\n",
      "PWM(19, freq=1864, duty=0) - freq = 2092.8 msec =  157.9\r\n",
      "PWM(32, freq=2092, duty=0) - freq = 2092.8 msec =  157.9\r\n",
      "----\r\n",
      "\r\n",
      "PWM(19, freq=2092, duty=0) - freq =    0.0 msec =  157.9\r\n",
      "PWM(32, freq=2092, duty=0) - freq =    0.0 msec =  157.9\r\n",
      "PWM(19, freq=2092, duty=0) - freq = 1568.0 msec =  157.9\r\n",
      "PWM(32, freq=1568, duty=0) - freq = 1568.0 msec =  157.9\r\n",
      "PWM(19, freq=1568, duty=0) - freq =    0.0 msec =  315.8\r\n",
      "PWM(32, freq=1568, duty=0) - freq =    0.0 msec =  315.8\r\n",
      "PWM(19, freq=1568, duty=0) - freq = 1568.0 msec =  157.9\r\n",
      "PWM(32, freq=1568, duty=0) - freq = 1568.0 msec =  157.9\r\n",
      "PWM(19, freq=1568, duty=0) - freq =    0.0 msec =  315.8\r\n",
      "PWM(32, freq=1568, duty=0) - freq =    0.0 msec =  315.8\r\n",
      "PWM(19, freq=1568, duty=0) - freq = 1396.8 msec =  157.9\r\n",
      "PWM(32, freq=1396, duty=0) - freq = 1396.8 msec =  157.9\r\n",
      "ALL \r\n",
      "\r\n",
      "PWM(19, freq=1396, duty=0) - freq =    0.0 msec =  157.9\r\n",
      "PWM(32, freq=1396, duty=0) - freq =    0.0 msec =  157.9\r\n",
      "PWM(19, freq=1396, duty=0) - freq = 1480.0 msec =  157.9\r\n",
      "PWM(32, freq=1480, duty=0) - freq = 1480.0 msec =  157.9\r\n",
      "PWM(19, freq=1480, duty=0) - freq =    0.0 msec =  157.9\r\n",
      "PWM(32, freq=1480, duty=0) - freq =    0.0 msec =  157.9\r\n",
      "PWM(19, freq=1480, duty=0) - freq = 1864.8 msec =  157.9\r\n",
      "PWM(32, freq=1864, duty=0) - freq = 1864.8 msec =  157.9\r\n",
      "PWM(19, freq=1864, duty=0) - freq = 1568.0 msec =  157.9\r\n",
      "HAIL\r\n",
      "\r\n",
      "PWM(32, freq=1568, duty=0) - freq = 1568.0 msec =  157.9\r\n",
      "PWM(19, freq=1568, duty=0) - freq = 1174.8 msec = 1263.2\r\n",
      "PWM(32, freq=1174, duty=0) - freq = 1174.8 msec = 1263.2\r\n",
      "measuring..\r\n",
      "THE \r\n",
      "\r\n",
      "PWM(19, freq=1174, duty=0) - freq =    0.0 msec =   78.9\r\n",
      "PWM(32, freq=1174, duty=0) - freq =    0.0 msec =   78.9\r\n",
      "PWM(19, freq=1174, duty=0) - freq = 1864.8 msec =  157.9\r\n",
      "PWM(32, freq=1864, duty=0) - freq = 1864.8 msec =  157.9\r\n",
      "PWM(19, freq=1864, duty=0) - freq = 1568.0 msec =  157.9\r\n",
      "PWM(32, freq=1568, duty=0) - freq = 1568.0 msec =  157.9\r\n",
      "PWM(19, freq=1568, duty=0) - freq = 1108.8 msec = 1263.2\r\n",
      "PWM(32, freq=1108, duty=0) - freq = 1108.8 msec = 1263.2\r\n",
      "DEMO\r\n",
      "\r\n",
      "GODS\r\n",
      "PWM(19, freq=1108, duty=0) - freq =    0.0 msec =   78.9\r\n",
      "PWM(32, freq=1108, duty=0) - freq =    0.0 msec =   78.9\r\n",
      "PWM(19, freq=1108, duty=0) - freq = 1864.8 msec =  157.9\r\n",
      "PWM(32, freq=1864, duty=0) - freq = 1864.8 msec =  157.9\r\n",
      "PWM(19, freq=1864, duty=0) - freq = 1568.0 msec =  157.9\r\n",
      "PWM(32, freq=1568, duty=0) - freq = 1568.0 msec =  157.9\r\n",
      "PWM(19, freq=1568, duty=0) - freq = 1046.4 msec = 1263.2\r\n",
      "PWM(32, freq=1046, duty=0) - freq = 1046.4 msec = 1263.2\r\n",
      "----\r\n",
      "\r\n",
      "ALL \r\n",
      "\r\n",
      "PWM(19, freq=1046, duty=0) - freq =  932.4 msec =  157.9\r\n",
      "PWM(32, freq=932, duty=0) - freq =  932.4 msec =  157.9\r\n",
      "PWM(19, freq=932, duty=0) - freq = 1046.4 msec =  315.8\r\n",
      "PWM(32, freq=1046, duty=0) - freq = 1046.4 msec =  315.8\r\n",
      "HAIL\r\n",
      "\r\n",
      "PWM(19, freq=1046, duty=0) - freq =    0.0 msec = 1263.2\r\n",
      "PWM(32, freq=1046, duty=0) - freq =    0.0 msec = 1263.2\r\n",
      "PWM(19, freq=1046, duty=0) - freq =    0.0 msec =   78.9\r\n",
      "PWM(32, freq=1046, duty=0) - freq =    0.0 msec =   78.9\r\n",
      "PWM(19, freq=1046, duty=0) - freq =  932.4 msec =  157.9\r\n",
      "PWM(32, freq=932, duty=0) - freq =  932.4 msec =  157.9\r\n",
      "THE \r\n",
      "\r\n",
      "PWM(19, freq=932, duty=0) - freq =  784.0 msec =  157.9\r\n",
      "PWM(32, freq=784, duty=0) - freq =  784.0 msec =  157.9\r\n",
      "PWM(19, freq=784, duty=0) - freq = 1480.0 msec = 1263.2\r\n",
      "PWM(32, freq=1480, duty=0) - freq = 1480.0 msec = 1263.2\r\n",
      "DEMO\r\n",
      "\r\n",
      "measuring..\r\n",
      "GODS\r\n",
      "PWM(19, freq=1480, duty=0) - freq =    0.0 msec =   78.9\r\n",
      "PWM(32, freq=1480, duty=0) - freq =    0.0 msec =   78.9\r\n",
      "PWM(19, freq=1480, duty=0) - freq =  932.4 msec =  157.9\r\n",
      "PWM(32, freq=932, duty=0) - freq =  932.4 msec =  157.9\r\n",
      "PWM(19, freq=932, duty=0) - freq =  784.0 msec =  157.9\r\n",
      "PWM(32, freq=784, duty=0) - freq =  784.0 msec =  157.9\r\n",
      "PWM(19, freq=784, duty=0) - freq = 1396.8 msec = 1263.2\r\n",
      "PWM(32, freq=1396, duty=0) - freq = 1396.8 msec = 1263.2\r\n",
      "----\r\n",
      "\r\n",
      "PWM(19, freq=1396, duty=0) - freq =    0.0 msec =   78.9\r\n",
      "PWM(32, freq=1396, duty=0) - freq =    0.0 msec =   78.9\r\n",
      "PWM(19, freq=1396, duty=0) - freq =  932.4 msec =  157.9\r\n",
      "PWM(32, freq=932, duty=0) - freq =  932.4 msec =  157.9\r\n",
      "PWM(19, freq=932, duty=0) - freq =  784.0 msec =  157.9\r\n",
      "PWM(32, freq=784, duty=0) - freq =  784.0 msec =  157.9\r\n",
      "ALL \r\n",
      "\r\n",
      "PWM(19, freq=784, duty=0) - freq = 1318.4 msec = 1263.2\r\n",
      "PWM(32, freq=1318, duty=0) - freq = 1318.4 msec = 1263.2\r\n",
      "HAIL\r\n",
      "\r\n",
      "THE \r\n",
      "\r\n",
      "PWM(19, freq=1318, duty=0) - freq = 1244.4 msec =  157.9\r\n",
      "PWM(32, freq=1244, duty=0) - freq = 1244.4 msec =  157.9\r\n",
      "PWM(19, freq=1244, duty=0) - freq = 1174.8 msec =  315.8\r\n",
      "PWM(32, freq=1174, duty=0) - freq = 1174.8 msec =  315.8\r\n",
      "DEMO\r\n",
      "\r\n",
      "GODS\r\n",
      "measuring..\r\n",
      "----\r\n",
      "\r\n",
      "ALL \r\n",
      "\r\n",
      "HAIL\r\n",
      "\r\n"
     ]
    }
   ],
   "source": [
    "import max7219\n",
    "import uasyncio\n",
    "from machine import Pin, SPI, PWM\n",
    "\n",
    "spi = SPI(-1, 10000000, miso=Pin(19), mosi=Pin(23), sck=Pin(18))\n",
    "\n",
    "display = max7219.Matrix8x8(spi, Pin(17), 4)\n",
    "display.brightness(15)\n",
    "\n",
    "buz_ch1 = PWM(Pin(19), freq=440, duty=0)\n",
    "buz_ch2 = PWM(Pin(32), freq=440, duty=0)\n",
    "pwm_duty = 400\n",
    "\n",
    "async def file_to_led():\n",
    "    while True:\n",
    "        with open('ledtext.txt', 'r') as f:\n",
    "            for l in f:\n",
    "                print(l)\n",
    "                display.fill(0)\n",
    "                display.text(l,0,0,1)\n",
    "                display.show()\n",
    "                await uasyncio.sleep(0.5)\n",
    "\n",
    "        display.fill(0)\n",
    "        display.show()\n",
    "        await uasyncio.sleep(1)\n",
    "\n",
    "        \n",
    "async def temp():\n",
    "    import dht\n",
    "    from time import sleep\n",
    "    \n",
    "    d = dht.DHT22(Pin(4))\n",
    "    while True:\n",
    "        print('measuring..')\n",
    "        d.measure()\n",
    "        #await uasyncio.sleep_ms(200)\n",
    "        t = d.temperature()\n",
    "        h = d.humidity()\n",
    "        display.fill(0)\n",
    "        display.text('{}C'.format(int(t)),0,0,1)\n",
    "        display.show()\n",
    "        buz_ch1.duty(0)\n",
    "        sleep(1)\n",
    "        await uasyncio.sleep(5)\n",
    "\n",
    "        \n",
    "async def play_tone(freq, msec, buz_ch):\n",
    "    print('{} - freq = {:6.1f} msec = {:6.1f}'.format(buz_ch, freq, msec))\n",
    "    if freq > 0:\n",
    "        buz_ch.duty(pwm_duty)\n",
    "        buz_ch.freq(int(freq))\n",
    "        await uasyncio.sleep_ms(int(msec * 0.9))\n",
    "    buz_ch.duty(0)\n",
    "    await uasyncio.sleep_ms(int(msec * 0.1))\n",
    "\n",
    "\n",
    "async def play(tune, buz_ch):\n",
    "    try:\n",
    "        for freq, msec in tune.notes():\n",
    "            await play_tone(freq, msec, buz_ch)\n",
    "    except KeyboardInterrupt:\n",
    "        await play_tone(0, 0, buz_ch)        \n",
    "    \n",
    "    \n",
    "async def killer():\n",
    "    print(\"sleeping {} seconds\".format(20))\n",
    "    await uasyncio.sleep(20)\n",
    "\n",
    "loop = uasyncio.get_event_loop()\n",
    "loop.create_task(file_to_led())\n",
    "loop.create_task(temp())\n",
    "\n",
    "from rtttl import RTTTL\n",
    "import songs\n",
    "loop.create_task(play(RTTTL(songs.find('MissionImp')), buz_ch1))\n",
    "loop.create_task(play(RTTTL(songs.find('MissionImp')), buz_ch2))\n",
    "\n",
    "try:\n",
    "    loop.run_until_complete(killer())\n",
    "finally:\n",
    "    buz_ch1.deinit()\n",
    "    buz_ch2.deinit()\n",
    "    display.fill(0)\n",
    "    display.show()"
   ]
  },
  {
   "cell_type": "markdown",
   "metadata": {
    "slideshow": {
     "slide_type": "slide"
    }
   },
   "source": [
    "## HTTP Webserver"
   ]
  },
  {
   "cell_type": "code",
   "execution_count": null,
   "metadata": {
    "slideshow": {
     "slide_type": "subslide"
    }
   },
   "outputs": [],
   "source": [
    "import machine\n",
    "sound = machine.PWM(machine.Pin(19), freq=50, duty=0)\n",
    "DUTY = 0\n",
    "\n",
    "html = \"\"\"<!DOCTYPE html>\n",
    "<html>\n",
    "    <head> <title>Drive my breadboard!</title> </head>\n",
    "    <body> <h1>Drive</h1>\n",
    "        <form>\n",
    "        <div>\n",
    "            <button name=\"left\" value=\"UP\" type=\"submit\">Right +</button>\n",
    "            <button name=\"left\" value=\"DOWN\" type=\"submit\">Left -</button>\n",
    "        </div>\n",
    "        <div>\n",
    "            <button name=\"right\" value=\"UP\" type=\"submit\">Right +</button>\n",
    "            <button name=\"right\" value=\"DOWN\" type=\"submit\">Right -</button>\n",
    "        </div>\n",
    "        </form>\n",
    "    </body>\n",
    "</html>\n",
    "\"\"\"\n",
    "\n",
    "import socket\n",
    "addr = socket.getaddrinfo('0.0.0.0', 80)[0][-1]\n",
    "\n",
    "s = socket.socket()\n",
    "s.bind(addr)\n",
    "s.listen(1)\n",
    "\n",
    "print('listening on', addr)\n",
    "\n",
    "while True:\n",
    "    cl, addr = s.accept()\n",
    "    print('client connected from', addr)\n",
    "    request = cl.recv(1024)\n",
    "    request = str(request)\n",
    "    print('Content %s' % request)\n",
    "    left = request.find('/?turn=LEFT')\n",
    "    right = request.find('/?turn=RIGHT')\n",
    "    print(left, right)\n",
    "    if left == 6:\n",
    "        DUTY += 1\n",
    "    if right == 6:\n",
    "        DUTY -= 1\n",
    "    DUTY = max(0, min(DUTY, 100))\n",
    "    sound.duty(DUTY)\n",
    "    response = html\n",
    "    cl.send(response)\n",
    "    cl.close()"
   ]
  }
 ],
 "metadata": {
  "celltoolbar": "Slideshow",
  "kernelspec": {
   "display_name": "MicroPython - /dev/micropython",
   "language": "micropython",
   "name": "micropython"
  },
  "language_info": {
   "file_extension": ".py",
   "mimetype": "text/x-python",
   "name": "python"
  },
  "livereveal": {
   "autolaunch": true,
   "height": 900,
   "scroll": true,
   "start_slideshow_at": "selected",
   "width": 1600
  }
 },
 "nbformat": 4,
 "nbformat_minor": 2
}
