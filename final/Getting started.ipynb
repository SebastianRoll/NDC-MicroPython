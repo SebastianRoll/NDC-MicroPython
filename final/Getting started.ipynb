{
 "cells": [
  {
   "cell_type": "markdown",
   "metadata": {
    "slideshow": {
     "slide_type": "slide"
    }
   },
   "source": [
    "## Flashing device"
   ]
  },
  {
   "cell_type": "markdown",
   "metadata": {
    "slideshow": {
     "slide_type": "-"
    }
   },
   "source": [
    "http://micropython.org/download\n",
    "\n",
    "`pip install esptool`\n",
    "\n",
    "Erase flash:\n",
    "\n",
    "`esptool.py --port /dev/micropython --chip esp32 erase_flash`"
   ]
  },
  {
   "cell_type": "markdown",
   "metadata": {
    "slideshow": {
     "slide_type": "skip"
    }
   },
   "source": [
    "## ESP32\n",
    "\n",
    "- Internal 4 MB RAM?\n",
    "\n",
    "ESP32 can use external SPIRAM (psRAM) to expand available RAM up to 16MB [source](https://github.com/loboris/MicroPython_ESP32_psRAM_LoBo)."
   ]
  },
  {
   "cell_type": "code",
   "execution_count": 4,
   "metadata": {
    "slideshow": {
     "slide_type": "fragment"
    }
   },
   "outputs": [
    {
     "name": "stdout",
     "output_type": "stream",
     "text": [
      "esptool.py v2.1\n",
      "Connecting........__\n",
      "Chip is ESP32D0WDQ6 (revision 1)\n",
      "Uploading stub...\n",
      "Running stub...\n",
      "Stub running...\n",
      "Erasing flash (this may take a while)...\n",
      "Chip erase completed successfully in 1.2s\n",
      "Hard resetting...\n"
     ]
    }
   ],
   "source": [
    "!esptool.py --port /dev/micropython --chip esp32 erase_flash"
   ]
  },
  {
   "cell_type": "code",
   "execution_count": 5,
   "metadata": {
    "slideshow": {
     "slide_type": "fragment"
    }
   },
   "outputs": [
    {
     "name": "stdout",
     "output_type": "stream",
     "text": [
      "esptool.py v2.1\n",
      "Connecting........_\n",
      "Chip is ESP32D0WDQ6 (revision 1)\n",
      "Uploading stub...\n",
      "Running stub...\n",
      "\n",
      "A fatal error occurred: Failed to start stub. Unexpected response: b'H'\n"
     ]
    }
   ],
   "source": [
    "!esptool.py --chip esp32 --port /dev/micropython write_flash -z 0x1000 esp32-20180613-v1.9.4-156-g03590641.bin"
   ]
  },
  {
   "cell_type": "markdown",
   "metadata": {
    "slideshow": {
     "slide_type": "slide"
    }
   },
   "source": [
    "# Communication"
   ]
  },
  {
   "cell_type": "markdown",
   "metadata": {
    "slideshow": {
     "slide_type": "subslide"
    }
   },
   "source": [
    "## Serial port communication\n",
    "\n",
    "Universal asynchronous receiver-transmitter (UART)\n",
    "\n",
    "- serial - parallel (1 bit <-> bytes)\n",
    "- baudrate (bits per second) (default 115200)\n",
    "\n",
    "- Tools\n",
    "  - screen\n",
    "  - Putty\n",
    "  - Picocom\n",
    "  - YAT (Yet Another Terminal)\n",
    "  - pySerial\n",
    "  "
   ]
  },
  {
   "cell_type": "markdown",
   "metadata": {
    "slideshow": {
     "slide_type": "subslide"
    }
   },
   "source": [
    "# REPL\n",
    "\n",
    "read-eval-print-loop\n",
    "\n",
    "- auto-indent\n",
    "- auto-completion\n",
    "- Interrupting\n",
    "- paste mode\n",
    "- reset\n",
    "  - soft\n",
    "  - hard\n",
    "- bitbucket variable\n",
    "\n",
    "\n",
    "- help('modules')\n",
    "- dir()"
   ]
  },
  {
   "cell_type": "markdown",
   "metadata": {
    "slideshow": {
     "slide_type": "skip"
    }
   },
   "source": [
    "## Bind tty to static name (Linux)\n",
    "\n",
    "/etc/udev/rules.d/10-local.rules\n",
    "\n",
    "`ACTION==\"add\", ATTRS{idVendor}==\"0403\", ATTRS{idProduct}==\"6001\", SYMLINK+=\"my_uart\"`\n",
    "\n",
    "You can check for the variables of your device by running\n",
    "\n",
    "`udevadm info --name=/dev/ttyUSBx --attribute-walk`\n",
    "\n",
    " ATTRS{idProduct}==\"0002\"\n",
    " ATTRS{idVendor}==\"1d6b\""
   ]
  },
  {
   "cell_type": "markdown",
   "metadata": {
    "slideshow": {
     "slide_type": "subslide"
    }
   },
   "source": [
    "## File transfer\n",
    "\n",
    "### ampy\n",
    "\n",
    "`sudo pip3 install adafruit-ampy`\n",
    "\n",
    "`ampy -p /dev/ttyUSB0 put boot.py`\n",
    "\n",
    "### ftp server"
   ]
  },
  {
   "cell_type": "code",
   "execution_count": 9,
   "metadata": {
    "collapsed": true,
    "slideshow": {
     "slide_type": "subslide"
    }
   },
   "outputs": [
    {
     "name": "stdout",
     "output_type": "stream",
     "text": [
      "Usage: ampy [OPTIONS] COMMAND [ARGS]...\r\n",
      "\r\n",
      "  ampy - Adafruit MicroPython Tool\r\n",
      "\r\n",
      "  Ampy is a tool to control MicroPython boards over a serial connection.\r\n",
      "  Using ampy you can manipulate files on the board's internal filesystem and\r\n",
      "  even run scripts.\r\n",
      "\r\n",
      "Options:\r\n",
      "  -p, --port PORT  Name of serial port for connected board.  Can optionally\r\n",
      "                   specify with AMPY_PORT environemnt variable.  [required]\r\n",
      "  -b, --baud BAUD  Baud rate for the serial connection (default 115200).  Can\r\n",
      "                   optionally specify with AMPY_BAUD environment variable.\r\n",
      "  --version        Show the version and exit.\r\n",
      "  --help           Show this message and exit.\r\n",
      "\r\n",
      "Commands:\r\n",
      "  get    Retrieve a file from the board.\r\n",
      "  ls     List contents of a directory on the board.\r\n",
      "  mkdir  Create a directory on the board.\r\n",
      "  put    Put a file or folder and its contents on the...\r\n",
      "  reset  Perform soft reset/reboot of the board.\r\n",
      "  rm     Remove a file from the board.\r\n",
      "  rmdir  Forcefully remove a folder and all its...\r\n",
      "  run    Run a script and print its output.\r\n"
     ]
    }
   ],
   "source": [
    "!ampy"
   ]
  },
  {
   "cell_type": "markdown",
   "metadata": {
    "slideshow": {
     "slide_type": "slide"
    }
   },
   "source": [
    "## WebREPL\n",
    "\n",
    "\n",
    "![webrepl](https://cdn-learn.adafruit.com/assets/assets/000/035/130/original/microcontrollers_Screen_Shot_2016-08-25_at_6.41.48_PM.png?1472175855)"
   ]
  },
  {
   "cell_type": "markdown",
   "metadata": {
    "slideshow": {
     "slide_type": "skip"
    }
   },
   "source": [
    "\n",
    "http://docs.micropython.org/en/latest/esp8266/esp8266/quickref.html\n",
    "\n",
    "`import webrepl_setup`\n",
    "\n",
    "- uses a single connection over WebSocket\n",
    "\n",
    "If the board isn't connected already to a wireless access point then it will create one which you can connect to from your computer."
   ]
  },
  {
   "cell_type": "markdown",
   "metadata": {
    "slideshow": {
     "slide_type": "subslide"
    }
   },
   "source": [
    "#### help(), help('modules')"
   ]
  },
  {
   "cell_type": "code",
   "execution_count": null,
   "metadata": {
    "slideshow": {
     "slide_type": "-"
    }
   },
   "outputs": [],
   "source": []
  },
  {
   "cell_type": "markdown",
   "metadata": {
    "slideshow": {
     "slide_type": "subslide"
    }
   },
   "source": [
    "#### Startup code\n",
    "\n",
    "- boot.py: power cycle, hard reset, deep sleep\n",
    "- main.py: your main program"
   ]
  },
  {
   "cell_type": "code",
   "execution_count": null,
   "metadata": {
    "slideshow": {
     "slide_type": "-"
    }
   },
   "outputs": [],
   "source": [
    "with open('boot.py', 'r') as f:\n",
    "    print(f.read())"
   ]
  },
  {
   "cell_type": "markdown",
   "metadata": {
    "slideshow": {
     "slide_type": "subslide"
    }
   },
   "source": [
    "## Machine module"
   ]
  },
  {
   "cell_type": "code",
   "execution_count": null,
   "metadata": {
    "slideshow": {
     "slide_type": "-"
    }
   },
   "outputs": [],
   "source": [
    "import machine\n",
    "print(help(machine))"
   ]
  },
  {
   "cell_type": "markdown",
   "metadata": {
    "slideshow": {
     "slide_type": "fragment"
    }
   },
   "source": [
    "## RTC (real time clock)"
   ]
  },
  {
   "cell_type": "code",
   "execution_count": null,
   "metadata": {
    "slideshow": {
     "slide_type": "-"
    }
   },
   "outputs": [],
   "source": [
    "rtc = machine.RTC()\n",
    "rtc.init((2014, 5, 1, 4, 13, 0, 0, 0))\n",
    "print(rtc.datetime())"
   ]
  },
  {
   "cell_type": "markdown",
   "metadata": {
    "slideshow": {
     "slide_type": "subslide"
    }
   },
   "source": [
    "## Power control"
   ]
  },
  {
   "cell_type": "code",
   "execution_count": null,
   "metadata": {
    "slideshow": {
     "slide_type": "-"
    }
   },
   "outputs": [],
   "source": [
    "import machine\n",
    "\n",
    "rtc = machine.RTC()\n",
    "rtc.irq(trigger=rtc.ALARM0, wake=machine.DEEPSLEEP)\n",
    "rtc.alarm(rtc.ALARM0, 10000)\n",
    "machine.deepsleep()\n",
    "if machine.reset_cause() == machine.DEEPSLEEP_RESET:\n",
    "    print(\"WOKE\")\n",
    "else:\n",
    "    machine.reset()"
   ]
  },
  {
   "cell_type": "markdown",
   "metadata": {
    "slideshow": {
     "slide_type": "subslide"
    }
   },
   "source": [
    "#### WiFi"
   ]
  },
  {
   "cell_type": "code",
   "execution_count": null,
   "metadata": {
    "slideshow": {
     "slide_type": "-"
    }
   },
   "outputs": [],
   "source": [
    "# Access Point\n",
    "import network\n",
    "ap_if = network.WLAN(network.AP_IF)\n",
    "ap_if.active()"
   ]
  },
  {
   "cell_type": "code",
   "execution_count": null,
   "metadata": {
    "slideshow": {
     "slide_type": "-"
    }
   },
   "outputs": [],
   "source": [
    "# Connect to network\n",
    "\n",
    "import network\n",
    "\n",
    "sta_if = network.WLAN(network.STA_IF)\n",
    "print('connecting to network...')\n",
    "sta_if.active(True)\n",
    "sta_if.connect(ssid, pwd)\n",
    "while not sta_if.isconnected():\n",
    "    pass\n",
    "print('network config:', sta_if.ifconfig())"
   ]
  },
  {
   "cell_type": "markdown",
   "metadata": {
    "slideshow": {
     "slide_type": "subslide"
    }
   },
   "source": [
    "### upip (package manager)"
   ]
  },
  {
   "cell_type": "code",
   "execution_count": null,
   "metadata": {
    "slideshow": {
     "slide_type": "-"
    }
   },
   "outputs": [],
   "source": [
    "import upip\n",
    "upip.install('micropython-collections')"
   ]
  }
 ],
 "metadata": {
  "celltoolbar": "Slideshow",
  "kernelspec": {
   "display_name": "Python 3",
   "language": "python",
   "name": "python3"
  },
  "language_info": {
   "codemirror_mode": {
    "name": "ipython",
    "version": 3
   },
   "file_extension": ".py",
   "mimetype": "text/x-python",
   "name": "python",
   "nbconvert_exporter": "python",
   "pygments_lexer": "ipython3",
   "version": "3.6.3"
  }
 },
 "nbformat": 4,
 "nbformat_minor": 2
}
