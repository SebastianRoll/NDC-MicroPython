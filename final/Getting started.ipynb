{
 "cells": [
  {
   "cell_type": "markdown",
   "metadata": {
    "slideshow": {
     "slide_type": "skip"
    }
   },
   "source": [
    "%%HTML\n",
    "<style>\n",
    "\n",
    ".CodeMirror {\n",
    "    width: 100vw;\n",
    "}\n",
    "\n",
    ".container {\n",
    "    width: 99% !important;\n",
    "}\n",
    "\n",
    ".rendered_html {\n",
    "  font-size:0.7em;\n",
    "}\n",
    ".rendered_html table, .rendered_html th, .rendered_html tr, .rendered_html td {\n",
    "     font-size: 100%;\n",
    "}\n",
    "\n",
    "</style>"
   ]
  },
  {
   "cell_type": "markdown",
   "metadata": {
    "slideshow": {
     "slide_type": "slide"
    }
   },
   "source": [
    "## Flashing device"
   ]
  },
  {
   "cell_type": "markdown",
   "metadata": {
    "slideshow": {
     "slide_type": "-"
    }
   },
   "source": [
    "http://micropython.org/download\n",
    "\n",
    "`pip install esptool`"
   ]
  },
  {
   "cell_type": "markdown",
   "metadata": {
    "slideshow": {
     "slide_type": "skip"
    }
   },
   "source": [
    "## ESP32\n",
    "\n",
    "- Internal 4 MB RAM?\n",
    "\n",
    "ESP32 can use external SPIRAM (psRAM) to expand available RAM up to 16MB [source](https://github.com/loboris/MicroPython_ESP32_psRAM_LoBo)."
   ]
  },
  {
   "cell_type": "code",
   "execution_count": 1,
   "metadata": {
    "collapsed": true,
    "slideshow": {
     "slide_type": "fragment"
    }
   },
   "outputs": [
    {
     "name": "stdout",
     "output_type": "stream",
     "text": [
      "esptool.py v2.1\n",
      "Connecting......\n",
      "Chip is ESP32D0WDQ6 (revision 1)\n",
      "Uploading stub...\n",
      "Running stub...\n",
      "Stub running...\n",
      "Erasing flash (this may take a while)...\n",
      "Chip erase completed successfully in 3.6s\n",
      "Hard resetting...\n"
     ]
    }
   ],
   "source": [
    "!esptool.py --port /dev/ttyUSB0 --chip esp32 erase_flash"
   ]
  },
  {
   "cell_type": "code",
   "execution_count": 2,
   "metadata": {
    "slideshow": {
     "slide_type": "fragment"
    }
   },
   "outputs": [
    {
     "name": "stdout",
     "output_type": "stream",
     "text": [
      "esptool.py v2.1\n",
      "Connecting.......\n",
      "Chip is ESP32D0WDQ6 (revision 1)\n",
      "Uploading stub...\n",
      "Running stub...\n",
      "Stub running...\n",
      "Configuring flash size...\n",
      "Auto-detected Flash size: 4MB\n",
      "Compressed 1016496 bytes to 634306...\n",
      "Wrote 1016496 bytes (634306 compressed) at 0x00001000 in 55.9 seconds (effective 145.5 kbit/s)...\n",
      "Hash of data verified.\n",
      "\n",
      "Leaving...\n",
      "Hard resetting...\n"
     ]
    }
   ],
   "source": [
    "!esptool.py --chip esp32 --port /dev/micropython write_flash -z 0x1000 esp32-20180613-v1.9.4-156-g03590641.bin"
   ]
  },
  {
   "cell_type": "markdown",
   "metadata": {
    "slideshow": {
     "slide_type": "skip"
    }
   },
   "source": [
    "# Communication"
   ]
  },
  {
   "cell_type": "markdown",
   "metadata": {
    "slideshow": {
     "slide_type": "subslide"
    }
   },
   "source": [
    "## Serial port communication\n",
    "\n",
    "Universal asynchronous receiver-transmitter (UART)\n",
    "\n",
    "- serial - parallel (1 bit <-> bytes)\n",
    "- baudrate (bits per second) (default 115200)\n",
    "\n",
    "- Tools\n",
    "  - screen\n",
    "  - Putty\n",
    "  - Picocom\n",
    "  - YAT (Yet Another Terminal)\n",
    "  - pySerial\n",
    "  - Jupyter Notebook\n",
    "  "
   ]
  },
  {
   "cell_type": "markdown",
   "metadata": {
    "slideshow": {
     "slide_type": "skip"
    }
   },
   "source": [
    "## Bind tty to static name (Linux)\n",
    "\n",
    "/etc/udev/rules.d/10-local.rules\n",
    "\n",
    "`ACTION==\"add\", ATTRS{idVendor}==\"0403\", ATTRS{idProduct}==\"6001\", SYMLINK+=\"my_uart\"`\n",
    "\n",
    "You can check for the variables of your device by running\n",
    "\n",
    "`udevadm info --name=/dev/ttyUSBx --attribute-walk`\n",
    "\n",
    " ATTRS{idProduct}==\"0002\"\n",
    " ATTRS{idVendor}==\"1d6b\""
   ]
  },
  {
   "cell_type": "markdown",
   "metadata": {
    "slideshow": {
     "slide_type": "subslide"
    }
   },
   "source": [
    "## File transfer\n",
    "\n",
    "### ampy\n",
    "\n",
    "`pip install adafruit-ampy`\n",
    "\n",
    "`ampy -p /dev/ttyUSB0 put boot.py`\n"
   ]
  },
  {
   "cell_type": "code",
   "execution_count": 4,
   "metadata": {
    "slideshow": {
     "slide_type": "-"
    }
   },
   "outputs": [
    {
     "name": "stdout",
     "output_type": "stream",
     "text": [
      "boot.py\r\n"
     ]
    }
   ],
   "source": [
    "!ampy -p /dev/micropython ls"
   ]
  },
  {
   "cell_type": "markdown",
   "metadata": {
    "slideshow": {
     "slide_type": "slide"
    }
   },
   "source": [
    "## WebREPL\n",
    "\n",
    "\n",
    "![webrepl](https://cdn-learn.adafruit.com/assets/assets/000/035/130/original/microcontrollers_Screen_Shot_2016-08-25_at_6.41.48_PM.png?1472175855)\n",
    "\n",
    "`import webrepl_setup`"
   ]
  },
  {
   "cell_type": "markdown",
   "metadata": {
    "slideshow": {
     "slide_type": "skip"
    }
   },
   "source": [
    "\n",
    "http://docs.micropython.org/en/latest/esp8266/esp8266/quickref.html\n",
    "\n",
    "`import webrepl_setup`\n",
    "\n",
    "- uses a single connection over WebSocket\n",
    "\n",
    "If the board isn't connected already to a wireless access point then it will create one which you can connect to from your computer."
   ]
  },
  {
   "cell_type": "markdown",
   "metadata": {
    "slideshow": {
     "slide_type": "subslide"
    }
   },
   "source": [
    "## REPL (read-eval-print-loop)\n",
    "\n",
    "- help(), help('modules'), dir()\n",
    "- auto-indent, auto-completion\n",
    "- Interrupting\n",
    "- paste mode\n",
    "- bitbucket variable"
   ]
  },
  {
   "cell_type": "code",
   "execution_count": 3,
   "metadata": {
    "slideshow": {
     "slide_type": "-"
    }
   },
   "outputs": [
    {
     "name": "stdout",
     "output_type": "stream",
     "text": [
      "Traceback (most recent call last):\r\n",
      "  File \"<stdin>\", line 1, in <module>\r\n",
      "NameError: name '_' is not defined\r\n"
     ]
    }
   ],
   "source": [
    "help('modules')"
   ]
  },
  {
   "cell_type": "code",
   "execution_count": 4,
   "metadata": {
    "slideshow": {
     "slide_type": "subslide"
    }
   },
   "outputs": [
    {
     "name": "stdout",
     "output_type": "stream",
     "text": [
      "4194304\r\n"
     ]
    }
   ],
   "source": [
    "import esp\n",
    "print(esp.flash_size())"
   ]
  },
  {
   "cell_type": "markdown",
   "metadata": {
    "slideshow": {
     "slide_type": "subslide"
    }
   },
   "source": [
    "## Reset\n",
    "***\n",
    "__soft__ `CTRL+D`\n",
    "- clears the state of the MicroPython virtual machine\n",
    "- leaves hardware peripherals unaffected\n",
    "  \n",
    "```\n",
    "import sys\n",
    "sys.exit()\n",
    "```\n",
    "***\n",
    "**hard**\n",
    "\n",
    "- same as performing a power cycle to the boar\n",
    "\n",
    "```\n",
    "import machine\n",
    "machine.reset()\n",
    "```"
   ]
  },
  {
   "cell_type": "markdown",
   "metadata": {
    "slideshow": {
     "slide_type": "subslide"
    }
   },
   "source": [
    "#### Startup code\n",
    "\n",
    "- boot.py: power cycle, hard reset, deep sleep\n",
    "- main.py: your main program"
   ]
  },
  {
   "cell_type": "code",
   "execution_count": 5,
   "metadata": {
    "slideshow": {
     "slide_type": "-"
    }
   },
   "outputs": [
    {
     "name": "stdout",
     "output_type": "stream",
     "text": [
      "# This file is executed on every boot (including wake-boot from deepsleep)\r\n",
      "#import esp\r\n",
      "#esp.osdebug(None)\r\n",
      "#import webrepl\r\n",
      "#webrepl.start()\r\n",
      "\r\n"
     ]
    }
   ],
   "source": [
    "with open('boot.py', 'r') as f:\n",
    "    print(f.read())"
   ]
  },
  {
   "cell_type": "markdown",
   "metadata": {
    "slideshow": {
     "slide_type": "subslide"
    }
   },
   "source": [
    "## Machine module"
   ]
  },
  {
   "cell_type": "code",
   "execution_count": 6,
   "metadata": {
    "collapsed": true,
    "slideshow": {
     "slide_type": "-"
    }
   },
   "outputs": [
    {
     "name": "stdout",
     "output_type": "stream",
     "text": [
      "object <module 'umachine'> is of type module\r\n",
      "  __name__ -- umachine\r\n",
      "  mem8 -- <8-bit memory>\r\n",
      "  mem16 -- <16-bit memory>\r\n",
      "  mem32 -- <32-bit memory>\r\n",
      "  freq -- <function>\r\n",
      "  reset -- <function>\r\n",
      "  unique_id -- <function>\r\n",
      "  sleep -- <function>\r\n",
      "  deepsleep -- <function>\r\n",
      "  idle -- <function>\r\n",
      "  disable_irq -- <function>\r\n",
      "  enable_irq -- <function>\r\n",
      "  time_pulse_us -- <function>\r\n",
      "  Timer -- <class 'Timer'>\r\n",
      "  WDT -- <class 'WDT'>\r\n",
      "  SLEEP -- 2\r\n",
      "  DEEPSLEEP -- 4\r\n",
      "  Pin -- <class 'Pin'>\r\n",
      "  Signal -- <class 'Signal'>\r\n",
      "  TouchPad -- <class 'TouchPad'>\r\n",
      "  ADC -- <class 'ADC'>\r\n",
      "  DAC -- <class 'DAC'>\r\n",
      "  I2C -- <class 'I2C'>\r\n",
      "  PWM -- <class 'PWM'>\r\n",
      "  RTC -- <class 'RTC'>\r\n",
      "  SPI -- <class 'SoftSPI'>\r\n",
      "  UART -- <class 'UART'>\r\n",
      "  reset_cause -- <function>\r\n",
      "  HARD_RESET -- 2\r\n",
      "  PWRON_RESET -- 1\r\n",
      "  WDT_RESET -- 3\r\n",
      "  DEEPSLEEP_RESET -- 4\r\n",
      "  SOFT_RESET -- 5\r\n",
      "  wake_reason -- <function>\r\n",
      "  PIN_WAKE -- 1\r\n",
      "  EXT0_WAKE -- 1\r\n",
      "  EXT1_WAKE -- 2\r\n",
      "  TIMER_WAKE -- 3\r\n",
      "  TOUCHPAD_WAKE -- 4\r\n",
      "  ULP_WAKE -- 5\r\n",
      "None\r\n"
     ]
    }
   ],
   "source": [
    "import machine\n",
    "print(help(machine))"
   ]
  },
  {
   "cell_type": "markdown",
   "metadata": {
    "slideshow": {
     "slide_type": "fragment"
    }
   },
   "source": [
    "### RTC (real time clock)"
   ]
  },
  {
   "cell_type": "code",
   "execution_count": 7,
   "metadata": {
    "slideshow": {
     "slide_type": "-"
    }
   },
   "outputs": [
    {
     "name": "stdout",
     "output_type": "stream",
     "text": [
      "(2014, 5, 1, 3, 13, 0, 0, 155)\r\n"
     ]
    }
   ],
   "source": [
    "rtc = machine.RTC()\n",
    "rtc.init((2014, 5, 1, 4, 13, 0, 0, 0))\n",
    "print(rtc.datetime())"
   ]
  },
  {
   "cell_type": "markdown",
   "metadata": {
    "slideshow": {
     "slide_type": "skip"
    }
   },
   "source": [
    "### Power control"
   ]
  },
  {
   "cell_type": "code",
   "execution_count": null,
   "metadata": {
    "slideshow": {
     "slide_type": "skip"
    }
   },
   "outputs": [],
   "source": [
    "import machine\n",
    "\n",
    "rtc = machine.RTC()\n",
    "rtc.irq(trigger=rtc.ALARM0, wake=machine.DEEPSLEEP)\n",
    "rtc.alarm(rtc.ALARM0, 10000)\n",
    "machine.deepsleep()\n",
    "if machine.reset_cause() == machine.DEEPSLEEP_RESET:\n",
    "    print(\"WOKE\")\n",
    "else:\n",
    "    machine.reset()"
   ]
  },
  {
   "cell_type": "markdown",
   "metadata": {
    "slideshow": {
     "slide_type": "subslide"
    }
   },
   "source": [
    "#### WiFi"
   ]
  },
  {
   "cell_type": "code",
   "execution_count": null,
   "metadata": {
    "slideshow": {
     "slide_type": "-"
    }
   },
   "outputs": [],
   "source": [
    "# Access Point\n",
    "import network\n",
    "ap_if = network.WLAN(network.AP_IF)\n",
    "ap_if.active()"
   ]
  },
  {
   "cell_type": "code",
   "execution_count": null,
   "metadata": {
    "slideshow": {
     "slide_type": "-"
    }
   },
   "outputs": [],
   "source": [
    "# Connect to network\n",
    "import network\n",
    "\n",
    "sta_if = network.WLAN(network.STA_IF)\n",
    "print('connecting to network...')\n",
    "sta_if.active(True)\n",
    "sta_if.connect('NDC 2018', '')\n",
    "while not sta_if.isconnected():\n",
    "    pass\n",
    "print('network config:', sta_if.ifconfig())"
   ]
  },
  {
   "cell_type": "markdown",
   "metadata": {
    "slideshow": {
     "slide_type": "subslide"
    }
   },
   "source": [
    "### upip (package manager)"
   ]
  },
  {
   "cell_type": "code",
   "execution_count": null,
   "metadata": {
    "slideshow": {
     "slide_type": "-"
    }
   },
   "outputs": [],
   "source": [
    "import upip\n",
    "upip.install('micropython-collections')"
   ]
  }
 ],
 "metadata": {
  "celltoolbar": "Slideshow",
  "kernelspec": {
   "display_name": "MicroPython - /dev/micropython",
   "language": "micropython",
   "name": "micropython"
  },
  "language_info": {
   "file_extension": ".py",
   "mimetype": "text/x-python",
   "name": "python"
  },
  "livereveal": {
   "autolaunch": true,
   "height": 900,
   "scroll": true,
   "start_slideshow_at": "selected",
   "width": 1600
  }
 },
 "nbformat": 4,
 "nbformat_minor": 2
}
