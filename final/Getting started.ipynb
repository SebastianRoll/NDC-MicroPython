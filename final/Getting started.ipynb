{
 "cells": [
  {
   "cell_type": "markdown",
   "metadata": {
    "slideshow": {
     "slide_type": "skip"
    }
   },
   "source": [
    "%%HTML\n",
    "<style>\n",
    "\n",
    ".CodeMirror {\n",
    "    width: 100vw;\n",
    "}\n",
    "\n",
    ".container {\n",
    "    width: 99% !important;\n",
    "}\n",
    "\n",
    ".rendered_html {\n",
    "  font-size:0.7em;\n",
    "}\n",
    ".rendered_html table, .rendered_html th, .rendered_html tr, .rendered_html td {\n",
    "     font-size: 100%;\n",
    "}\n",
    "\n",
    "</style>"
   ]
  },
  {
   "cell_type": "markdown",
   "metadata": {
    "slideshow": {
     "slide_type": "slide"
    }
   },
   "source": [
    "## Flashing device"
   ]
  },
  {
   "cell_type": "markdown",
   "metadata": {
    "slideshow": {
     "slide_type": "-"
    }
   },
   "source": [
    "# edc2018micropython\n",
    "\n",
    "https://micropython.org/download#esp32\n",
    "\n",
    "`pip install esptool`\n",
    "\n",
    "### USB name\n",
    "- `/dev/ttyUSB0` (Linux)"
   ]
  },
  {
   "cell_type": "markdown",
   "metadata": {
    "slideshow": {
     "slide_type": "skip"
    }
   },
   "source": [
    "## ESP32\n",
    "\n",
    "- Internal 4 MB RAM?\n",
    "\n",
    "ESP32 can use external SPIRAM (psRAM) to expand available RAM up to 16MB [source](https://github.com/loboris/MicroPython_ESP32_psRAM_LoBo)."
   ]
  },
  {
   "cell_type": "code",
   "execution_count": 2,
   "metadata": {
    "collapsed": true,
    "slideshow": {
     "slide_type": "fragment"
    }
   },
   "outputs": [
    {
     "name": "stdout",
     "output_type": "stream",
     "text": [
      "esptool.py v2.4.0\n",
      "Connecting....\n",
      "Chip is ESP32D0WDQ6 (revision 1)\n",
      "Features: WiFi, BT, Dual Core, 240MHz, VRef calibration in efuse\n",
      "MAC: 80:7d:3a:c5:3a:34\n",
      "Uploading stub...\n",
      "Running stub...\n",
      "Stub running...\n",
      "Erasing flash (this may take a while)...\n",
      "Chip erase completed successfully in 6.1s\n",
      "Hard resetting via RTS pin...\n"
     ]
    }
   ],
   "source": [
    "!esptool.py --port /dev/ttyUSB0 --chip esp32 erase_flash"
   ]
  },
  {
   "cell_type": "code",
   "execution_count": 3,
   "metadata": {
    "collapsed": true,
    "slideshow": {
     "slide_type": "fragment"
    }
   },
   "outputs": [
    {
     "name": "stdout",
     "output_type": "stream",
     "text": [
      "esptool.py v2.4.0\n",
      "Connecting....\n",
      "Chip is ESP32D0WDQ6 (revision 1)\n",
      "Features: WiFi, BT, Dual Core, 240MHz, VRef calibration in efuse\n",
      "MAC: 80:7d:3a:c5:3a:34\n",
      "Uploading stub...\n",
      "Running stub...\n",
      "Stub running...\n",
      "Configuring flash size...\n",
      "Auto-detected Flash size: 4MB\n",
      "Compressed 1053296 bytes to 663038...\n",
      "Wrote 1053296 bytes (663038 compressed) at 0x00001000 in 58.8 seconds (effective 143.2 kbit/s)...\n",
      "Hash of data verified.\n",
      "\n",
      "Leaving...\n",
      "Hard resetting via RTS pin...\n"
     ]
    }
   ],
   "source": [
    "!esptool.py --chip esp32 --port /dev/ttyUSB0 write_flash -z 0x1000 esp32-20180925-v1.9.4-575-g6ea6c7cc9.bin"
   ]
  },
  {
   "cell_type": "markdown",
   "metadata": {
    "slideshow": {
     "slide_type": "skip"
    }
   },
   "source": [
    "# Communication"
   ]
  },
  {
   "cell_type": "markdown",
   "metadata": {
    "slideshow": {
     "slide_type": "subslide"
    }
   },
   "source": [
    "### UART\n",
    "- \"universal asynchronous receiver-transmitter\"\n",
    "- **PC -> (USB) -> ESP32 **\n",
    "- serial - parallel (1 bit <-> bytes)\n",
    "- baudrate (bits per second) (default 115200)\n",
    "- Tools\n",
    "  - screen\n",
    "  - Putty\n",
    "  - Picocom\n",
    "  - YAT (Yet Another Terminal)\n",
    "  - pySerial\n",
    "  - Jupyter Notebook\n",
    "  "
   ]
  },
  {
   "cell_type": "markdown",
   "metadata": {
    "slideshow": {
     "slide_type": "skip"
    }
   },
   "source": [
    "## Bind tty to static name (Linux)\n",
    "\n",
    "/etc/udev/rules.d/10-local.rules\n",
    "\n",
    "`ACTION==\"add\", ATTRS{idVendor}==\"0403\", ATTRS{idProduct}==\"6001\", SYMLINK+=\"my_uart\"`\n",
    "\n",
    "You can check for the variables of your device by running\n",
    "\n",
    "`udevadm info --name=/dev/ttyUSBx --attribute-walk`\n",
    "\n",
    " ATTRS{idProduct}==\"0002\"\n",
    " ATTRS{idVendor}==\"1d6b\""
   ]
  },
  {
   "cell_type": "markdown",
   "metadata": {
    "slideshow": {
     "slide_type": "subslide"
    }
   },
   "source": [
    "## File transfer\n",
    "\n",
    "### ampy\n",
    "\n",
    "`pip install adafruit-ampy`\n",
    "\n",
    "`ampy -p /dev/ttyUSB0 put boot.py`\n",
    "\n",
    "### FTP\n",
    "\n",
    "google `ftp server micropython`"
   ]
  },
  {
   "cell_type": "code",
   "execution_count": null,
   "metadata": {},
   "outputs": [],
   "source": [
    "!ampy -p /dev/micropython ls"
   ]
  },
  {
   "cell_type": "markdown",
   "metadata": {
    "slideshow": {
     "slide_type": "slide"
    }
   },
   "source": [
    "https://github.com/SebastianRoll/slides_micropython"
   ]
  },
  {
   "cell_type": "markdown",
   "metadata": {
    "slideshow": {
     "slide_type": "slide"
    }
   },
   "source": [
    "## WebREPL\n",
    "\n",
    "\n",
    "![webrepl](https://cdn-learn.adafruit.com/assets/assets/000/035/130/original/microcontrollers_Screen_Shot_2016-08-25_at_6.41.48_PM.png?1472175855)\n"
   ]
  },
  {
   "cell_type": "markdown",
   "metadata": {
    "slideshow": {
     "slide_type": "skip"
    }
   },
   "source": [
    "\n",
    "http://docs.micropython.org/en/latest/esp8266/esp8266/quickref.html\n",
    "\n",
    "`import webrepl_setup`\n",
    "\n",
    "- uses a single connection over WebSocket\n",
    "- `wlan.config('mac')`\n",
    "\n",
    "If the board isn't connected already to a wireless access point then it will create one which you can connect to from your computer."
   ]
  },
  {
   "cell_type": "markdown",
   "metadata": {
    "slideshow": {
     "slide_type": "subslide"
    }
   },
   "source": [
    "## REPL (read-eval-print-loop)\n",
    "\n",
    "- help(), help('modules'), dir()\n",
    "- auto-indent, auto-completion\n",
    "- Interrupting\n",
    "- paste mode\n",
    "- bitbucket variable"
   ]
  },
  {
   "cell_type": "code",
   "execution_count": 7,
   "metadata": {
    "slideshow": {
     "slide_type": "-"
    }
   },
   "outputs": [
    {
     "name": "stdout",
     "output_type": "stream",
     "text": [
      "__main__          framebuf          socket            upip\r\n",
      "_boot             gc                ssl               upip_utarfile\r\n",
      "_onewire          hashlib           struct            upysh\r\n",
      "_thread           heapq             sys               urandom\r\n",
      "_webrepl          inisetup          time              ure\r\n",
      "apa106            io                ubinascii         urequests\r\n",
      "array             json              ucollections      uselect\r\n",
      "binascii          machine           ucryptolib        usocket\r\n",
      "btree             math              uctypes           ussl\r\n",
      "builtins          micropython       uerrno            ustruct\r\n",
      "cmath             neopixel          uhashlib          utime\r\n",
      "collections       network           uhashlib          utimeq\r\n",
      "dht               ntptime           uheapq            uzlib\r\n",
      "ds18x20           onewire           uio               webrepl\r\n",
      "errno             os                ujson             webrepl_setup\r\n",
      "esp               random            umqtt/robust      websocket\r\n",
      "esp32             re                umqtt/simple      websocket_helper\r\n",
      "flashbdev         select            uos               zlib\r\n",
      "Plus any modules on the filesystem\r\n"
     ]
    }
   ],
   "source": [
    "help('modules')\n"
   ]
  },
  {
   "cell_type": "code",
   "execution_count": 8,
   "metadata": {
    "slideshow": {
     "slide_type": "subslide"
    }
   },
   "outputs": [
    {
     "name": "stdout",
     "output_type": "stream",
     "text": [
      "4194304\r\n"
     ]
    }
   ],
   "source": [
    "import esp\n",
    "print(esp.flash_size())"
   ]
  },
  {
   "cell_type": "markdown",
   "metadata": {
    "slideshow": {
     "slide_type": "subslide"
    }
   },
   "source": [
    "## Reset\n",
    "***\n",
    "__soft__ `CTRL+D`\n",
    "- clears the state of the MicroPython virtual machine\n",
    "- leaves hardware peripherals unaffected\n",
    "  \n",
    "```\n",
    "import sys\n",
    "sys.exit()\n",
    "```\n",
    "***\n",
    "**hard**\n",
    "\n",
    "- same as performing a power cycle to the boar\n",
    "\n",
    "```\n",
    "import machine\n",
    "machine.reset()\n",
    "```"
   ]
  },
  {
   "cell_type": "markdown",
   "metadata": {
    "slideshow": {
     "slide_type": "subslide"
    }
   },
   "source": [
    "#### Startup code\n",
    "\n",
    "- boot.py: power cycle, hard reset, deep sleep\n",
    "- main.py: your main program"
   ]
  },
  {
   "cell_type": "code",
   "execution_count": 9,
   "metadata": {
    "slideshow": {
     "slide_type": "-"
    }
   },
   "outputs": [
    {
     "name": "stdout",
     "output_type": "stream",
     "text": [
      "# This file is executed on every boot (including wake-boot from deepsleep)\r\n",
      "#import esp\r\n",
      "#esp.osdebug(None)\r\n",
      "#import webrepl\r\n",
      "#webrepl.start()\r\n",
      "\r\n"
     ]
    }
   ],
   "source": [
    "with open('boot.py', 'r') as f:\n",
    "    print(f.read())"
   ]
  },
  {
   "cell_type": "markdown",
   "metadata": {
    "slideshow": {
     "slide_type": "subslide"
    }
   },
   "source": [
    "## Machine module"
   ]
  },
  {
   "cell_type": "code",
   "execution_count": null,
   "metadata": {
    "slideshow": {
     "slide_type": "-"
    }
   },
   "outputs": [],
   "source": [
    "import machine\n",
    "print(help(machine))"
   ]
  },
  {
   "cell_type": "markdown",
   "metadata": {
    "slideshow": {
     "slide_type": "fragment"
    }
   },
   "source": [
    "### RTC (real time clock)"
   ]
  },
  {
   "cell_type": "code",
   "execution_count": null,
   "metadata": {
    "slideshow": {
     "slide_type": "-"
    }
   },
   "outputs": [],
   "source": [
    "rtc = machine.RTC()\n",
    "rtc.init((2014, 5, 1, 4, 13, 0, 0, 0))\n",
    "print(rtc.datetime())"
   ]
  },
  {
   "cell_type": "markdown",
   "metadata": {
    "slideshow": {
     "slide_type": "skip"
    }
   },
   "source": [
    "### Power control"
   ]
  },
  {
   "cell_type": "code",
   "execution_count": null,
   "metadata": {
    "slideshow": {
     "slide_type": "skip"
    }
   },
   "outputs": [],
   "source": [
    "import machine\n",
    "\n",
    "rtc = machine.RTC()\n",
    "rtc.irq(trigger=rtc.ALARM0, wake=machine.DEEPSLEEP)\n",
    "rtc.alarm(rtc.ALARM0, 10000)\n",
    "machine.deepsleep()\n",
    "if machine.reset_cause() == machine.DEEPSLEEP_RESET:\n",
    "    print(\"WOKE\")\n",
    "else:\n",
    "    machine.reset()"
   ]
  },
  {
   "cell_type": "markdown",
   "metadata": {
    "slideshow": {
     "slide_type": "subslide"
    }
   },
   "source": [
    "#### WiFi"
   ]
  },
  {
   "cell_type": "code",
   "execution_count": null,
   "metadata": {
    "slideshow": {
     "slide_type": "-"
    }
   },
   "outputs": [],
   "source": [
    "# Access Point\n",
    "import network\n",
    "ap_if = network.WLAN(network.AP_IF)\n",
    "ap_if.active()\n",
    "# import webrepl_setup"
   ]
  },
  {
   "cell_type": "code",
   "execution_count": null,
   "metadata": {
    "slideshow": {
     "slide_type": "-"
    }
   },
   "outputs": [],
   "source": [
    "# Connect to network\n",
    "import network\n",
    "sta_if = network.WLAN(network.STA_IF)\n",
    "print('connecting to network...')\n",
    "sta_if.active(True)\n",
    "sta_if.connect('Clarion-Connect', '')\n",
    "while not sta_if.isconnected():\n",
    "    pass\n",
    "print('network config:', sta_if.ifconfig())"
   ]
  },
  {
   "cell_type": "markdown",
   "metadata": {
    "slideshow": {
     "slide_type": "slide"
    }
   },
   "source": [
    "git@github.com:SebastianRoll/NDC-MicroPython.git\n",
    "`/final`\n",
    "\n",
    "https://github.com/SebastianRoll/micropython-EDC2018\n",
    "\n",
    "#### Box!\n",
    "- mp3 module _YX5300_\n",
    "- OLED display _SSD-1351_\n",
    "- microphone _Max7219(?)_\n",
    "- MicroSD module\n",
    "- pushbuttons\n"
   ]
  },
  {
   "cell_type": "markdown",
   "metadata": {
    "slideshow": {
     "slide_type": "subslide"
    }
   },
   "source": [
    "### upip (package manager)"
   ]
  },
  {
   "cell_type": "code",
   "execution_count": null,
   "metadata": {
    "slideshow": {
     "slide_type": "-"
    }
   },
   "outputs": [],
   "source": [
    "import upip\n",
    "upip.install('micropython-collections')"
   ]
  },
  {
   "cell_type": "markdown",
   "metadata": {},
   "source": [
    "### micropython-lib\n",
    "Core Python libraries ported to MicroPython\n",
    "\n",
    "https://github.com/micropython/micropython-lib"
   ]
  }
 ],
 "metadata": {
  "celltoolbar": "Slideshow",
  "kernelspec": {
   "display_name": "MicroPython - /dev/ttyUSB0",
   "language": "micropython",
   "name": "micropython-ttyusb0"
  },
  "language_info": {
   "file_extension": ".py",
   "mimetype": "text/x-python",
   "name": "python"
  },
  "livereveal": {
   "autolaunch": true,
   "height": 900,
   "scroll": true,
   "start_slideshow_at": "selected",
   "width": 1600
  }
 },
 "nbformat": 4,
 "nbformat_minor": 2
}
