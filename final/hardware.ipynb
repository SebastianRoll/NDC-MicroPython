{
 "cells": [
  {
   "cell_type": "code",
   "execution_count": 7,
   "metadata": {
    "slideshow": {
     "slide_type": "skip"
    }
   },
   "outputs": [
    {
     "data": {
      "text/html": [
       "<style>\n",
       "\n",
       ".CodeMirror {\n",
       "    width: 100vw;\n",
       "}\n",
       "\n",
       ".container {\n",
       "    width: 69% !important;\n",
       "}\n",
       "\n",
       ".rendered_html {\n",
       "  font-size:0.8em;\n",
       "}\n",
       ".rendered_html table, .rendered_html th, .rendered_html tr, .rendered_html td {\n",
       "     font-size: 100%;\n",
       "}\n",
       "\n",
       "</style>"
      ],
      "text/plain": [
       "<IPython.core.display.HTML object>"
      ]
     },
     "metadata": {},
     "output_type": "display_data"
    }
   ],
   "source": [
    "%%HTML\n",
    "<style>\n",
    "\n",
    ".CodeMirror {\n",
    "    width: 100vw;\n",
    "}\n",
    "\n",
    ".container {\n",
    "    width: 69% !important;\n",
    "}\n",
    "\n",
    ".rendered_html {\n",
    "  font-size:0.8em;\n",
    "}\n",
    ".rendered_html table, .rendered_html th, .rendered_html tr, .rendered_html td {\n",
    "     font-size: 100%;\n",
    "}\n",
    "\n",
    "</style>"
   ]
  },
  {
   "cell_type": "markdown",
   "metadata": {
    "slideshow": {
     "slide_type": "slide"
    }
   },
   "source": [
    "# Microcontrollers"
   ]
  },
  {
   "cell_type": "markdown",
   "metadata": {
    "slideshow": {
     "slide_type": "-"
    }
   },
   "source": [
    "- PyBoard\n",
    "- Pycom\n",
    "- ESP8266\n",
    "- ESP32\n",
    "- STM32F4\n",
    "- NUCLEO boards\n",
    "- Espruino Pico"
   ]
  },
  {
   "cell_type": "markdown",
   "metadata": {
    "collapsed": true,
    "slideshow": {
     "slide_type": "subslide"
    }
   },
   "source": [
    "## Pyboard\n",
    "\n",
    "- 168 MHz Cortex M4\n",
    "- 192K RAM (100K heap)\n",
    "- 12-bit digital resolution (DAC & ADC)\n",
    "- Reference hardware for MicroPython\n",
    "\n",
    "\n",
    "<img src=\"https://store.micropython.org/media/products/PYBv1_1.jpg\" alt=\"Drawing\" style=\"width: 400px;\"/>"
   ]
  },
  {
   "cell_type": "markdown",
   "metadata": {
    "slideshow": {
     "slide_type": "subslide"
    }
   },
   "source": [
    "## Pycom\n",
    "\n",
    "<img src=\"images/boards/lopy.jpg\" alt=\"Drawing\" style=\"width: 600px;\"/>\n",
    "\n",
    "Wifi, bluetooth, Lora, Sigfox, cellular"
   ]
  },
  {
   "cell_type": "markdown",
   "metadata": {
    "slideshow": {
     "slide_type": "subslide"
    }
   },
   "source": [
    "### ESP8266 (2014)\n",
    "\n",
    "\n",
    "![title](https://docs.micropython.org/en/latest/esp8266/_images/adafruit_products_pinoutstop.jpg)"
   ]
  },
  {
   "cell_type": "markdown",
   "metadata": {
    "slideshow": {
     "slide_type": "skip"
    }
   },
   "source": [
    "\n",
    "ESP8266 which is now called ESP8266EX or ESP-WROOM-02\n",
    "\n",
    "Available pins are: 0, 1, 2, 3, 4, 5, 12, 13, 14, 15, 16, which correspond to the actual GPIO pin numbers of ESP8266 chip. \n",
    "\n",
    "For mapping between board logical pins and physical chip pins, consult your board documentation.\n",
    " \n",
    "(https://docs.micropython.org/en/latest/esp8266/esp8266/quickref.html)"
   ]
  },
  {
   "cell_type": "markdown",
   "metadata": {
    "slideshow": {
     "slide_type": "subslide"
    }
   },
   "source": [
    "### ESP32 (2016/2017)\n",
    "\n",
    "- ESP32 Module: ESP-WROOM-32 from Espressive.\n",
    "  - Microprocessor **dual core** @ 240 MHz\n",
    "  - 4MB flash memory\n",
    "- Connectivity\n",
    "  - WiFi 802.11 b / g / n compliant with IEEE 802.11 compatible with WFA, WPA / WPA2 and WAPI\n",
    "  - Bluetooth 4.0 LE and BR / EDR\n",
    "- I/O\n",
    "  - 26x Digital I/O (3.3V)\n",
    "  - 12x analog inputs\n",
    "  - 4 × SPI, 2 × I²S, 2 × I²C, 3 × UART, CAN 2.0, IR, Touch Sensor,\n",
    "  - Temperature sensor\n",
    "Cryptographic protection: AES, SHA-2, RSA, ECC, random number generator (RNG)\n"
   ]
  },
  {
   "cell_type": "markdown",
   "metadata": {
    "slideshow": {
     "slide_type": "skip"
    }
   },
   "source": [
    "The standard baudrate for the connection to the ESP32 development board is set at 115200. "
   ]
  },
  {
   "cell_type": "markdown",
   "metadata": {
    "slideshow": {
     "slide_type": "subslide"
    }
   },
   "source": [
    "<img src=\"https://projetsdiy.fr/wp-content/uploads/2017/06/ESP32-espressif-Pinout-broche-esp-wroom-32.jpg\" width=1200>"
   ]
  },
  {
   "cell_type": "markdown",
   "metadata": {
    "slideshow": {
     "slide_type": "subslide"
    }
   },
   "source": [
    "Dhrystone mips rating of 600 mips\n",
    "\n",
    "http://www.roylongbottom.org.uk/dhrystone%20results.htm\n",
    "\n",
    "### vax-11 780\n",
    "\n",
    "![esp32](http://images.computerhistory.org/revonline/images/102696007p-03-02.jpg?w=600)"
   ]
  },
  {
   "cell_type": "markdown",
   "metadata": {
    "slideshow": {
     "slide_type": "skip"
    }
   },
   "source": [
    "25 October 1977"
   ]
  },
  {
   "cell_type": "code",
   "execution_count": 1,
   "metadata": {
    "slideshow": {
     "slide_type": "subslide"
    }
   },
   "outputs": [
    {
     "data": {
      "text/html": [
       "<div>\n",
       "<style>\n",
       "    .dataframe thead tr:only-child th {\n",
       "        text-align: right;\n",
       "    }\n",
       "\n",
       "    .dataframe thead th {\n",
       "        text-align: left;\n",
       "    }\n",
       "\n",
       "    .dataframe tbody tr th {\n",
       "        vertical-align: top;\n",
       "    }\n",
       "</style>\n",
       "<table border=\"1\" class=\"dataframe\">\n",
       "  <thead>\n",
       "    <tr style=\"text-align: right;\">\n",
       "      <th></th>\n",
       "      <th>Arduino</th>\n",
       "      <th>Pyboard v1.1</th>\n",
       "      <th>ESP8266</th>\n",
       "      <th>ESP32</th>\n",
       "    </tr>\n",
       "  </thead>\n",
       "  <tbody>\n",
       "    <tr>\n",
       "      <th>CPU model</th>\n",
       "      <td>AVR ATMega328P</td>\n",
       "      <td>Cortex M4</td>\n",
       "      <td>Tensilica Xtensa LX106</td>\n",
       "      <td>Tensilica Xtensa LX6</td>\n",
       "    </tr>\n",
       "    <tr>\n",
       "      <th>Architecture</th>\n",
       "      <td>8 bit</td>\n",
       "      <td>16 bit</td>\n",
       "      <td>32 bit</td>\n",
       "      <td>32 bit</td>\n",
       "    </tr>\n",
       "    <tr>\n",
       "      <th>Cores</th>\n",
       "      <td>1 core</td>\n",
       "      <td>1 core</td>\n",
       "      <td>1 core</td>\n",
       "      <td>2 core *</td>\n",
       "    </tr>\n",
       "    <tr>\n",
       "      <th>CPU</th>\n",
       "      <td>20 MHz</td>\n",
       "      <td>168 MHz</td>\n",
       "      <td>80/160 MHz</td>\n",
       "      <td>160/240 MHz</td>\n",
       "    </tr>\n",
       "    <tr>\n",
       "      <th>RAM</th>\n",
       "      <td>2 KB RAM</td>\n",
       "      <td>192 KB</td>\n",
       "      <td>160 KB RAM</td>\n",
       "      <td>520 KB RAM</td>\n",
       "    </tr>\n",
       "    <tr>\n",
       "      <th>ROM</th>\n",
       "      <td>32 KB Flash</td>\n",
       "      <td>1 MB</td>\n",
       "      <td>1 - 4 MB Flash</td>\n",
       "      <td>4 - 16 MB Flash</td>\n",
       "    </tr>\n",
       "  </tbody>\n",
       "</table>\n",
       "</div>"
      ],
      "text/plain": [
       "                     Arduino Pyboard v1.1                 ESP8266  \\\n",
       "CPU model     AVR ATMega328P    Cortex M4  Tensilica Xtensa LX106   \n",
       "Architecture           8 bit       16 bit                  32 bit   \n",
       "Cores                 1 core       1 core                  1 core   \n",
       "CPU                   20 MHz      168 MHz              80/160 MHz   \n",
       "RAM                 2 KB RAM       192 KB              160 KB RAM   \n",
       "ROM              32 KB Flash         1 MB          1 - 4 MB Flash   \n",
       "\n",
       "                             ESP32  \n",
       "CPU model     Tensilica Xtensa LX6  \n",
       "Architecture                32 bit  \n",
       "Cores                     2 core *  \n",
       "CPU                    160/240 MHz  \n",
       "RAM                     520 KB RAM  \n",
       "ROM                4 - 16 MB Flash  "
      ]
     },
     "execution_count": 1,
     "metadata": {},
     "output_type": "execute_result"
    }
   ],
   "source": [
    "import pandas as pd\n",
    "df = pd.read_excel('../boards.xlsx')\n",
    "df"
   ]
  },
  {
   "cell_type": "markdown",
   "metadata": {
    "slideshow": {
     "slide_type": "skip"
    }
   },
   "source": [
    "[From Adafruit on ESP32](https://cdn-learn.adafruit.com/downloads/pdf/adafruit-huzzah32-esp32-feather.pdf)\n",
    "\n",
    "Some pins are special about the ESP32 - here's a list of 'notorious' pins to watch for!\n",
    "\n",
    "- A2 / I34 - this pin is an input only! You can use it as an analog input so we suggest\n",
    "keeping it for that purpose\n",
    "- A3 / I39 - this pin is an input only! You can use it as an analog input so we suggest\n",
    "keeping it for that purpose\n",
    "- IO12 - this pin has an internal pulldown, and is used for booting up. We recommend\n",
    "not using it or if you do use it, as an output only so that nothing interferes with the\n",
    "pulldown when the board resets\n",
    "- A13 / I35 - this pin is not exposed, it is used only for measuring the voltage on the\n",
    "battery. The voltage is divided by 2 so be sure to double it once you've done the\n",
    "analog reading"
   ]
  },
  {
   "cell_type": "markdown",
   "metadata": {
    "slideshow": {
     "slide_type": "skip"
    }
   },
   "source": [
    "Missing support \n",
    "- Bluetooth\n",
    "- ipv6\n",
    "- multiple PWM channels\n",
    "\n",
    "\n",
    "Espressif: Open-Source friendly"
   ]
  }
 ],
 "metadata": {
  "celltoolbar": "Slideshow",
  "kernelspec": {
   "display_name": "Python 3",
   "language": "python",
   "name": "python3"
  },
  "language_info": {
   "codemirror_mode": {
    "name": "ipython",
    "version": 3
   },
   "file_extension": ".py",
   "mimetype": "text/x-python",
   "name": "python",
   "nbconvert_exporter": "python",
   "pygments_lexer": "ipython3",
   "version": "3.6.3"
  },
  "livereveal": {
   "autolaunch": true,
   "height": 900,
   "scroll": true,
   "start_slideshow_at": "selected",
   "width": 1600
  }
 },
 "nbformat": 4,
 "nbformat_minor": 1
}
