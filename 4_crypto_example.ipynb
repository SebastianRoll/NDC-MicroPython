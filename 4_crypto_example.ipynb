{
 "cells": [
  {
   "cell_type": "markdown",
   "metadata": {
    "slideshow": {
     "slide_type": "slide"
    }
   },
   "source": [
    "<center>![alt text](https://themerkle.com/wp-content/uploads/shutterstock_712597270-2.jpg)</center>"
   ]
  },
  {
   "cell_type": "code",
   "execution_count": 19,
   "metadata": {
    "slideshow": {
     "slide_type": "subslide"
    }
   },
   "outputs": [],
   "source": [
    "import pandas as pd\n",
    "import requests\n",
    "import matplotlib\n",
    "%matplotlib inline\n",
    "matplotlib.rcParams['figure.figsize'] = (12,7)"
   ]
  },
  {
   "cell_type": "code",
   "execution_count": 20,
   "metadata": {
    "slideshow": {
     "slide_type": "subslide"
    }
   },
   "outputs": [
    {
     "data": {
      "text/html": [
       "<div>\n",
       "<style>\n",
       "    .dataframe thead tr:only-child th {\n",
       "        text-align: right;\n",
       "    }\n",
       "\n",
       "    .dataframe thead th {\n",
       "        text-align: left;\n",
       "    }\n",
       "\n",
       "    .dataframe tbody tr th {\n",
       "        vertical-align: top;\n",
       "    }\n",
       "</style>\n",
       "<table border=\"1\" class=\"dataframe\">\n",
       "  <thead>\n",
       "    <tr style=\"text-align: right;\">\n",
       "      <th></th>\n",
       "      <th>24h_volume_usd</th>\n",
       "      <th>available_supply</th>\n",
       "      <th>id</th>\n",
       "      <th>last_updated</th>\n",
       "      <th>market_cap_usd</th>\n",
       "      <th>max_supply</th>\n",
       "      <th>name</th>\n",
       "      <th>percent_change_1h</th>\n",
       "      <th>percent_change_24h</th>\n",
       "      <th>percent_change_7d</th>\n",
       "      <th>price_btc</th>\n",
       "      <th>price_usd</th>\n",
       "      <th>rank</th>\n",
       "      <th>symbol</th>\n",
       "      <th>total_supply</th>\n",
       "    </tr>\n",
       "  </thead>\n",
       "  <tbody>\n",
       "    <tr>\n",
       "      <th>0</th>\n",
       "      <td>4.103640e+09</td>\n",
       "      <td>1.696130e+07</td>\n",
       "      <td>bitcoin</td>\n",
       "      <td>1.523026e+09</td>\n",
       "      <td>1.125942e+11</td>\n",
       "      <td>2.100000e+07</td>\n",
       "      <td>Bitcoin</td>\n",
       "      <td>0.24</td>\n",
       "      <td>-2.41</td>\n",
       "      <td>-3.98</td>\n",
       "      <td>1.000000</td>\n",
       "      <td>6638.300000</td>\n",
       "      <td>1</td>\n",
       "      <td>BTC</td>\n",
       "      <td>1.696130e+07</td>\n",
       "    </tr>\n",
       "    <tr>\n",
       "      <th>1</th>\n",
       "      <td>1.034540e+09</td>\n",
       "      <td>9.865240e+07</td>\n",
       "      <td>ethereum</td>\n",
       "      <td>1.523026e+09</td>\n",
       "      <td>3.634502e+10</td>\n",
       "      <td>NaN</td>\n",
       "      <td>Ethereum</td>\n",
       "      <td>-0.06</td>\n",
       "      <td>-3.50</td>\n",
       "      <td>-4.70</td>\n",
       "      <td>0.055714</td>\n",
       "      <td>368.415000</td>\n",
       "      <td>2</td>\n",
       "      <td>ETH</td>\n",
       "      <td>9.865240e+07</td>\n",
       "    </tr>\n",
       "    <tr>\n",
       "      <th>2</th>\n",
       "      <td>2.421960e+08</td>\n",
       "      <td>3.909452e+10</td>\n",
       "      <td>ripple</td>\n",
       "      <td>1.523026e+09</td>\n",
       "      <td>1.844550e+10</td>\n",
       "      <td>1.000000e+11</td>\n",
       "      <td>Ripple</td>\n",
       "      <td>0.37</td>\n",
       "      <td>-4.05</td>\n",
       "      <td>-6.66</td>\n",
       "      <td>0.000071</td>\n",
       "      <td>0.471818</td>\n",
       "      <td>3</td>\n",
       "      <td>XRP</td>\n",
       "      <td>9.999241e+10</td>\n",
       "    </tr>\n",
       "    <tr>\n",
       "      <th>3</th>\n",
       "      <td>2.295510e+08</td>\n",
       "      <td>1.705866e+07</td>\n",
       "      <td>bitcoin-cash</td>\n",
       "      <td>1.523026e+09</td>\n",
       "      <td>1.036522e+10</td>\n",
       "      <td>2.100000e+07</td>\n",
       "      <td>Bitcoin Cash</td>\n",
       "      <td>-0.07</td>\n",
       "      <td>-4.31</td>\n",
       "      <td>-13.21</td>\n",
       "      <td>0.091888</td>\n",
       "      <td>607.622000</td>\n",
       "      <td>4</td>\n",
       "      <td>BCH</td>\n",
       "      <td>1.705866e+07</td>\n",
       "    </tr>\n",
       "    <tr>\n",
       "      <th>4</th>\n",
       "      <td>2.538700e+08</td>\n",
       "      <td>5.596387e+07</td>\n",
       "      <td>litecoin</td>\n",
       "      <td>1.523026e+09</td>\n",
       "      <td>6.384078e+09</td>\n",
       "      <td>8.400000e+07</td>\n",
       "      <td>Litecoin</td>\n",
       "      <td>0.05</td>\n",
       "      <td>-4.27</td>\n",
       "      <td>-2.81</td>\n",
       "      <td>0.017251</td>\n",
       "      <td>114.075000</td>\n",
       "      <td>5</td>\n",
       "      <td>LTC</td>\n",
       "      <td>5.596387e+07</td>\n",
       "    </tr>\n",
       "  </tbody>\n",
       "</table>\n",
       "</div>"
      ],
      "text/plain": [
       "   24h_volume_usd  available_supply            id  last_updated  \\\n",
       "0    4.103640e+09      1.696130e+07       bitcoin  1.523026e+09   \n",
       "1    1.034540e+09      9.865240e+07      ethereum  1.523026e+09   \n",
       "2    2.421960e+08      3.909452e+10        ripple  1.523026e+09   \n",
       "3    2.295510e+08      1.705866e+07  bitcoin-cash  1.523026e+09   \n",
       "4    2.538700e+08      5.596387e+07      litecoin  1.523026e+09   \n",
       "\n",
       "   market_cap_usd    max_supply          name  percent_change_1h  \\\n",
       "0    1.125942e+11  2.100000e+07       Bitcoin               0.24   \n",
       "1    3.634502e+10           NaN      Ethereum              -0.06   \n",
       "2    1.844550e+10  1.000000e+11        Ripple               0.37   \n",
       "3    1.036522e+10  2.100000e+07  Bitcoin Cash              -0.07   \n",
       "4    6.384078e+09  8.400000e+07      Litecoin               0.05   \n",
       "\n",
       "   percent_change_24h  percent_change_7d  price_btc    price_usd  rank symbol  \\\n",
       "0               -2.41              -3.98   1.000000  6638.300000     1    BTC   \n",
       "1               -3.50              -4.70   0.055714   368.415000     2    ETH   \n",
       "2               -4.05              -6.66   0.000071     0.471818     3    XRP   \n",
       "3               -4.31             -13.21   0.091888   607.622000     4    BCH   \n",
       "4               -4.27              -2.81   0.017251   114.075000     5    LTC   \n",
       "\n",
       "   total_supply  \n",
       "0  1.696130e+07  \n",
       "1  9.865240e+07  \n",
       "2  9.999241e+10  \n",
       "3  1.705866e+07  \n",
       "4  5.596387e+07  "
      ]
     },
     "execution_count": 20,
     "metadata": {},
     "output_type": "execute_result"
    }
   ],
   "source": [
    "url = 'https://api.coinmarketcap.com/v1/ticker/?limit=0'\n",
    "r = requests.get(url)\n",
    "df = pd.read_json(r.text)\n",
    "df.head()"
   ]
  },
  {
   "cell_type": "code",
   "execution_count": 21,
   "metadata": {
    "slideshow": {
     "slide_type": "subslide"
    }
   },
   "outputs": [
    {
     "data": {
      "text/html": [
       "<div>\n",
       "<style>\n",
       "    .dataframe thead tr:only-child th {\n",
       "        text-align: right;\n",
       "    }\n",
       "\n",
       "    .dataframe thead th {\n",
       "        text-align: left;\n",
       "    }\n",
       "\n",
       "    .dataframe tbody tr th {\n",
       "        vertical-align: top;\n",
       "    }\n",
       "</style>\n",
       "<table border=\"1\" class=\"dataframe\">\n",
       "  <thead>\n",
       "    <tr style=\"text-align: right;\">\n",
       "      <th></th>\n",
       "      <th>24h_volume_usd</th>\n",
       "      <th>available_supply</th>\n",
       "      <th>id</th>\n",
       "      <th>last_updated</th>\n",
       "      <th>market_cap_usd</th>\n",
       "      <th>max_supply</th>\n",
       "      <th>name</th>\n",
       "      <th>percent_change_1h</th>\n",
       "      <th>percent_change_24h</th>\n",
       "      <th>percent_change_7d</th>\n",
       "      <th>price_btc</th>\n",
       "      <th>price_usd</th>\n",
       "      <th>rank</th>\n",
       "      <th>symbol</th>\n",
       "      <th>total_supply</th>\n",
       "    </tr>\n",
       "  </thead>\n",
       "  <tbody>\n",
       "    <tr>\n",
       "      <th>10</th>\n",
       "      <td>15675000.0</td>\n",
       "      <td>2.779530e+09</td>\n",
       "      <td>iota</td>\n",
       "      <td>1.523026e+09</td>\n",
       "      <td>2.604803e+09</td>\n",
       "      <td>2.779530e+09</td>\n",
       "      <td>IOTA</td>\n",
       "      <td>0.09</td>\n",
       "      <td>-2.89</td>\n",
       "      <td>-14.09</td>\n",
       "      <td>0.000142</td>\n",
       "      <td>0.937138</td>\n",
       "      <td>11</td>\n",
       "      <td>MIOTA</td>\n",
       "      <td>2.779530e+09</td>\n",
       "    </tr>\n",
       "  </tbody>\n",
       "</table>\n",
       "</div>"
      ],
      "text/plain": [
       "    24h_volume_usd  available_supply    id  last_updated  market_cap_usd  \\\n",
       "10      15675000.0      2.779530e+09  iota  1.523026e+09    2.604803e+09   \n",
       "\n",
       "      max_supply  name  percent_change_1h  percent_change_24h  \\\n",
       "10  2.779530e+09  IOTA               0.09               -2.89   \n",
       "\n",
       "    percent_change_7d  price_btc  price_usd  rank symbol  total_supply  \n",
       "10             -14.09   0.000142   0.937138    11  MIOTA  2.779530e+09  "
      ]
     },
     "execution_count": 21,
     "metadata": {},
     "output_type": "execute_result"
    }
   ],
   "source": [
    "df[df['symbol']==\"MIOTA\"]"
   ]
  },
  {
   "cell_type": "code",
   "execution_count": 22,
   "metadata": {
    "slideshow": {
     "slide_type": "fragment"
    }
   },
   "outputs": [
    {
     "data": {
      "text/html": [
       "<div>\n",
       "<style>\n",
       "    .dataframe thead tr:only-child th {\n",
       "        text-align: right;\n",
       "    }\n",
       "\n",
       "    .dataframe thead th {\n",
       "        text-align: left;\n",
       "    }\n",
       "\n",
       "    .dataframe tbody tr th {\n",
       "        vertical-align: top;\n",
       "    }\n",
       "</style>\n",
       "<table border=\"1\" class=\"dataframe\">\n",
       "  <thead>\n",
       "    <tr style=\"text-align: right;\">\n",
       "      <th></th>\n",
       "      <th>24h_volume_usd</th>\n",
       "      <th>available_supply</th>\n",
       "      <th>id</th>\n",
       "      <th>last_updated</th>\n",
       "      <th>market_cap_usd</th>\n",
       "      <th>max_supply</th>\n",
       "      <th>name</th>\n",
       "      <th>percent_change_1h</th>\n",
       "      <th>percent_change_24h</th>\n",
       "      <th>percent_change_7d</th>\n",
       "      <th>price_btc</th>\n",
       "      <th>price_usd</th>\n",
       "      <th>rank</th>\n",
       "      <th>symbol</th>\n",
       "      <th>total_supply</th>\n",
       "    </tr>\n",
       "  </thead>\n",
       "  <tbody>\n",
       "    <tr>\n",
       "      <th>0</th>\n",
       "      <td>4.103640e+09</td>\n",
       "      <td>1.696130e+07</td>\n",
       "      <td>bitcoin</td>\n",
       "      <td>1.523026e+09</td>\n",
       "      <td>1.125942e+11</td>\n",
       "      <td>2.100000e+07</td>\n",
       "      <td>Bitcoin</td>\n",
       "      <td>0.24</td>\n",
       "      <td>-2.41</td>\n",
       "      <td>-3.98</td>\n",
       "      <td>1.000000</td>\n",
       "      <td>6638.300000</td>\n",
       "      <td>1</td>\n",
       "      <td>BTC</td>\n",
       "      <td>1.696130e+07</td>\n",
       "    </tr>\n",
       "    <tr>\n",
       "      <th>1</th>\n",
       "      <td>1.034540e+09</td>\n",
       "      <td>9.865240e+07</td>\n",
       "      <td>ethereum</td>\n",
       "      <td>1.523026e+09</td>\n",
       "      <td>3.634502e+10</td>\n",
       "      <td>NaN</td>\n",
       "      <td>Ethereum</td>\n",
       "      <td>-0.06</td>\n",
       "      <td>-3.50</td>\n",
       "      <td>-4.70</td>\n",
       "      <td>0.055714</td>\n",
       "      <td>368.415000</td>\n",
       "      <td>2</td>\n",
       "      <td>ETH</td>\n",
       "      <td>9.865240e+07</td>\n",
       "    </tr>\n",
       "    <tr>\n",
       "      <th>2</th>\n",
       "      <td>2.421960e+08</td>\n",
       "      <td>3.909452e+10</td>\n",
       "      <td>ripple</td>\n",
       "      <td>1.523026e+09</td>\n",
       "      <td>1.844550e+10</td>\n",
       "      <td>1.000000e+11</td>\n",
       "      <td>Ripple</td>\n",
       "      <td>0.37</td>\n",
       "      <td>-4.05</td>\n",
       "      <td>-6.66</td>\n",
       "      <td>0.000071</td>\n",
       "      <td>0.471818</td>\n",
       "      <td>3</td>\n",
       "      <td>XRP</td>\n",
       "      <td>9.999241e+10</td>\n",
       "    </tr>\n",
       "    <tr>\n",
       "      <th>3</th>\n",
       "      <td>2.295510e+08</td>\n",
       "      <td>1.705866e+07</td>\n",
       "      <td>bitcoin-cash</td>\n",
       "      <td>1.523026e+09</td>\n",
       "      <td>1.036522e+10</td>\n",
       "      <td>2.100000e+07</td>\n",
       "      <td>Bitcoin Cash</td>\n",
       "      <td>-0.07</td>\n",
       "      <td>-4.31</td>\n",
       "      <td>-13.21</td>\n",
       "      <td>0.091888</td>\n",
       "      <td>607.622000</td>\n",
       "      <td>4</td>\n",
       "      <td>BCH</td>\n",
       "      <td>1.705866e+07</td>\n",
       "    </tr>\n",
       "    <tr>\n",
       "      <th>4</th>\n",
       "      <td>2.538700e+08</td>\n",
       "      <td>5.596387e+07</td>\n",
       "      <td>litecoin</td>\n",
       "      <td>1.523026e+09</td>\n",
       "      <td>6.384078e+09</td>\n",
       "      <td>8.400000e+07</td>\n",
       "      <td>Litecoin</td>\n",
       "      <td>0.05</td>\n",
       "      <td>-4.27</td>\n",
       "      <td>-2.81</td>\n",
       "      <td>0.017251</td>\n",
       "      <td>114.075000</td>\n",
       "      <td>5</td>\n",
       "      <td>LTC</td>\n",
       "      <td>5.596387e+07</td>\n",
       "    </tr>\n",
       "    <tr>\n",
       "      <th>5</th>\n",
       "      <td>6.380330e+08</td>\n",
       "      <td>7.753063e+08</td>\n",
       "      <td>eos</td>\n",
       "      <td>1.523026e+09</td>\n",
       "      <td>4.556359e+09</td>\n",
       "      <td>1.000000e+09</td>\n",
       "      <td>EOS</td>\n",
       "      <td>1.10</td>\n",
       "      <td>-1.78</td>\n",
       "      <td>-2.76</td>\n",
       "      <td>0.000889</td>\n",
       "      <td>5.876850</td>\n",
       "      <td>6</td>\n",
       "      <td>EOS</td>\n",
       "      <td>9.000000e+08</td>\n",
       "    </tr>\n",
       "    <tr>\n",
       "      <th>6</th>\n",
       "      <td>5.739900e+07</td>\n",
       "      <td>2.592707e+10</td>\n",
       "      <td>cardano</td>\n",
       "      <td>1.523026e+09</td>\n",
       "      <td>3.759503e+09</td>\n",
       "      <td>4.500000e+10</td>\n",
       "      <td>Cardano</td>\n",
       "      <td>1.06</td>\n",
       "      <td>-1.02</td>\n",
       "      <td>-0.02</td>\n",
       "      <td>0.000022</td>\n",
       "      <td>0.145003</td>\n",
       "      <td>7</td>\n",
       "      <td>ADA</td>\n",
       "      <td>3.111248e+10</td>\n",
       "    </tr>\n",
       "    <tr>\n",
       "      <th>7</th>\n",
       "      <td>3.211640e+07</td>\n",
       "      <td>1.855094e+10</td>\n",
       "      <td>stellar</td>\n",
       "      <td>1.523026e+09</td>\n",
       "      <td>3.661418e+09</td>\n",
       "      <td>NaN</td>\n",
       "      <td>Stellar</td>\n",
       "      <td>0.93</td>\n",
       "      <td>0.58</td>\n",
       "      <td>5.22</td>\n",
       "      <td>0.000030</td>\n",
       "      <td>0.197371</td>\n",
       "      <td>8</td>\n",
       "      <td>XLM</td>\n",
       "      <td>1.038276e+11</td>\n",
       "    </tr>\n",
       "    <tr>\n",
       "      <th>8</th>\n",
       "      <td>5.120660e+07</td>\n",
       "      <td>6.500000e+07</td>\n",
       "      <td>neo</td>\n",
       "      <td>1.523026e+09</td>\n",
       "      <td>2.900670e+09</td>\n",
       "      <td>1.000000e+08</td>\n",
       "      <td>NEO</td>\n",
       "      <td>-0.70</td>\n",
       "      <td>-4.16</td>\n",
       "      <td>-11.68</td>\n",
       "      <td>0.006749</td>\n",
       "      <td>44.625700</td>\n",
       "      <td>9</td>\n",
       "      <td>NEO</td>\n",
       "      <td>1.000000e+08</td>\n",
       "    </tr>\n",
       "    <tr>\n",
       "      <th>9</th>\n",
       "      <td>4.269270e+07</td>\n",
       "      <td>1.590436e+07</td>\n",
       "      <td>monero</td>\n",
       "      <td>1.523026e+09</td>\n",
       "      <td>2.609938e+09</td>\n",
       "      <td>NaN</td>\n",
       "      <td>Monero</td>\n",
       "      <td>-0.91</td>\n",
       "      <td>-4.85</td>\n",
       "      <td>-4.42</td>\n",
       "      <td>0.024816</td>\n",
       "      <td>164.102000</td>\n",
       "      <td>10</td>\n",
       "      <td>XMR</td>\n",
       "      <td>1.590436e+07</td>\n",
       "    </tr>\n",
       "  </tbody>\n",
       "</table>\n",
       "</div>"
      ],
      "text/plain": [
       "   24h_volume_usd  available_supply            id  last_updated  \\\n",
       "0    4.103640e+09      1.696130e+07       bitcoin  1.523026e+09   \n",
       "1    1.034540e+09      9.865240e+07      ethereum  1.523026e+09   \n",
       "2    2.421960e+08      3.909452e+10        ripple  1.523026e+09   \n",
       "3    2.295510e+08      1.705866e+07  bitcoin-cash  1.523026e+09   \n",
       "4    2.538700e+08      5.596387e+07      litecoin  1.523026e+09   \n",
       "5    6.380330e+08      7.753063e+08           eos  1.523026e+09   \n",
       "6    5.739900e+07      2.592707e+10       cardano  1.523026e+09   \n",
       "7    3.211640e+07      1.855094e+10       stellar  1.523026e+09   \n",
       "8    5.120660e+07      6.500000e+07           neo  1.523026e+09   \n",
       "9    4.269270e+07      1.590436e+07        monero  1.523026e+09   \n",
       "\n",
       "   market_cap_usd    max_supply          name  percent_change_1h  \\\n",
       "0    1.125942e+11  2.100000e+07       Bitcoin               0.24   \n",
       "1    3.634502e+10           NaN      Ethereum              -0.06   \n",
       "2    1.844550e+10  1.000000e+11        Ripple               0.37   \n",
       "3    1.036522e+10  2.100000e+07  Bitcoin Cash              -0.07   \n",
       "4    6.384078e+09  8.400000e+07      Litecoin               0.05   \n",
       "5    4.556359e+09  1.000000e+09           EOS               1.10   \n",
       "6    3.759503e+09  4.500000e+10       Cardano               1.06   \n",
       "7    3.661418e+09           NaN       Stellar               0.93   \n",
       "8    2.900670e+09  1.000000e+08           NEO              -0.70   \n",
       "9    2.609938e+09           NaN        Monero              -0.91   \n",
       "\n",
       "   percent_change_24h  percent_change_7d  price_btc    price_usd  rank symbol  \\\n",
       "0               -2.41              -3.98   1.000000  6638.300000     1    BTC   \n",
       "1               -3.50              -4.70   0.055714   368.415000     2    ETH   \n",
       "2               -4.05              -6.66   0.000071     0.471818     3    XRP   \n",
       "3               -4.31             -13.21   0.091888   607.622000     4    BCH   \n",
       "4               -4.27              -2.81   0.017251   114.075000     5    LTC   \n",
       "5               -1.78              -2.76   0.000889     5.876850     6    EOS   \n",
       "6               -1.02              -0.02   0.000022     0.145003     7    ADA   \n",
       "7                0.58               5.22   0.000030     0.197371     8    XLM   \n",
       "8               -4.16             -11.68   0.006749    44.625700     9    NEO   \n",
       "9               -4.85              -4.42   0.024816   164.102000    10    XMR   \n",
       "\n",
       "   total_supply  \n",
       "0  1.696130e+07  \n",
       "1  9.865240e+07  \n",
       "2  9.999241e+10  \n",
       "3  1.705866e+07  \n",
       "4  5.596387e+07  \n",
       "5  9.000000e+08  \n",
       "6  3.111248e+10  \n",
       "7  1.038276e+11  \n",
       "8  1.000000e+08  \n",
       "9  1.590436e+07  "
      ]
     },
     "execution_count": 22,
     "metadata": {},
     "output_type": "execute_result"
    }
   ],
   "source": [
    "df.iloc[:10]"
   ]
  },
  {
   "cell_type": "code",
   "execution_count": 23,
   "metadata": {
    "slideshow": {
     "slide_type": "subslide"
    }
   },
   "outputs": [
    {
     "data": {
      "text/plain": [
       "24h_volume_usd        3.21164e+07\n",
       "available_supply      1.85509e+10\n",
       "id                        stellar\n",
       "last_updated          1.52303e+09\n",
       "market_cap_usd        3.66142e+09\n",
       "max_supply                    NaN\n",
       "percent_change_1h            0.93\n",
       "percent_change_24h           0.58\n",
       "percent_change_7d            5.22\n",
       "price_btc               2.985e-05\n",
       "price_usd                0.197371\n",
       "rank                            8\n",
       "symbol                        XLM\n",
       "total_supply          1.03828e+11\n",
       "Name: Stellar, dtype: object"
      ]
     },
     "execution_count": 23,
     "metadata": {},
     "output_type": "execute_result"
    }
   ],
   "source": [
    "top_10 = df[df['rank']<=10]\n",
    "top_10.set_index('name', inplace=True)\n",
    "top_10.loc['Stellar']"
   ]
  },
  {
   "cell_type": "code",
   "execution_count": 24,
   "metadata": {
    "slideshow": {
     "slide_type": "subslide"
    }
   },
   "outputs": [
    {
     "data": {
      "text/plain": [
       "<matplotlib.axes._subplots.AxesSubplot at 0x7f728baa54e0>"
      ]
     },
     "execution_count": 24,
     "metadata": {},
     "output_type": "execute_result"
    },
    {
     "data": {
      "image/png": "[encoded data removed]",
      "text/plain": [
       "<matplotlib.figure.Figure at 0x7f728bb3a240>"
      ]
     },
     "metadata": {},
     "output_type": "display_data"
    }
   ],
   "source": [
    "top_10.plot.scatter(x='market_cap_usd', y='24h_volume_usd', loglog=True, figsize=(10,10))"
   ]
  },
  {
   "cell_type": "code",
   "execution_count": 25,
   "metadata": {
    "slideshow": {
     "slide_type": "subslide"
    }
   },
   "outputs": [],
   "source": [
    "have = pd.read_csv('example_crypto_holdings.csv')"
   ]
  },
  {
   "cell_type": "code",
   "execution_count": 26,
   "metadata": {
    "slideshow": {
     "slide_type": "fragment"
    }
   },
   "outputs": [
    {
     "data": {
      "text/html": [
       "<div>\n",
       "<style>\n",
       "    .dataframe thead tr:only-child th {\n",
       "        text-align: right;\n",
       "    }\n",
       "\n",
       "    .dataframe thead th {\n",
       "        text-align: left;\n",
       "    }\n",
       "\n",
       "    .dataframe tbody tr th {\n",
       "        vertical-align: top;\n",
       "    }\n",
       "</style>\n",
       "<table border=\"1\" class=\"dataframe\">\n",
       "  <thead>\n",
       "    <tr style=\"text-align: right;\">\n",
       "      <th></th>\n",
       "      <th>symbols</th>\n",
       "      <th>namn</th>\n",
       "      <th>navn</th>\n",
       "      <th>amount</th>\n",
       "      <th>24h_volume_usd</th>\n",
       "      <th>available_supply</th>\n",
       "      <th>last_updated</th>\n",
       "      <th>market_cap_usd</th>\n",
       "      <th>max_supply</th>\n",
       "      <th>percent_change_1h</th>\n",
       "      <th>percent_change_24h</th>\n",
       "      <th>percent_change_7d</th>\n",
       "      <th>price_btc</th>\n",
       "      <th>price_usd</th>\n",
       "      <th>rank</th>\n",
       "      <th>symbol</th>\n",
       "      <th>total_supply</th>\n",
       "      <th>worth</th>\n",
       "    </tr>\n",
       "    <tr>\n",
       "      <th>id</th>\n",
       "      <th></th>\n",
       "      <th></th>\n",
       "      <th></th>\n",
       "      <th></th>\n",
       "      <th></th>\n",
       "      <th></th>\n",
       "      <th></th>\n",
       "      <th></th>\n",
       "      <th></th>\n",
       "      <th></th>\n",
       "      <th></th>\n",
       "      <th></th>\n",
       "      <th></th>\n",
       "      <th></th>\n",
       "      <th></th>\n",
       "      <th></th>\n",
       "      <th></th>\n",
       "      <th></th>\n",
       "    </tr>\n",
       "  </thead>\n",
       "  <tbody>\n",
       "    <tr>\n",
       "      <th>ethereum</th>\n",
       "      <td>ETH</td>\n",
       "      <td>ethereum</td>\n",
       "      <td>Ethereum</td>\n",
       "      <td>3.45</td>\n",
       "      <td>1.034540e+09</td>\n",
       "      <td>9.865240e+07</td>\n",
       "      <td>1.523026e+09</td>\n",
       "      <td>3.634502e+10</td>\n",
       "      <td>NaN</td>\n",
       "      <td>-0.06</td>\n",
       "      <td>-3.50</td>\n",
       "      <td>-4.70</td>\n",
       "      <td>0.055714</td>\n",
       "      <td>368.415000</td>\n",
       "      <td>2</td>\n",
       "      <td>ETH</td>\n",
       "      <td>9.865240e+07</td>\n",
       "      <td>1271.031750</td>\n",
       "    </tr>\n",
       "    <tr>\n",
       "      <th>bitcoin-cash</th>\n",
       "      <td>BCH</td>\n",
       "      <td>bitcoin-cash</td>\n",
       "      <td>Bitcoin Cash</td>\n",
       "      <td>2.10</td>\n",
       "      <td>2.295510e+08</td>\n",
       "      <td>1.705866e+07</td>\n",
       "      <td>1.523026e+09</td>\n",
       "      <td>1.036522e+10</td>\n",
       "      <td>2.100000e+07</td>\n",
       "      <td>-0.07</td>\n",
       "      <td>-4.31</td>\n",
       "      <td>-13.21</td>\n",
       "      <td>0.091888</td>\n",
       "      <td>607.622000</td>\n",
       "      <td>4</td>\n",
       "      <td>BCH</td>\n",
       "      <td>1.705866e+07</td>\n",
       "      <td>1276.006200</td>\n",
       "    </tr>\n",
       "    <tr>\n",
       "      <th>bitcoin-gold</th>\n",
       "      <td>BTG</td>\n",
       "      <td>bitcoin-gold</td>\n",
       "      <td>Bitcoin Gold</td>\n",
       "      <td>14.00</td>\n",
       "      <td>1.428680e+07</td>\n",
       "      <td>1.692669e+07</td>\n",
       "      <td>1.523026e+09</td>\n",
       "      <td>6.720114e+08</td>\n",
       "      <td>2.100000e+07</td>\n",
       "      <td>0.05</td>\n",
       "      <td>-2.42</td>\n",
       "      <td>-11.41</td>\n",
       "      <td>0.006004</td>\n",
       "      <td>39.701300</td>\n",
       "      <td>25</td>\n",
       "      <td>BTG</td>\n",
       "      <td>1.702669e+07</td>\n",
       "      <td>555.818200</td>\n",
       "    </tr>\n",
       "    <tr>\n",
       "      <th>neo</th>\n",
       "      <td>NEO</td>\n",
       "      <td>neo</td>\n",
       "      <td>NEO</td>\n",
       "      <td>19.00</td>\n",
       "      <td>5.120660e+07</td>\n",
       "      <td>6.500000e+07</td>\n",
       "      <td>1.523026e+09</td>\n",
       "      <td>2.900670e+09</td>\n",
       "      <td>1.000000e+08</td>\n",
       "      <td>-0.70</td>\n",
       "      <td>-4.16</td>\n",
       "      <td>-11.68</td>\n",
       "      <td>0.006749</td>\n",
       "      <td>44.625700</td>\n",
       "      <td>9</td>\n",
       "      <td>NEO</td>\n",
       "      <td>1.000000e+08</td>\n",
       "      <td>847.888300</td>\n",
       "    </tr>\n",
       "    <tr>\n",
       "      <th>nano</th>\n",
       "      <td>XRB</td>\n",
       "      <td>nano</td>\n",
       "      <td>Nano</td>\n",
       "      <td>126.00</td>\n",
       "      <td>4.405690e+06</td>\n",
       "      <td>1.332483e+08</td>\n",
       "      <td>1.523026e+09</td>\n",
       "      <td>6.574058e+08</td>\n",
       "      <td>1.332483e+08</td>\n",
       "      <td>0.33</td>\n",
       "      <td>-3.41</td>\n",
       "      <td>-5.38</td>\n",
       "      <td>0.000746</td>\n",
       "      <td>4.933690</td>\n",
       "      <td>26</td>\n",
       "      <td>NANO</td>\n",
       "      <td>1.332483e+08</td>\n",
       "      <td>621.644940</td>\n",
       "    </tr>\n",
       "    <tr>\n",
       "      <th>vechain</th>\n",
       "      <td>VEN</td>\n",
       "      <td>vechain</td>\n",
       "      <td>VeChain</td>\n",
       "      <td>425.00</td>\n",
       "      <td>4.306340e+07</td>\n",
       "      <td>5.247705e+08</td>\n",
       "      <td>1.523026e+09</td>\n",
       "      <td>1.234119e+09</td>\n",
       "      <td>NaN</td>\n",
       "      <td>0.11</td>\n",
       "      <td>-1.34</td>\n",
       "      <td>-0.69</td>\n",
       "      <td>0.000356</td>\n",
       "      <td>2.351730</td>\n",
       "      <td>18</td>\n",
       "      <td>VEN</td>\n",
       "      <td>8.733786e+08</td>\n",
       "      <td>999.485250</td>\n",
       "    </tr>\n",
       "    <tr>\n",
       "      <th>golem-network-tokens</th>\n",
       "      <td>GNT</td>\n",
       "      <td>golem</td>\n",
       "      <td>Golem</td>\n",
       "      <td>3495.00</td>\n",
       "      <td>5.390550e+06</td>\n",
       "      <td>8.342620e+08</td>\n",
       "      <td>1.523026e+09</td>\n",
       "      <td>1.549166e+08</td>\n",
       "      <td>NaN</td>\n",
       "      <td>0.16</td>\n",
       "      <td>-4.52</td>\n",
       "      <td>-7.71</td>\n",
       "      <td>0.000028</td>\n",
       "      <td>0.185693</td>\n",
       "      <td>66</td>\n",
       "      <td>GNT</td>\n",
       "      <td>1.000000e+09</td>\n",
       "      <td>648.997035</td>\n",
       "    </tr>\n",
       "    <tr>\n",
       "      <th>ripple</th>\n",
       "      <td>XRP</td>\n",
       "      <td>ripple</td>\n",
       "      <td>Ripple</td>\n",
       "      <td>1234.00</td>\n",
       "      <td>2.421960e+08</td>\n",
       "      <td>3.909452e+10</td>\n",
       "      <td>1.523026e+09</td>\n",
       "      <td>1.844550e+10</td>\n",
       "      <td>1.000000e+11</td>\n",
       "      <td>0.37</td>\n",
       "      <td>-4.05</td>\n",
       "      <td>-6.66</td>\n",
       "      <td>0.000071</td>\n",
       "      <td>0.471818</td>\n",
       "      <td>3</td>\n",
       "      <td>XRP</td>\n",
       "      <td>9.999241e+10</td>\n",
       "      <td>582.223412</td>\n",
       "    </tr>\n",
       "    <tr>\n",
       "      <th>iota</th>\n",
       "      <td>MIOTA</td>\n",
       "      <td>iota</td>\n",
       "      <td>IOTA</td>\n",
       "      <td>1493.00</td>\n",
       "      <td>1.567500e+07</td>\n",
       "      <td>2.779530e+09</td>\n",
       "      <td>1.523026e+09</td>\n",
       "      <td>2.604803e+09</td>\n",
       "      <td>2.779530e+09</td>\n",
       "      <td>0.09</td>\n",
       "      <td>-2.89</td>\n",
       "      <td>-14.09</td>\n",
       "      <td>0.000142</td>\n",
       "      <td>0.937138</td>\n",
       "      <td>11</td>\n",
       "      <td>MIOTA</td>\n",
       "      <td>2.779530e+09</td>\n",
       "      <td>1399.147034</td>\n",
       "    </tr>\n",
       "  </tbody>\n",
       "</table>\n",
       "</div>"
      ],
      "text/plain": [
       "                     symbols          namn          navn   amount  \\\n",
       "id                                                                  \n",
       "ethereum                 ETH      ethereum      Ethereum     3.45   \n",
       "bitcoin-cash             BCH  bitcoin-cash  Bitcoin Cash     2.10   \n",
       "bitcoin-gold             BTG  bitcoin-gold  Bitcoin Gold    14.00   \n",
       "neo                      NEO           neo           NEO    19.00   \n",
       "nano                     XRB          nano          Nano   126.00   \n",
       "vechain                  VEN       vechain       VeChain   425.00   \n",
       "golem-network-tokens     GNT         golem         Golem  3495.00   \n",
       "ripple                   XRP        ripple        Ripple  1234.00   \n",
       "iota                   MIOTA          iota          IOTA  1493.00   \n",
       "\n",
       "                      24h_volume_usd  available_supply  last_updated  \\\n",
       "id                                                                     \n",
       "ethereum                1.034540e+09      9.865240e+07  1.523026e+09   \n",
       "bitcoin-cash            2.295510e+08      1.705866e+07  1.523026e+09   \n",
       "bitcoin-gold            1.428680e+07      1.692669e+07  1.523026e+09   \n",
       "neo                     5.120660e+07      6.500000e+07  1.523026e+09   \n",
       "nano                    4.405690e+06      1.332483e+08  1.523026e+09   \n",
       "vechain                 4.306340e+07      5.247705e+08  1.523026e+09   \n",
       "golem-network-tokens    5.390550e+06      8.342620e+08  1.523026e+09   \n",
       "ripple                  2.421960e+08      3.909452e+10  1.523026e+09   \n",
       "iota                    1.567500e+07      2.779530e+09  1.523026e+09   \n",
       "\n",
       "                      market_cap_usd    max_supply  percent_change_1h  \\\n",
       "id                                                                      \n",
       "ethereum                3.634502e+10           NaN              -0.06   \n",
       "bitcoin-cash            1.036522e+10  2.100000e+07              -0.07   \n",
       "bitcoin-gold            6.720114e+08  2.100000e+07               0.05   \n",
       "neo                     2.900670e+09  1.000000e+08              -0.70   \n",
       "nano                    6.574058e+08  1.332483e+08               0.33   \n",
       "vechain                 1.234119e+09           NaN               0.11   \n",
       "golem-network-tokens    1.549166e+08           NaN               0.16   \n",
       "ripple                  1.844550e+10  1.000000e+11               0.37   \n",
       "iota                    2.604803e+09  2.779530e+09               0.09   \n",
       "\n",
       "                      percent_change_24h  percent_change_7d  price_btc  \\\n",
       "id                                                                       \n",
       "ethereum                           -3.50              -4.70   0.055714   \n",
       "bitcoin-cash                       -4.31             -13.21   0.091888   \n",
       "bitcoin-gold                       -2.42             -11.41   0.006004   \n",
       "neo                                -4.16             -11.68   0.006749   \n",
       "nano                               -3.41              -5.38   0.000746   \n",
       "vechain                            -1.34              -0.69   0.000356   \n",
       "golem-network-tokens               -4.52              -7.71   0.000028   \n",
       "ripple                             -4.05              -6.66   0.000071   \n",
       "iota                               -2.89             -14.09   0.000142   \n",
       "\n",
       "                       price_usd  rank symbol  total_supply        worth  \n",
       "id                                                                        \n",
       "ethereum              368.415000     2    ETH  9.865240e+07  1271.031750  \n",
       "bitcoin-cash          607.622000     4    BCH  1.705866e+07  1276.006200  \n",
       "bitcoin-gold           39.701300    25    BTG  1.702669e+07   555.818200  \n",
       "neo                    44.625700     9    NEO  1.000000e+08   847.888300  \n",
       "nano                    4.933690    26   NANO  1.332483e+08   621.644940  \n",
       "vechain                 2.351730    18    VEN  8.733786e+08   999.485250  \n",
       "golem-network-tokens    0.185693    66    GNT  1.000000e+09   648.997035  \n",
       "ripple                  0.471818     3    XRP  9.999241e+10   582.223412  \n",
       "iota                    0.937138    11  MIOTA  2.779530e+09  1399.147034  "
      ]
     },
     "execution_count": 26,
     "metadata": {},
     "output_type": "execute_result"
    }
   ],
   "source": [
    "has = have.join(df.set_index('name'), on='navn', how='left').set_index('id')\n",
    "has['worth'] = has.amount*has.price_usd\n",
    "has = has[has['24h_volume_usd'].notnull()]\n",
    "has"
   ]
  },
  {
   "cell_type": "code",
   "execution_count": 27,
   "metadata": {
    "slideshow": {
     "slide_type": "subslide"
    }
   },
   "outputs": [
    {
     "data": {
      "text/plain": [
       "(                       price_usd        worth     worth_nok\n",
       " id                                                         \n",
       " ethereum              368.415000  1271.031750  12184.110356\n",
       " bitcoin-cash          607.622000  1276.006200  12231.795433\n",
       " bitcoin-gold           39.701300   555.818200   5328.073265\n",
       " neo                    44.625700   847.888300   8127.857244\n",
       " nano                    4.933690   621.644940   5959.088395\n",
       " vechain                 2.351730   999.485250   9581.065607\n",
       " golem-network-tokens    0.185693   648.997035   6221.285578\n",
       " ripple                  0.471818   582.223412   5581.193627\n",
       " iota                    0.937138  1399.147034  13412.223468,\n",
       " 78626.69297190601)"
      ]
     },
     "execution_count": 27,
     "metadata": {},
     "output_type": "execute_result"
    }
   ],
   "source": [
    "url_exchange = 'https://api.fixer.io/latest?symbols=USD,NOK'\n",
    "r = requests.get(url_exchange)\n",
    "NOK_USD = r.json()['rates']['NOK']\n",
    "has['worth_nok'] = has['worth']*NOK_USD\n",
    "has[['price_usd', 'worth','worth_nok']], has['worth_nok'].sum()"
   ]
  },
  {
   "cell_type": "code",
   "execution_count": 28,
   "metadata": {
    "slideshow": {
     "slide_type": "fragment"
    }
   },
   "outputs": [
    {
     "data": {
      "text/plain": [
       "symbols                object\n",
       "namn                   object\n",
       "navn                   object\n",
       "amount                float64\n",
       "24h_volume_usd        float64\n",
       "available_supply      float64\n",
       "last_updated          float64\n",
       "market_cap_usd        float64\n",
       "max_supply            float64\n",
       "percent_change_1h     float64\n",
       "percent_change_24h    float64\n",
       "percent_change_7d     float64\n",
       "price_btc             float64\n",
       "price_usd             float64\n",
       "rank                    int64\n",
       "symbol                 object\n",
       "total_supply          float64\n",
       "worth                 float64\n",
       "worth_nok             float64\n",
       "dtype: object"
      ]
     },
     "execution_count": 28,
     "metadata": {},
     "output_type": "execute_result"
    }
   ],
   "source": [
    "has.dtypes"
   ]
  },
  {
   "cell_type": "code",
   "execution_count": 29,
   "metadata": {
    "slideshow": {
     "slide_type": "subslide"
    }
   },
   "outputs": [
    {
     "data": {
      "image/png": "[encoded data removed]",
      "text/plain": [
       "<matplotlib.figure.Figure at 0x7f728b9f82e8>"
      ]
     },
     "metadata": {},
     "output_type": "display_data"
    }
   ],
   "source": [
    "has['worth_nok'].plot(kind='bar');"
   ]
  },
  {
   "cell_type": "code",
   "execution_count": 30,
   "metadata": {
    "scrolled": true,
    "slideshow": {
     "slide_type": "skip"
    }
   },
   "outputs": [
    {
     "data": {
      "text/plain": [
       "<matplotlib.axes._subplots.AxesSubplot at 0x7f728bef86d8>"
      ]
     },
     "execution_count": 30,
     "metadata": {},
     "output_type": "execute_result"
    },
    {
     "data": {
      "image/png": "[encoded data removed]",
      "text/plain": [
       "<matplotlib.figure.Figure at 0x7f728c7f6d68>"
      ]
     },
     "metadata": {},
     "output_type": "display_data"
    }
   ],
   "source": [
    "has['24h_volume_usd'].plot(kind='bar') #logy=True"
   ]
  },
  {
   "cell_type": "code",
   "execution_count": 31,
   "metadata": {
    "slideshow": {
     "slide_type": "subslide"
    }
   },
   "outputs": [
    {
     "data": {
      "image/png": "[encoded data removed]",
      "text/plain": [
       "<matplotlib.figure.Figure at 0x7f728b9f8ef0>"
      ]
     },
     "metadata": {},
     "output_type": "display_data"
    }
   ],
   "source": [
    "has[['percent_change_1h','percent_change_24h','percent_change_7d']].plot(kind='bar');"
   ]
  },
  {
   "cell_type": "code",
   "execution_count": 32,
   "metadata": {
    "slideshow": {
     "slide_type": "subslide"
    }
   },
   "outputs": [
    {
     "data": {
      "image/png": "[encoded data removed]",
      "text/plain": [
       "<matplotlib.figure.Figure at 0x7f728bb34f60>"
      ]
     },
     "metadata": {},
     "output_type": "display_data"
    }
   ],
   "source": [
    "df1 = has\n",
    "df1 = has[['percent_change_1h','percent_change_24h','percent_change_7d']].apply(lambda r: r*df1.amount*df1.price_usd)*NOK_USD/100\n",
    "df1.plot(kind='bar'), df1.sum();"
   ]
  },
  {
   "cell_type": "code",
   "execution_count": 33,
   "metadata": {
    "slideshow": {
     "slide_type": "subslide"
    }
   },
   "outputs": [
    {
     "data": {
      "image/png": "[encoded data removed]",
      "text/plain": [
       "<matplotlib.figure.Figure at 0x7f72883ca048>"
      ]
     },
     "metadata": {},
     "output_type": "display_data"
    }
   ],
   "source": [
    "df2 = has\n",
    "df2 = has[['percent_change_7d', 'percent_change_24h']].apply(lambda r:  r*(df2.amount*df2.price_usd))/100\n",
    "\n",
    "df2 = df2.apply(lambda r: has.worth-r, axis=0)\n",
    "df2['worth'] = has.worth\n",
    "df2 = df2*NOK_USD\n",
    "df2.plot(kind='bar');"
   ]
  },
  {
   "cell_type": "code",
   "execution_count": 34,
   "metadata": {
    "slideshow": {
     "slide_type": "subslide"
    }
   },
   "outputs": [
    {
     "data": {
      "image/png": "[encoded data removed]",
      "text/plain": [
       "<matplotlib.figure.Figure at 0x7f728beea0b8>"
      ]
     },
     "metadata": {},
     "output_type": "display_data"
    }
   ],
   "source": [
    "df2.plot.pie('worth', figsize=(12,12));"
   ]
  }
 ],
 "metadata": {
  "celltoolbar": "Slideshow",
  "kernelspec": {
   "display_name": "Python 3",
   "language": "python",
   "name": "python3"
  },
  "language_info": {
   "codemirror_mode": {
    "name": "ipython",
    "version": 3
   },
   "file_extension": ".py",
   "mimetype": "text/x-python",
   "name": "python",
   "nbconvert_exporter": "python",
   "pygments_lexer": "ipython3",
   "version": "3.6.3"
  }
 },
 "nbformat": 4,
 "nbformat_minor": 2
}
