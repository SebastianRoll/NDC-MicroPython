{
 "cells": [
  {
   "cell_type": "markdown",
   "metadata": {
    "slideshow": {
     "slide_type": "slide"
    }
   },
   "source": [
    "<center>![alt text](https://themerkle.com/wp-content/uploads/shutterstock_712597270-2.jpg)</center>"
   ]
  },
  {
   "cell_type": "code",
   "execution_count": 1,
   "metadata": {
    "slideshow": {
     "slide_type": "subslide"
    }
   },
   "outputs": [],
   "source": [
    "import pandas as pd\n",
    "import requests\n",
    "import matplotlib\n",
    "%matplotlib inline\n",
    "matplotlib.rcParams['figure.figsize'] = (12,7)"
   ]
  },
  {
   "cell_type": "code",
   "execution_count": 2,
   "metadata": {
    "slideshow": {
     "slide_type": "subslide"
    }
   },
   "outputs": [
    {
     "data": {
      "text/html": [
       "<div>\n",
       "<style>\n",
       "    .dataframe thead tr:only-child th {\n",
       "        text-align: right;\n",
       "    }\n",
       "\n",
       "    .dataframe thead th {\n",
       "        text-align: left;\n",
       "    }\n",
       "\n",
       "    .dataframe tbody tr th {\n",
       "        vertical-align: top;\n",
       "    }\n",
       "</style>\n",
       "<table border=\"1\" class=\"dataframe\">\n",
       "  <thead>\n",
       "    <tr style=\"text-align: right;\">\n",
       "      <th></th>\n",
       "      <th>24h_volume_usd</th>\n",
       "      <th>available_supply</th>\n",
       "      <th>id</th>\n",
       "      <th>last_updated</th>\n",
       "      <th>market_cap_usd</th>\n",
       "      <th>max_supply</th>\n",
       "      <th>name</th>\n",
       "      <th>percent_change_1h</th>\n",
       "      <th>percent_change_24h</th>\n",
       "      <th>percent_change_7d</th>\n",
       "      <th>price_btc</th>\n",
       "      <th>price_usd</th>\n",
       "      <th>rank</th>\n",
       "      <th>symbol</th>\n",
       "      <th>total_supply</th>\n",
       "    </tr>\n",
       "  </thead>\n",
       "  <tbody>\n",
       "    <tr>\n",
       "      <th>0</th>\n",
       "      <td>7.516960e+09</td>\n",
       "      <td>1.690572e+07</td>\n",
       "      <td>bitcoin</td>\n",
       "      <td>1.520443e+09</td>\n",
       "      <td>1.638523e+11</td>\n",
       "      <td>2.100000e+07</td>\n",
       "      <td>Bitcoin</td>\n",
       "      <td>-8.86</td>\n",
       "      <td>-11.52</td>\n",
       "      <td>-8.49</td>\n",
       "      <td>1.000000</td>\n",
       "      <td>9692.120000</td>\n",
       "      <td>1</td>\n",
       "      <td>BTC</td>\n",
       "      <td>1.690572e+07</td>\n",
       "    </tr>\n",
       "    <tr>\n",
       "      <th>1</th>\n",
       "      <td>1.940090e+09</td>\n",
       "      <td>9.804269e+07</td>\n",
       "      <td>ethereum</td>\n",
       "      <td>1.520443e+09</td>\n",
       "      <td>7.174460e+10</td>\n",
       "      <td>NaN</td>\n",
       "      <td>Ethereum</td>\n",
       "      <td>-6.53</td>\n",
       "      <td>-11.56</td>\n",
       "      <td>-15.85</td>\n",
       "      <td>0.076947</td>\n",
       "      <td>731.769000</td>\n",
       "      <td>2</td>\n",
       "      <td>ETH</td>\n",
       "      <td>9.804269e+07</td>\n",
       "    </tr>\n",
       "    <tr>\n",
       "      <th>2</th>\n",
       "      <td>7.291390e+08</td>\n",
       "      <td>3.909196e+10</td>\n",
       "      <td>ripple</td>\n",
       "      <td>1.520443e+09</td>\n",
       "      <td>3.224676e+10</td>\n",
       "      <td>1.000000e+11</td>\n",
       "      <td>Ripple</td>\n",
       "      <td>-8.52</td>\n",
       "      <td>-11.87</td>\n",
       "      <td>-10.29</td>\n",
       "      <td>0.000087</td>\n",
       "      <td>0.824895</td>\n",
       "      <td>3</td>\n",
       "      <td>XRP</td>\n",
       "      <td>9.999252e+10</td>\n",
       "    </tr>\n",
       "    <tr>\n",
       "      <th>3</th>\n",
       "      <td>4.070450e+08</td>\n",
       "      <td>1.700495e+07</td>\n",
       "      <td>bitcoin-cash</td>\n",
       "      <td>1.520443e+09</td>\n",
       "      <td>1.774807e+10</td>\n",
       "      <td>2.100000e+07</td>\n",
       "      <td>Bitcoin Cash</td>\n",
       "      <td>-10.39</td>\n",
       "      <td>-13.57</td>\n",
       "      <td>-14.73</td>\n",
       "      <td>0.109746</td>\n",
       "      <td>1043.700000</td>\n",
       "      <td>4</td>\n",
       "      <td>BCH</td>\n",
       "      <td>1.700495e+07</td>\n",
       "    </tr>\n",
       "    <tr>\n",
       "      <th>4</th>\n",
       "      <td>6.571640e+08</td>\n",
       "      <td>5.552476e+07</td>\n",
       "      <td>litecoin</td>\n",
       "      <td>1.520443e+09</td>\n",
       "      <td>9.752757e+09</td>\n",
       "      <td>8.400000e+07</td>\n",
       "      <td>Litecoin</td>\n",
       "      <td>-8.45</td>\n",
       "      <td>-12.38</td>\n",
       "      <td>-15.93</td>\n",
       "      <td>0.018469</td>\n",
       "      <td>175.647000</td>\n",
       "      <td>5</td>\n",
       "      <td>LTC</td>\n",
       "      <td>5.552476e+07</td>\n",
       "    </tr>\n",
       "  </tbody>\n",
       "</table>\n",
       "</div>"
      ],
      "text/plain": [
       "   24h_volume_usd  available_supply            id  last_updated  \\\n",
       "0    7.516960e+09      1.690572e+07       bitcoin  1.520443e+09   \n",
       "1    1.940090e+09      9.804269e+07      ethereum  1.520443e+09   \n",
       "2    7.291390e+08      3.909196e+10        ripple  1.520443e+09   \n",
       "3    4.070450e+08      1.700495e+07  bitcoin-cash  1.520443e+09   \n",
       "4    6.571640e+08      5.552476e+07      litecoin  1.520443e+09   \n",
       "\n",
       "   market_cap_usd    max_supply          name  percent_change_1h  \\\n",
       "0    1.638523e+11  2.100000e+07       Bitcoin              -8.86   \n",
       "1    7.174460e+10           NaN      Ethereum              -6.53   \n",
       "2    3.224676e+10  1.000000e+11        Ripple              -8.52   \n",
       "3    1.774807e+10  2.100000e+07  Bitcoin Cash             -10.39   \n",
       "4    9.752757e+09  8.400000e+07      Litecoin              -8.45   \n",
       "\n",
       "   percent_change_24h  percent_change_7d  price_btc    price_usd  rank symbol  \\\n",
       "0              -11.52              -8.49   1.000000  9692.120000     1    BTC   \n",
       "1              -11.56             -15.85   0.076947   731.769000     2    ETH   \n",
       "2              -11.87             -10.29   0.000087     0.824895     3    XRP   \n",
       "3              -13.57             -14.73   0.109746  1043.700000     4    BCH   \n",
       "4              -12.38             -15.93   0.018469   175.647000     5    LTC   \n",
       "\n",
       "   total_supply  \n",
       "0  1.690572e+07  \n",
       "1  9.804269e+07  \n",
       "2  9.999252e+10  \n",
       "3  1.700495e+07  \n",
       "4  5.552476e+07  "
      ]
     },
     "execution_count": 2,
     "metadata": {},
     "output_type": "execute_result"
    }
   ],
   "source": [
    "url = 'https://api.coinmarketcap.com/v1/ticker/?limit=0'\n",
    "r = requests.get(url)\n",
    "df = pd.read_json(r.text)\n",
    "df.head()"
   ]
  },
  {
   "cell_type": "code",
   "execution_count": 3,
   "metadata": {
    "slideshow": {
     "slide_type": "subslide"
    }
   },
   "outputs": [
    {
     "data": {
      "text/html": [
       "<div>\n",
       "<style>\n",
       "    .dataframe thead tr:only-child th {\n",
       "        text-align: right;\n",
       "    }\n",
       "\n",
       "    .dataframe thead th {\n",
       "        text-align: left;\n",
       "    }\n",
       "\n",
       "    .dataframe tbody tr th {\n",
       "        vertical-align: top;\n",
       "    }\n",
       "</style>\n",
       "<table border=\"1\" class=\"dataframe\">\n",
       "  <thead>\n",
       "    <tr style=\"text-align: right;\">\n",
       "      <th></th>\n",
       "      <th>24h_volume_usd</th>\n",
       "      <th>available_supply</th>\n",
       "      <th>id</th>\n",
       "      <th>last_updated</th>\n",
       "      <th>market_cap_usd</th>\n",
       "      <th>max_supply</th>\n",
       "      <th>name</th>\n",
       "      <th>percent_change_1h</th>\n",
       "      <th>percent_change_24h</th>\n",
       "      <th>percent_change_7d</th>\n",
       "      <th>price_btc</th>\n",
       "      <th>price_usd</th>\n",
       "      <th>rank</th>\n",
       "      <th>symbol</th>\n",
       "      <th>total_supply</th>\n",
       "    </tr>\n",
       "  </thead>\n",
       "  <tbody>\n",
       "    <tr>\n",
       "      <th>11</th>\n",
       "      <td>54089700.0</td>\n",
       "      <td>2.779530e+09</td>\n",
       "      <td>iota</td>\n",
       "      <td>1.520443e+09</td>\n",
       "      <td>3.841728e+09</td>\n",
       "      <td>2.779530e+09</td>\n",
       "      <td>IOTA</td>\n",
       "      <td>-11.89</td>\n",
       "      <td>-19.01</td>\n",
       "      <td>-27.61</td>\n",
       "      <td>0.000145</td>\n",
       "      <td>1.38215</td>\n",
       "      <td>12</td>\n",
       "      <td>MIOTA</td>\n",
       "      <td>2.779530e+09</td>\n",
       "    </tr>\n",
       "  </tbody>\n",
       "</table>\n",
       "</div>"
      ],
      "text/plain": [
       "    24h_volume_usd  available_supply    id  last_updated  market_cap_usd  \\\n",
       "11      54089700.0      2.779530e+09  iota  1.520443e+09    3.841728e+09   \n",
       "\n",
       "      max_supply  name  percent_change_1h  percent_change_24h  \\\n",
       "11  2.779530e+09  IOTA             -11.89              -19.01   \n",
       "\n",
       "    percent_change_7d  price_btc  price_usd  rank symbol  total_supply  \n",
       "11             -27.61   0.000145    1.38215    12  MIOTA  2.779530e+09  "
      ]
     },
     "execution_count": 3,
     "metadata": {},
     "output_type": "execute_result"
    }
   ],
   "source": [
    "df[df['symbol']==\"MIOTA\"]"
   ]
  },
  {
   "cell_type": "code",
   "execution_count": 4,
   "metadata": {
    "slideshow": {
     "slide_type": "fragment"
    }
   },
   "outputs": [
    {
     "data": {
      "text/html": [
       "<div>\n",
       "<style>\n",
       "    .dataframe thead tr:only-child th {\n",
       "        text-align: right;\n",
       "    }\n",
       "\n",
       "    .dataframe thead th {\n",
       "        text-align: left;\n",
       "    }\n",
       "\n",
       "    .dataframe tbody tr th {\n",
       "        vertical-align: top;\n",
       "    }\n",
       "</style>\n",
       "<table border=\"1\" class=\"dataframe\">\n",
       "  <thead>\n",
       "    <tr style=\"text-align: right;\">\n",
       "      <th></th>\n",
       "      <th>24h_volume_usd</th>\n",
       "      <th>available_supply</th>\n",
       "      <th>id</th>\n",
       "      <th>last_updated</th>\n",
       "      <th>market_cap_usd</th>\n",
       "      <th>max_supply</th>\n",
       "      <th>name</th>\n",
       "      <th>percent_change_1h</th>\n",
       "      <th>percent_change_24h</th>\n",
       "      <th>percent_change_7d</th>\n",
       "      <th>price_btc</th>\n",
       "      <th>price_usd</th>\n",
       "      <th>rank</th>\n",
       "      <th>symbol</th>\n",
       "      <th>total_supply</th>\n",
       "    </tr>\n",
       "  </thead>\n",
       "  <tbody>\n",
       "    <tr>\n",
       "      <th>0</th>\n",
       "      <td>6.601730e+09</td>\n",
       "      <td>1.690204e+07</td>\n",
       "      <td>bitcoin</td>\n",
       "      <td>1.520287e+09</td>\n",
       "      <td>1.962597e+11</td>\n",
       "      <td>2.100000e+07</td>\n",
       "      <td>Bitcoin</td>\n",
       "      <td>-0.15</td>\n",
       "      <td>1.47</td>\n",
       "      <td>12.27</td>\n",
       "      <td>1.000000</td>\n",
       "      <td>11611.600000</td>\n",
       "      <td>1</td>\n",
       "      <td>BTC</td>\n",
       "      <td>1.690204e+07</td>\n",
       "    </tr>\n",
       "    <tr>\n",
       "      <th>1</th>\n",
       "      <td>1.904970e+09</td>\n",
       "      <td>9.800552e+07</td>\n",
       "      <td>ethereum</td>\n",
       "      <td>1.520287e+09</td>\n",
       "      <td>8.395858e+10</td>\n",
       "      <td>NaN</td>\n",
       "      <td>Ethereum</td>\n",
       "      <td>-0.08</td>\n",
       "      <td>-0.98</td>\n",
       "      <td>-1.59</td>\n",
       "      <td>0.074017</td>\n",
       "      <td>856.672000</td>\n",
       "      <td>2</td>\n",
       "      <td>ETH</td>\n",
       "      <td>9.800552e+07</td>\n",
       "    </tr>\n",
       "    <tr>\n",
       "      <th>2</th>\n",
       "      <td>1.925600e+09</td>\n",
       "      <td>3.909196e+10</td>\n",
       "      <td>ripple</td>\n",
       "      <td>1.520287e+09</td>\n",
       "      <td>3.795708e+10</td>\n",
       "      <td>1.000000e+11</td>\n",
       "      <td>Ripple</td>\n",
       "      <td>-0.90</td>\n",
       "      <td>-0.07</td>\n",
       "      <td>1.58</td>\n",
       "      <td>0.000084</td>\n",
       "      <td>0.970969</td>\n",
       "      <td>3</td>\n",
       "      <td>XRP</td>\n",
       "      <td>9.999252e+10</td>\n",
       "    </tr>\n",
       "    <tr>\n",
       "      <th>3</th>\n",
       "      <td>3.502200e+08</td>\n",
       "      <td>1.700164e+07</td>\n",
       "      <td>bitcoin-cash</td>\n",
       "      <td>1.520287e+09</td>\n",
       "      <td>2.168916e+10</td>\n",
       "      <td>2.100000e+07</td>\n",
       "      <td>Bitcoin Cash</td>\n",
       "      <td>-0.11</td>\n",
       "      <td>-0.06</td>\n",
       "      <td>2.01</td>\n",
       "      <td>0.110223</td>\n",
       "      <td>1275.710000</td>\n",
       "      <td>4</td>\n",
       "      <td>BCH</td>\n",
       "      <td>1.700164e+07</td>\n",
       "    </tr>\n",
       "    <tr>\n",
       "      <th>4</th>\n",
       "      <td>6.073400e+08</td>\n",
       "      <td>5.549664e+07</td>\n",
       "      <td>litecoin</td>\n",
       "      <td>1.520287e+09</td>\n",
       "      <td>1.173127e+10</td>\n",
       "      <td>8.400000e+07</td>\n",
       "      <td>Litecoin</td>\n",
       "      <td>-0.10</td>\n",
       "      <td>-0.17</td>\n",
       "      <td>-4.69</td>\n",
       "      <td>0.018264</td>\n",
       "      <td>211.387000</td>\n",
       "      <td>5</td>\n",
       "      <td>LTC</td>\n",
       "      <td>5.549664e+07</td>\n",
       "    </tr>\n",
       "    <tr>\n",
       "      <th>5</th>\n",
       "      <td>2.092600e+08</td>\n",
       "      <td>2.592707e+10</td>\n",
       "      <td>cardano</td>\n",
       "      <td>1.520287e+09</td>\n",
       "      <td>7.882607e+09</td>\n",
       "      <td>4.500000e+10</td>\n",
       "      <td>Cardano</td>\n",
       "      <td>0.22</td>\n",
       "      <td>1.75</td>\n",
       "      <td>-10.10</td>\n",
       "      <td>0.000026</td>\n",
       "      <td>0.304030</td>\n",
       "      <td>6</td>\n",
       "      <td>ADA</td>\n",
       "      <td>3.111248e+10</td>\n",
       "    </tr>\n",
       "    <tr>\n",
       "      <th>6</th>\n",
       "      <td>2.127000e+08</td>\n",
       "      <td>6.500000e+07</td>\n",
       "      <td>neo</td>\n",
       "      <td>1.520287e+09</td>\n",
       "      <td>7.369960e+09</td>\n",
       "      <td>1.000000e+08</td>\n",
       "      <td>NEO</td>\n",
       "      <td>-0.08</td>\n",
       "      <td>-4.87</td>\n",
       "      <td>-16.11</td>\n",
       "      <td>0.009796</td>\n",
       "      <td>113.384000</td>\n",
       "      <td>7</td>\n",
       "      <td>NEO</td>\n",
       "      <td>1.000000e+08</td>\n",
       "    </tr>\n",
       "    <tr>\n",
       "      <th>7</th>\n",
       "      <td>9.647270e+07</td>\n",
       "      <td>1.846812e+10</td>\n",
       "      <td>stellar</td>\n",
       "      <td>1.520287e+09</td>\n",
       "      <td>6.741420e+09</td>\n",
       "      <td>NaN</td>\n",
       "      <td>Stellar</td>\n",
       "      <td>-0.08</td>\n",
       "      <td>2.26</td>\n",
       "      <td>-0.03</td>\n",
       "      <td>0.000032</td>\n",
       "      <td>0.365030</td>\n",
       "      <td>8</td>\n",
       "      <td>XLM</td>\n",
       "      <td>1.037287e+11</td>\n",
       "    </tr>\n",
       "    <tr>\n",
       "      <th>8</th>\n",
       "      <td>1.314580e+08</td>\n",
       "      <td>1.579174e+07</td>\n",
       "      <td>monero</td>\n",
       "      <td>1.520287e+09</td>\n",
       "      <td>5.783898e+09</td>\n",
       "      <td>NaN</td>\n",
       "      <td>Monero</td>\n",
       "      <td>0.30</td>\n",
       "      <td>0.45</td>\n",
       "      <td>24.82</td>\n",
       "      <td>0.031645</td>\n",
       "      <td>366.261000</td>\n",
       "      <td>9</td>\n",
       "      <td>XMR</td>\n",
       "      <td>1.579174e+07</td>\n",
       "    </tr>\n",
       "    <tr>\n",
       "      <th>9</th>\n",
       "      <td>2.071770e+08</td>\n",
       "      <td>7.095421e+08</td>\n",
       "      <td>eos</td>\n",
       "      <td>1.520287e+09</td>\n",
       "      <td>5.756842e+09</td>\n",
       "      <td>1.000000e+09</td>\n",
       "      <td>EOS</td>\n",
       "      <td>0.02</td>\n",
       "      <td>1.72</td>\n",
       "      <td>-1.28</td>\n",
       "      <td>0.000701</td>\n",
       "      <td>8.113460</td>\n",
       "      <td>10</td>\n",
       "      <td>EOS</td>\n",
       "      <td>9.000000e+08</td>\n",
       "    </tr>\n",
       "  </tbody>\n",
       "</table>\n",
       "</div>"
      ],
      "text/plain": [
       "   24h_volume_usd  available_supply            id  last_updated  \\\n",
       "0    6.601730e+09      1.690204e+07       bitcoin  1.520287e+09   \n",
       "1    1.904970e+09      9.800552e+07      ethereum  1.520287e+09   \n",
       "2    1.925600e+09      3.909196e+10        ripple  1.520287e+09   \n",
       "3    3.502200e+08      1.700164e+07  bitcoin-cash  1.520287e+09   \n",
       "4    6.073400e+08      5.549664e+07      litecoin  1.520287e+09   \n",
       "5    2.092600e+08      2.592707e+10       cardano  1.520287e+09   \n",
       "6    2.127000e+08      6.500000e+07           neo  1.520287e+09   \n",
       "7    9.647270e+07      1.846812e+10       stellar  1.520287e+09   \n",
       "8    1.314580e+08      1.579174e+07        monero  1.520287e+09   \n",
       "9    2.071770e+08      7.095421e+08           eos  1.520287e+09   \n",
       "\n",
       "   market_cap_usd    max_supply          name  percent_change_1h  \\\n",
       "0    1.962597e+11  2.100000e+07       Bitcoin              -0.15   \n",
       "1    8.395858e+10           NaN      Ethereum              -0.08   \n",
       "2    3.795708e+10  1.000000e+11        Ripple              -0.90   \n",
       "3    2.168916e+10  2.100000e+07  Bitcoin Cash              -0.11   \n",
       "4    1.173127e+10  8.400000e+07      Litecoin              -0.10   \n",
       "5    7.882607e+09  4.500000e+10       Cardano               0.22   \n",
       "6    7.369960e+09  1.000000e+08           NEO              -0.08   \n",
       "7    6.741420e+09           NaN       Stellar              -0.08   \n",
       "8    5.783898e+09           NaN        Monero               0.30   \n",
       "9    5.756842e+09  1.000000e+09           EOS               0.02   \n",
       "\n",
       "   percent_change_24h  percent_change_7d  price_btc     price_usd  rank  \\\n",
       "0                1.47              12.27   1.000000  11611.600000     1   \n",
       "1               -0.98              -1.59   0.074017    856.672000     2   \n",
       "2               -0.07               1.58   0.000084      0.970969     3   \n",
       "3               -0.06               2.01   0.110223   1275.710000     4   \n",
       "4               -0.17              -4.69   0.018264    211.387000     5   \n",
       "5                1.75             -10.10   0.000026      0.304030     6   \n",
       "6               -4.87             -16.11   0.009796    113.384000     7   \n",
       "7                2.26              -0.03   0.000032      0.365030     8   \n",
       "8                0.45              24.82   0.031645    366.261000     9   \n",
       "9                1.72              -1.28   0.000701      8.113460    10   \n",
       "\n",
       "  symbol  total_supply  \n",
       "0    BTC  1.690204e+07  \n",
       "1    ETH  9.800552e+07  \n",
       "2    XRP  9.999252e+10  \n",
       "3    BCH  1.700164e+07  \n",
       "4    LTC  5.549664e+07  \n",
       "5    ADA  3.111248e+10  \n",
       "6    NEO  1.000000e+08  \n",
       "7    XLM  1.037287e+11  \n",
       "8    XMR  1.579174e+07  \n",
       "9    EOS  9.000000e+08  "
      ]
     },
     "execution_count": 4,
     "metadata": {},
     "output_type": "execute_result"
    }
   ],
   "source": [
    "df.iloc[:10]"
   ]
  },
  {
   "cell_type": "code",
   "execution_count": 7,
   "metadata": {
    "slideshow": {
     "slide_type": "subslide"
    }
   },
   "outputs": [
    {
     "data": {
      "text/plain": [
       "24h_volume_usd         5.0094e+07\n",
       "available_supply      1.84684e+10\n",
       "id                        stellar\n",
       "last_updated          1.52044e+09\n",
       "market_cap_usd        5.54768e+09\n",
       "max_supply                    NaN\n",
       "percent_change_1h          -10.59\n",
       "percent_change_24h         -13.37\n",
       "percent_change_7d          -12.71\n",
       "price_btc               3.159e-05\n",
       "price_usd                0.300388\n",
       "rank                            8\n",
       "symbol                        XLM\n",
       "total_supply          1.03748e+11\n",
       "Name: Stellar, dtype: object"
      ]
     },
     "execution_count": 7,
     "metadata": {},
     "output_type": "execute_result"
    }
   ],
   "source": [
    "#top_10 = df[df['rank']<=10]\n",
    "#top_10.set_index('name', inplace=True)\n",
    "top_10.loc['Stellar']"
   ]
  },
  {
   "cell_type": "code",
   "execution_count": 82,
   "metadata": {
    "slideshow": {
     "slide_type": "subslide"
    }
   },
   "outputs": [
    {
     "data": {
      "text/plain": [
       "<matplotlib.axes._subplots.AxesSubplot at 0x7f8ed5868a58>"
      ]
     },
     "execution_count": 82,
     "metadata": {},
     "output_type": "execute_result"
    },
    {
     "data": {
      "image/png": "[encoded data removed]",
      "text/plain": [
       "<matplotlib.figure.Figure at 0x7f8ed5852e10>"
      ]
     },
     "metadata": {},
     "output_type": "display_data"
    }
   ],
   "source": [
    "top_10.plot.scatter(x='market_cap_usd', y='24h_volume_usd', loglog=True, figsize=(10,10))"
   ]
  },
  {
   "cell_type": "code",
   "execution_count": 8,
   "metadata": {
    "slideshow": {
     "slide_type": "subslide"
    }
   },
   "outputs": [],
   "source": [
    "have = pd.read_csv('/home/sebastian/webstep/events/presentation_07_march/crypto_holdings.csv')"
   ]
  },
  {
   "cell_type": "code",
   "execution_count": 9,
   "metadata": {
    "slideshow": {
     "slide_type": "fragment"
    }
   },
   "outputs": [
    {
     "data": {
      "text/html": [
       "<div>\n",
       "<style>\n",
       "    .dataframe thead tr:only-child th {\n",
       "        text-align: right;\n",
       "    }\n",
       "\n",
       "    .dataframe thead th {\n",
       "        text-align: left;\n",
       "    }\n",
       "\n",
       "    .dataframe tbody tr th {\n",
       "        vertical-align: top;\n",
       "    }\n",
       "</style>\n",
       "<table border=\"1\" class=\"dataframe\">\n",
       "  <thead>\n",
       "    <tr style=\"text-align: right;\">\n",
       "      <th></th>\n",
       "      <th>symbols</th>\n",
       "      <th>namn</th>\n",
       "      <th>navn</th>\n",
       "      <th>amount</th>\n",
       "      <th>24h_volume_usd</th>\n",
       "      <th>available_supply</th>\n",
       "      <th>last_updated</th>\n",
       "      <th>market_cap_usd</th>\n",
       "      <th>max_supply</th>\n",
       "      <th>percent_change_1h</th>\n",
       "      <th>percent_change_24h</th>\n",
       "      <th>percent_change_7d</th>\n",
       "      <th>price_btc</th>\n",
       "      <th>price_usd</th>\n",
       "      <th>rank</th>\n",
       "      <th>symbol</th>\n",
       "      <th>total_supply</th>\n",
       "      <th>worth</th>\n",
       "    </tr>\n",
       "    <tr>\n",
       "      <th>id</th>\n",
       "      <th></th>\n",
       "      <th></th>\n",
       "      <th></th>\n",
       "      <th></th>\n",
       "      <th></th>\n",
       "      <th></th>\n",
       "      <th></th>\n",
       "      <th></th>\n",
       "      <th></th>\n",
       "      <th></th>\n",
       "      <th></th>\n",
       "      <th></th>\n",
       "      <th></th>\n",
       "      <th></th>\n",
       "      <th></th>\n",
       "      <th></th>\n",
       "      <th></th>\n",
       "      <th></th>\n",
       "    </tr>\n",
       "  </thead>\n",
       "  <tbody>\n",
       "    <tr>\n",
       "      <th>ethereum</th>\n",
       "      <td>ETH</td>\n",
       "      <td>ethereum</td>\n",
       "      <td>Ethereum</td>\n",
       "      <td>3.45</td>\n",
       "      <td>1.940090e+09</td>\n",
       "      <td>9.804269e+07</td>\n",
       "      <td>1.520443e+09</td>\n",
       "      <td>7.174460e+10</td>\n",
       "      <td>NaN</td>\n",
       "      <td>-6.53</td>\n",
       "      <td>-11.56</td>\n",
       "      <td>-15.85</td>\n",
       "      <td>0.076947</td>\n",
       "      <td>731.769000</td>\n",
       "      <td>2</td>\n",
       "      <td>ETH</td>\n",
       "      <td>9.804269e+07</td>\n",
       "      <td>2524.60305</td>\n",
       "    </tr>\n",
       "    <tr>\n",
       "      <th>bitcoin-cash</th>\n",
       "      <td>BCH</td>\n",
       "      <td>bitcoin-cash</td>\n",
       "      <td>Bitcoin Cash</td>\n",
       "      <td>2.10</td>\n",
       "      <td>4.070450e+08</td>\n",
       "      <td>1.700495e+07</td>\n",
       "      <td>1.520443e+09</td>\n",
       "      <td>1.774807e+10</td>\n",
       "      <td>2.100000e+07</td>\n",
       "      <td>-10.39</td>\n",
       "      <td>-13.57</td>\n",
       "      <td>-14.73</td>\n",
       "      <td>0.109746</td>\n",
       "      <td>1043.700000</td>\n",
       "      <td>4</td>\n",
       "      <td>BCH</td>\n",
       "      <td>1.700495e+07</td>\n",
       "      <td>2191.77000</td>\n",
       "    </tr>\n",
       "    <tr>\n",
       "      <th>bitcoin-gold</th>\n",
       "      <td>BTG</td>\n",
       "      <td>bitcoin-gold</td>\n",
       "      <td>Bitcoin Gold</td>\n",
       "      <td>14.00</td>\n",
       "      <td>2.702670e+07</td>\n",
       "      <td>1.686621e+07</td>\n",
       "      <td>1.520443e+09</td>\n",
       "      <td>1.502410e+09</td>\n",
       "      <td>2.100000e+07</td>\n",
       "      <td>-8.85</td>\n",
       "      <td>-14.09</td>\n",
       "      <td>-22.59</td>\n",
       "      <td>0.009367</td>\n",
       "      <td>89.078100</td>\n",
       "      <td>19</td>\n",
       "      <td>BTG</td>\n",
       "      <td>1.696621e+07</td>\n",
       "      <td>1247.09340</td>\n",
       "    </tr>\n",
       "    <tr>\n",
       "      <th>neo</th>\n",
       "      <td>NEO</td>\n",
       "      <td>neo</td>\n",
       "      <td>NEO</td>\n",
       "      <td>19.00</td>\n",
       "      <td>2.359630e+08</td>\n",
       "      <td>6.500000e+07</td>\n",
       "      <td>1.520443e+09</td>\n",
       "      <td>5.916904e+09</td>\n",
       "      <td>1.000000e+08</td>\n",
       "      <td>-12.48</td>\n",
       "      <td>-14.91</td>\n",
       "      <td>-32.87</td>\n",
       "      <td>0.009572</td>\n",
       "      <td>91.029300</td>\n",
       "      <td>7</td>\n",
       "      <td>NEO</td>\n",
       "      <td>1.000000e+08</td>\n",
       "      <td>1729.55670</td>\n",
       "    </tr>\n",
       "    <tr>\n",
       "      <th>nano</th>\n",
       "      <td>XRB</td>\n",
       "      <td>nano</td>\n",
       "      <td>Nano</td>\n",
       "      <td>126.00</td>\n",
       "      <td>5.551060e+07</td>\n",
       "      <td>1.332483e+08</td>\n",
       "      <td>1.520443e+09</td>\n",
       "      <td>1.458909e+09</td>\n",
       "      <td>1.332483e+08</td>\n",
       "      <td>-16.01</td>\n",
       "      <td>-16.80</td>\n",
       "      <td>-23.63</td>\n",
       "      <td>0.001151</td>\n",
       "      <td>10.948800</td>\n",
       "      <td>21</td>\n",
       "      <td>NANO</td>\n",
       "      <td>1.332483e+08</td>\n",
       "      <td>1379.54880</td>\n",
       "    </tr>\n",
       "    <tr>\n",
       "      <th>vechain</th>\n",
       "      <td>VEN</td>\n",
       "      <td>vechain</td>\n",
       "      <td>VeChain</td>\n",
       "      <td>425.00</td>\n",
       "      <td>9.972350e+07</td>\n",
       "      <td>4.752218e+08</td>\n",
       "      <td>1.520443e+09</td>\n",
       "      <td>1.778237e+09</td>\n",
       "      <td>NaN</td>\n",
       "      <td>-13.35</td>\n",
       "      <td>-21.08</td>\n",
       "      <td>-23.12</td>\n",
       "      <td>0.000393</td>\n",
       "      <td>3.741910</td>\n",
       "      <td>17</td>\n",
       "      <td>VEN</td>\n",
       "      <td>8.733786e+08</td>\n",
       "      <td>1590.31175</td>\n",
       "    </tr>\n",
       "    <tr>\n",
       "      <th>golem-network-tokens</th>\n",
       "      <td>GNT</td>\n",
       "      <td>golem</td>\n",
       "      <td>Golem</td>\n",
       "      <td>3495.00</td>\n",
       "      <td>5.840650e+06</td>\n",
       "      <td>8.342620e+08</td>\n",
       "      <td>1.520443e+09</td>\n",
       "      <td>2.951202e+08</td>\n",
       "      <td>NaN</td>\n",
       "      <td>-11.54</td>\n",
       "      <td>-17.68</td>\n",
       "      <td>-1.36</td>\n",
       "      <td>0.000037</td>\n",
       "      <td>0.353750</td>\n",
       "      <td>52</td>\n",
       "      <td>GNT</td>\n",
       "      <td>1.000000e+09</td>\n",
       "      <td>1236.35625</td>\n",
       "    </tr>\n",
       "    <tr>\n",
       "      <th>ripple</th>\n",
       "      <td>XRP</td>\n",
       "      <td>ripple</td>\n",
       "      <td>Ripple</td>\n",
       "      <td>1234.00</td>\n",
       "      <td>7.291390e+08</td>\n",
       "      <td>3.909196e+10</td>\n",
       "      <td>1.520443e+09</td>\n",
       "      <td>3.224676e+10</td>\n",
       "      <td>1.000000e+11</td>\n",
       "      <td>-8.52</td>\n",
       "      <td>-11.87</td>\n",
       "      <td>-10.29</td>\n",
       "      <td>0.000087</td>\n",
       "      <td>0.824895</td>\n",
       "      <td>3</td>\n",
       "      <td>XRP</td>\n",
       "      <td>9.999252e+10</td>\n",
       "      <td>1017.92043</td>\n",
       "    </tr>\n",
       "    <tr>\n",
       "      <th>iota</th>\n",
       "      <td>MIOTA</td>\n",
       "      <td>iota</td>\n",
       "      <td>IOTA</td>\n",
       "      <td>1493.00</td>\n",
       "      <td>5.408970e+07</td>\n",
       "      <td>2.779530e+09</td>\n",
       "      <td>1.520443e+09</td>\n",
       "      <td>3.841728e+09</td>\n",
       "      <td>2.779530e+09</td>\n",
       "      <td>-11.89</td>\n",
       "      <td>-19.01</td>\n",
       "      <td>-27.61</td>\n",
       "      <td>0.000145</td>\n",
       "      <td>1.382150</td>\n",
       "      <td>12</td>\n",
       "      <td>MIOTA</td>\n",
       "      <td>2.779530e+09</td>\n",
       "      <td>2063.54995</td>\n",
       "    </tr>\n",
       "  </tbody>\n",
       "</table>\n",
       "</div>"
      ],
      "text/plain": [
       "                     symbols          namn          navn   amount  \\\n",
       "id                                                                  \n",
       "ethereum                 ETH      ethereum      Ethereum     3.45   \n",
       "bitcoin-cash             BCH  bitcoin-cash  Bitcoin Cash     2.10   \n",
       "bitcoin-gold             BTG  bitcoin-gold  Bitcoin Gold    14.00   \n",
       "neo                      NEO           neo           NEO    19.00   \n",
       "nano                     XRB          nano          Nano   126.00   \n",
       "vechain                  VEN       vechain       VeChain   425.00   \n",
       "golem-network-tokens     GNT         golem         Golem  3495.00   \n",
       "ripple                   XRP        ripple        Ripple  1234.00   \n",
       "iota                   MIOTA          iota          IOTA  1493.00   \n",
       "\n",
       "                      24h_volume_usd  available_supply  last_updated  \\\n",
       "id                                                                     \n",
       "ethereum                1.940090e+09      9.804269e+07  1.520443e+09   \n",
       "bitcoin-cash            4.070450e+08      1.700495e+07  1.520443e+09   \n",
       "bitcoin-gold            2.702670e+07      1.686621e+07  1.520443e+09   \n",
       "neo                     2.359630e+08      6.500000e+07  1.520443e+09   \n",
       "nano                    5.551060e+07      1.332483e+08  1.520443e+09   \n",
       "vechain                 9.972350e+07      4.752218e+08  1.520443e+09   \n",
       "golem-network-tokens    5.840650e+06      8.342620e+08  1.520443e+09   \n",
       "ripple                  7.291390e+08      3.909196e+10  1.520443e+09   \n",
       "iota                    5.408970e+07      2.779530e+09  1.520443e+09   \n",
       "\n",
       "                      market_cap_usd    max_supply  percent_change_1h  \\\n",
       "id                                                                      \n",
       "ethereum                7.174460e+10           NaN              -6.53   \n",
       "bitcoin-cash            1.774807e+10  2.100000e+07             -10.39   \n",
       "bitcoin-gold            1.502410e+09  2.100000e+07              -8.85   \n",
       "neo                     5.916904e+09  1.000000e+08             -12.48   \n",
       "nano                    1.458909e+09  1.332483e+08             -16.01   \n",
       "vechain                 1.778237e+09           NaN             -13.35   \n",
       "golem-network-tokens    2.951202e+08           NaN             -11.54   \n",
       "ripple                  3.224676e+10  1.000000e+11              -8.52   \n",
       "iota                    3.841728e+09  2.779530e+09             -11.89   \n",
       "\n",
       "                      percent_change_24h  percent_change_7d  price_btc  \\\n",
       "id                                                                       \n",
       "ethereum                          -11.56             -15.85   0.076947   \n",
       "bitcoin-cash                      -13.57             -14.73   0.109746   \n",
       "bitcoin-gold                      -14.09             -22.59   0.009367   \n",
       "neo                               -14.91             -32.87   0.009572   \n",
       "nano                              -16.80             -23.63   0.001151   \n",
       "vechain                           -21.08             -23.12   0.000393   \n",
       "golem-network-tokens              -17.68              -1.36   0.000037   \n",
       "ripple                            -11.87             -10.29   0.000087   \n",
       "iota                              -19.01             -27.61   0.000145   \n",
       "\n",
       "                        price_usd  rank symbol  total_supply       worth  \n",
       "id                                                                        \n",
       "ethereum               731.769000     2    ETH  9.804269e+07  2524.60305  \n",
       "bitcoin-cash          1043.700000     4    BCH  1.700495e+07  2191.77000  \n",
       "bitcoin-gold            89.078100    19    BTG  1.696621e+07  1247.09340  \n",
       "neo                     91.029300     7    NEO  1.000000e+08  1729.55670  \n",
       "nano                    10.948800    21   NANO  1.332483e+08  1379.54880  \n",
       "vechain                  3.741910    17    VEN  8.733786e+08  1590.31175  \n",
       "golem-network-tokens     0.353750    52    GNT  1.000000e+09  1236.35625  \n",
       "ripple                   0.824895     3    XRP  9.999252e+10  1017.92043  \n",
       "iota                     1.382150    12  MIOTA  2.779530e+09  2063.54995  "
      ]
     },
     "execution_count": 9,
     "metadata": {},
     "output_type": "execute_result"
    }
   ],
   "source": [
    "has = have.join(df.set_index('name'), on='navn', how='left').set_index('id')\n",
    "has['worth'] = has.amount*has.price_usd\n",
    "has = has[has['24h_volume_usd'].notnull()]\n",
    "has"
   ]
  },
  {
   "cell_type": "code",
   "execution_count": 10,
   "metadata": {
    "slideshow": {
     "slide_type": "subslide"
    }
   },
   "outputs": [
    {
     "data": {
      "text/plain": [
       "(                        price_usd       worth     worth_nok\n",
       " id                                                         \n",
       " ethereum               731.769000  2524.60305  24431.846016\n",
       " bitcoin-cash          1043.700000  2191.77000  21210.854175\n",
       " bitcoin-gold            89.078100  1247.09340  12068.746379\n",
       " neo                     91.029300  1729.55670  16737.784964\n",
       " nano                    10.948800  1379.54880  13350.583512\n",
       " vechain                  3.741910  1590.31175  15390.241961\n",
       " golem-network-tokens     0.353750  1236.35625  11964.837609\n",
       " ripple                   0.824895  1017.92043   9850.924961\n",
       " iota                     1.382150  2063.54995  19970.004641, 144975.824218575)"
      ]
     },
     "execution_count": 10,
     "metadata": {},
     "output_type": "execute_result"
    }
   ],
   "source": [
    "url_exchange = 'https://api.fixer.io/latest?symbols=USD,NOK'\n",
    "r = requests.get(url_exchange)\n",
    "NOK_USD = r.json()['rates']['NOK']\n",
    "has['worth_nok'] = has['worth']*NOK_USD\n",
    "has[['price_usd', 'worth','worth_nok']], has['worth_nok'].sum()"
   ]
  },
  {
   "cell_type": "code",
   "execution_count": 18,
   "metadata": {
    "slideshow": {
     "slide_type": "fragment"
    }
   },
   "outputs": [
    {
     "data": {
      "text/plain": [
       "symbols                object\n",
       "namn                   object\n",
       "navn                   object\n",
       "amount                float64\n",
       "24h_volume_usd        float64\n",
       "available_supply      float64\n",
       "last_updated          float64\n",
       "market_cap_usd        float64\n",
       "max_supply            float64\n",
       "percent_change_1h     float64\n",
       "percent_change_24h    float64\n",
       "percent_change_7d     float64\n",
       "price_btc             float64\n",
       "price_usd             float64\n",
       "rank                    int64\n",
       "symbol                 object\n",
       "total_supply          float64\n",
       "worth                 float64\n",
       "worth_nok             float64\n",
       "dtype: object"
      ]
     },
     "execution_count": 18,
     "metadata": {},
     "output_type": "execute_result"
    }
   ],
   "source": [
    "has.dtypes"
   ]
  },
  {
   "cell_type": "code",
   "execution_count": 8,
   "metadata": {
    "slideshow": {
     "slide_type": "subslide"
    }
   },
   "outputs": [
    {
     "data": {
      "text/plain": [
       "<matplotlib.axes._subplots.AxesSubplot at 0x7f8ede01f0f0>"
      ]
     },
     "execution_count": 8,
     "metadata": {},
     "output_type": "execute_result"
    },
    {
     "data": {
      "image/png": "[encoded data removed]",
      "text/plain": [
       "<matplotlib.figure.Figure at 0x7f8f0820fda0>"
      ]
     },
     "metadata": {},
     "output_type": "display_data"
    }
   ],
   "source": [
    "has['worth_nok'].plot(kind='bar');"
   ]
  },
  {
   "cell_type": "code",
   "execution_count": 17,
   "metadata": {
    "slideshow": {
     "slide_type": "subslide"
    }
   },
   "outputs": [
    {
     "data": {
      "text/plain": [
       "<matplotlib.axes._subplots.AxesSubplot at 0x7f8ed98f28d0>"
      ]
     },
     "execution_count": 17,
     "metadata": {},
     "output_type": "execute_result"
    },
    {
     "data": {
      "image/png": "[encoded data removed]",
      "text/plain": [
       "<matplotlib.figure.Figure at 0x7f8ed99ebcc0>"
      ]
     },
     "metadata": {},
     "output_type": "display_data"
    }
   ],
   "source": [
    "df2.plot.pie('worth', figsize=(12,12));"
   ]
  },
  {
   "cell_type": "code",
   "execution_count": 15,
   "metadata": {
    "scrolled": true,
    "slideshow": {
     "slide_type": "skip"
    }
   },
   "outputs": [
    {
     "data": {
      "text/plain": [
       "<matplotlib.axes._subplots.AxesSubplot at 0x7f8ed99e4f98>"
      ]
     },
     "execution_count": 15,
     "metadata": {},
     "output_type": "execute_result"
    },
    {
     "data": {
      "image/png": "[encoded data removed]",
      "text/plain": [
       "<matplotlib.figure.Figure at 0x7f8edd31af28>"
      ]
     },
     "metadata": {},
     "output_type": "display_data"
    }
   ],
   "source": [
    "has['24h_volume_usd'].plot(kind='bar') #logy=True"
   ]
  },
  {
   "cell_type": "code",
   "execution_count": 10,
   "metadata": {
    "slideshow": {
     "slide_type": "subslide"
    }
   },
   "outputs": [
    {
     "data": {
      "text/plain": [
       "<matplotlib.axes._subplots.AxesSubplot at 0x7f8edd3b8d68>"
      ]
     },
     "execution_count": 10,
     "metadata": {},
     "output_type": "execute_result"
    },
    {
     "data": {
      "image/png": "[encoded data removed]",
      "text/plain": [
       "<matplotlib.figure.Figure at 0x7f8edd47cb70>"
      ]
     },
     "metadata": {},
     "output_type": "display_data"
    }
   ],
   "source": [
    "has[['percent_change_1h','percent_change_24h','percent_change_7d']].plot(kind='bar');"
   ]
  },
  {
   "cell_type": "code",
   "execution_count": 11,
   "metadata": {
    "slideshow": {
     "slide_type": "subslide"
    }
   },
   "outputs": [
    {
     "data": {
      "text/plain": [
       "(<matplotlib.axes._subplots.AxesSubplot at 0x7f8edd350dd8>,\n",
       " percent_change_1h     105.440630\n",
       " percent_change_24h   -170.466751\n",
       " percent_change_7d    -995.970274\n",
       " dtype: float64)"
      ]
     },
     "execution_count": 11,
     "metadata": {},
     "output_type": "execute_result"
    },
    {
     "data": {
      "image/png": "[encoded data removed]",
      "text/plain": [
       "<matplotlib.figure.Figure at 0x7f8edd2fcf28>"
      ]
     },
     "metadata": {},
     "output_type": "display_data"
    }
   ],
   "source": [
    "df1 = has\n",
    "df1 = has[['percent_change_1h','percent_change_24h','percent_change_7d']].apply(lambda r: r*df1.amount*df1.price_usd)*NOK_USD/100\n",
    "df1.plot(kind='bar'), df1.sum();"
   ]
  },
  {
   "cell_type": "code",
   "execution_count": 12,
   "metadata": {
    "slideshow": {
     "slide_type": "subslide"
    }
   },
   "outputs": [
    {
     "data": {
      "text/plain": [
       "<matplotlib.axes._subplots.AxesSubplot at 0x7f8edd2cceb8>"
      ]
     },
     "execution_count": 12,
     "metadata": {},
     "output_type": "execute_result"
    },
    {
     "data": {
      "image/png": "[encoded data removed]",
      "text/plain": [
       "<matplotlib.figure.Figure at 0x7f8edd283c18>"
      ]
     },
     "metadata": {},
     "output_type": "display_data"
    }
   ],
   "source": [
    "df2 = has\n",
    "df2 = has[['percent_change_7d', 'percent_change_24h']].apply(lambda r:  r*(df2.amount*df2.price_usd))/100\n",
    "\n",
    "df2 = df2.apply(lambda r: has.worth-r, axis=0)\n",
    "df2['worth'] = has.worth\n",
    "df2 = df2*NOK_USD\n",
    "df2.plot(kind='bar');"
   ]
  }
 ],
 "metadata": {
  "celltoolbar": "Slideshow",
  "kernelspec": {
   "display_name": "Python 3",
   "language": "python",
   "name": "python3"
  },
  "language_info": {
   "codemirror_mode": {
    "name": "ipython",
    "version": 3
   },
   "file_extension": ".py",
   "mimetype": "text/x-python",
   "name": "python",
   "nbconvert_exporter": "python",
   "pygments_lexer": "ipython3",
   "version": "3.6.3"
  }
 },
 "nbformat": 4,
 "nbformat_minor": 2
}
