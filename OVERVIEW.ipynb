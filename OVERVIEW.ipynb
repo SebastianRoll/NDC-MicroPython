{
 "cells": [
  {
   "cell_type": "markdown",
   "metadata": {},
   "source": [
    "Agenda:\n",
    "\n",
    "- What is micropython\n",
    "\n",
    "### Using MicroPython\n",
    "\n",
    "#### micropython-lib"
   ]
  },
  {
   "cell_type": "markdown",
   "metadata": {},
   "source": [
    "### Getting started\n",
    "\n",
    "- ampy\n",
    "- webrepl\n",
    "- upip\n",
    "\n",
    "#### compiling:\n",
    "- modules/: pre-compiled and frozen into the runtime\n",
    "- scripts/: source frozen into the runtime\n",
    "\n"
   ]
  },
  {
   "cell_type": "markdown",
   "metadata": {},
   "source": [
    "### Demo\n",
    "\n",
    "- boot.py, main.py\n",
    "- WLAN\n",
    "- HTTP server (done)\n",
    "- MQTT (done)\n",
    "- deep sleep?\n",
    "- External interrupts\n",
    "- Beeper (irq)\n",
    "- 8x8 matrix display (SPI)\n",
    "- microSD\n",
    "- Music (PWM)\n",
    "- Tank (ADC)\n",
    "- Asyncio\n",
    "- src/NDC demo/tank_async.py"
   ]
  },
  {
   "cell_type": "markdown",
   "metadata": {
    "collapsed": true
   },
   "source": [
    "### Network (WLAN)\n",
    "\n",
    "http://claytondarwin.com/projects/ESP32/MicroPython/#C4toc"
   ]
  }
 ],
 "metadata": {
  "kernelspec": {
   "display_name": "Python 3",
   "language": "python",
   "name": "python3"
  },
  "language_info": {
   "codemirror_mode": {
    "name": "ipython",
    "version": 3
   },
   "file_extension": ".py",
   "mimetype": "text/x-python",
   "name": "python",
   "nbconvert_exporter": "python",
   "pygments_lexer": "ipython3",
   "version": "3.6.3"
  }
 },
 "nbformat": 4,
 "nbformat_minor": 2
}
