{
 "cells": [
  {
   "cell_type": "markdown",
   "metadata": {
    "slideshow": {
     "slide_type": "slide"
    }
   },
   "source": [
    "## Timeseries\n",
    "\n",
    "https://pandas.pydata.org/pandas-docs/stable/timeseries.html"
   ]
  },
  {
   "cell_type": "markdown",
   "metadata": {
    "slideshow": {
     "slide_type": "fragment"
    }
   },
   "source": [
    "- generate sequences of fixed-frequency dates and time spans\n",
    "- conform or convert time series to a particular frequency\n",
    "- compute “relative” dates based on various non-standard time increments (e.g. 5 business days before the last - business day of the year), or “roll” dates forward or backward"
   ]
  },
  {
   "cell_type": "markdown",
   "metadata": {
    "slideshow": {
     "slide_type": "slide"
    }
   },
   "source": [
    "<center>![alt text](https://bergen-chamber.pameldingssystem.no/auto/1/Logo/Disruptive%20Technologies2.png)</center>"
   ]
  },
  {
   "cell_type": "code",
   "execution_count": 36,
   "metadata": {
    "slideshow": {
     "slide_type": "subslide"
    }
   },
   "outputs": [],
   "source": [
    "import pandas as pd\n",
    "import requests\n",
    "import io\n",
    "import json\n",
    "import matplotlib\n",
    "%matplotlib inline\n",
    "matplotlib.rcParams['figure.figsize'] = (12,8)"
   ]
  },
  {
   "cell_type": "code",
   "execution_count": 43,
   "metadata": {
    "slideshow": {
     "slide_type": "subslide"
    }
   },
   "outputs": [
    {
     "data": {
      "text/html": [
       "<div>\n",
       "<style>\n",
       "    .dataframe thead tr:only-child th {\n",
       "        text-align: right;\n",
       "    }\n",
       "\n",
       "    .dataframe thead th {\n",
       "        text-align: left;\n",
       "    }\n",
       "\n",
       "    .dataframe tbody tr th {\n",
       "        vertical-align: top;\n",
       "    }\n",
       "</style>\n",
       "<table border=\"1\" class=\"dataframe\">\n",
       "  <thead>\n",
       "    <tr style=\"text-align: right;\">\n",
       "      <th></th>\n",
       "      <th>temperature</th>\n",
       "      <th>battery</th>\n",
       "    </tr>\n",
       "  </thead>\n",
       "  <tbody>\n",
       "    <tr>\n",
       "      <th>2018-01-01</th>\n",
       "      <td>23</td>\n",
       "      <td>100</td>\n",
       "    </tr>\n",
       "    <tr>\n",
       "      <th>2018-01-02</th>\n",
       "      <td>26</td>\n",
       "      <td>94</td>\n",
       "    </tr>\n",
       "    <tr>\n",
       "      <th>2018-01-03</th>\n",
       "      <td>39</td>\n",
       "      <td>61</td>\n",
       "    </tr>\n",
       "  </tbody>\n",
       "</table>\n",
       "</div>"
      ],
      "text/plain": [
       "            temperature  battery\n",
       "2018-01-01           23      100\n",
       "2018-01-02           26       94\n",
       "2018-01-03           39       61"
      ]
     },
     "execution_count": 43,
     "metadata": {},
     "output_type": "execute_result"
    }
   ],
   "source": [
    "time_range = pd.date_range(start='2018.01.01', end='2018.1.3')\n",
    "time_df = pd.DataFrame(index=time_range, data=[[23, 100],[26,94],[39,61]], columns=['temperature', 'battery'])\n",
    "time_df\n",
    "# plot"
   ]
  },
  {
   "cell_type": "markdown",
   "metadata": {
    "slideshow": {
     "slide_type": "subslide"
    }
   },
   "source": [
    "#### Upsample to hourly sampling"
   ]
  },
  {
   "cell_type": "code",
   "execution_count": null,
   "metadata": {
    "slideshow": {
     "slide_type": "-"
    }
   },
   "outputs": [],
   "source": [
    "# date_range\n",
    "# reindex"
   ]
  },
  {
   "cell_type": "code",
   "execution_count": 42,
   "metadata": {
    "slideshow": {
     "slide_type": "fragment"
    }
   },
   "outputs": [
    {
     "data": {
      "text/html": [
       "<div>\n",
       "<style>\n",
       "    .dataframe thead tr:only-child th {\n",
       "        text-align: right;\n",
       "    }\n",
       "\n",
       "    .dataframe thead th {\n",
       "        text-align: left;\n",
       "    }\n",
       "\n",
       "    .dataframe tbody tr th {\n",
       "        vertical-align: top;\n",
       "    }\n",
       "</style>\n",
       "<table border=\"1\" class=\"dataframe\">\n",
       "  <thead>\n",
       "    <tr style=\"text-align: right;\">\n",
       "      <th></th>\n",
       "      <th>temperature</th>\n",
       "      <th>battery</th>\n",
       "    </tr>\n",
       "  </thead>\n",
       "  <tbody>\n",
       "    <tr>\n",
       "      <th>2018-01-01 00:00:00</th>\n",
       "      <td>23.0</td>\n",
       "      <td>100.0</td>\n",
       "    </tr>\n",
       "    <tr>\n",
       "      <th>2018-01-01 01:00:00</th>\n",
       "      <td>NaN</td>\n",
       "      <td>NaN</td>\n",
       "    </tr>\n",
       "    <tr>\n",
       "      <th>2018-01-01 02:00:00</th>\n",
       "      <td>NaN</td>\n",
       "      <td>NaN</td>\n",
       "    </tr>\n",
       "    <tr>\n",
       "      <th>2018-01-01 03:00:00</th>\n",
       "      <td>NaN</td>\n",
       "      <td>NaN</td>\n",
       "    </tr>\n",
       "    <tr>\n",
       "      <th>2018-01-01 04:00:00</th>\n",
       "      <td>NaN</td>\n",
       "      <td>NaN</td>\n",
       "    </tr>\n",
       "    <tr>\n",
       "      <th>2018-01-01 05:00:00</th>\n",
       "      <td>NaN</td>\n",
       "      <td>NaN</td>\n",
       "    </tr>\n",
       "    <tr>\n",
       "      <th>2018-01-01 06:00:00</th>\n",
       "      <td>NaN</td>\n",
       "      <td>NaN</td>\n",
       "    </tr>\n",
       "    <tr>\n",
       "      <th>2018-01-01 07:00:00</th>\n",
       "      <td>NaN</td>\n",
       "      <td>NaN</td>\n",
       "    </tr>\n",
       "    <tr>\n",
       "      <th>2018-01-01 08:00:00</th>\n",
       "      <td>NaN</td>\n",
       "      <td>NaN</td>\n",
       "    </tr>\n",
       "    <tr>\n",
       "      <th>2018-01-01 09:00:00</th>\n",
       "      <td>NaN</td>\n",
       "      <td>NaN</td>\n",
       "    </tr>\n",
       "    <tr>\n",
       "      <th>2018-01-01 10:00:00</th>\n",
       "      <td>NaN</td>\n",
       "      <td>NaN</td>\n",
       "    </tr>\n",
       "    <tr>\n",
       "      <th>2018-01-01 11:00:00</th>\n",
       "      <td>NaN</td>\n",
       "      <td>NaN</td>\n",
       "    </tr>\n",
       "    <tr>\n",
       "      <th>2018-01-01 12:00:00</th>\n",
       "      <td>NaN</td>\n",
       "      <td>NaN</td>\n",
       "    </tr>\n",
       "    <tr>\n",
       "      <th>2018-01-01 13:00:00</th>\n",
       "      <td>NaN</td>\n",
       "      <td>NaN</td>\n",
       "    </tr>\n",
       "    <tr>\n",
       "      <th>2018-01-01 14:00:00</th>\n",
       "      <td>NaN</td>\n",
       "      <td>NaN</td>\n",
       "    </tr>\n",
       "    <tr>\n",
       "      <th>2018-01-01 15:00:00</th>\n",
       "      <td>NaN</td>\n",
       "      <td>NaN</td>\n",
       "    </tr>\n",
       "    <tr>\n",
       "      <th>2018-01-01 16:00:00</th>\n",
       "      <td>NaN</td>\n",
       "      <td>NaN</td>\n",
       "    </tr>\n",
       "    <tr>\n",
       "      <th>2018-01-01 17:00:00</th>\n",
       "      <td>NaN</td>\n",
       "      <td>NaN</td>\n",
       "    </tr>\n",
       "    <tr>\n",
       "      <th>2018-01-01 18:00:00</th>\n",
       "      <td>NaN</td>\n",
       "      <td>NaN</td>\n",
       "    </tr>\n",
       "    <tr>\n",
       "      <th>2018-01-01 19:00:00</th>\n",
       "      <td>NaN</td>\n",
       "      <td>NaN</td>\n",
       "    </tr>\n",
       "    <tr>\n",
       "      <th>2018-01-01 20:00:00</th>\n",
       "      <td>NaN</td>\n",
       "      <td>NaN</td>\n",
       "    </tr>\n",
       "    <tr>\n",
       "      <th>2018-01-01 21:00:00</th>\n",
       "      <td>NaN</td>\n",
       "      <td>NaN</td>\n",
       "    </tr>\n",
       "    <tr>\n",
       "      <th>2018-01-01 22:00:00</th>\n",
       "      <td>NaN</td>\n",
       "      <td>NaN</td>\n",
       "    </tr>\n",
       "    <tr>\n",
       "      <th>2018-01-01 23:00:00</th>\n",
       "      <td>NaN</td>\n",
       "      <td>NaN</td>\n",
       "    </tr>\n",
       "    <tr>\n",
       "      <th>2018-01-02 00:00:00</th>\n",
       "      <td>26.0</td>\n",
       "      <td>94.0</td>\n",
       "    </tr>\n",
       "  </tbody>\n",
       "</table>\n",
       "</div>"
      ],
      "text/plain": [
       "                     temperature  battery\n",
       "2018-01-01 00:00:00         23.0    100.0\n",
       "2018-01-01 01:00:00          NaN      NaN\n",
       "2018-01-01 02:00:00          NaN      NaN\n",
       "2018-01-01 03:00:00          NaN      NaN\n",
       "2018-01-01 04:00:00          NaN      NaN\n",
       "2018-01-01 05:00:00          NaN      NaN\n",
       "2018-01-01 06:00:00          NaN      NaN\n",
       "2018-01-01 07:00:00          NaN      NaN\n",
       "2018-01-01 08:00:00          NaN      NaN\n",
       "2018-01-01 09:00:00          NaN      NaN\n",
       "2018-01-01 10:00:00          NaN      NaN\n",
       "2018-01-01 11:00:00          NaN      NaN\n",
       "2018-01-01 12:00:00          NaN      NaN\n",
       "2018-01-01 13:00:00          NaN      NaN\n",
       "2018-01-01 14:00:00          NaN      NaN\n",
       "2018-01-01 15:00:00          NaN      NaN\n",
       "2018-01-01 16:00:00          NaN      NaN\n",
       "2018-01-01 17:00:00          NaN      NaN\n",
       "2018-01-01 18:00:00          NaN      NaN\n",
       "2018-01-01 19:00:00          NaN      NaN\n",
       "2018-01-01 20:00:00          NaN      NaN\n",
       "2018-01-01 21:00:00          NaN      NaN\n",
       "2018-01-01 22:00:00          NaN      NaN\n",
       "2018-01-01 23:00:00          NaN      NaN\n",
       "2018-01-02 00:00:00         26.0     94.0"
      ]
     },
     "execution_count": 42,
     "metadata": {},
     "output_type": "execute_result"
    }
   ],
   "source": [
    "time_range_h = pd.date_range(start='2018.01.01', end='2018.1.3', freq='H')\n",
    "time_df_upsampled = time_df.reindex(time_range_h)\n",
    "time_df_upsampled.head(25)"
   ]
  },
  {
   "cell_type": "markdown",
   "metadata": {
    "slideshow": {
     "slide_type": "slide"
    }
   },
   "source": [
    "#### Interpolate hours between days "
   ]
  },
  {
   "cell_type": "code",
   "execution_count": null,
   "metadata": {
    "slideshow": {
     "slide_type": "-"
    }
   },
   "outputs": [],
   "source": []
  },
  {
   "cell_type": "code",
   "execution_count": 45,
   "metadata": {
    "slideshow": {
     "slide_type": "fragment"
    }
   },
   "outputs": [
    {
     "data": {
      "text/plain": [
       "<matplotlib.axes._subplots.AxesSubplot at 0x7f3d52446ba8>"
      ]
     },
     "execution_count": 45,
     "metadata": {},
     "output_type": "execute_result"
    },
    {
     "data": {
      "image/png": "[encoded data removed]",
      "text/plain": [
       "<matplotlib.figure.Figure at 0x7f3d524352e8>"
      ]
     },
     "metadata": {},
     "output_type": "display_data"
    }
   ],
   "source": [
    "time_df_interpolated = time_df_upsampled.interpolate(method='time')\n",
    "time_df_interpolated.plot(style='.')"
   ]
  },
  {
   "cell_type": "markdown",
   "metadata": {
    "slideshow": {
     "slide_type": "subslide"
    }
   },
   "source": [
    "## Fridge touch sensor"
   ]
  },
  {
   "cell_type": "code",
   "execution_count": 46,
   "metadata": {
    "slideshow": {
     "slide_type": "-"
    }
   },
   "outputs": [],
   "source": [
    "thing_id = \"206843648\"\n",
    "api_key = %env DT_API_KEY"
   ]
  },
  {
   "cell_type": "code",
   "execution_count": 48,
   "metadata": {
    "slideshow": {
     "slide_type": "subslide"
    }
   },
   "outputs": [
    {
     "data": {
      "text/plain": [
       "141"
      ]
     },
     "execution_count": 48,
     "metadata": {},
     "output_type": "execute_result"
    }
   ],
   "source": [
    "url = \"https://api.disruptive-technologies.com/v1/things/{thing_id}/aggregate\".format(thing_id=thing_id)\n",
    "headers = {\n",
    "    'Authorization': 'ApiKey {api_key}'.format(api_key=api_key),\n",
    "    'Cache-Control': 'no-cache',\n",
    "    'Content-Type': 'application/json',\n",
    "}\n",
    "body = {}\n",
    "body['interval'] = '1s'\n",
    "body['time_period'] = {\n",
    "'start': '2014-11-01T00:01:00Z',\n",
    "'end': '2099-12-31T20:00:00Z'\n",
    "}\n",
    "\n",
    "jsonData = requests.post(url, headers=headers, data=json.dumps(body)).json()\n",
    "normalized = pd.io.json.json_normalize(jsonData['values'])\n",
    "df = pd.DataFrame.from_dict(normalized)\n",
    "len(df)"
   ]
  },
  {
   "cell_type": "code",
   "execution_count": null,
   "metadata": {
    "slideshow": {
     "slide_type": "skip"
    }
   },
   "outputs": [],
   "source": [
    "df.to_excel('dt_fridge_sensor_backup.xlsx')"
   ]
  },
  {
   "cell_type": "markdown",
   "metadata": {
    "slideshow": {
     "slide_type": "subslide"
    }
   },
   "source": [
    "#### Set timestamps as index"
   ]
  },
  {
   "cell_type": "code",
   "execution_count": 63,
   "metadata": {
    "slideshow": {
     "slide_type": "-"
    }
   },
   "outputs": [
    {
     "data": {
      "text/plain": [
       "<matplotlib.axes._subplots.AxesSubplot at 0x7f3d522491d0>"
      ]
     },
     "execution_count": 63,
     "metadata": {},
     "output_type": "execute_result"
    },
    {
     "data": {
      "image/png": "[encoded data removed]",
      "text/plain": [
       "<matplotlib.figure.Figure at 0x7f3d5225bfd0>"
      ]
     },
     "metadata": {},
     "output_type": "display_data"
    }
   ],
   "source": [
    "# convert from string to datetime\n",
    "#df['time'] = pd.to_datetime(df.time)\n",
    "#df.set_index('time', inplace=True)\n",
    "#set index\n",
    "# plot touch\n",
    "df.touch.plot(style='.');"
   ]
  },
  {
   "cell_type": "code",
   "execution_count": null,
   "metadata": {
    "scrolled": false,
    "slideshow": {
     "slide_type": "subslide"
    }
   },
   "outputs": [],
   "source": [
    "df['time'] = pd.to_datetime(df.time)\n",
    "df = df.set_index('time')\n",
    "ds_touch = df.touch\n",
    "ds_touch.plot(style=\".\");"
   ]
  },
  {
   "cell_type": "markdown",
   "metadata": {
    "slideshow": {
     "slide_type": "subslide"
    }
   },
   "source": [
    "### Find a better way to visualize touch events"
   ]
  },
  {
   "cell_type": "code",
   "execution_count": 70,
   "metadata": {
    "slideshow": {
     "slide_type": "-"
    }
   },
   "outputs": [
    {
     "data": {
      "image/png": "[encoded data removed]",
      "text/plain": [
       "<matplotlib.figure.Figure at 0x7f3d51f77cf8>"
      ]
     },
     "metadata": {},
     "output_type": "display_data"
    }
   ],
   "source": [
    "import numpy as np\n",
    "df.apply(np.cumsum).touch.plot();"
   ]
  },
  {
   "cell_type": "code",
   "execution_count": null,
   "metadata": {
    "slideshow": {
     "slide_type": "fragment"
    }
   },
   "outputs": [],
   "source": [
    "import numpy as np\n",
    "df.apply(np.cumsum).plot();"
   ]
  },
  {
   "cell_type": "markdown",
   "metadata": {
    "slideshow": {
     "slide_type": "slide"
    }
   },
   "source": [
    "### Resample timeseries"
   ]
  },
  {
   "cell_type": "code",
   "execution_count": 75,
   "metadata": {
    "slideshow": {
     "slide_type": "-"
    }
   },
   "outputs": [
    {
     "data": {
      "image/png": "[encoded data removed]",
      "text/plain": [
       "<matplotlib.figure.Figure at 0x7f3d51b70e80>"
      ]
     },
     "metadata": {},
     "output_type": "display_data"
    }
   ],
   "source": [
    "touch_day = df.touch.resample('D').count()\n",
    "touch_day.plot(title='Touches');"
   ]
  },
  {
   "cell_type": "markdown",
   "metadata": {
    "slideshow": {
     "slide_type": "subslide"
    }
   },
   "source": [
    "### What was the day with highest touch frequency?"
   ]
  },
  {
   "cell_type": "code",
   "execution_count": 76,
   "metadata": {
    "slideshow": {
     "slide_type": "-"
    }
   },
   "outputs": [
    {
     "data": {
      "text/plain": [
       "Timestamp('2017-11-21 00:00:00', freq='D')"
      ]
     },
     "execution_count": 76,
     "metadata": {},
     "output_type": "execute_result"
    }
   ],
   "source": [
    "touch_day.argmax()"
   ]
  },
  {
   "cell_type": "code",
   "execution_count": null,
   "metadata": {
    "slideshow": {
     "slide_type": "fragment"
    }
   },
   "outputs": [],
   "source": [
    "touch_day.argmax()"
   ]
  },
  {
   "cell_type": "markdown",
   "metadata": {
    "slideshow": {
     "slide_type": "subslide"
    }
   },
   "source": [
    "#### Resample minute"
   ]
  },
  {
   "cell_type": "code",
   "execution_count": 78,
   "metadata": {
    "slideshow": {
     "slide_type": "fragment"
    }
   },
   "outputs": [
    {
     "data": {
      "text/plain": [
       "<matplotlib.axes._subplots.AxesSubplot at 0x7f3d51b2b358>"
      ]
     },
     "execution_count": 78,
     "metadata": {},
     "output_type": "execute_result"
    },
    {
     "data": {
      "image/png": "[encoded data removed]",
      "text/plain": [
       "<matplotlib.figure.Figure at 0x7f3d51d2bf28>"
      ]
     },
     "metadata": {},
     "output_type": "display_data"
    }
   ],
   "source": [
    "touch_min = df.touch.resample('min').count()\n",
    "touch_min.plot()"
   ]
  },
  {
   "cell_type": "code",
   "execution_count": 79,
   "metadata": {
    "slideshow": {
     "slide_type": "subslide"
    }
   },
   "outputs": [
    {
     "data": {
      "image/png": "[encoded data removed]",
      "text/plain": [
       "<matplotlib.figure.Figure at 0x7f3d51b15fd0>"
      ]
     },
     "metadata": {},
     "output_type": "display_data"
    }
   ],
   "source": [
    "delta = pd.Timedelta('0 days 1 hours')\n",
    "#delta = pd.Timedelta(hours=1)\n",
    "\n",
    "idx = touch_min.argmax()\n",
    "touch_galore = df.loc[idx-delta:idx+delta]\n",
    "touch_galore['touch'].cumsum().plot();"
   ]
  },
  {
   "cell_type": "markdown",
   "metadata": {
    "slideshow": {
     "slide_type": "slide"
    }
   },
   "source": [
    "### Group by\n",
    "\n",
    "Exhaustive resource: https://pandas.pydata.org/pandas-docs/stable/groupby.html"
   ]
  },
  {
   "cell_type": "code",
   "execution_count": 82,
   "metadata": {
    "slideshow": {
     "slide_type": "-"
    }
   },
   "outputs": [
    {
     "data": {
      "text/html": [
       "<div>\n",
       "<style>\n",
       "    .dataframe thead tr:only-child th {\n",
       "        text-align: right;\n",
       "    }\n",
       "\n",
       "    .dataframe thead th {\n",
       "        text-align: left;\n",
       "    }\n",
       "\n",
       "    .dataframe tbody tr th {\n",
       "        vertical-align: top;\n",
       "    }\n",
       "</style>\n",
       "<table border=\"1\" class=\"dataframe\">\n",
       "  <thead>\n",
       "    <tr style=\"text-align: right;\">\n",
       "      <th></th>\n",
       "      <th>battery_percentage</th>\n",
       "      <th>battery_voltage</th>\n",
       "      <th>device_id</th>\n",
       "      <th>event_type</th>\n",
       "      <th>last_pressed</th>\n",
       "      <th>object_present</th>\n",
       "      <th>rssi</th>\n",
       "      <th>rssi_strength</th>\n",
       "      <th>thing_id</th>\n",
       "      <th>thing_type_id</th>\n",
       "      <th>touch</th>\n",
       "    </tr>\n",
       "    <tr>\n",
       "      <th>temperature</th>\n",
       "      <th></th>\n",
       "      <th></th>\n",
       "      <th></th>\n",
       "      <th></th>\n",
       "      <th></th>\n",
       "      <th></th>\n",
       "      <th></th>\n",
       "      <th></th>\n",
       "      <th></th>\n",
       "      <th></th>\n",
       "      <th></th>\n",
       "    </tr>\n",
       "  </thead>\n",
       "  <tbody>\n",
       "    <tr>\n",
       "      <th>24</th>\n",
       "      <td>10</td>\n",
       "      <td>10</td>\n",
       "      <td>10</td>\n",
       "      <td>10</td>\n",
       "      <td>10</td>\n",
       "      <td>10</td>\n",
       "      <td>10</td>\n",
       "      <td>10</td>\n",
       "      <td>10</td>\n",
       "      <td>10</td>\n",
       "      <td>10</td>\n",
       "    </tr>\n",
       "    <tr>\n",
       "      <th>27</th>\n",
       "      <td>91</td>\n",
       "      <td>91</td>\n",
       "      <td>91</td>\n",
       "      <td>91</td>\n",
       "      <td>91</td>\n",
       "      <td>91</td>\n",
       "      <td>91</td>\n",
       "      <td>91</td>\n",
       "      <td>91</td>\n",
       "      <td>91</td>\n",
       "      <td>91</td>\n",
       "    </tr>\n",
       "    <tr>\n",
       "      <th>28</th>\n",
       "      <td>40</td>\n",
       "      <td>40</td>\n",
       "      <td>40</td>\n",
       "      <td>40</td>\n",
       "      <td>40</td>\n",
       "      <td>40</td>\n",
       "      <td>40</td>\n",
       "      <td>40</td>\n",
       "      <td>40</td>\n",
       "      <td>40</td>\n",
       "      <td>40</td>\n",
       "    </tr>\n",
       "  </tbody>\n",
       "</table>\n",
       "</div>"
      ],
      "text/plain": [
       "             battery_percentage  battery_voltage  device_id  event_type  \\\n",
       "temperature                                                               \n",
       "24                           10               10         10          10   \n",
       "27                           91               91         91          91   \n",
       "28                           40               40         40          40   \n",
       "\n",
       "             last_pressed  object_present  rssi  rssi_strength  thing_id  \\\n",
       "temperature                                                                \n",
       "24                     10              10    10             10        10   \n",
       "27                     91              91    91             91        91   \n",
       "28                     40              40    40             40        40   \n",
       "\n",
       "             thing_type_id  touch  \n",
       "temperature                        \n",
       "24                      10     10  \n",
       "27                      91     91  \n",
       "28                      40     40  "
      ]
     },
     "execution_count": 82,
     "metadata": {},
     "output_type": "execute_result"
    }
   ],
   "source": [
    "df.groupby('temperature').count()"
   ]
  },
  {
   "cell_type": "markdown",
   "metadata": {
    "slideshow": {
     "slide_type": "subslide"
    }
   },
   "source": [
    "#### Group by weekday"
   ]
  },
  {
   "cell_type": "code",
   "execution_count": null,
   "metadata": {
    "slideshow": {
     "slide_type": "-"
    }
   },
   "outputs": [],
   "source": []
  },
  {
   "cell_type": "code",
   "execution_count": 84,
   "metadata": {
    "slideshow": {
     "slide_type": "fragment"
    }
   },
   "outputs": [
    {
     "data": {
      "text/html": [
       "<div>\n",
       "<style>\n",
       "    .dataframe thead tr:only-child th {\n",
       "        text-align: right;\n",
       "    }\n",
       "\n",
       "    .dataframe thead th {\n",
       "        text-align: left;\n",
       "    }\n",
       "\n",
       "    .dataframe tbody tr th {\n",
       "        vertical-align: top;\n",
       "    }\n",
       "</style>\n",
       "<table border=\"1\" class=\"dataframe\">\n",
       "  <thead>\n",
       "    <tr style=\"text-align: right;\">\n",
       "      <th></th>\n",
       "      <th>battery_percentage</th>\n",
       "      <th>battery_voltage</th>\n",
       "      <th>device_id</th>\n",
       "      <th>event_type</th>\n",
       "      <th>last_pressed</th>\n",
       "      <th>object_present</th>\n",
       "      <th>rssi</th>\n",
       "      <th>rssi_strength</th>\n",
       "      <th>temperature</th>\n",
       "      <th>thing_id</th>\n",
       "      <th>thing_type_id</th>\n",
       "      <th>touch</th>\n",
       "    </tr>\n",
       "    <tr>\n",
       "      <th>weekday</th>\n",
       "      <th></th>\n",
       "      <th></th>\n",
       "      <th></th>\n",
       "      <th></th>\n",
       "      <th></th>\n",
       "      <th></th>\n",
       "      <th></th>\n",
       "      <th></th>\n",
       "      <th></th>\n",
       "      <th></th>\n",
       "      <th></th>\n",
       "      <th></th>\n",
       "    </tr>\n",
       "  </thead>\n",
       "  <tbody>\n",
       "    <tr>\n",
       "      <th>0</th>\n",
       "      <td>12</td>\n",
       "      <td>12</td>\n",
       "      <td>12</td>\n",
       "      <td>12</td>\n",
       "      <td>12</td>\n",
       "      <td>12</td>\n",
       "      <td>12</td>\n",
       "      <td>12</td>\n",
       "      <td>12</td>\n",
       "      <td>12</td>\n",
       "      <td>12</td>\n",
       "      <td>12</td>\n",
       "    </tr>\n",
       "    <tr>\n",
       "      <th>1</th>\n",
       "      <td>60</td>\n",
       "      <td>60</td>\n",
       "      <td>60</td>\n",
       "      <td>60</td>\n",
       "      <td>60</td>\n",
       "      <td>60</td>\n",
       "      <td>60</td>\n",
       "      <td>60</td>\n",
       "      <td>60</td>\n",
       "      <td>60</td>\n",
       "      <td>60</td>\n",
       "      <td>60</td>\n",
       "    </tr>\n",
       "    <tr>\n",
       "      <th>2</th>\n",
       "      <td>46</td>\n",
       "      <td>46</td>\n",
       "      <td>46</td>\n",
       "      <td>46</td>\n",
       "      <td>46</td>\n",
       "      <td>46</td>\n",
       "      <td>46</td>\n",
       "      <td>46</td>\n",
       "      <td>46</td>\n",
       "      <td>46</td>\n",
       "      <td>46</td>\n",
       "      <td>46</td>\n",
       "    </tr>\n",
       "    <tr>\n",
       "      <th>3</th>\n",
       "      <td>10</td>\n",
       "      <td>10</td>\n",
       "      <td>10</td>\n",
       "      <td>10</td>\n",
       "      <td>10</td>\n",
       "      <td>10</td>\n",
       "      <td>10</td>\n",
       "      <td>10</td>\n",
       "      <td>10</td>\n",
       "      <td>10</td>\n",
       "      <td>10</td>\n",
       "      <td>10</td>\n",
       "    </tr>\n",
       "    <tr>\n",
       "      <th>4</th>\n",
       "      <td>13</td>\n",
       "      <td>13</td>\n",
       "      <td>13</td>\n",
       "      <td>13</td>\n",
       "      <td>13</td>\n",
       "      <td>13</td>\n",
       "      <td>13</td>\n",
       "      <td>13</td>\n",
       "      <td>13</td>\n",
       "      <td>13</td>\n",
       "      <td>13</td>\n",
       "      <td>13</td>\n",
       "    </tr>\n",
       "  </tbody>\n",
       "</table>\n",
       "</div>"
      ],
      "text/plain": [
       "         battery_percentage  battery_voltage  device_id  event_type  \\\n",
       "weekday                                                               \n",
       "0                        12               12         12          12   \n",
       "1                        60               60         60          60   \n",
       "2                        46               46         46          46   \n",
       "3                        10               10         10          10   \n",
       "4                        13               13         13          13   \n",
       "\n",
       "         last_pressed  object_present  rssi  rssi_strength  temperature  \\\n",
       "weekday                                                                   \n",
       "0                  12              12    12             12           12   \n",
       "1                  60              60    60             60           60   \n",
       "2                  46              46    46             46           46   \n",
       "3                  10              10    10             10           10   \n",
       "4                  13              13    13             13           13   \n",
       "\n",
       "         thing_id  thing_type_id  touch  \n",
       "weekday                                  \n",
       "0              12             12     12  \n",
       "1              60             60     60  \n",
       "2              46             46     46  \n",
       "3              10             10     10  \n",
       "4              13             13     13  "
      ]
     },
     "execution_count": 84,
     "metadata": {},
     "output_type": "execute_result"
    }
   ],
   "source": [
    "df['weekday'] = df.index.weekday\n",
    "\n",
    "df.groupby('weekday').sum()"
   ]
  },
  {
   "cell_type": "markdown",
   "metadata": {
    "slideshow": {
     "slide_type": "slide"
    }
   },
   "source": [
    "### Find source for disparity between `object_present` and `touch`"
   ]
  },
  {
   "cell_type": "code",
   "execution_count": null,
   "metadata": {
    "slideshow": {
     "slide_type": "fragment"
    }
   },
   "outputs": [],
   "source": []
  },
  {
   "cell_type": "code",
   "execution_count": 86,
   "metadata": {
    "slideshow": {
     "slide_type": "fragment"
    }
   },
   "outputs": [
    {
     "data": {
      "text/html": [
       "<div>\n",
       "<style>\n",
       "    .dataframe thead tr:only-child th {\n",
       "        text-align: right;\n",
       "    }\n",
       "\n",
       "    .dataframe thead th {\n",
       "        text-align: left;\n",
       "    }\n",
       "\n",
       "    .dataframe tbody tr th {\n",
       "        vertical-align: top;\n",
       "    }\n",
       "</style>\n",
       "<table border=\"1\" class=\"dataframe\">\n",
       "  <thead>\n",
       "    <tr style=\"text-align: right;\">\n",
       "      <th></th>\n",
       "      <th>battery_percentage</th>\n",
       "      <th>battery_voltage</th>\n",
       "      <th>device_id</th>\n",
       "      <th>event_type</th>\n",
       "      <th>last_pressed</th>\n",
       "      <th>object_present</th>\n",
       "      <th>rssi</th>\n",
       "      <th>rssi_strength</th>\n",
       "      <th>temperature</th>\n",
       "      <th>thing_id</th>\n",
       "      <th>thing_type_id</th>\n",
       "      <th>touch</th>\n",
       "      <th>weekday</th>\n",
       "    </tr>\n",
       "    <tr>\n",
       "      <th>time</th>\n",
       "      <th></th>\n",
       "      <th></th>\n",
       "      <th></th>\n",
       "      <th></th>\n",
       "      <th></th>\n",
       "      <th></th>\n",
       "      <th></th>\n",
       "      <th></th>\n",
       "      <th></th>\n",
       "      <th></th>\n",
       "      <th></th>\n",
       "      <th></th>\n",
       "      <th></th>\n",
       "    </tr>\n",
       "  </thead>\n",
       "  <tbody>\n",
       "    <tr>\n",
       "      <th>2017-10-09 16:19:15.460441323</th>\n",
       "      <td>100</td>\n",
       "      <td>2.82</td>\n",
       "      <td>206843648</td>\n",
       "      <td>touch_trigger</td>\n",
       "      <td>2017-10-09 16:19:15.460441323 +0000 UTC</td>\n",
       "      <td>False</td>\n",
       "      <td>-83</td>\n",
       "      <td>3</td>\n",
       "      <td>27</td>\n",
       "      <td>206843648</td>\n",
       "      <td>touch</td>\n",
       "      <td>True</td>\n",
       "      <td>0</td>\n",
       "    </tr>\n",
       "  </tbody>\n",
       "</table>\n",
       "</div>"
      ],
      "text/plain": [
       "                              battery_percentage battery_voltage  device_id  \\\n",
       "time                                                                          \n",
       "2017-10-09 16:19:15.460441323                100            2.82  206843648   \n",
       "\n",
       "                                  event_type  \\\n",
       "time                                           \n",
       "2017-10-09 16:19:15.460441323  touch_trigger   \n",
       "\n",
       "                                                          last_pressed  \\\n",
       "time                                                                     \n",
       "2017-10-09 16:19:15.460441323  2017-10-09 16:19:15.460441323 +0000 UTC   \n",
       "\n",
       "                               object_present rssi rssi_strength temperature  \\\n",
       "time                                                                           \n",
       "2017-10-09 16:19:15.460441323           False  -83             3          27   \n",
       "\n",
       "                                thing_id thing_type_id  touch  weekday  \n",
       "time                                                                    \n",
       "2017-10-09 16:19:15.460441323  206843648         touch   True        0  "
      ]
     },
     "execution_count": 86,
     "metadata": {},
     "output_type": "execute_result"
    }
   ],
   "source": [
    "df[df['object_present'] == False]"
   ]
  },
  {
   "cell_type": "markdown",
   "metadata": {
    "slideshow": {
     "slide_type": "slide"
    }
   },
   "source": [
    "#### Map to weekday names"
   ]
  },
  {
   "cell_type": "code",
   "execution_count": 87,
   "metadata": {
    "slideshow": {
     "slide_type": "fragment"
    }
   },
   "outputs": [
    {
     "data": {
      "text/plain": [
       "'Tirsdag'"
      ]
     },
     "execution_count": 87,
     "metadata": {},
     "output_type": "execute_result"
    }
   ],
   "source": [
    "weekdays = ['Mandag', 'Tirsdag', 'Onsdag', 'Torsdag', 'Fredag', 'Lørdag', 'Søndag']\n",
    "def to_weekday(i: int) -> str:\n",
    "    return weekdays[i]\n",
    "to_weekday(1)"
   ]
  },
  {
   "cell_type": "code",
   "execution_count": 89,
   "metadata": {
    "slideshow": {
     "slide_type": "fragment"
    }
   },
   "outputs": [
    {
     "data": {
      "text/html": [
       "<div>\n",
       "<style>\n",
       "    .dataframe thead tr:only-child th {\n",
       "        text-align: right;\n",
       "    }\n",
       "\n",
       "    .dataframe thead th {\n",
       "        text-align: left;\n",
       "    }\n",
       "\n",
       "    .dataframe tbody tr th {\n",
       "        vertical-align: top;\n",
       "    }\n",
       "</style>\n",
       "<table border=\"1\" class=\"dataframe\">\n",
       "  <thead>\n",
       "    <tr style=\"text-align: right;\">\n",
       "      <th></th>\n",
       "      <th>battery_percentage</th>\n",
       "      <th>battery_voltage</th>\n",
       "      <th>device_id</th>\n",
       "      <th>event_type</th>\n",
       "      <th>last_pressed</th>\n",
       "      <th>object_present</th>\n",
       "      <th>rssi</th>\n",
       "      <th>rssi_strength</th>\n",
       "      <th>temperature</th>\n",
       "      <th>thing_id</th>\n",
       "      <th>thing_type_id</th>\n",
       "      <th>touch</th>\n",
       "      <th>weekday</th>\n",
       "    </tr>\n",
       "    <tr>\n",
       "      <th>time</th>\n",
       "      <th></th>\n",
       "      <th></th>\n",
       "      <th></th>\n",
       "      <th></th>\n",
       "      <th></th>\n",
       "      <th></th>\n",
       "      <th></th>\n",
       "      <th></th>\n",
       "      <th></th>\n",
       "      <th></th>\n",
       "      <th></th>\n",
       "      <th></th>\n",
       "      <th></th>\n",
       "    </tr>\n",
       "  </thead>\n",
       "  <tbody>\n",
       "    <tr>\n",
       "      <th>2017-08-30 17:19:38.667240259</th>\n",
       "      <td>100</td>\n",
       "      <td>2.96</td>\n",
       "      <td>206843648</td>\n",
       "      <td>touch_trigger</td>\n",
       "      <td>2017-08-30 17:19:38.667240259 +0000 UTC</td>\n",
       "      <td>True</td>\n",
       "      <td>-95</td>\n",
       "      <td>1</td>\n",
       "      <td>27</td>\n",
       "      <td>206843648</td>\n",
       "      <td>touch</td>\n",
       "      <td>True</td>\n",
       "      <td>Onsdag</td>\n",
       "    </tr>\n",
       "    <tr>\n",
       "      <th>2017-08-30 17:19:39.827277058</th>\n",
       "      <td>100</td>\n",
       "      <td>2.96</td>\n",
       "      <td>206843648</td>\n",
       "      <td>touch_trigger</td>\n",
       "      <td>2017-08-30 17:19:39.827277058 +0000 UTC</td>\n",
       "      <td>True</td>\n",
       "      <td>-102</td>\n",
       "      <td>1</td>\n",
       "      <td>27</td>\n",
       "      <td>206843648</td>\n",
       "      <td>touch</td>\n",
       "      <td>True</td>\n",
       "      <td>Onsdag</td>\n",
       "    </tr>\n",
       "    <tr>\n",
       "      <th>2017-08-30 17:19:40.867378898</th>\n",
       "      <td>100</td>\n",
       "      <td>2.87</td>\n",
       "      <td>206843648</td>\n",
       "      <td>touch_trigger</td>\n",
       "      <td>2017-08-30 17:19:40.867378898 +0000 UTC</td>\n",
       "      <td>True</td>\n",
       "      <td>-101</td>\n",
       "      <td>1</td>\n",
       "      <td>27</td>\n",
       "      <td>206843648</td>\n",
       "      <td>touch</td>\n",
       "      <td>True</td>\n",
       "      <td>Onsdag</td>\n",
       "    </tr>\n",
       "    <tr>\n",
       "      <th>2017-08-30 17:36:03.647336883</th>\n",
       "      <td>100</td>\n",
       "      <td>2.96</td>\n",
       "      <td>206843648</td>\n",
       "      <td>touch_trigger</td>\n",
       "      <td>2017-08-30 17:36:03.647336883 +0000 UTC</td>\n",
       "      <td>True</td>\n",
       "      <td>-87</td>\n",
       "      <td>2</td>\n",
       "      <td>27</td>\n",
       "      <td>206843648</td>\n",
       "      <td>touch</td>\n",
       "      <td>True</td>\n",
       "      <td>Onsdag</td>\n",
       "    </tr>\n",
       "    <tr>\n",
       "      <th>2017-09-05 14:10:59.257377029</th>\n",
       "      <td>100</td>\n",
       "      <td>2.96</td>\n",
       "      <td>206843648</td>\n",
       "      <td>touch_trigger</td>\n",
       "      <td>2017-09-05 14:10:59.257377029 +0000 UTC</td>\n",
       "      <td>True</td>\n",
       "      <td>-80</td>\n",
       "      <td>3</td>\n",
       "      <td>27</td>\n",
       "      <td>206843648</td>\n",
       "      <td>touch</td>\n",
       "      <td>True</td>\n",
       "      <td>Tirsdag</td>\n",
       "    </tr>\n",
       "  </tbody>\n",
       "</table>\n",
       "</div>"
      ],
      "text/plain": [
       "                              battery_percentage battery_voltage  device_id  \\\n",
       "time                                                                          \n",
       "2017-08-30 17:19:38.667240259                100            2.96  206843648   \n",
       "2017-08-30 17:19:39.827277058                100            2.96  206843648   \n",
       "2017-08-30 17:19:40.867378898                100            2.87  206843648   \n",
       "2017-08-30 17:36:03.647336883                100            2.96  206843648   \n",
       "2017-09-05 14:10:59.257377029                100            2.96  206843648   \n",
       "\n",
       "                                  event_type  \\\n",
       "time                                           \n",
       "2017-08-30 17:19:38.667240259  touch_trigger   \n",
       "2017-08-30 17:19:39.827277058  touch_trigger   \n",
       "2017-08-30 17:19:40.867378898  touch_trigger   \n",
       "2017-08-30 17:36:03.647336883  touch_trigger   \n",
       "2017-09-05 14:10:59.257377029  touch_trigger   \n",
       "\n",
       "                                                          last_pressed  \\\n",
       "time                                                                     \n",
       "2017-08-30 17:19:38.667240259  2017-08-30 17:19:38.667240259 +0000 UTC   \n",
       "2017-08-30 17:19:39.827277058  2017-08-30 17:19:39.827277058 +0000 UTC   \n",
       "2017-08-30 17:19:40.867378898  2017-08-30 17:19:40.867378898 +0000 UTC   \n",
       "2017-08-30 17:36:03.647336883  2017-08-30 17:36:03.647336883 +0000 UTC   \n",
       "2017-09-05 14:10:59.257377029  2017-09-05 14:10:59.257377029 +0000 UTC   \n",
       "\n",
       "                               object_present  rssi rssi_strength temperature  \\\n",
       "time                                                                            \n",
       "2017-08-30 17:19:38.667240259            True   -95             1          27   \n",
       "2017-08-30 17:19:39.827277058            True  -102             1          27   \n",
       "2017-08-30 17:19:40.867378898            True  -101             1          27   \n",
       "2017-08-30 17:36:03.647336883            True   -87             2          27   \n",
       "2017-09-05 14:10:59.257377029            True   -80             3          27   \n",
       "\n",
       "                                thing_id thing_type_id  touch  weekday  \n",
       "time                                                                    \n",
       "2017-08-30 17:19:38.667240259  206843648         touch   True   Onsdag  \n",
       "2017-08-30 17:19:39.827277058  206843648         touch   True   Onsdag  \n",
       "2017-08-30 17:19:40.867378898  206843648         touch   True   Onsdag  \n",
       "2017-08-30 17:36:03.647336883  206843648         touch   True   Onsdag  \n",
       "2017-09-05 14:10:59.257377029  206843648         touch   True  Tirsdag  "
      ]
     },
     "execution_count": 89,
     "metadata": {},
     "output_type": "execute_result"
    }
   ],
   "source": [
    "df.head()#df['weekday'] = df['weekday'].apply(to_weekday)"
   ]
  },
  {
   "cell_type": "markdown",
   "metadata": {
    "slideshow": {
     "slide_type": "subslide"
    }
   },
   "source": [
    "#### Touch events by weekday"
   ]
  },
  {
   "cell_type": "code",
   "execution_count": null,
   "metadata": {
    "slideshow": {
     "slide_type": "-"
    }
   },
   "outputs": [],
   "source": []
  },
  {
   "cell_type": "code",
   "execution_count": 90,
   "metadata": {
    "slideshow": {
     "slide_type": "fragment"
    }
   },
   "outputs": [
    {
     "data": {
      "image/png": "[encoded data removed]",
      "text/plain": [
       "<matplotlib.figure.Figure at 0x7f3d51b2b048>"
      ]
     },
     "metadata": {},
     "output_type": "display_data"
    }
   ],
   "source": [
    "df.groupby('weekday').touch.count().plot(kind='bar');"
   ]
  },
  {
   "cell_type": "markdown",
   "metadata": {
    "slideshow": {
     "slide_type": "subslide"
    }
   },
   "source": [
    "#### Drop touch events from november 21th"
   ]
  },
  {
   "cell_type": "code",
   "execution_count": 91,
   "metadata": {
    "slideshow": {
     "slide_type": "-"
    }
   },
   "outputs": [
    {
     "data": {
      "text/plain": [
       "(84, 141)"
      ]
     },
     "execution_count": 91,
     "metadata": {},
     "output_type": "execute_result"
    }
   ],
   "source": [
    "len(df.drop(touch_galore.index)), len(df)"
   ]
  },
  {
   "cell_type": "code",
   "execution_count": null,
   "metadata": {
    "slideshow": {
     "slide_type": "subslide"
    }
   },
   "outputs": [],
   "source": [
    "without_nov_21 = df.drop(touch_galore.index)\n",
    "\n",
    "without_nov_21.groupby('weekday').touch.count().plot(kind='bar');"
   ]
  },
  {
   "cell_type": "code",
   "execution_count": null,
   "metadata": {
    "slideshow": {
     "slide_type": "subslide"
    }
   },
   "outputs": [],
   "source": [
    "# try pie chart\n",
    "without_nov_21.groupby('weekday').touch.count().plot(kind='pie', figsize=(8,8));"
   ]
  },
  {
   "cell_type": "markdown",
   "metadata": {
    "slideshow": {
     "slide_type": "subslide"
    }
   },
   "source": [
    "#### Plot touch frequency on Wednesdays"
   ]
  },
  {
   "cell_type": "code",
   "execution_count": null,
   "metadata": {
    "slideshow": {
     "slide_type": "-"
    }
   },
   "outputs": [],
   "source": []
  },
  {
   "cell_type": "code",
   "execution_count": null,
   "metadata": {
    "slideshow": {
     "slide_type": "fragment"
    }
   },
   "outputs": [],
   "source": [
    "df[df.weekday == 'Onsdag'].touch.cumsum().plot();"
   ]
  },
  {
   "cell_type": "code",
   "execution_count": null,
   "metadata": {
    "slideshow": {
     "slide_type": "subslide"
    }
   },
   "outputs": [],
   "source": [
    "for (idx, group) in df.groupby('weekday'):\n",
    "    group.object_present.cumsum().plot();"
   ]
  },
  {
   "cell_type": "code",
   "execution_count": null,
   "metadata": {
    "slideshow": {
     "slide_type": "subslide"
    }
   },
   "outputs": [],
   "source": [
    "from matplotlib.pyplot import *\n",
    "\n",
    "fig, ax = subplots()\n",
    "df.plot(kind='bar', ax=ax)\n",
    "\n",
    "legends = []\n",
    "for (idx, group) in df.groupby('weekday'):\n",
    "    group.object_present.cumsum().plot(ax=ax);\n",
    "    legends.append(idx)\n",
    "ax.legend(legends);"
   ]
  }
 ],
 "metadata": {
  "celltoolbar": "Slideshow",
  "kernelspec": {
   "display_name": "Python 3",
   "language": "python",
   "name": "python3"
  },
  "language_info": {
   "codemirror_mode": {
    "name": "ipython",
    "version": 3
   },
   "file_extension": ".py",
   "mimetype": "text/x-python",
   "name": "python",
   "nbconvert_exporter": "python",
   "pygments_lexer": "ipython3",
   "version": "3.6.3"
  },
  "livereveal": {
   "autolaunch": true,
   "scroll": true,
   "start_slideshow_at": "selected"
  }
 },
 "nbformat": 4,
 "nbformat_minor": 2
}
